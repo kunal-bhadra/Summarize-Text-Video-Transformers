{
  "cells": [
    {
      "cell_type": "markdown",
      "metadata": {
        "id": "ZFAq1Kas0oAL"
      },
      "source": [
        "# YouTube Video Transcript Summarization"
      ]
    },
    {
      "cell_type": "markdown",
      "metadata": {
        "id": "ASjMncMa0vat"
      },
      "source": [
        "## Installing & Importing Libaries"
      ]
    },
    {
      "cell_type": "code",
      "execution_count": 1,
      "metadata": {
        "colab": {
          "base_uri": "https://localhost:8080/"
        },
        "id": "qCdfffbdS1C0",
        "outputId": "1220c31e-30c5-44a6-c4c1-edeb682e8f63"
      },
      "outputs": [
        {
          "name": "stdout",
          "output_type": "stream",
          "text": [
            "\u001b[K     |████████████████████████████████| 3.3 MB 4.0 MB/s \n",
            "\u001b[K     |████████████████████████████████| 895 kB 62.4 MB/s \n",
            "\u001b[K     |████████████████████████████████| 596 kB 58.4 MB/s \n",
            "\u001b[K     |████████████████████████████████| 61 kB 409 kB/s \n",
            "\u001b[K     |████████████████████████████████| 3.3 MB 41.4 MB/s \n",
            "\u001b[?25h"
          ]
        }
      ],
      "source": [
        "!pip install -q transformers"
      ]
    },
    {
      "cell_type": "code",
      "execution_count": 2,
      "metadata": {
        "id": "TqfzehnTS_qy"
      },
      "outputs": [],
      "source": [
        "!pip install -q youtube_transcript_api"
      ]
    },
    {
      "cell_type": "code",
      "execution_count": 3,
      "metadata": {
        "id": "CiXZo3yGTDRo"
      },
      "outputs": [],
      "source": [
        "# importing libraries\n",
        "from transformers import pipeline\n",
        "from youtube_transcript_api import YouTubeTranscriptApi"
      ]
    },
    {
      "cell_type": "markdown",
      "metadata": {
        "id": "uUBHjnjT06eb"
      },
      "source": [
        "## Extracting Video ID from URL"
      ]
    },
    {
      "cell_type": "code",
      "execution_count": 4,
      "metadata": {
        "id": "rwICaEu_TeYs"
      },
      "outputs": [],
      "source": [
        "btc_video = \"https://www.youtube.com/watch?v=IX6rUhNC8uA\""
      ]
    },
    {
      "cell_type": "code",
      "execution_count": 5,
      "metadata": {
        "id": "7srLt_vhTkX9"
      },
      "outputs": [],
      "source": [
        "vid_id = btc_video.split(\"=\")[1]"
      ]
    },
    {
      "cell_type": "code",
      "execution_count": 6,
      "metadata": {
        "colab": {
          "base_uri": "https://localhost:8080/",
          "height": 35
        },
        "id": "FMHDhYlmTqN9",
        "outputId": "b65b8a9d-b028-4fea-bbac-70be6d0d1bf8"
      },
      "outputs": [
        {
          "data": {
            "application/vnd.google.colaboratory.intrinsic+json": {
              "type": "string"
            },
            "text/plain": [
              "'IX6rUhNC8uA'"
            ]
          },
          "execution_count": 6,
          "metadata": {},
          "output_type": "execute_result"
        }
      ],
      "source": [
        "vid_id"
      ]
    },
    {
      "cell_type": "markdown",
      "metadata": {
        "id": "VlHU9K2i1Bwk"
      },
      "source": [
        "## Getting Video Transcript"
      ]
    },
    {
      "cell_type": "code",
      "execution_count": 8,
      "metadata": {
        "colab": {
          "base_uri": "https://localhost:8080/"
        },
        "id": "oOpZvYH_Ur2m",
        "outputId": "665ce1f7-d5d2-4652-d398-f65df1610ed2"
      },
      "outputs": [
        {
          "data": {
            "text/plain": [
              "[{'duration': 4.88,\n",
              "  'start': 0.08,\n",
              "  'text': 'to put it simply balancer is an ethereum'},\n",
              " {'duration': 5.039,\n",
              "  'start': 2.72,\n",
              "  'text': 'based application specifically a'},\n",
              " {'duration': 4.719,\n",
              "  'start': 4.96,\n",
              "  'text': 'decentralized exchange that utilizes a'},\n",
              " {'duration': 3.76,\n",
              "  'start': 7.759,\n",
              "  'text': 'special trading algorithm called an'},\n",
              " {'duration': 4.161,\n",
              "  'start': 9.679,\n",
              "  'text': 'automated market maker that allows'},\n",
              " {'duration': 4.24,\n",
              "  'start': 11.519,\n",
              "  'text': 'traders to swap their crypto tokens in a'},\n",
              " {'duration': 3.92,\n",
              "  'start': 13.84,\n",
              "  'text': 'very efficient way if that sounded like'},\n",
              " {'duration': 3.52,\n",
              "  'start': 15.759,\n",
              "  'text': \"a bunch of mumbo jumbo don't worry i'm\"},\n",
              " {'duration': 3.679,\n",
              "  'start': 17.76,\n",
              "  'text': 'gonna explain all of this throughout the'},\n",
              " {'duration': 3.92,\n",
              "  'start': 19.279,\n",
              "  'text': 'rest of the video welcome to whiteboard'},\n",
              " {'duration': 3.92,\n",
              "  'start': 21.439,\n",
              "  'text': 'crypto the number one youtube channel'},\n",
              " {'duration': 4.4,\n",
              "  'start': 23.199,\n",
              "  'text': 'for crypto education and here we explain'},\n",
              " {'duration': 4.961,\n",
              "  'start': 25.359,\n",
              "  'text': 'topics of the cryptocurrency world using'},\n",
              " {'duration': 4.64,\n",
              "  'start': 27.599,\n",
              "  'text': 'analogies stories and examples so that'},\n",
              " {'duration': 3.36,\n",
              "  'start': 30.32,\n",
              "  'text': 'even your grandpa could understand them'},\n",
              " {'duration': 4.241,\n",
              "  'start': 32.239,\n",
              "  'text': 'in this video we are going to be'},\n",
              " {'duration': 4.64,\n",
              "  'start': 33.68,\n",
              "  'text': 'explaining what balancer is how it works'},\n",
              " {'duration': 4.079,\n",
              "  'start': 36.48,\n",
              "  'text': 'and what their automated portfolio'},\n",
              " {'duration': 6.0,\n",
              "  'start': 38.32,\n",
              "  'text': 'manager or as i call it a create your'},\n",
              " {'duration': 6.081,\n",
              "  'start': 40.559,\n",
              "  'text': \"own index fund idea is let's dig in in\"},\n",
              " {'duration': 4.399,\n",
              "  'start': 44.32,\n",
              "  'text': 'the world of defy and cryptocurrencies'},\n",
              " {'duration': 4.16,\n",
              "  'start': 46.64,\n",
              "  'text': \"we don't use the old method of making\"},\n",
              " {'duration': 4.081,\n",
              "  'start': 48.719,\n",
              "  'text': 'trades this old method is called an'},\n",
              " {'duration': 3.52,\n",
              "  'start': 50.8,\n",
              "  'text': 'order book model where a buyer and'},\n",
              " {'duration': 3.279,\n",
              "  'start': 52.8,\n",
              "  'text': 'seller write down whatever they want to'},\n",
              " {'duration': 4.48,\n",
              "  'start': 54.32,\n",
              "  'text': 'trade with and then it gets added to a'},\n",
              " {'duration': 5.28,\n",
              "  'start': 56.079,\n",
              "  'text': \"huge list of everyone else's trades this\"},\n",
              " {'duration': 4.48,\n",
              "  'start': 58.8,\n",
              "  'text': 'list is called an order book essentially'},\n",
              " {'duration': 4.241,\n",
              "  'start': 61.359,\n",
              "  'text': 'you pick what price you want to buy or'},\n",
              " {'duration': 4.32,\n",
              "  'start': 63.28,\n",
              "  'text': \"sell at you can't be guaranteed when the\"},\n",
              " {'duration': 3.839,\n",
              "  'start': 65.6,\n",
              "  'text': 'trade will happen if at all because you'},\n",
              " {'duration': 3.44,\n",
              "  'start': 67.6,\n",
              "  'text': 'have to wait around for someone else to'},\n",
              " {'duration': 2.961,\n",
              "  'start': 69.439,\n",
              "  'text': \"match with your trade if you don't want\"},\n",
              " {'duration': 3.439,\n",
              "  'start': 71.04,\n",
              "  'text': 'to wait around at all you can look at'},\n",
              " {'duration': 3.84,\n",
              "  'start': 72.4,\n",
              "  'text': \"someone else's trade offer and go ahead\"},\n",
              " {'duration': 3.601,\n",
              "  'start': 74.479,\n",
              "  'text': 'and accept it this way the other person'},\n",
              " {'duration': 3.68,\n",
              "  'start': 76.24,\n",
              "  'text': 'gets to trade at the price they want and'},\n",
              " {'duration': 4.24,\n",
              "  'start': 78.08,\n",
              "  'text': 'you get a trade at the time that you'},\n",
              " {'duration': 4.879,\n",
              "  'start': 79.92,\n",
              "  'text': 'want either way you either get to select'},\n",
              " {'duration': 4.96,\n",
              "  'start': 82.32,\n",
              "  'text': 'the price or the time of the trade not'},\n",
              " {'duration': 4.481,\n",
              "  'start': 84.799,\n",
              "  'text': 'both now there is a newer solution that'},\n",
              " {'duration': 4.879,\n",
              "  'start': 87.28,\n",
              "  'text': \"is much better and it doesn't rely on\"},\n",
              " {'duration': 5.04,\n",
              "  'start': 89.28,\n",
              "  'text': 'humans but instead algorithms this'},\n",
              " {'duration': 4.801,\n",
              "  'start': 92.159,\n",
              "  'text': 'method is called an automated market'},\n",
              " {'duration': 4.4,\n",
              "  'start': 94.32,\n",
              "  'text': \"maker it'll never run out of assets to\"},\n",
              " {'duration': 3.6,\n",
              "  'start': 96.96,\n",
              "  'text': 'sell you the way an automated market'},\n",
              " {'duration': 3.6,\n",
              "  'start': 98.72,\n",
              "  'text': 'maker works is quite complicated but'},\n",
              " {'duration': 4.879,\n",
              "  'start': 100.56,\n",
              "  'text': \"we're gonna try to simplify it for you\"},\n",
              " {'duration': 5.839,\n",
              "  'start': 102.32,\n",
              "  'text': 'in this video first a pool of money must'},\n",
              " {'duration': 5.601,\n",
              "  'start': 105.439,\n",
              "  'text': 'be created this pool of money contains'},\n",
              " {'duration': 4.96,\n",
              "  'start': 108.159,\n",
              "  'text': 'two or more assets that someone supplies'},\n",
              " {'duration': 3.92,\n",
              "  'start': 111.04,\n",
              "  'text': 'willingly so that other people can use'},\n",
              " {'duration': 4.161,\n",
              "  'start': 113.119,\n",
              "  'text': 'that pool to trade with the way the'},\n",
              " {'duration': 4.56,\n",
              "  'start': 114.96,\n",
              "  'text': 'trading happens is all automatic with an'},\n",
              " {'duration': 5.119,\n",
              "  'start': 117.28,\n",
              "  'text': 'algorithm now the algorithm is very'},\n",
              " {'duration': 5.44,\n",
              "  'start': 119.52,\n",
              "  'text': 'simple and it follows this equation x'},\n",
              " {'duration': 4.241,\n",
              "  'start': 122.399,\n",
              "  'text': 'times y equals k without getting too'},\n",
              " {'duration': 3.919,\n",
              "  'start': 124.96,\n",
              "  'text': 'much into the math of it and we actually'},\n",
              " {'duration': 3.44,\n",
              "  'start': 126.64,\n",
              "  'text': 'have an entire video diving deep into'},\n",
              " {'duration': 2.881,\n",
              "  'start': 128.879,\n",
              "  'text': \"the math of it which i'll link down in\"},\n",
              " {'duration': 4.159,\n",
              "  'start': 130.08,\n",
              "  'text': 'the description below the way this'},\n",
              " {'duration': 4.64,\n",
              "  'start': 131.76,\n",
              "  'text': 'algorithm works is actually quite simple'},\n",
              " {'duration': 4.481,\n",
              "  'start': 134.239,\n",
              "  'text': 'as you buy more of one asset the'},\n",
              " {'duration': 4.479,\n",
              "  'start': 136.4,\n",
              "  'text': 'algorithm automatically charges you more'},\n",
              " {'duration': 4.0,\n",
              "  'start': 138.72,\n",
              "  'text': 'and more to keep buying that asset so'},\n",
              " {'duration': 3.921,\n",
              "  'start': 140.879,\n",
              "  'text': 'even if you have a trillion dollars to'},\n",
              " {'duration': 3.92,\n",
              "  'start': 142.72,\n",
              "  'text': 'trade with the pool will never run out'},\n",
              " {'duration': 3.6,\n",
              "  'start': 144.8,\n",
              "  'text': 'of either asset to sell you because'},\n",
              " {'duration': 4.0,\n",
              "  'start': 146.64,\n",
              "  'text': \"it'll keep charging you an infinitely\"},\n",
              " {'duration': 4.0,\n",
              "  'start': 148.4,\n",
              "  'text': 'higher price another way to think about'},\n",
              " {'duration': 4.16,\n",
              "  'start': 150.64,\n",
              "  'text': 'it in this way might be better is that'},\n",
              " {'duration': 4.16,\n",
              "  'start': 152.4,\n",
              "  'text': 'you approach the pool with what you want'},\n",
              " {'duration': 3.68,\n",
              "  'start': 154.8,\n",
              "  'text': 'to sell and it will tell you how much it'},\n",
              " {'duration': 4.56,\n",
              "  'start': 156.56,\n",
              "  'text': 'can give you based on its algorithm for'},\n",
              " {'duration': 4.8,\n",
              "  'start': 158.48,\n",
              "  'text': \"example let's use a pool of ethereum and\"},\n",
              " {'duration': 3.759,\n",
              "  'start': 161.12,\n",
              "  'text': 'usdc if you go to the pool and you say'},\n",
              " {'duration': 3.92,\n",
              "  'start': 163.28,\n",
              "  'text': 'you want to buy one dollar worth of'},\n",
              " {'duration': 4.241,\n",
              "  'start': 164.879,\n",
              "  'text': 'ethereum it might sell you some ethereum'},\n",
              " {'duration': 4.16,\n",
              "  'start': 167.2,\n",
              "  'text': 'at an average price of four thousand'},\n",
              " {'duration': 4.24,\n",
              "  'start': 169.12,\n",
              "  'text': 'dollars however if you go to the same'},\n",
              " {'duration': 4.0,\n",
              "  'start': 171.36,\n",
              "  'text': 'pool and you buy ten dollars worth of'},\n",
              " {'duration': 4.0,\n",
              "  'start': 173.36,\n",
              "  'text': \"ethereum it'll charge you a higher\"},\n",
              " {'duration': 4.159,\n",
              "  'start': 175.36,\n",
              "  'text': 'average price of four thousand and eight'},\n",
              " {'duration': 4.08,\n",
              "  'start': 177.36,\n",
              "  'text': 'dollars once more if you go to the pool'},\n",
              " {'duration': 3.601,\n",
              "  'start': 179.519,\n",
              "  'text': 'with one hundred dollars it may charge'},\n",
              " {'duration': 3.92,\n",
              "  'start': 181.44,\n",
              "  'text': 'you an average price of four thousand'},\n",
              " {'duration': 4.24,\n",
              "  'start': 183.12,\n",
              "  'text': 'one hundred dollars per ethereum and'},\n",
              " {'duration': 4.239,\n",
              "  'start': 185.36,\n",
              "  'text': 'finally if you approach the pool with a'},\n",
              " {'duration': 4.64,\n",
              "  'start': 187.36,\n",
              "  'text': 'million dollars it may charge you an'},\n",
              " {'duration': 4.161,\n",
              "  'start': 189.599,\n",
              "  'text': 'infinitely high amount of usdc to buy'},\n",
              " {'duration': 3.44,\n",
              "  'start': 192.0,\n",
              "  'text': 'that aetherium but the trick here is'},\n",
              " {'duration': 3.52,\n",
              "  'start': 193.76,\n",
              "  'text': 'that the pool will never run out of'},\n",
              " {'duration': 4.24,\n",
              "  'start': 195.44,\n",
              "  'text': \"ethereum to sell you it'll just keep\"},\n",
              " {'duration': 4.48,\n",
              "  'start': 197.28,\n",
              "  'text': 'charging you a higher portion now since'},\n",
              " {'duration': 4.559,\n",
              "  'start': 199.68,\n",
              "  'text': 'you interacted with the pool and raised'},\n",
              " {'duration': 4.16,\n",
              "  'start': 201.76,\n",
              "  'text': 'the price of the ethereum in that pool'},\n",
              " {'duration': 3.601,\n",
              "  'start': 204.239,\n",
              "  'text': 'other people are gonna come along and'},\n",
              " {'duration': 3.92,\n",
              "  'start': 205.92,\n",
              "  'text': 'sell their ethereum to that pool at a'},\n",
              " {'duration': 4.399,\n",
              "  'start': 207.84,\n",
              "  'text': 'higher price basically giving the pool'},\n",
              " {'duration': 4.88,\n",
              "  'start': 209.84,\n",
              "  'text': 'back more ethereum but also taking some'},\n",
              " {'duration': 4.961,\n",
              "  'start': 212.239,\n",
              "  'text': 'usdc and this is a liquidity pool'},\n",
              " {'duration': 4.32,\n",
              "  'start': 214.72,\n",
              "  'text': 'rebalancing feature liquidity pools and'},\n",
              " {'duration': 2.959,\n",
              "  'start': 217.2,\n",
              "  'text': 'automated market makers are quite'},\n",
              " {'duration': 3.119, 'start': 219.04, 'text': \"complicated when you're first\"},\n",
              " {'duration': 3.681,\n",
              "  'start': 220.159,\n",
              "  'text': 'understanding them so i highly recommend'},\n",
              " {'duration': 3.921,\n",
              "  'start': 222.159,\n",
              "  'text': 'watching our specific videos on those'},\n",
              " {'duration': 4.72,\n",
              "  'start': 223.84,\n",
              "  'text': \"topics if you haven't already but this\"},\n",
              " {'duration': 5.36,\n",
              "  'start': 226.08,\n",
              "  'text': 'chart right here is a game changer see'},\n",
              " {'duration': 5.12,\n",
              "  'start': 228.56,\n",
              "  'text': \"this curve it's the x times y equals k\"},\n",
              " {'duration': 4.56,\n",
              "  'start': 231.44,\n",
              "  'text': 'formula you can think about any purchase'},\n",
              " {'duration': 4.24,\n",
              "  'start': 233.68,\n",
              "  'text': 'using the liquidity pool with this curve'},\n",
              " {'duration': 4.0,\n",
              "  'start': 236.0,\n",
              "  'text': 'if you give the pool this much of asset'},\n",
              " {'duration': 4.319,\n",
              "  'start': 237.92,\n",
              "  'text': 'a it will return you with this much of'},\n",
              " {'duration': 3.92,\n",
              "  'start': 240.0,\n",
              "  'text': 'asset b the same goes for if you give it'},\n",
              " {'duration': 4.64,\n",
              "  'start': 242.239,\n",
              "  'text': \"this much of asset a it's going to\"},\n",
              " {'duration': 5.28,\n",
              "  'start': 243.92,\n",
              "  'text': 'barely give you any asset b and finally'},\n",
              " {'duration': 3.841,\n",
              "  'start': 246.879,\n",
              "  'text': 'if you give it a ton of asset a even if'},\n",
              " {'duration': 3.44,\n",
              "  'start': 249.2,\n",
              "  'text': \"there's a plenty of asset b in the\"},\n",
              " {'duration': 3.68,\n",
              "  'start': 250.72,\n",
              "  'text': \"normal curve range it won't give you\"},\n",
              " {'duration': 3.76,\n",
              "  'start': 252.64,\n",
              "  'text': \"much now we've gotten this far into the\"},\n",
              " {'duration': 3.92,\n",
              "  'start': 254.4,\n",
              "  'text': \"video about balancer and haven't even\"},\n",
              " {'duration': 3.359,\n",
              "  'start': 256.4,\n",
              "  'text': 'talked about balancer yet in fact'},\n",
              " {'duration': 3.759,\n",
              "  'start': 258.32,\n",
              "  'text': \"everything i've talked about up to this\"},\n",
              " {'duration': 4.561,\n",
              "  'start': 259.759,\n",
              "  'text': 'point is applicable to how many other'},\n",
              " {'duration': 4.241,\n",
              "  'start': 262.079,\n",
              "  'text': 'popular decentralized exchanges work'},\n",
              " {'duration': 5.04,\n",
              "  'start': 264.32,\n",
              "  'text': 'including uni swap pancake swap and'},\n",
              " {'duration': 5.439,\n",
              "  'start': 266.32,\n",
              "  'text': 'sushi swap so what makes balancer better'},\n",
              " {'duration': 4.88,\n",
              "  'start': 269.36,\n",
              "  'text': 'well with uni swap pancake swap and'},\n",
              " {'duration': 4.401,\n",
              "  'start': 271.759,\n",
              "  'text': 'sushi swap you can only deposit two'},\n",
              " {'duration': 4.239,\n",
              "  'start': 274.24,\n",
              "  'text': 'assets in the very beginning of this'},\n",
              " {'duration': 4.56,\n",
              "  'start': 276.16,\n",
              "  'text': 'technology each of these pools had to'},\n",
              " {'duration': 5.841,\n",
              "  'start': 278.479,\n",
              "  'text': 'also contain ethereum so you could have'},\n",
              " {'duration': 6.0,\n",
              "  'start': 280.72,\n",
              "  'text': 'a usdc eth pool in a bow token eath pool'},\n",
              " {'duration': 4.0,\n",
              "  'start': 284.32,\n",
              "  'text': \"and to get from usdc to bow token you'd\"},\n",
              " {'duration': 3.759,\n",
              "  'start': 286.72,\n",
              "  'text': 'have to make two different swaps'},\n",
              " {'duration': 3.84,\n",
              "  'start': 288.32,\n",
              "  'text': 'eventually the developers got fancy and'},\n",
              " {'duration': 3.521,\n",
              "  'start': 290.479,\n",
              "  'text': 'realized they could allow users to set'},\n",
              " {'duration': 3.28,\n",
              "  'start': 292.16,\n",
              "  'text': 'up any pool they wanted so something'},\n",
              " {'duration': 3.84, 'start': 294.0, 'text': 'like a usdc'},\n",
              " {'duration': 4.08,\n",
              "  'start': 295.44,\n",
              "  'text': 'bow token pool was possible even more so'},\n",
              " {'duration': 4.079,\n",
              "  'start': 297.84,\n",
              "  'text': 'they realized they could hook up a ton'},\n",
              " {'duration': 4.56,\n",
              "  'start': 299.52,\n",
              "  'text': 'of these pools together automatically so'},\n",
              " {'duration': 4.401,\n",
              "  'start': 301.919,\n",
              "  'text': 'anyone can trade from one token in one'},\n",
              " {'duration': 4.72,\n",
              "  'start': 304.08,\n",
              "  'text': 'pool to any other token in another pool'},\n",
              " {'duration': 4.159,\n",
              "  'start': 306.32,\n",
              "  'text': 'at ease and this is technically called'},\n",
              " {'duration': 4.16,\n",
              "  'start': 308.8,\n",
              "  'text': \"routing here's the cool thing that\"},\n",
              " {'duration': 4.0,\n",
              "  'start': 310.479,\n",
              "  'text': 'balancer does they take this one step'},\n",
              " {'duration': 4.0,\n",
              "  'start': 312.96,\n",
              "  'text': 'further instead of just letting you'},\n",
              " {'duration': 4.881,\n",
              "  'start': 314.479,\n",
              "  'text': 'deposit two assets into a pool they let'},\n",
              " {'duration': 4.16,\n",
              "  'start': 316.96,\n",
              "  'text': 'you add up to eight different assets in'},\n",
              " {'duration': 3.52,\n",
              "  'start': 319.36,\n",
              "  'text': 'a liquidity pool now the math behind'},\n",
              " {'duration': 3.76,\n",
              "  'start': 321.12,\n",
              "  'text': 'these multi-asset pools is called'},\n",
              " {'duration': 4.24,\n",
              "  'start': 322.88,\n",
              "  'text': 'weighted math and it is designed to'},\n",
              " {'duration': 3.759,\n",
              "  'start': 324.88,\n",
              "  'text': 'allow for swaps between any asset'},\n",
              " {'duration': 3.6,\n",
              "  'start': 327.12,\n",
              "  'text': 'whether or not they even have a price'},\n",
              " {'duration': 4.56,\n",
              "  'start': 328.639,\n",
              "  'text': 'correlation prices are determined by the'},\n",
              " {'duration': 3.919,\n",
              "  'start': 330.72,\n",
              "  'text': \"pool's balances pool's weights and the\"},\n",
              " {'duration': 2.961,\n",
              "  'start': 333.199,\n",
              "  'text': 'amount of the tokens that are being'},\n",
              " {'duration': 3.361,\n",
              "  'start': 334.639,\n",
              "  'text': 'swapped this might get a little more'},\n",
              " {'duration': 4.319,\n",
              "  'start': 336.16,\n",
              "  'text': 'technical but balancers weighted math'},\n",
              " {'duration': 4.8,\n",
              "  'start': 338.0,\n",
              "  'text': 'equation is a generalization of the x'},\n",
              " {'duration': 3.841,\n",
              "  'start': 340.479,\n",
              "  'text': 'times y equals k constant product'},\n",
              " {'duration': 3.44,\n",
              "  'start': 342.8,\n",
              "  'text': 'formula outlined in the beginning of'},\n",
              " {'duration': 3.599,\n",
              "  'start': 344.32,\n",
              "  'text': 'this video but accounting for cases with'},\n",
              " {'duration': 3.519,\n",
              "  'start': 346.24,\n",
              "  'text': 'more than two tokens as well as'},\n",
              " {'duration': 3.521,\n",
              "  'start': 347.919,\n",
              "  'text': 'weightings that are not an even 50 50'},\n",
              " {'duration': 3.681,\n",
              "  'start': 349.759,\n",
              "  'text': 'split next up they actually have'},\n",
              " {'duration': 4.24,\n",
              "  'start': 351.44,\n",
              "  'text': 'something called a portfolio manager'},\n",
              " {'duration': 3.599,\n",
              "  'start': 353.44,\n",
              "  'text': 'which i call a crypto index fund now one'},\n",
              " {'duration': 4.0,\n",
              "  'start': 355.68,\n",
              "  'text': 'of the most interesting things that'},\n",
              " {'duration': 5.041,\n",
              "  'start': 357.039,\n",
              "  'text': 'these multi-asset pools allow us to do'},\n",
              " {'duration': 4.56,\n",
              "  'start': 359.68,\n",
              "  'text': 'is to create a synthetic index fund of'},\n",
              " {'duration': 4.64,\n",
              "  'start': 362.08,\n",
              "  'text': 'crypto tokens that will automatically'},\n",
              " {'duration': 4.48,\n",
              "  'start': 364.24,\n",
              "  'text': 'manage itself and rebalance itself as'},\n",
              " {'duration': 3.84,\n",
              "  'start': 366.72,\n",
              "  'text': 'needed so you can easily create your own'},\n",
              " {'duration': 3.68,\n",
              "  'start': 368.72,\n",
              "  'text': 'pool of four or five assets that you'},\n",
              " {'duration': 3.919,\n",
              "  'start': 370.56,\n",
              "  'text': 'want to hold long term and then let'},\n",
              " {'duration': 3.519,\n",
              "  'start': 372.4,\n",
              "  'text': 'people use that pool to trade with there'},\n",
              " {'duration': 2.961,\n",
              "  'start': 374.479,\n",
              "  'text': 'are actually two things that i forgot to'},\n",
              " {'duration': 3.601,\n",
              "  'start': 375.919,\n",
              "  'text': 'mention about how automated market'},\n",
              " {'duration': 3.92,\n",
              "  'start': 377.44,\n",
              "  'text': 'makers work earlier and the first is'},\n",
              " {'duration': 4.399,\n",
              "  'start': 379.52,\n",
              "  'text': 'that simply by letting other people'},\n",
              " {'duration': 5.2,\n",
              "  'start': 381.36,\n",
              "  'text': 'trade with your funds to make swaps you'},\n",
              " {'duration': 4.241,\n",
              "  'start': 383.919,\n",
              "  'text': 'will actually earn money how well when'},\n",
              " {'duration': 4.16,\n",
              "  'start': 386.56,\n",
              "  'text': 'you first set up the initial pool of'},\n",
              " {'duration': 4.319,\n",
              "  'start': 388.16,\n",
              "  'text': 'assets you decide on what fee the trader'},\n",
              " {'duration': 3.759,\n",
              "  'start': 390.72,\n",
              "  'text': 'should pay for using your liquidity pool'},\n",
              " {'duration': 4.321,\n",
              "  'start': 392.479,\n",
              "  'text': \"because hey they're using your money now\"},\n",
              " {'duration': 5.041,\n",
              "  'start': 394.479,\n",
              "  'text': 'this fee is usually very low but when a'},\n",
              " {'duration': 5.28,\n",
              "  'start': 396.8,\n",
              "  'text': 'ton of traders use a ton of money every'},\n",
              " {'duration': 4.48,\n",
              "  'start': 399.52,\n",
              "  'text': 'day for a year it can really add up so'},\n",
              " {'duration': 4.08,\n",
              "  'start': 402.08,\n",
              "  'text': 'this means your crypto index fund will'},\n",
              " {'duration': 4.479,\n",
              "  'start': 404.0,\n",
              "  'text': 'technically earn somewhat as a dividend'},\n",
              " {'duration': 4.24,\n",
              "  'start': 406.16,\n",
              "  'text': 'as other traders use it to rebalance'},\n",
              " {'duration': 4.0,\n",
              "  'start': 408.479,\n",
              "  'text': 'their prices the other thing that i'},\n",
              " {'duration': 3.6,\n",
              "  'start': 410.4,\n",
              "  'text': 'technically forgot to mention is a scary'},\n",
              " {'duration': 3.681,\n",
              "  'start': 412.479,\n",
              "  'text': 'term for new investors called'},\n",
              " {'duration': 4.0,\n",
              "  'start': 414.0,\n",
              "  'text': \"impermanent loss now i don't have time\"},\n",
              " {'duration': 3.599,\n",
              "  'start': 416.16,\n",
              "  'text': 'to explain how impermanent loss works in'},\n",
              " {'duration': 3.599,\n",
              "  'start': 418.0,\n",
              "  'text': 'this video and i actually already have'},\n",
              " {'duration': 3.84,\n",
              "  'start': 419.759,\n",
              "  'text': \"an entire video explaining it that's\"},\n",
              " {'duration': 4.241,\n",
              "  'start': 421.599,\n",
              "  'text': 'been made really helpful to beginners'},\n",
              " {'duration': 3.921,\n",
              "  'start': 423.599,\n",
              "  'text': 'however that video specifically does not'},\n",
              " {'duration': 4.16,\n",
              "  'start': 425.84,\n",
              "  'text': 'talk about impermanent loss when there'},\n",
              " {'duration': 4.0,\n",
              "  'start': 427.52,\n",
              "  'text': 'are more than two assets and i know you'},\n",
              " {'duration': 2.88,\n",
              "  'start': 430.0,\n",
              "  'text': 'would love to learn about that so hit'},\n",
              " {'duration': 2.64,\n",
              "  'start': 431.52,\n",
              "  'text': \"the subscribe button if you aren't\"},\n",
              " {'duration': 3.2,\n",
              "  'start': 432.88,\n",
              "  'text': \"already subscribed and you'll be\"},\n",
              " {'duration': 4.159,\n",
              "  'start': 434.16,\n",
              "  'text': 'notified whenever i create and upload'},\n",
              " {'duration': 4.72,\n",
              "  'start': 436.08,\n",
              "  'text': \"that video moving on let's talk about\"},\n",
              " {'duration': 4.241,\n",
              "  'start': 438.319,\n",
              "  'text': 'another feature that balancer has they'},\n",
              " {'duration': 4.0, 'start': 440.8, 'text': 'allow you to create pools with'},\n",
              " {'duration': 4.639,\n",
              "  'start': 442.56,\n",
              "  'text': 'customized weights so all of the uni'},\n",
              " {'duration': 5.679,\n",
              "  'start': 444.8,\n",
              "  'text': 'swap pancake swap and sushi swap pools'},\n",
              " {'duration': 5.28,\n",
              "  'start': 447.199,\n",
              "  'text': 'are weighted 50 50 exactly half and half'},\n",
              " {'duration': 4.321,\n",
              "  'start': 450.479,\n",
              "  'text': \"even the a try crypto pool that's found\"},\n",
              " {'duration': 4.72,\n",
              "  'start': 452.479,\n",
              "  'text': 'on curve finance used by thousands of'},\n",
              " {'duration': 5.119,\n",
              "  'start': 454.8,\n",
              "  'text': \"people has three assets but it's only\"},\n",
              " {'duration': 4.801,\n",
              "  'start': 457.199,\n",
              "  'text': 'divided into equal thirds balancer lets'},\n",
              " {'duration': 5.84,\n",
              "  'start': 459.919,\n",
              "  'text': 'you create your own pools with custom'},\n",
              " {'duration': 8.8,\n",
              "  'start': 462.0,\n",
              "  'text': 'ratios so i could set up an 80 20 one a'},\n",
              " {'duration': 7.041,\n",
              "  'start': 465.759,\n",
              "  'text': '10 10 10 71 or even a 95 5 pool this'},\n",
              " {'duration': 3.44,\n",
              "  'start': 470.8,\n",
              "  'text': 'allows even more customization when it'},\n",
              " {'duration': 2.88,\n",
              "  'start': 472.8,\n",
              "  'text': 'comes to setting up your own little'},\n",
              " {'duration': 3.12,\n",
              "  'start': 474.24,\n",
              "  'text': 'index fund pool and you might be'},\n",
              " {'duration': 4.16,\n",
              "  'start': 475.68,\n",
              "  'text': 'wondering how this affects in permanent'},\n",
              " {'duration': 4.32,\n",
              "  'start': 477.36,\n",
              "  'text': 'loss because pools with strong assets'},\n",
              " {'duration': 4.079,\n",
              "  'start': 479.84,\n",
              "  'text': 'having a higher percentage usually'},\n",
              " {'duration': 3.6,\n",
              "  'start': 481.68,\n",
              "  'text': \"result in less in permanent loss here's\"},\n",
              " {'duration': 3.521,\n",
              "  'start': 483.919,\n",
              "  'text': 'a nice little chart where you can see'},\n",
              " {'duration': 4.319,\n",
              "  'start': 485.28,\n",
              "  'text': 'how common ratios affect in permanent'},\n",
              " {'duration': 4.56,\n",
              "  'start': 487.44,\n",
              "  'text': 'loss the trade-off for this impermanent'},\n",
              " {'duration': 4.481,\n",
              "  'start': 489.599,\n",
              "  'text': 'loss is usually a higher slippage amount'},\n",
              " {'duration': 4.319,\n",
              "  'start': 492.0,\n",
              "  'text': 'for traders essentially the result of'},\n",
              " {'duration': 4.08,\n",
              "  'start': 494.08,\n",
              "  'text': 'less liquidity for the tokens with less'},\n",
              " {'duration': 3.6,\n",
              "  'start': 496.319,\n",
              "  'text': 'weight one more amazing thing that'},\n",
              " {'duration': 4.08,\n",
              "  'start': 498.16,\n",
              "  'text': 'balancer has is something called'},\n",
              " {'duration': 4.481,\n",
              "  'start': 499.919,\n",
              "  'text': 'liquidity bootstrapping pools and'},\n",
              " {'duration': 5.12,\n",
              "  'start': 502.24,\n",
              "  'text': 'basically what this means is they allow'},\n",
              " {'duration': 6.799,\n",
              "  'start': 504.4,\n",
              "  'text': 'automatic rebalancing of certain assets'},\n",
              " {'duration': 6.64,\n",
              "  'start': 507.36,\n",
              "  'text': 'so usually all assets are 50 50 or 25 25'},\n",
              " {'duration': 4.881,\n",
              "  'start': 511.199,\n",
              "  'text': '25 25 or any of the custom ratios that i'},\n",
              " {'duration': 4.479,\n",
              "  'start': 514.0,\n",
              "  'text': 'talked about earlier however balancer'},\n",
              " {'duration': 4.24,\n",
              "  'start': 516.08,\n",
              "  'text': 'has another pool type called a liquidity'},\n",
              " {'duration': 4.56,\n",
              "  'start': 518.479,\n",
              "  'text': 'bootstrapping pool which is a pool'},\n",
              " {'duration': 4.8,\n",
              "  'start': 520.32,\n",
              "  'text': 'primarily used for newly created tokens'},\n",
              " {'duration': 4.48,\n",
              "  'start': 523.039,\n",
              "  'text': 'or projects the idea is that they'},\n",
              " {'duration': 4.8,\n",
              "  'start': 525.12,\n",
              "  'text': 'generally start a pool with 10 of a'},\n",
              " {'duration': 5.281,\n",
              "  'start': 527.519,\n",
              "  'text': 'highly liquid or trusted coin and then'},\n",
              " {'duration': 4.64,\n",
              "  'start': 529.92,\n",
              "  'text': \"90 of a new project's coin the project\"},\n",
              " {'duration': 3.84,\n",
              "  'start': 532.8,\n",
              "  'text': 'will also select an ending weight'},\n",
              " {'duration': 4.64,\n",
              "  'start': 534.56,\n",
              "  'text': 'typically 50 50. and one of the last'},\n",
              " {'duration': 4.56,\n",
              "  'start': 536.64,\n",
              "  'text': 'primary steps is to set a specific time'},\n",
              " {'duration': 4.16,\n",
              "  'start': 539.2,\n",
              "  'text': 'frame to run the liquidity bootstrapping'},\n",
              " {'duration': 4.24,\n",
              "  'start': 541.2,\n",
              "  'text': 'pool it could be days weeks or even'},\n",
              " {'duration': 4.08,\n",
              "  'start': 543.36,\n",
              "  'text': 'months and once the pool begins the'},\n",
              " {'duration': 4.24,\n",
              "  'start': 545.44,\n",
              "  'text': 'ratio of assets will change over that'},\n",
              " {'duration': 4.399,\n",
              "  'start': 547.44,\n",
              "  'text': \"specified time period so basically it'll\"},\n",
              " {'duration': 4.48,\n",
              "  'start': 549.68,\n",
              "  'text': 'start off at 90 10 and then end up with'},\n",
              " {'duration': 4.321,\n",
              "  'start': 551.839,\n",
              "  'text': '50 50. and basically this means that the'},\n",
              " {'duration': 4.16,\n",
              "  'start': 554.16,\n",
              "  'text': \"price of the project's new coin starts\"},\n",
              " {'duration': 4.16,\n",
              "  'start': 556.16,\n",
              "  'text': 'high and then will drop until there are'},\n",
              " {'duration': 4.32,\n",
              "  'start': 558.32,\n",
              "  'text': 'new buyers this allows the market to'},\n",
              " {'duration': 4.32,\n",
              "  'start': 560.32,\n",
              "  'text': 'find the appropriate price and seeks to'},\n",
              " {'duration': 4.56,\n",
              "  'start': 562.64,\n",
              "  'text': 'weed out front running which allows for'},\n",
              " {'duration': 4.0,\n",
              "  'start': 564.64,\n",
              "  'text': 'a more fair price model again the math'},\n",
              " {'duration': 3.6, 'start': 567.2, 'text': 'behind this and impermanent loss'},\n",
              " {'duration': 3.92,\n",
              "  'start': 568.64,\n",
              "  'text': 'calculations are quite complicated but'},\n",
              " {'duration': 4.08,\n",
              "  'start': 570.8,\n",
              "  'text': 'what it means for you is that you can'},\n",
              " {'duration': 5.04,\n",
              "  'start': 572.56,\n",
              "  'text': 'purchase new tokens with a more fair'},\n",
              " {'duration': 4.399,\n",
              "  'start': 574.88,\n",
              "  'text': 'opportunity for all investors liquidity'},\n",
              " {'duration': 3.84,\n",
              "  'start': 577.6,\n",
              "  'text': 'bootstrapping pools are actually one of'},\n",
              " {'duration': 4.481,\n",
              "  'start': 579.279,\n",
              "  'text': 'the most successful if not the most'},\n",
              " {'duration': 3.839,\n",
              "  'start': 581.44,\n",
              "  'text': 'successful way to launch a new token'},\n",
              " {'duration': 3.199,\n",
              "  'start': 583.76,\n",
              "  'text': \"personally i'm actually planning on\"},\n",
              " {'duration': 3.921,\n",
              "  'start': 585.279,\n",
              "  'text': 'making an entire video on how these'},\n",
              " {'duration': 3.921,\n",
              "  'start': 586.959,\n",
              "  'text': 'liquidity bootstrapping pools work soon'},\n",
              " {'duration': 3.199,\n",
              "  'start': 589.2,\n",
              "  'text': 'including a few other fair launch'},\n",
              " {'duration': 3.68,\n",
              "  'start': 590.88,\n",
              "  'text': 'mechanics that would be really fun to'},\n",
              " {'duration': 4.0,\n",
              "  'start': 592.399,\n",
              "  'text': 'explain so keep your eyes open for that'},\n",
              " {'duration': 4.08,\n",
              "  'start': 594.56,\n",
              "  'text': \"lastly let's get into balancers\"},\n",
              " {'duration': 4.0,\n",
              "  'start': 596.399,\n",
              "  'text': 'tokenomics so balancer has recently'},\n",
              " {'duration': 4.4,\n",
              "  'start': 598.64,\n",
              "  'text': 'moved to a few different networks other'},\n",
              " {'duration': 4.161,\n",
              "  'start': 600.399,\n",
              "  'text': 'than just ethereum balancer v2 contracts'},\n",
              " {'duration': 4.239,\n",
              "  'start': 603.04,\n",
              "  'text': 'were first launched on the ethereum'},\n",
              " {'duration': 4.56,\n",
              "  'start': 604.56,\n",
              "  'text': 'mainnet on april 20 2021 and then the'},\n",
              " {'duration': 3.921,\n",
              "  'start': 607.279,\n",
              "  'text': 'actual website and user interface were'},\n",
              " {'duration': 4.159,\n",
              "  'start': 609.12,\n",
              "  'text': 'launched on may 11th the polygon'},\n",
              " {'duration': 4.639,\n",
              "  'start': 611.2,\n",
              "  'text': 'contracts were launched on july 1st and'},\n",
              " {'duration': 4.881,\n",
              "  'start': 613.279,\n",
              "  'text': 'then arbitrarum on august 31st in fact'},\n",
              " {'duration': 4.24,\n",
              "  'start': 615.839,\n",
              "  'text': \"there's already a fork a balancer v2 on\"},\n",
              " {'duration': 4.72,\n",
              "  'start': 618.16,\n",
              "  'text': 'the phantom network too the maximum'},\n",
              " {'duration': 4.961,\n",
              "  'start': 620.079,\n",
              "  'text': 'supply of balancer tokens is 100 million'},\n",
              " {'duration': 4.56,\n",
              "  'start': 622.88,\n",
              "  'text': 'around 35 million of these tokens were'},\n",
              " {'duration': 4.239,\n",
              "  'start': 625.04,\n",
              "  'text': 'minted at launch and the remaining 65'},\n",
              " {'duration': 3.839,\n",
              "  'start': 627.44,\n",
              "  'text': 'million can be distributed to liquidity'},\n",
              " {'duration': 3.601,\n",
              "  'start': 629.279,\n",
              "  'text': 'providers however the ultimate amount of'},\n",
              " {'duration': 3.361,\n",
              "  'start': 631.279,\n",
              "  'text': 'these tokens is completely up to'},\n",
              " {'duration': 3.68, 'start': 632.88, 'text': 'balancer holders by proposing'},\n",
              " {'duration': 4.24,\n",
              "  'start': 634.64,\n",
              "  'text': 'suggestions and then voting on them in a'},\n",
              " {'duration': 3.519,\n",
              "  'start': 636.56,\n",
              "  'text': 'dow style the balancer token was'},\n",
              " {'duration': 2.959,\n",
              "  'start': 638.88,\n",
              "  'text': 'actually one of the very first'},\n",
              " {'duration': 3.76,\n",
              "  'start': 640.079,\n",
              "  'text': 'governments token in the whole wide'},\n",
              " {'duration': 4.321,\n",
              "  'start': 641.839,\n",
              "  'text': \"world of defy and right now that's\"},\n",
              " {'duration': 4.24,\n",
              "  'start': 643.839,\n",
              "  'text': \"exactly what they're used for governance\"},\n",
              " {'duration': 4.32,\n",
              "  'start': 646.16,\n",
              "  'text': 'but they are working on native staking'},\n",
              " {'duration': 4.081,\n",
              "  'start': 648.079,\n",
              "  'text': 'contracts right now until then you can'},\n",
              " {'duration': 3.28,\n",
              "  'start': 650.48,\n",
              "  'text': 'actually deposit balancer tokens in a'},\n",
              " {'duration': 3.44,\n",
              "  'start': 652.16,\n",
              "  'text': 'few different pools across a few'},\n",
              " {'duration': 3.68,\n",
              "  'start': 653.76,\n",
              "  'text': 'different chains to earn more balancer'},\n",
              " {'duration': 4.16,\n",
              "  'start': 655.6,\n",
              "  'text': 'tokens the last thing i want to mention'},\n",
              " {'duration': 4.399,\n",
              "  'start': 657.44,\n",
              "  'text': 'is their grants program now the balancer'},\n",
              " {'duration': 3.92,\n",
              "  'start': 659.76,\n",
              "  'text': 'team also has a grants program where'},\n",
              " {'duration': 4.401,\n",
              "  'start': 661.839,\n",
              "  'text': 'developers can apply for funds to'},\n",
              " {'duration': 4.399,\n",
              "  'start': 663.68,\n",
              "  'text': \"further the project's goals in fact this\"},\n",
              " {'duration': 3.92,\n",
              "  'start': 666.24,\n",
              "  'text': 'video and the next two videos on this'},\n",
              " {'duration': 3.921,\n",
              "  'start': 668.079,\n",
              "  'text': 'channel about the balancer platform and'},\n",
              " {'duration': 3.6,\n",
              "  'start': 670.16,\n",
              "  'text': 'functionalities are created with the'},\n",
              " {'duration': 3.68,\n",
              "  'start': 672.0,\n",
              "  'text': 'help of a grant that they approved for'},\n",
              " {'duration': 3.36,\n",
              "  'start': 673.76,\n",
              "  'text': 'whiteboard crypto so wrapping this video'},\n",
              " {'duration': 3.599,\n",
              "  'start': 675.68,\n",
              "  'text': 'up i want to thank the balancer grant'},\n",
              " {'duration': 3.839,\n",
              "  'start': 677.12,\n",
              "  'text': 'team for approving that grant and'},\n",
              " {'duration': 3.601,\n",
              "  'start': 679.279,\n",
              "  'text': 'helping me with the script and i want to'},\n",
              " {'duration': 3.681,\n",
              "  'start': 680.959,\n",
              "  'text': 'thank you for watching this video i hope'},\n",
              " {'duration': 3.76,\n",
              "  'start': 682.88,\n",
              "  'text': 'you enjoyed it i really hope that maybe'},\n",
              " {'duration': 5.199,\n",
              "  'start': 684.64,\n",
              "  'text': \"you've learned something and most of all\"},\n",
              " {'duration': 3.199,\n",
              "  'start': 686.64,\n",
              "  'text': 'i hope to see you in our next video'}]"
            ]
          },
          "execution_count": 8,
          "metadata": {},
          "output_type": "execute_result"
        }
      ],
      "source": [
        "YouTubeTranscriptApi.get_transcript(vid_id)"
      ]
    },
    {
      "cell_type": "code",
      "execution_count": 9,
      "metadata": {
        "id": "BllGsh1qT3gr"
      },
      "outputs": [],
      "source": [
        "transcript = YouTubeTranscriptApi.get_transcript(vid_id)"
      ]
    },
    {
      "cell_type": "markdown",
      "metadata": {
        "id": "vtxtYfL_1Fgf"
      },
      "source": [
        "### Edge case for transcript not having \"text\""
      ]
    },
    {
      "cell_type": "code",
      "execution_count": 10,
      "metadata": {
        "colab": {
          "base_uri": "https://localhost:8080/"
        },
        "id": "98tGAZAIXHlf",
        "outputId": "a5da86e6-5f97-46bc-f45f-b8276377ee07"
      },
      "outputs": [
        {
          "data": {
            "text/plain": [
              "[{'duration': 4.88,\n",
              "  'start': 0.08,\n",
              "  'text': 'to put it simply balancer is an ethereum'},\n",
              " {'duration': 5.039,\n",
              "  'start': 2.72,\n",
              "  'text': 'based application specifically a'},\n",
              " {'duration': 4.719,\n",
              "  'start': 4.96,\n",
              "  'text': 'decentralized exchange that utilizes a'},\n",
              " {'duration': 3.76,\n",
              "  'start': 7.759,\n",
              "  'text': 'special trading algorithm called an'},\n",
              " {'duration': 4.161,\n",
              "  'start': 9.679,\n",
              "  'text': 'automated market maker that allows'}]"
            ]
          },
          "execution_count": 10,
          "metadata": {},
          "output_type": "execute_result"
        }
      ],
      "source": [
        "# to check if the video transcript has text or not\n",
        "transcript[0:5]"
      ]
    },
    {
      "cell_type": "markdown",
      "metadata": {
        "id": "8JECvQzM1MUW"
      },
      "source": [
        "### Putting all timestamped texts together in one corpus"
      ]
    },
    {
      "cell_type": "code",
      "execution_count": 11,
      "metadata": {
        "colab": {
          "base_uri": "https://localhost:8080/"
        },
        "id": "Nf-Q5sYTUGpf",
        "outputId": "3bdae959-c783-4b78-e49a-853aeb2a44e7"
      },
      "outputs": [
        {
          "name": "stdout",
          "output_type": "stream",
          "text": [
            "12458\n"
          ]
        }
      ],
      "source": [
        "# iterating throughout and adding all text together\n",
        "result = \"\"\n",
        "for i in transcript:\n",
        "    result += ' ' + i['text']\n",
        "#print(result)\n",
        "print(len(result))"
      ]
    },
    {
      "cell_type": "code",
      "execution_count": 119,
      "metadata": {
        "colab": {
          "base_uri": "https://localhost:8080/",
          "height": 162
        },
        "id": "3RGVdDwArftF",
        "outputId": "72edc213-cebb-4e70-c60b-fbaa8767aff8"
      },
      "outputs": [
        {
          "data": {
            "application/vnd.google.colaboratory.intrinsic+json": {
              "type": "string"
            },
            "text/plain": [
              "\" to put it simply balancer is an ethereum based application specifically a decentralized exchange that utilizes a special trading algorithm called an automated market maker that allows traders to swap their crypto tokens in a very efficient way if that sounded like a bunch of mumbo jumbo don't worry i'm gonna explain all of this throughout the rest of the video welcome to whiteboard crypto the number one youtube channel for crypto education and here we explain topics of the cryptocurrency world using analogies stories and examples so that even your grandpa could understand them in this video we are going to be explaining what balancer is how it works and what their automated portfolio manager or as i call it a create your own index fund idea is let's dig in in the world of defy and cryptocurrencies we don't use the old method of making trades this old method is called an order book model where a buyer and seller write down whatever they want to trade with and then it gets added to a huge list of everyone else's trades this list is called an order book essentially you pick what price you want to buy or sell at you can't be guaranteed when the trade will happen if at all because you have to wait around for someone else to match with your trade if you don't want to wait around at all you can look at someone else's trade offer and go ahead and accept it this way the other person gets to trade at the price they want and you get a trade at the time that you want either way you either get to select the price or the time of the trade not both now there is a newer solution that is much better and it doesn't rely on humans but instead algorithms this method is called an automated market maker it'll never run out of assets to sell you the way an automated market maker works is quite complicated but we're gonna try to simplify it for you in this video first a pool of money must be created this pool of money contains two or more assets that someone supplies willingly so that other people can use that pool to trade with the way the trading happens is all automatic with an algorithm now the algorithm is very simple and it follows this equation x times y equals k without getting too much into the math of it and we actually have an entire video diving deep into the math of it which i'll link down in the description below the way this algorithm works is actually quite simple as you buy more of one asset the algorithm automatically charges you more and more to keep buying that asset so even if you have a trillion dollars to trade with the pool will never run out of either asset to sell you because it'll keep charging you an infinitely higher price another way to think about it in this way might be better is that you approach the pool with what you want to sell and it will tell you how much it can give you based on its algorithm for example let's use a pool of ethereum and usdc if you go to the pool and you say you want to buy one dollar worth of ethereum it might sell you some ethereum at an average price of four thousand dollars however if you go to the same pool and you buy ten dollars worth of ethereum it'll charge you a higher average price of four thousand and eight dollars once more if you go to the pool with one hundred dollars it may charge you an average price of four thousand one hundred dollars per ethereum and finally if you approach the pool with a million dollars it may charge you an infinitely high amount of usdc to buy that aetherium but the trick here is that the pool will never run out of ethereum to sell you it'll just keep charging you a higher portion now since you interacted with the pool and raised the price of the ethereum in that pool other people are gonna come along and sell their ethereum to that pool at a higher price basically giving the pool back more ethereum but also taking some usdc and this is a liquidity pool rebalancing feature liquidity pools and automated market makers are quite complicated when you're first understanding them so i highly recommend watching our specific videos on those topics if you haven't already but this chart right here is a game changer see this curve it's the x times y equals k formula you can think about any purchase using the liquidity pool with this curve if you give the pool this much of asset a it will return you with this much of asset b the same goes for if you give it this much of asset a it's going to barely give you any asset b and finally if you give it a ton of asset a even if there's a plenty of asset b in the normal curve range it won't give you much now we've gotten this far into the video about balancer and haven't even talked about balancer yet in fact everything i've talked about up to this point is applicable to how many other popular decentralized exchanges work including uni swap pancake swap and sushi swap so what makes balancer better well with uni swap pancake swap and sushi swap you can only deposit two assets in the very beginning of this technology each of these pools had to also contain ethereum so you could have a usdc eth pool in a bow token eath pool and to get from usdc to bow token you'd have to make two different swaps eventually the developers got fancy and realized they could allow users to set up any pool they wanted so something like a usdc bow token pool was possible even more so they realized they could hook up a ton of these pools together automatically so anyone can trade from one token in one pool to any other token in another pool at ease and this is technically called routing here's the cool thing that balancer does they take this one step further instead of just letting you deposit two assets into a pool they let you add up to eight different assets in a liquidity pool now the math behind these multi-asset pools is called weighted math and it is designed to allow for swaps between any asset whether or not they even have a price correlation prices are determined by the pool's balances pool's weights and the amount of the tokens that are being swapped this might get a little more technical but balancers weighted math equation is a generalization of the x times y equals k constant product formula outlined in the beginning of this video but accounting for cases with more than two tokens as well as weightings that are not an even 50 50 split next up they actually have something called a portfolio manager which i call a crypto index fund now one of the most interesting things that these multi-asset pools allow us to do is to create a synthetic index fund of crypto tokens that will automatically manage itself and rebalance itself as needed so you can easily create your own pool of four or five assets that you want to hold long term and then let people use that pool to trade with there are actually two things that i forgot to mention about how automated market makers work earlier and the first is that simply by letting other people trade with your funds to make swaps you will actually earn money how well when you first set up the initial pool of assets you decide on what fee the trader should pay for using your liquidity pool because hey they're using your money now this fee is usually very low but when a ton of traders use a ton of money every day for a year it can really add up so this means your crypto index fund will technically earn somewhat as a dividend as other traders use it to rebalance their prices the other thing that i technically forgot to mention is a scary term for new investors called impermanent loss now i don't have time to explain how impermanent loss works in this video and i actually already have an entire video explaining it that's been made really helpful to beginners however that video specifically does not talk about impermanent loss when there are more than two assets and i know you would love to learn about that so hit the subscribe button if you aren't already subscribed and you'll be notified whenever i create and upload that video moving on let's talk about another feature that balancer has they allow you to create pools with customized weights so all of the uni swap pancake swap and sushi swap pools are weighted 50 50 exactly half and half even the a try crypto pool that's found on curve finance used by thousands of people has three assets but it's only divided into equal thirds balancer lets you create your own pools with custom ratios so i could set up an 80 20 one a 10 10 10 71 or even a 95 5 pool this allows even more customization when it comes to setting up your own little index fund pool and you might be wondering how this affects in permanent loss because pools with strong assets having a higher percentage usually result in less in permanent loss here's a nice little chart where you can see how common ratios affect in permanent loss the trade-off for this impermanent loss is usually a higher slippage amount for traders essentially the result of less liquidity for the tokens with less weight one more amazing thing that balancer has is something called liquidity bootstrapping pools and basically what this means is they allow automatic rebalancing of certain assets so usually all assets are 50 50 or 25 25 25 25 or any of the custom ratios that i talked about earlier however balancer has another pool type called a liquidity bootstrapping pool which is a pool primarily used for newly created tokens or projects the idea is that they generally start a pool with 10 of a highly liquid or trusted coin and then 90 of a new project's coin the project will also select an ending weight typically 50 50. and one of the last primary steps is to set a specific time frame to run the liquidity bootstrapping pool it could be days weeks or even months and once the pool begins the ratio of assets will change over that specified time period so basically it'll start off at 90 10 and then end up with 50 50. and basically this means that the price of the project's new coin starts high and then will drop until there are new buyers this allows the market to find the appropriate price and seeks to weed out front running which allows for a more fair price model again the math behind this and impermanent loss calculations are quite complicated but what it means for you is that you can purchase new tokens with a more fair opportunity for all investors liquidity bootstrapping pools are actually one of the most successful if not the most successful way to launch a new token personally i'm actually planning on making an entire video on how these liquidity bootstrapping pools work soon including a few other fair launch mechanics that would be really fun to explain so keep your eyes open for that lastly let's get into balancers tokenomics so balancer has recently moved to a few different networks other than just ethereum balancer v2 contracts were first launched on the ethereum mainnet on april 20 2021 and then the actual website and user interface were launched on may 11th the polygon contracts were launched on july 1st and then arbitrarum on august 31st in fact there's already a fork a balancer v2 on the phantom network too the maximum supply of balancer tokens is 100 million around 35 million of these tokens were minted at launch and the remaining 65 million can be distributed to liquidity providers however the ultimate amount of these tokens is completely up to balancer holders by proposing suggestions and then voting on them in a dow style the balancer token was actually one of the very first governments token in the whole wide world of defy and right now that's exactly what they're used for governance but they are working on native staking contracts right now until then you can actually deposit balancer tokens in a few different pools across a few different chains to earn more balancer tokens the last thing i want to mention is their grants program now the balancer team also has a grants program where developers can apply for funds to further the project's goals in fact this video and the next two videos on this channel about the balancer platform and functionalities are created with the help of a grant that they approved for whiteboard crypto so wrapping this video up i want to thank the balancer grant team for approving that grant and helping me with the script and i want to thank you for watching this video i hope you enjoyed it i really hope that maybe you've learned something and most of all i hope to see you in our next video\""
            ]
          },
          "execution_count": 119,
          "metadata": {},
          "output_type": "execute_result"
        }
      ],
      "source": [
        "result"
      ]
    },
    {
      "cell_type": "markdown",
      "metadata": {
        "id": "l2ZN5iSN1TjN"
      },
      "source": [
        "## Generating Summary"
      ]
    },
    {
      "cell_type": "markdown",
      "metadata": {
        "id": "4J2It3YI_dNe"
      },
      "source": [
        "### Facebook Bart Large CNN Model"
      ]
    },
    {
      "cell_type": "code",
      "execution_count": 65,
      "metadata": {
        "id": "bOwOF_eRAbiN"
      },
      "outputs": [],
      "source": [
        "summarizerfb = pipeline(\"summarization\", model=\"facebook/bart-large-cnn\")\n",
        "#sumd_text = summarizerfb(result, max_length=130, min_length=30, do_sample=False)"
      ]
    },
    {
      "cell_type": "code",
      "execution_count": 155,
      "metadata": {
        "colab": {
          "base_uri": "https://localhost:8080/"
        },
        "id": "R551URzdBape",
        "outputId": "af4197e4-b242-4c1d-a2c2-8b67ab09a472"
      },
      "outputs": [
        {
          "name": "stdout",
          "output_type": "stream",
          "text": [
            "input text \n",
            " to put it simply balancer is an ethereum based application specifically a decentralized exchange that utilizes a special trading algorithm called an automated market maker that allows traders to swap their crypto tokens in a very efficient way if that sounded like a bunch of mumbo jumbo don't worry i'm gonna explain all of this throughout the rest of the video welcome to whiteboard crypto the number one youtube channel for crypto education and here we explain topics of the cryptocurrency world using analogies stories and examples so that even your grandpa could understand them in this video we are going to be explaining what balancer is how it works and what their automated portfolio manager or as i call it a create your own index fund idea is let's dig in in the world of defy and cryptocurrencies we don't use the old method of making trades this old method is called an order book model where a buyer and seller write down whatever they want to trade with and then it gets added to a hu\n",
            "Summarized text\n",
            "Whiteboard crypto is the number one youtube channel for crypto education. We explain topics of the cryptocurrency world using analogies stories and examples. In this video we are going to be explaining what balancer is how it works.\n",
            "input text \n",
            "ge list of everyone else's trades this list is called an order book essentially you pick what price you want to buy or sell at you can't be guaranteed when the trade will happen if at all because you have to wait around for someone else to match with your trade if you don't want to wait around at all you can look at someone else's trade offer and go ahead and accept it this way the other person gets to trade at the price they want and you get a trade at the time that you want either way you either get to select the price or the time of the trade not both now there is a newer solution that is much better and it doesn't rely on humans but instead algorithms this method is called an automated market maker it'll never run out of assets to sell you the way an automated market maker works is quite complicated but we're gonna try to simplify it for you in this video first a pool of money must be created this pool of money contains two or more assets that someone supplies willingly so that oth\n",
            "Summarized text\n",
            "An order book is a list of everyone else's trades this list is called an order book essentially you pick what price you want to buy or sell at you can't be guaranteed when the trade will happen if at all because you have to wait around for someone else to match with your trade. There is a newer solution that is much better and it doesn't rely on humans but instead algorithms this method is called a market maker it'll never run out of assets to sell you.\n",
            "input text \n",
            "er people can use that pool to trade with the way the trading happens is all automatic with an algorithm now the algorithm is very simple and it follows this equation x times y equals k without getting too much into the math of it and we actually have an entire video diving deep into the math of it which i'll link down in the description below the way this algorithm works is actually quite simple as you buy more of one asset the algorithm automatically charges you more and more to keep buying that asset so even if you have a trillion dollars to trade with the pool will never run out of either asset to sell you because it'll keep charging you an infinitely higher price another way to think about it in this way might be better is that you approach the pool with what you want to sell and it will tell you how much it can give you based on its algorithm for example let's use a pool of ethereum and usdc if you go to the pool and you say you want to buy one dollar worth of ethereum it might s\n",
            "Summarized text\n",
            "The way this algorithm works is actually quite simple as you buy more of one asset the algorithm automatically charges you more and more to keep buying that asset. Even if you have a trillion dollars to trade with the pool will never run out of either asset to sell you because it'll keep charging you an infinitely higher price.\n",
            "input text \n",
            "ell you some ethereum at an average price of four thousand dollars however if you go to the same pool and you buy ten dollars worth of ethereum it'll charge you a higher average price of four thousand and eight dollars once more if you go to the pool with one hundred dollars it may charge you an average price of four thousand one hundred dollars per ethereum and finally if you approach the pool with a million dollars it may charge you an infinitely high amount of usdc to buy that aetherium but the trick here is that the pool will never run out of ethereum to sell you it'll just keep charging you a higher portion now since you interacted with the pool and raised the price of the ethereum in that pool other people are gonna come along and sell their ethereum to that pool at a higher price basically giving the pool back more ethereum but also taking some usdc and this is a liquidity pool rebalancing feature liquidity pools and automated market makers are quite complicated when you're firs\n",
            "Summarized text\n",
            "The pool will never run out of ethereum to sell you. It'll just keep charging you a higher portion now since you interacted with the pool and raised the price. Other people are gonna come along and sell their e Ethereum to that pool at a higher price. This is a liquidity pool rebalancing feature liquidity pools and automated market makers are quite complicated.\n",
            "input text \n",
            "t understanding them so i highly recommend watching our specific videos on those topics if you haven't already but this chart right here is a game changer see this curve it's the x times y equals k formula you can think about any purchase using the liquidity pool with this curve if you give the pool this much of asset a it will return you with this much of asset b the same goes for if you give it this much of asset a it's going to barely give you any asset b and finally if you give it a ton of asset a even if there's a plenty of asset b in the normal curve range it won't give you much now we've gotten this far into the video about balancer and haven't even talked about balancer yet in fact everything i've talked about up to this point is applicable to how many other popular decentralized exchanges work including uni swap pancake swap and sushi swap so what makes balancer better well with uni swap pancake swap and sushi swap you can only deposit two assets in the very beginning of this \n",
            "Summarized text\n",
            "Everything i've talked about up to this point is applicable to how many other popular decentralized exchanges work including uni swap pancake swap and sushi swap. i highly recommend watching our specific videos on those topics if you haven't already but this chart right here is a game changer.\n",
            "input text \n",
            "technology each of these pools had to also contain ethereum so you could have a usdc eth pool in a bow token eath pool and to get from usdc to bow token you'd have to make two different swaps eventually the developers got fancy and realized they could allow users to set up any pool they wanted so something like a usdc bow token pool was possible even more so they realized they could hook up a ton of these pools together automatically so anyone can trade from one token in one pool to any other token in another pool at ease and this is technically called routing here's the cool thing that balancer does they take this one step further instead of just letting you deposit two assets into a pool they let you add up to eight different assets in a liquidity pool now the math behind these multi-asset pools is called weighted math and it is designed to allow for swaps between any asset whether or not they even have a price correlation prices are determined by the pool's balances pool's weights a\n",
            "Summarized text\n",
            "Balancer lets you add up to eight different assets in a liquidity pool. The math behind these multi-asset pools is called weighted math. It is designed to allow for swaps between any asset whether or not they even have a price correlation.\n",
            "input text \n",
            "nd the amount of the tokens that are being swapped this might get a little more technical but balancers weighted math equation is a generalization of the x times y equals k constant product formula outlined in the beginning of this video but accounting for cases with more than two tokens as well as weightings that are not an even 50 50 split next up they actually have something called a portfolio manager which i call a crypto index fund now one of the most interesting things that these multi-asset pools allow us to do is to create a synthetic index fund of crypto tokens that will automatically manage itself and rebalance itself as needed so you can easily create your own pool of four or five assets that you want to hold long term and then let people use that pool to trade with there are actually two things that i forgot to mention about how automated market makers work earlier and the first is that simply by letting other people trade with your funds to make swaps you will actually ear\n",
            "Summarized text\n",
            "Balancers weighted math equation is a generalization of the x times y equals k constant product formula outlined in the beginning of this video. Accounting for cases with more than two tokens as well as weightings that are not an even 50 50 split next up they actually have something called a portfolio manager which i call a crypto index fund.\n",
            "input text \n",
            "n money how well when you first set up the initial pool of assets you decide on what fee the trader should pay for using your liquidity pool because hey they're using your money now this fee is usually very low but when a ton of traders use a ton of money every day for a year it can really add up so this means your crypto index fund will technically earn somewhat as a dividend as other traders use it to rebalance their prices the other thing that i technically forgot to mention is a scary term for new investors called impermanent loss now i don't have time to explain how impermanent loss works in this video and i actually already have an entire video explaining it that's been made really helpful to beginners however that video specifically does not talk about impermanent loss when there are more than two assets and i know you would love to learn about that so hit the subscribe button if you aren't already subscribed and you'll be notified whenever i create and upload that video moving \n",
            "Summarized text\n",
            "When you first set up the initial pool of assets you decide on what fee the trader should pay for using your liquidity pool because hey they're using your money now. This fee is usually very low but when a ton of traders use a tons of money every day for a year it can really add up. This means your crypto index fund will technically earn somewhat as a dividend as other traders use it to rebalance their prices.\n",
            "input text \n",
            "on let's talk about another feature that balancer has they allow you to create pools with customized weights so all of the uni swap pancake swap and sushi swap pools are weighted 50 50 exactly half and half even the a try crypto pool that's found on curve finance used by thousands of people has three assets but it's only divided into equal thirds balancer lets you create your own pools with custom ratios so i could set up an 80 20 one a 10 10 10 71 or even a 95 5 pool this allows even more customization when it comes to setting up your own little index fund pool and you might be wondering how this affects in permanent loss because pools with strong assets having a higher percentage usually result in less in permanent loss here's a nice little chart where you can see how common ratios affect in permanent loss the trade-off for this impermanent loss is usually a higher slippage amount for traders essentially the result of less liquidity for the tokens with less weight one more amazing th\n",
            "Summarized text\n",
            " balancer lets you create your own pools with custom ratios so i could set up an 80 20 one a 10 10 10 71 or even a 95 5 pool this allows even more customization when it comes to setting up your own little index fund pool.\n",
            "input text \n",
            "ing that balancer has is something called liquidity bootstrapping pools and basically what this means is they allow automatic rebalancing of certain assets so usually all assets are 50 50 or 25 25 25 25 or any of the custom ratios that i talked about earlier however balancer has another pool type called a liquidity bootstrapping pool which is a pool primarily used for newly created tokens or projects the idea is that they generally start a pool with 10 of a highly liquid or trusted coin and then 90 of a new project's coin the project will also select an ending weight typically 50 50. and one of the last primary steps is to set a specific time frame to run the liquidity bootstrapping pool it could be days weeks or even months and once the pool begins the ratio of assets will change over that specified time period so basically it'll start off at 90 10 and then end up with 50 50. and basically this means that the price of the project's new coin starts high and then will drop until there a\n",
            "Summarized text\n",
            "Balancer has two types of pools. One is called a liquidity bootstrapping pool. This is a pool primarily used for newly created tokens or projects. Once the pool begins the ratio of assets will change over that specified time period.\n",
            "input text \n",
            "re new buyers this allows the market to find the appropriate price and seeks to weed out front running which allows for a more fair price model again the math behind this and impermanent loss calculations are quite complicated but what it means for you is that you can purchase new tokens with a more fair opportunity for all investors liquidity bootstrapping pools are actually one of the most successful if not the most successful way to launch a new token personally i'm actually planning on making an entire video on how these liquidity bootstrapping pools work soon including a few other fair launch mechanics that would be really fun to explain so keep your eyes open for that lastly let's get into balancers tokenomics so balancer has recently moved to a few different networks other than just ethereum balancer v2 contracts were first launched on the ethereum mainnet on april 20 2021 and then the actual website and user interface were launched on may 11th the polygon contracts were launche\n",
            "Summarized text\n",
            " liquidity bootstrapping pools are one of the most successful ways to launch a new token. re new buyers this allows the market to find the appropriate price and seeks to weed out front running which allows for a more fair price model. balancer v2 contracts were first launched on the ethereum mainnet on april 20 2021.\n",
            "input text \n",
            "d on july 1st and then arbitrarum on august 31st in fact there's already a fork a balancer v2 on the phantom network too the maximum supply of balancer tokens is 100 million around 35 million of these tokens were minted at launch and the remaining 65 million can be distributed to liquidity providers however the ultimate amount of these tokens is completely up to balancer holders by proposing suggestions and then voting on them in a dow style the balancer token was actually one of the very first governments token in the whole wide world of defy and right now that's exactly what they're used for governance but they are working on native staking contracts right now until then you can actually deposit balancer tokens in a few different pools across a few different chains to earn more balancer tokens the last thing i want to mention is their grants program now the balancer team also has a grants program where developers can apply for funds to further the project's goals in fact this video a\n"
          ]
        },
        {
          "name": "stderr",
          "output_type": "stream",
          "text": [
            "Your max_length is set to 130, but you input_length is only 95. You might consider decreasing max_length manually, e.g. summarizer('...', max_length=47)\n"
          ]
        },
        {
          "name": "stdout",
          "output_type": "stream",
          "text": [
            "Summarized text\n",
            "The maximum supply of balancer tokens is 100 million around 35 million of these tokens were minted at launch and the remaining 65 million can be distributed to liquidity providers. balancer token was actually one of the very first governments token in the whole wide world of defy and right now that's exactly what they're used for governance.\n",
            "input text \n",
            "nd the next two videos on this channel about the balancer platform and functionalities are created with the help of a grant that they approved for whiteboard crypto so wrapping this video up i want to thank the balancer grant team for approving that grant and helping me with the script and i want to thank you for watching this video i hope you enjoyed it i really hope that maybe you've learned something and most of all i hope to see you in our next video\n",
            "Summarized text\n",
            "The next two videos on this channel about the balancer platform and functionalities are created with the help of a grant that they approved for whiteboard crypto. i hope you enjoyed it i really hope that maybe you've learned something and most of all i hope to see you in our next video.\n"
          ]
        }
      ],
      "source": [
        "# iterating in batches since max token length for Bart models is 1024, so we divide each batch here into token lengths of <1000\n",
        "num_iters = int(len(result)/1000)\n",
        "\n",
        "# summarizing on each batch and appending to final summary\n",
        "summarized_text = []\n",
        "summarized_text2 = []\n",
        "for i in range(0, num_iters + 1):\n",
        "  start = 0\n",
        "  start = i * 1000\n",
        "  end = (i + 1) * 1000\n",
        "  print(\"input text \\n\" + result[start:end])\n",
        "  out = summarizerfb(result[start:end], max_length=130, min_length=30, do_sample=False)\n",
        "  out = out[0]\n",
        "  out = out['summary_text']\n",
        "  print(\"Summarized text\\n\"+out)\n",
        "  summarized_text.append(out)\n",
        "  summarized_text2 = ' '.join(summarized_text)"
      ]
    },
    {
      "cell_type": "code",
      "execution_count": 156,
      "metadata": {
        "colab": {
          "base_uri": "https://localhost:8080/"
        },
        "id": "UNxpDco0AvAY",
        "outputId": "6076f49b-8983-4360-83b2-19f8d15e8bda"
      },
      "outputs": [
        {
          "data": {
            "text/plain": [
              "12458"
            ]
          },
          "execution_count": 156,
          "metadata": {},
          "output_type": "execute_result"
        }
      ],
      "source": [
        "len(result)"
      ]
    },
    {
      "cell_type": "code",
      "execution_count": 157,
      "metadata": {
        "colab": {
          "base_uri": "https://localhost:8080/",
          "height": 162
        },
        "id": "gDLNV5WLAvAZ",
        "outputId": "07f31b2c-7817-41f8-c3ae-4e95c8a7de92"
      },
      "outputs": [
        {
          "data": {
            "application/vnd.google.colaboratory.intrinsic+json": {
              "type": "string"
            },
            "text/plain": [
              "\" to put it simply balancer is an ethereum based application specifically a decentralized exchange that utilizes a special trading algorithm called an automated market maker that allows traders to swap their crypto tokens in a very efficient way if that sounded like a bunch of mumbo jumbo don't worry i'm gonna explain all of this throughout the rest of the video welcome to whiteboard crypto the number one youtube channel for crypto education and here we explain topics of the cryptocurrency world using analogies stories and examples so that even your grandpa could understand them in this video we are going to be explaining what balancer is how it works and what their automated portfolio manager or as i call it a create your own index fund idea is let's dig in in the world of defy and cryptocurrencies we don't use the old method of making trades this old method is called an order book model where a buyer and seller write down whatever they want to trade with and then it gets added to a huge list of everyone else's trades this list is called an order book essentially you pick what price you want to buy or sell at you can't be guaranteed when the trade will happen if at all because you have to wait around for someone else to match with your trade if you don't want to wait around at all you can look at someone else's trade offer and go ahead and accept it this way the other person gets to trade at the price they want and you get a trade at the time that you want either way you either get to select the price or the time of the trade not both now there is a newer solution that is much better and it doesn't rely on humans but instead algorithms this method is called an automated market maker it'll never run out of assets to sell you the way an automated market maker works is quite complicated but we're gonna try to simplify it for you in this video first a pool of money must be created this pool of money contains two or more assets that someone supplies willingly so that other people can use that pool to trade with the way the trading happens is all automatic with an algorithm now the algorithm is very simple and it follows this equation x times y equals k without getting too much into the math of it and we actually have an entire video diving deep into the math of it which i'll link down in the description below the way this algorithm works is actually quite simple as you buy more of one asset the algorithm automatically charges you more and more to keep buying that asset so even if you have a trillion dollars to trade with the pool will never run out of either asset to sell you because it'll keep charging you an infinitely higher price another way to think about it in this way might be better is that you approach the pool with what you want to sell and it will tell you how much it can give you based on its algorithm for example let's use a pool of ethereum and usdc if you go to the pool and you say you want to buy one dollar worth of ethereum it might sell you some ethereum at an average price of four thousand dollars however if you go to the same pool and you buy ten dollars worth of ethereum it'll charge you a higher average price of four thousand and eight dollars once more if you go to the pool with one hundred dollars it may charge you an average price of four thousand one hundred dollars per ethereum and finally if you approach the pool with a million dollars it may charge you an infinitely high amount of usdc to buy that aetherium but the trick here is that the pool will never run out of ethereum to sell you it'll just keep charging you a higher portion now since you interacted with the pool and raised the price of the ethereum in that pool other people are gonna come along and sell their ethereum to that pool at a higher price basically giving the pool back more ethereum but also taking some usdc and this is a liquidity pool rebalancing feature liquidity pools and automated market makers are quite complicated when you're first understanding them so i highly recommend watching our specific videos on those topics if you haven't already but this chart right here is a game changer see this curve it's the x times y equals k formula you can think about any purchase using the liquidity pool with this curve if you give the pool this much of asset a it will return you with this much of asset b the same goes for if you give it this much of asset a it's going to barely give you any asset b and finally if you give it a ton of asset a even if there's a plenty of asset b in the normal curve range it won't give you much now we've gotten this far into the video about balancer and haven't even talked about balancer yet in fact everything i've talked about up to this point is applicable to how many other popular decentralized exchanges work including uni swap pancake swap and sushi swap so what makes balancer better well with uni swap pancake swap and sushi swap you can only deposit two assets in the very beginning of this technology each of these pools had to also contain ethereum so you could have a usdc eth pool in a bow token eath pool and to get from usdc to bow token you'd have to make two different swaps eventually the developers got fancy and realized they could allow users to set up any pool they wanted so something like a usdc bow token pool was possible even more so they realized they could hook up a ton of these pools together automatically so anyone can trade from one token in one pool to any other token in another pool at ease and this is technically called routing here's the cool thing that balancer does they take this one step further instead of just letting you deposit two assets into a pool they let you add up to eight different assets in a liquidity pool now the math behind these multi-asset pools is called weighted math and it is designed to allow for swaps between any asset whether or not they even have a price correlation prices are determined by the pool's balances pool's weights and the amount of the tokens that are being swapped this might get a little more technical but balancers weighted math equation is a generalization of the x times y equals k constant product formula outlined in the beginning of this video but accounting for cases with more than two tokens as well as weightings that are not an even 50 50 split next up they actually have something called a portfolio manager which i call a crypto index fund now one of the most interesting things that these multi-asset pools allow us to do is to create a synthetic index fund of crypto tokens that will automatically manage itself and rebalance itself as needed so you can easily create your own pool of four or five assets that you want to hold long term and then let people use that pool to trade with there are actually two things that i forgot to mention about how automated market makers work earlier and the first is that simply by letting other people trade with your funds to make swaps you will actually earn money how well when you first set up the initial pool of assets you decide on what fee the trader should pay for using your liquidity pool because hey they're using your money now this fee is usually very low but when a ton of traders use a ton of money every day for a year it can really add up so this means your crypto index fund will technically earn somewhat as a dividend as other traders use it to rebalance their prices the other thing that i technically forgot to mention is a scary term for new investors called impermanent loss now i don't have time to explain how impermanent loss works in this video and i actually already have an entire video explaining it that's been made really helpful to beginners however that video specifically does not talk about impermanent loss when there are more than two assets and i know you would love to learn about that so hit the subscribe button if you aren't already subscribed and you'll be notified whenever i create and upload that video moving on let's talk about another feature that balancer has they allow you to create pools with customized weights so all of the uni swap pancake swap and sushi swap pools are weighted 50 50 exactly half and half even the a try crypto pool that's found on curve finance used by thousands of people has three assets but it's only divided into equal thirds balancer lets you create your own pools with custom ratios so i could set up an 80 20 one a 10 10 10 71 or even a 95 5 pool this allows even more customization when it comes to setting up your own little index fund pool and you might be wondering how this affects in permanent loss because pools with strong assets having a higher percentage usually result in less in permanent loss here's a nice little chart where you can see how common ratios affect in permanent loss the trade-off for this impermanent loss is usually a higher slippage amount for traders essentially the result of less liquidity for the tokens with less weight one more amazing thing that balancer has is something called liquidity bootstrapping pools and basically what this means is they allow automatic rebalancing of certain assets so usually all assets are 50 50 or 25 25 25 25 or any of the custom ratios that i talked about earlier however balancer has another pool type called a liquidity bootstrapping pool which is a pool primarily used for newly created tokens or projects the idea is that they generally start a pool with 10 of a highly liquid or trusted coin and then 90 of a new project's coin the project will also select an ending weight typically 50 50. and one of the last primary steps is to set a specific time frame to run the liquidity bootstrapping pool it could be days weeks or even months and once the pool begins the ratio of assets will change over that specified time period so basically it'll start off at 90 10 and then end up with 50 50. and basically this means that the price of the project's new coin starts high and then will drop until there are new buyers this allows the market to find the appropriate price and seeks to weed out front running which allows for a more fair price model again the math behind this and impermanent loss calculations are quite complicated but what it means for you is that you can purchase new tokens with a more fair opportunity for all investors liquidity bootstrapping pools are actually one of the most successful if not the most successful way to launch a new token personally i'm actually planning on making an entire video on how these liquidity bootstrapping pools work soon including a few other fair launch mechanics that would be really fun to explain so keep your eyes open for that lastly let's get into balancers tokenomics so balancer has recently moved to a few different networks other than just ethereum balancer v2 contracts were first launched on the ethereum mainnet on april 20 2021 and then the actual website and user interface were launched on may 11th the polygon contracts were launched on july 1st and then arbitrarum on august 31st in fact there's already a fork a balancer v2 on the phantom network too the maximum supply of balancer tokens is 100 million around 35 million of these tokens were minted at launch and the remaining 65 million can be distributed to liquidity providers however the ultimate amount of these tokens is completely up to balancer holders by proposing suggestions and then voting on them in a dow style the balancer token was actually one of the very first governments token in the whole wide world of defy and right now that's exactly what they're used for governance but they are working on native staking contracts right now until then you can actually deposit balancer tokens in a few different pools across a few different chains to earn more balancer tokens the last thing i want to mention is their grants program now the balancer team also has a grants program where developers can apply for funds to further the project's goals in fact this video and the next two videos on this channel about the balancer platform and functionalities are created with the help of a grant that they approved for whiteboard crypto so wrapping this video up i want to thank the balancer grant team for approving that grant and helping me with the script and i want to thank you for watching this video i hope you enjoyed it i really hope that maybe you've learned something and most of all i hope to see you in our next video\""
            ]
          },
          "execution_count": 157,
          "metadata": {},
          "output_type": "execute_result"
        }
      ],
      "source": [
        "result"
      ]
    },
    {
      "cell_type": "code",
      "execution_count": 158,
      "metadata": {
        "colab": {
          "base_uri": "https://localhost:8080/"
        },
        "id": "RPkAl1sNAvAZ",
        "outputId": "f5e791f5-7be1-4cd0-ad53-5d4f8fb79d2a"
      },
      "outputs": [
        {
          "data": {
            "text/plain": [
              "4084"
            ]
          },
          "execution_count": 158,
          "metadata": {},
          "output_type": "execute_result"
        }
      ],
      "source": [
        "len(str(summarized_text2))"
      ]
    },
    {
      "cell_type": "code",
      "execution_count": 159,
      "metadata": {
        "colab": {
          "base_uri": "https://localhost:8080/",
          "height": 162
        },
        "id": "EMQdpFd1AvAZ",
        "outputId": "d319ab4c-31d0-4d2f-d742-f85895aa37f3"
      },
      "outputs": [
        {
          "data": {
            "application/vnd.google.colaboratory.intrinsic+json": {
              "type": "string"
            },
            "text/plain": [
              "\"Whiteboard crypto is the number one youtube channel for crypto education. We explain topics of the cryptocurrency world using analogies stories and examples. In this video we are going to be explaining what balancer is how it works. An order book is a list of everyone else's trades this list is called an order book essentially you pick what price you want to buy or sell at you can't be guaranteed when the trade will happen if at all because you have to wait around for someone else to match with your trade. There is a newer solution that is much better and it doesn't rely on humans but instead algorithms this method is called a market maker it'll never run out of assets to sell you. The way this algorithm works is actually quite simple as you buy more of one asset the algorithm automatically charges you more and more to keep buying that asset. Even if you have a trillion dollars to trade with the pool will never run out of either asset to sell you because it'll keep charging you an infinitely higher price. The pool will never run out of ethereum to sell you. It'll just keep charging you a higher portion now since you interacted with the pool and raised the price. Other people are gonna come along and sell their e Ethereum to that pool at a higher price. This is a liquidity pool rebalancing feature liquidity pools and automated market makers are quite complicated. Everything i've talked about up to this point is applicable to how many other popular decentralized exchanges work including uni swap pancake swap and sushi swap. i highly recommend watching our specific videos on those topics if you haven't already but this chart right here is a game changer. Balancer lets you add up to eight different assets in a liquidity pool. The math behind these multi-asset pools is called weighted math. It is designed to allow for swaps between any asset whether or not they even have a price correlation. Balancers weighted math equation is a generalization of the x times y equals k constant product formula outlined in the beginning of this video. Accounting for cases with more than two tokens as well as weightings that are not an even 50 50 split next up they actually have something called a portfolio manager which i call a crypto index fund. When you first set up the initial pool of assets you decide on what fee the trader should pay for using your liquidity pool because hey they're using your money now. This fee is usually very low but when a ton of traders use a tons of money every day for a year it can really add up. This means your crypto index fund will technically earn somewhat as a dividend as other traders use it to rebalance their prices.  balancer lets you create your own pools with custom ratios so i could set up an 80 20 one a 10 10 10 71 or even a 95 5 pool this allows even more customization when it comes to setting up your own little index fund pool. Balancer has two types of pools. One is called a liquidity bootstrapping pool. This is a pool primarily used for newly created tokens or projects. Once the pool begins the ratio of assets will change over that specified time period.  liquidity bootstrapping pools are one of the most successful ways to launch a new token. re new buyers this allows the market to find the appropriate price and seeks to weed out front running which allows for a more fair price model. balancer v2 contracts were first launched on the ethereum mainnet on april 20 2021. The maximum supply of balancer tokens is 100 million around 35 million of these tokens were minted at launch and the remaining 65 million can be distributed to liquidity providers. balancer token was actually one of the very first governments token in the whole wide world of defy and right now that's exactly what they're used for governance. The next two videos on this channel about the balancer platform and functionalities are created with the help of a grant that they approved for whiteboard crypto. i hope you enjoyed it i really hope that maybe you've learned something and most of all i hope to see you in our next video.\""
            ]
          },
          "execution_count": 159,
          "metadata": {},
          "output_type": "execute_result"
        }
      ],
      "source": [
        "str(summarized_text2)"
      ]
    },
    {
      "cell_type": "markdown",
      "metadata": {
        "id": "ueaWyUMsHt5P"
      },
      "source": [
        "We'll be using the **facebook/bart-large-cnn** model as our final model for the YouTube Video Transcript Summarizer."
      ]
    },
    {
      "cell_type": "markdown",
      "metadata": {
        "id": "1YYNXmz84ujT"
      },
      "source": [
        "### T5-Base Model"
      ]
    },
    {
      "cell_type": "code",
      "execution_count": 76,
      "metadata": {
        "id": "clZjb6k2UmKh"
      },
      "outputs": [],
      "source": [
        "# defining the model from Hugging Face Transformers\n",
        "from transformers import AutoTokenizer, AutoModelForSeq2SeqLM\n",
        "\n",
        "model_name = \"t5-base\"\n",
        "tokenizer = AutoTokenizer.from_pretrained(model_name)\n",
        "model = AutoModelForSeq2SeqLM.from_pretrained(model_name)"
      ]
    },
    {
      "cell_type": "code",
      "execution_count": 77,
      "metadata": {
        "colab": {
          "base_uri": "https://localhost:8080/"
        },
        "id": "hDYI4dG1Eerj",
        "outputId": "6a9a7398-5755-4cb6-f0a2-ef82588d97c3"
      },
      "outputs": [
        {
          "name": "stdout",
          "output_type": "stream",
          "text": [
            "input text \n",
            " to put it simply balancer is an ethereum based application specifically a decentralized exchange that utilizes a special trading algorithm called an automated market maker that allows traders to swap their crypto tokens in a very efficient way if that sounded like a bunch of mumbo jumbo don't worry i'm gonna explain all of this throughout the rest of the video welcome to whiteboard crypto the number one youtube channel for crypto education and here we explain topics of the cryptocurrency world using analogies stories and examples so that even your grandpa could understand them in this video we are going to be explaining what balancer is how it works and what their automated portfolio manager or as i call it a create your own index fund idea is let's dig in in the world of defy and cryptocurrencies we don't use the old method of making trades this old method is called an order book model where a buyer and seller write down whatever they want to trade with and then it gets added to a hu\n",
            "input text \n",
            "ge list of everyone else's trades this list is called an order book essentially you pick what price you want to buy or sell at you can't be guaranteed when the trade will happen if at all because you have to wait around for someone else to match with your trade if you don't want to wait around at all you can look at someone else's trade offer and go ahead and accept it this way the other person gets to trade at the price they want and you get a trade at the time that you want either way you either get to select the price or the time of the trade not both now there is a newer solution that is much better and it doesn't rely on humans but instead algorithms this method is called an automated market maker it'll never run out of assets to sell you the way an automated market maker works is quite complicated but we're gonna try to simplify it for you in this video first a pool of money must be created this pool of money contains two or more assets that someone supplies willingly so that oth\n",
            "input text \n",
            "er people can use that pool to trade with the way the trading happens is all automatic with an algorithm now the algorithm is very simple and it follows this equation x times y equals k without getting too much into the math of it and we actually have an entire video diving deep into the math of it which i'll link down in the description below the way this algorithm works is actually quite simple as you buy more of one asset the algorithm automatically charges you more and more to keep buying that asset so even if you have a trillion dollars to trade with the pool will never run out of either asset to sell you because it'll keep charging you an infinitely higher price another way to think about it in this way might be better is that you approach the pool with what you want to sell and it will tell you how much it can give you based on its algorithm for example let's use a pool of ethereum and usdc if you go to the pool and you say you want to buy one dollar worth of ethereum it might s\n",
            "input text \n",
            "ell you some ethereum at an average price of four thousand dollars however if you go to the same pool and you buy ten dollars worth of ethereum it'll charge you a higher average price of four thousand and eight dollars once more if you go to the pool with one hundred dollars it may charge you an average price of four thousand one hundred dollars per ethereum and finally if you approach the pool with a million dollars it may charge you an infinitely high amount of usdc to buy that aetherium but the trick here is that the pool will never run out of ethereum to sell you it'll just keep charging you a higher portion now since you interacted with the pool and raised the price of the ethereum in that pool other people are gonna come along and sell their ethereum to that pool at a higher price basically giving the pool back more ethereum but also taking some usdc and this is a liquidity pool rebalancing feature liquidity pools and automated market makers are quite complicated when you're firs\n",
            "input text \n",
            "t understanding them so i highly recommend watching our specific videos on those topics if you haven't already but this chart right here is a game changer see this curve it's the x times y equals k formula you can think about any purchase using the liquidity pool with this curve if you give the pool this much of asset a it will return you with this much of asset b the same goes for if you give it this much of asset a it's going to barely give you any asset b and finally if you give it a ton of asset a even if there's a plenty of asset b in the normal curve range it won't give you much now we've gotten this far into the video about balancer and haven't even talked about balancer yet in fact everything i've talked about up to this point is applicable to how many other popular decentralized exchanges work including uni swap pancake swap and sushi swap so what makes balancer better well with uni swap pancake swap and sushi swap you can only deposit two assets in the very beginning of this \n",
            "input text \n",
            "technology each of these pools had to also contain ethereum so you could have a usdc eth pool in a bow token eath pool and to get from usdc to bow token you'd have to make two different swaps eventually the developers got fancy and realized they could allow users to set up any pool they wanted so something like a usdc bow token pool was possible even more so they realized they could hook up a ton of these pools together automatically so anyone can trade from one token in one pool to any other token in another pool at ease and this is technically called routing here's the cool thing that balancer does they take this one step further instead of just letting you deposit two assets into a pool they let you add up to eight different assets in a liquidity pool now the math behind these multi-asset pools is called weighted math and it is designed to allow for swaps between any asset whether or not they even have a price correlation prices are determined by the pool's balances pool's weights a\n",
            "input text \n",
            "nd the amount of the tokens that are being swapped this might get a little more technical but balancers weighted math equation is a generalization of the x times y equals k constant product formula outlined in the beginning of this video but accounting for cases with more than two tokens as well as weightings that are not an even 50 50 split next up they actually have something called a portfolio manager which i call a crypto index fund now one of the most interesting things that these multi-asset pools allow us to do is to create a synthetic index fund of crypto tokens that will automatically manage itself and rebalance itself as needed so you can easily create your own pool of four or five assets that you want to hold long term and then let people use that pool to trade with there are actually two things that i forgot to mention about how automated market makers work earlier and the first is that simply by letting other people trade with your funds to make swaps you will actually ear\n",
            "input text \n",
            "n money how well when you first set up the initial pool of assets you decide on what fee the trader should pay for using your liquidity pool because hey they're using your money now this fee is usually very low but when a ton of traders use a ton of money every day for a year it can really add up so this means your crypto index fund will technically earn somewhat as a dividend as other traders use it to rebalance their prices the other thing that i technically forgot to mention is a scary term for new investors called impermanent loss now i don't have time to explain how impermanent loss works in this video and i actually already have an entire video explaining it that's been made really helpful to beginners however that video specifically does not talk about impermanent loss when there are more than two assets and i know you would love to learn about that so hit the subscribe button if you aren't already subscribed and you'll be notified whenever i create and upload that video moving \n",
            "input text \n",
            "on let's talk about another feature that balancer has they allow you to create pools with customized weights so all of the uni swap pancake swap and sushi swap pools are weighted 50 50 exactly half and half even the a try crypto pool that's found on curve finance used by thousands of people has three assets but it's only divided into equal thirds balancer lets you create your own pools with custom ratios so i could set up an 80 20 one a 10 10 10 71 or even a 95 5 pool this allows even more customization when it comes to setting up your own little index fund pool and you might be wondering how this affects in permanent loss because pools with strong assets having a higher percentage usually result in less in permanent loss here's a nice little chart where you can see how common ratios affect in permanent loss the trade-off for this impermanent loss is usually a higher slippage amount for traders essentially the result of less liquidity for the tokens with less weight one more amazing th\n",
            "input text \n",
            "ing that balancer has is something called liquidity bootstrapping pools and basically what this means is they allow automatic rebalancing of certain assets so usually all assets are 50 50 or 25 25 25 25 or any of the custom ratios that i talked about earlier however balancer has another pool type called a liquidity bootstrapping pool which is a pool primarily used for newly created tokens or projects the idea is that they generally start a pool with 10 of a highly liquid or trusted coin and then 90 of a new project's coin the project will also select an ending weight typically 50 50. and one of the last primary steps is to set a specific time frame to run the liquidity bootstrapping pool it could be days weeks or even months and once the pool begins the ratio of assets will change over that specified time period so basically it'll start off at 90 10 and then end up with 50 50. and basically this means that the price of the project's new coin starts high and then will drop until there a\n",
            "input text \n",
            "re new buyers this allows the market to find the appropriate price and seeks to weed out front running which allows for a more fair price model again the math behind this and impermanent loss calculations are quite complicated but what it means for you is that you can purchase new tokens with a more fair opportunity for all investors liquidity bootstrapping pools are actually one of the most successful if not the most successful way to launch a new token personally i'm actually planning on making an entire video on how these liquidity bootstrapping pools work soon including a few other fair launch mechanics that would be really fun to explain so keep your eyes open for that lastly let's get into balancers tokenomics so balancer has recently moved to a few different networks other than just ethereum balancer v2 contracts were first launched on the ethereum mainnet on april 20 2021 and then the actual website and user interface were launched on may 11th the polygon contracts were launche\n",
            "input text \n",
            "d on july 1st and then arbitrarum on august 31st in fact there's already a fork a balancer v2 on the phantom network too the maximum supply of balancer tokens is 100 million around 35 million of these tokens were minted at launch and the remaining 65 million can be distributed to liquidity providers however the ultimate amount of these tokens is completely up to balancer holders by proposing suggestions and then voting on them in a dow style the balancer token was actually one of the very first governments token in the whole wide world of defy and right now that's exactly what they're used for governance but they are working on native staking contracts right now until then you can actually deposit balancer tokens in a few different pools across a few different chains to earn more balancer tokens the last thing i want to mention is their grants program now the balancer team also has a grants program where developers can apply for funds to further the project's goals in fact this video a\n",
            "input text \n",
            "nd the next two videos on this channel about the balancer platform and functionalities are created with the help of a grant that they approved for whiteboard crypto so wrapping this video up i want to thank the balancer grant team for approving that grant and helping me with the script and i want to thank you for watching this video i hope you enjoyed it i really hope that maybe you've learned something and most of all i hope to see you in our next video\n",
            "input text \n",
            "\n",
            "input text \n",
            "\n",
            "input text \n",
            "\n",
            "input text \n",
            "\n",
            "input text \n",
            "\n",
            "input text \n",
            "\n",
            "input text \n",
            "\n",
            "input text \n",
            "\n",
            "input text \n",
            "\n",
            "input text \n",
            "\n",
            "input text \n",
            "\n",
            "input text \n",
            "\n"
          ]
        }
      ],
      "source": [
        "# Encoding & decoding in T5. T5 uses a max_length of 512 so we cut the article to 512 tokens.\n",
        "\n",
        "num_iters = int(len(result)/512)\n",
        "summarized_text = []\n",
        "for i in range(0, num_iters + 1):\n",
        "  start = 0\n",
        "  start = i * 1000\n",
        "  end = (i + 1) * 1000\n",
        "  print(\"input text \\n\" + result[start:end])\n",
        "  inp = tokenizer(\"summarize: \" + result[start:end], return_tensors=\"pt\", max_length=512, truncation=True)\n",
        "  out = model.generate(inp[\"input_ids\"], max_length=150, min_length=40, length_penalty=2.0, num_beams=4, early_stopping=True)\n",
        "  output = tokenizer.decode(out[0])\n",
        "  summarized_text.append(output)"
      ]
    },
    {
      "cell_type": "code",
      "execution_count": 78,
      "metadata": {
        "colab": {
          "base_uri": "https://localhost:8080/"
        },
        "id": "btcYmwRE4AK7",
        "outputId": "b97e35d2-70ad-4a52-c8bf-4e384a9edcac"
      },
      "outputs": [
        {
          "data": {
            "text/plain": [
              "12458"
            ]
          },
          "execution_count": 78,
          "metadata": {},
          "output_type": "execute_result"
        }
      ],
      "source": [
        "len(result)"
      ]
    },
    {
      "cell_type": "code",
      "execution_count": 79,
      "metadata": {
        "colab": {
          "base_uri": "https://localhost:8080/",
          "height": 0
        },
        "id": "9mwYQUbL57HH",
        "outputId": "02f34235-f8da-41eb-a700-fe2943ed5387"
      },
      "outputs": [
        {
          "data": {
            "application/vnd.google.colaboratory.intrinsic+json": {
              "type": "string"
            },
            "text/plain": [
              "\" to put it simply balancer is an ethereum based application specifically a decentralized exchange that utilizes a special trading algorithm called an automated market maker that allows traders to swap their crypto tokens in a very efficient way if that sounded like a bunch of mumbo jumbo don't worry i'm gonna explain all of this throughout the rest of the video welcome to whiteboard crypto the number one youtube channel for crypto education and here we explain topics of the cryptocurrency world using analogies stories and examples so that even your grandpa could understand them in this video we are going to be explaining what balancer is how it works and what their automated portfolio manager or as i call it a create your own index fund idea is let's dig in in the world of defy and cryptocurrencies we don't use the old method of making trades this old method is called an order book model where a buyer and seller write down whatever they want to trade with and then it gets added to a huge list of everyone else's trades this list is called an order book essentially you pick what price you want to buy or sell at you can't be guaranteed when the trade will happen if at all because you have to wait around for someone else to match with your trade if you don't want to wait around at all you can look at someone else's trade offer and go ahead and accept it this way the other person gets to trade at the price they want and you get a trade at the time that you want either way you either get to select the price or the time of the trade not both now there is a newer solution that is much better and it doesn't rely on humans but instead algorithms this method is called an automated market maker it'll never run out of assets to sell you the way an automated market maker works is quite complicated but we're gonna try to simplify it for you in this video first a pool of money must be created this pool of money contains two or more assets that someone supplies willingly so that other people can use that pool to trade with the way the trading happens is all automatic with an algorithm now the algorithm is very simple and it follows this equation x times y equals k without getting too much into the math of it and we actually have an entire video diving deep into the math of it which i'll link down in the description below the way this algorithm works is actually quite simple as you buy more of one asset the algorithm automatically charges you more and more to keep buying that asset so even if you have a trillion dollars to trade with the pool will never run out of either asset to sell you because it'll keep charging you an infinitely higher price another way to think about it in this way might be better is that you approach the pool with what you want to sell and it will tell you how much it can give you based on its algorithm for example let's use a pool of ethereum and usdc if you go to the pool and you say you want to buy one dollar worth of ethereum it might sell you some ethereum at an average price of four thousand dollars however if you go to the same pool and you buy ten dollars worth of ethereum it'll charge you a higher average price of four thousand and eight dollars once more if you go to the pool with one hundred dollars it may charge you an average price of four thousand one hundred dollars per ethereum and finally if you approach the pool with a million dollars it may charge you an infinitely high amount of usdc to buy that aetherium but the trick here is that the pool will never run out of ethereum to sell you it'll just keep charging you a higher portion now since you interacted with the pool and raised the price of the ethereum in that pool other people are gonna come along and sell their ethereum to that pool at a higher price basically giving the pool back more ethereum but also taking some usdc and this is a liquidity pool rebalancing feature liquidity pools and automated market makers are quite complicated when you're first understanding them so i highly recommend watching our specific videos on those topics if you haven't already but this chart right here is a game changer see this curve it's the x times y equals k formula you can think about any purchase using the liquidity pool with this curve if you give the pool this much of asset a it will return you with this much of asset b the same goes for if you give it this much of asset a it's going to barely give you any asset b and finally if you give it a ton of asset a even if there's a plenty of asset b in the normal curve range it won't give you much now we've gotten this far into the video about balancer and haven't even talked about balancer yet in fact everything i've talked about up to this point is applicable to how many other popular decentralized exchanges work including uni swap pancake swap and sushi swap so what makes balancer better well with uni swap pancake swap and sushi swap you can only deposit two assets in the very beginning of this technology each of these pools had to also contain ethereum so you could have a usdc eth pool in a bow token eath pool and to get from usdc to bow token you'd have to make two different swaps eventually the developers got fancy and realized they could allow users to set up any pool they wanted so something like a usdc bow token pool was possible even more so they realized they could hook up a ton of these pools together automatically so anyone can trade from one token in one pool to any other token in another pool at ease and this is technically called routing here's the cool thing that balancer does they take this one step further instead of just letting you deposit two assets into a pool they let you add up to eight different assets in a liquidity pool now the math behind these multi-asset pools is called weighted math and it is designed to allow for swaps between any asset whether or not they even have a price correlation prices are determined by the pool's balances pool's weights and the amount of the tokens that are being swapped this might get a little more technical but balancers weighted math equation is a generalization of the x times y equals k constant product formula outlined in the beginning of this video but accounting for cases with more than two tokens as well as weightings that are not an even 50 50 split next up they actually have something called a portfolio manager which i call a crypto index fund now one of the most interesting things that these multi-asset pools allow us to do is to create a synthetic index fund of crypto tokens that will automatically manage itself and rebalance itself as needed so you can easily create your own pool of four or five assets that you want to hold long term and then let people use that pool to trade with there are actually two things that i forgot to mention about how automated market makers work earlier and the first is that simply by letting other people trade with your funds to make swaps you will actually earn money how well when you first set up the initial pool of assets you decide on what fee the trader should pay for using your liquidity pool because hey they're using your money now this fee is usually very low but when a ton of traders use a ton of money every day for a year it can really add up so this means your crypto index fund will technically earn somewhat as a dividend as other traders use it to rebalance their prices the other thing that i technically forgot to mention is a scary term for new investors called impermanent loss now i don't have time to explain how impermanent loss works in this video and i actually already have an entire video explaining it that's been made really helpful to beginners however that video specifically does not talk about impermanent loss when there are more than two assets and i know you would love to learn about that so hit the subscribe button if you aren't already subscribed and you'll be notified whenever i create and upload that video moving on let's talk about another feature that balancer has they allow you to create pools with customized weights so all of the uni swap pancake swap and sushi swap pools are weighted 50 50 exactly half and half even the a try crypto pool that's found on curve finance used by thousands of people has three assets but it's only divided into equal thirds balancer lets you create your own pools with custom ratios so i could set up an 80 20 one a 10 10 10 71 or even a 95 5 pool this allows even more customization when it comes to setting up your own little index fund pool and you might be wondering how this affects in permanent loss because pools with strong assets having a higher percentage usually result in less in permanent loss here's a nice little chart where you can see how common ratios affect in permanent loss the trade-off for this impermanent loss is usually a higher slippage amount for traders essentially the result of less liquidity for the tokens with less weight one more amazing thing that balancer has is something called liquidity bootstrapping pools and basically what this means is they allow automatic rebalancing of certain assets so usually all assets are 50 50 or 25 25 25 25 or any of the custom ratios that i talked about earlier however balancer has another pool type called a liquidity bootstrapping pool which is a pool primarily used for newly created tokens or projects the idea is that they generally start a pool with 10 of a highly liquid or trusted coin and then 90 of a new project's coin the project will also select an ending weight typically 50 50. and one of the last primary steps is to set a specific time frame to run the liquidity bootstrapping pool it could be days weeks or even months and once the pool begins the ratio of assets will change over that specified time period so basically it'll start off at 90 10 and then end up with 50 50. and basically this means that the price of the project's new coin starts high and then will drop until there are new buyers this allows the market to find the appropriate price and seeks to weed out front running which allows for a more fair price model again the math behind this and impermanent loss calculations are quite complicated but what it means for you is that you can purchase new tokens with a more fair opportunity for all investors liquidity bootstrapping pools are actually one of the most successful if not the most successful way to launch a new token personally i'm actually planning on making an entire video on how these liquidity bootstrapping pools work soon including a few other fair launch mechanics that would be really fun to explain so keep your eyes open for that lastly let's get into balancers tokenomics so balancer has recently moved to a few different networks other than just ethereum balancer v2 contracts were first launched on the ethereum mainnet on april 20 2021 and then the actual website and user interface were launched on may 11th the polygon contracts were launched on july 1st and then arbitrarum on august 31st in fact there's already a fork a balancer v2 on the phantom network too the maximum supply of balancer tokens is 100 million around 35 million of these tokens were minted at launch and the remaining 65 million can be distributed to liquidity providers however the ultimate amount of these tokens is completely up to balancer holders by proposing suggestions and then voting on them in a dow style the balancer token was actually one of the very first governments token in the whole wide world of defy and right now that's exactly what they're used for governance but they are working on native staking contracts right now until then you can actually deposit balancer tokens in a few different pools across a few different chains to earn more balancer tokens the last thing i want to mention is their grants program now the balancer team also has a grants program where developers can apply for funds to further the project's goals in fact this video and the next two videos on this channel about the balancer platform and functionalities are created with the help of a grant that they approved for whiteboard crypto so wrapping this video up i want to thank the balancer grant team for approving that grant and helping me with the script and i want to thank you for watching this video i hope you enjoyed it i really hope that maybe you've learned something and most of all i hope to see you in our next video\""
            ]
          },
          "execution_count": 79,
          "metadata": {},
          "output_type": "execute_result"
        }
      ],
      "source": [
        "result"
      ]
    },
    {
      "cell_type": "code",
      "execution_count": 80,
      "metadata": {
        "colab": {
          "base_uri": "https://localhost:8080/"
        },
        "id": "mh6QvTgp59ni",
        "outputId": "c596fe8e-9369-4505-8e14-ecf2eeaf2468"
      },
      "outputs": [
        {
          "data": {
            "text/plain": [
              "25"
            ]
          },
          "execution_count": 80,
          "metadata": {},
          "output_type": "execute_result"
        }
      ],
      "source": [
        "len(summarized_text)"
      ]
    },
    {
      "cell_type": "code",
      "execution_count": 81,
      "metadata": {
        "colab": {
          "base_uri": "https://localhost:8080/"
        },
        "id": "CCGQYuCB5_CN",
        "outputId": "8de3dcad-86db-468d-eafe-04013edd7c29"
      },
      "outputs": [
        {
          "data": {
            "text/plain": [
              "['<pad> balancer is an ethereum based application specifically a decentralized exchange that utilizes a special trading algorithm called an automated market maker that allows traders to swap their crypto tokens in a very efficient way. here we explain topics of the cryptocurrency world using analogies stories stories and examples so that even your grandpa could understand them.</s>',\n",
              " '<pad> the way an automated market maker works is quite complicated. first a pool of money must be created this pool of money contains two or more assets that someone supplies willingly so that oth oth can trade at the price they want. this pool of money contains two or more assets that someone supplies willingly so that oth can trade at the price they want. this pool of money contains two or more assets that someone supplies willingly so that oth can trade at the price they want. this pool of money must</s>',\n",
              " \"<pad> er people can use that pool to trade with the way the trading happens is all automatic with an algorithm. as you buy more of one asset the algorithm automatically charges you more and more to keep buying that asset. even if you have a trillion dollars to trade with the pool will never run out of either asset to sell you because it'll keep charging you an infinitely higher price.</s>\",\n",
              " \"<pad> the pool will never run out of ethereum to sell you it'll just keep charging you a higher portion now since you interacted with the pool and raised the price of the ethereum in that pool other people are gonna come along and sell their ethereum to that pool at a higher price basically giving the pool back more ethereum but also taking some usdc. this is a liquidity pool rebalancing feature.</s>\",\n",
              " \"<pad> the x times y equals k formula is a game changer. if you give the pool this much of asset a it will return you with this much of asset b. if you give it this much of asset a it's going to barely give you any asset a.</s>\",\n",
              " \"<pad> each of these pools had to contain ethereum so you could have a usdc eth pool in a bow token eath pool and to get from usdc to bow token you'd have to make two different swaps. the developers realized they could hook up a ton of these pools together automatically so anyone can trade from one token in one pool to any other token in another pool at ease.</s>\",\n",
              " \"<pad> cnn's john sutter shows you how to create a crypto index fund. the fund will automatically manage itself and rebalance itself as needed. sutter: i forgot to mention about how automated market makers work earlier.</s>\",\n",
              " \"<pad> when a ton of traders use a ton of money every day for a year it can really add up so this means your crypto index fund will technically earn somewhat as a dividend as other traders use it to rebalance their prices. impermanent loss is a scary term for new investors. i actually already have an entire video explaining it that's been made really helpful to beginners.</s>\",\n",
              " \"<pad> balancer lets you create pools with custom weights so all of the uni swap pancake swap and sushi swap pools are weighted 50 50 exactly half and half even the a try crypto pool that's found on curve finance used by thousands of people has three assets but it's only divided into equal thirds balancer lets you create your own pools with custom ratios so i could set up an 80 20 one a 10 10 10 71 or even a 95 5 pool this allows even more customization when it comes to setting up your</s>\",\n",
              " \"<pad> balancer has something called liquidity bootstrapping pools which allow automatic rebalancing of certain assets. the idea is that they generally start a pool with 10 of a highly liquid or trusted coin and then 90 of a new project's coin the project will also select an ending weight typically 50 50. once the pool begins the ratio of assets will change over that specified time period so basically it'll start off at 90 10 and then end up with 50 50.</s>\",\n",
              " '<pad> balancer v2 contracts were first launched on the ethereum mainnet on april 20 2021 and the actual website and user interface were launched on may 11th. balancer v2 contracts were first launched on the ethereum mainnet on april 20 2021 and the actual website and user interface were launched on may 11th. balancer v2 contracts were first launched on the ethereum mainnet on april 20 2021 and the actual website and user interface were</s>',\n",
              " '<pad> the maximum supply of balancer tokens is 100 million around 35 million of these tokens were minted at launch and the remaining 65 million can be distributed to liquidity providers. the balancer token was actually one of the very first governments token in the whole wide world of defy. they are working on native staking contracts right now until then you can actually deposit balancer tokens in a few different pools across a few different chains.</s>',\n",
              " '<pad> the next two videos on this channel are created with the help of a grant that they approved for whiteboard crypto. i want to thank the balancer grant team for approving that grant and helping me with the script.</s>',\n",
              " '<pad> <unk> <unk> <unk> <unk> <unk> <unk> <unk> <unk> <unk> <unk> <unk> <unk> <unk> <unk> <unk> <unk> <unk> <unk> <unk> <unk>.</s>',\n",
              " '<pad> <unk> <unk> <unk> <unk> <unk> <unk> <unk> <unk> <unk> <unk> <unk> <unk> <unk> <unk> <unk> <unk> <unk> <unk> <unk> <unk>.</s>',\n",
              " '<pad> <unk> <unk> <unk> <unk> <unk> <unk> <unk> <unk> <unk> <unk> <unk> <unk> <unk> <unk> <unk> <unk> <unk> <unk> <unk> <unk>.</s>',\n",
              " '<pad> <unk> <unk> <unk> <unk> <unk> <unk> <unk> <unk> <unk> <unk> <unk> <unk> <unk> <unk> <unk> <unk> <unk> <unk> <unk> <unk>.</s>',\n",
              " '<pad> <unk> <unk> <unk> <unk> <unk> <unk> <unk> <unk> <unk> <unk> <unk> <unk> <unk> <unk> <unk> <unk> <unk> <unk> <unk> <unk>.</s>',\n",
              " '<pad> <unk> <unk> <unk> <unk> <unk> <unk> <unk> <unk> <unk> <unk> <unk> <unk> <unk> <unk> <unk> <unk> <unk> <unk> <unk> <unk>.</s>',\n",
              " '<pad> <unk> <unk> <unk> <unk> <unk> <unk> <unk> <unk> <unk> <unk> <unk> <unk> <unk> <unk> <unk> <unk> <unk> <unk> <unk> <unk>.</s>',\n",
              " '<pad> <unk> <unk> <unk> <unk> <unk> <unk> <unk> <unk> <unk> <unk> <unk> <unk> <unk> <unk> <unk> <unk> <unk> <unk> <unk> <unk>.</s>',\n",
              " '<pad> <unk> <unk> <unk> <unk> <unk> <unk> <unk> <unk> <unk> <unk> <unk> <unk> <unk> <unk> <unk> <unk> <unk> <unk> <unk> <unk>.</s>',\n",
              " '<pad> <unk> <unk> <unk> <unk> <unk> <unk> <unk> <unk> <unk> <unk> <unk> <unk> <unk> <unk> <unk> <unk> <unk> <unk> <unk> <unk>.</s>',\n",
              " '<pad> <unk> <unk> <unk> <unk> <unk> <unk> <unk> <unk> <unk> <unk> <unk> <unk> <unk> <unk> <unk> <unk> <unk> <unk> <unk> <unk>.</s>',\n",
              " '<pad> <unk> <unk> <unk> <unk> <unk> <unk> <unk> <unk> <unk> <unk> <unk> <unk> <unk> <unk> <unk> <unk> <unk> <unk> <unk> <unk>.</s>']"
            ]
          },
          "execution_count": 81,
          "metadata": {},
          "output_type": "execute_result"
        }
      ],
      "source": [
        "summarized_text"
      ]
    },
    {
      "cell_type": "markdown",
      "metadata": {
        "id": "H4FWYnE74hst"
      },
      "source": [
        "### Distilbart Model\n",
        "\n"
      ]
    },
    {
      "cell_type": "code",
      "execution_count": 53,
      "metadata": {
        "colab": {
          "base_uri": "https://localhost:8080/",
          "height": 195,
          "referenced_widgets": [
            "d345f719371149aa85e73384b4203611",
            "db4e619a1288483189c8b8cc5b8a5a21",
            "2d34a6cb2e9c42faaea30fcbef17a4fe",
            "7779d84503754519b885d2f21b20a0b5",
            "36b8d463be834ac485c26746bad6b111",
            "79e5325ed4a446b8a1a8896675642162",
            "8f0b5960343b4a65b1abe26c3d9ea60f",
            "9d35ed2e3a0a4c7bb07e1db106246c58",
            "e409a946ac1a42e19d64cffec3bb1ec4",
            "b4f53cd84d924d11a91f4f37a5135751",
            "77970af71ae946f48631a72ff51c0786",
            "53b5d64e862d4339bb43a82dd591c445",
            "4df36d6ebf7f46d3980ff28f89f3f174",
            "7abeb969c7e641398943a564d9e3189d",
            "b927d33f499046b391125c80e563b0fb",
            "78e67eebbf5b4d32bc20535b3cd3a8d7",
            "454c5b294cd6450bbf59573f9fd5f9da",
            "6552e362f8ee4c00964830851f322585",
            "a91b9adb3eff4a7c91f59f87f0800a7d",
            "32dc138f98e14d99b023f5f5fbec1443",
            "61b8b07cb8764877b4f9fdec460db068",
            "a8090c4b535745c79a870eb307521171",
            "ec600e544839484a894ec3eaab7529c1",
            "2554d765e4fc4ad19491d6a63e74d2df",
            "e3f4b1de358c452785d3be715b697a61",
            "0d30467e39f04929923314dc768ac5fd",
            "1ec1c0c56c4e44a79bce5b0834f7b9da",
            "5012a899f8de4f0694be51d23e545038",
            "28299a5d65d64d7abf7dfa94a1b6b3bb",
            "afc5eefaa74e4a7fb5b1a9c1d4a4543d",
            "b6d015eabaf34bf392dda544d552cf51",
            "19e88e4acf1f4a91ad3485375d29359d",
            "137bfa2882654e319c0471969bfc82b4",
            "f75ab9a6abc745c4b0d73d017710b20a",
            "b5290b861ab84d9093315f715f9f8072",
            "1f4154505a8a43b788cbd7858f7101a7",
            "9ad41227996e4373aa58fbbe8b53ff2b",
            "281fda0f70e24c1ebcaad27bb31db398",
            "0cf591f4aa354d9e9c5a4b4e913bc914",
            "95dd4169b2cf49edbdfd3723ba18e04a",
            "e8166b71a355427ca71cbe1313d1a969",
            "1a4fcc714f7a48c8bd99276c60f4873e",
            "1a637a10c97f423a9bed376e833a864a",
            "5e66450f2bbe4b5f88d6537eb84c7f6b",
            "761c23f864ed450b9217fc99845504cb",
            "ba9110abf4274eb29d7d7a84be5707a3",
            "fa53bb425b9d4dae92c58be3b8c04893",
            "29a9b46f9d6548c6893aa0ec638a55ec",
            "8c060a16f612459f8a5cce11125d46c5",
            "43475ddff02840278f0d4237105ad590",
            "63f1a1abbc0040b08642972c8c94c2ad",
            "8a19ce535a8347a589cc13f6e84bf8f7",
            "0358762267fc4e49b79048630bf05663",
            "5c016d1cad5b46718b858f8f8a323bf2",
            "39a02eda2c6d4d5b90e9e41d963227b0"
          ]
        },
        "id": "BHifzNEq-m8l",
        "outputId": "0a324c90-431d-491e-f03d-ad875eab5601"
      },
      "outputs": [
        {
          "name": "stderr",
          "output_type": "stream",
          "text": [
            "No model was supplied, defaulted to sshleifer/distilbart-cnn-12-6 (https://huggingface.co/sshleifer/distilbart-cnn-12-6)\n"
          ]
        },
        {
          "data": {
            "application/vnd.jupyter.widget-view+json": {
              "model_id": "d345f719371149aa85e73384b4203611",
              "version_major": 2,
              "version_minor": 0
            },
            "text/plain": [
              "Downloading:   0%|          | 0.00/1.76k [00:00<?, ?B/s]"
            ]
          },
          "metadata": {},
          "output_type": "display_data"
        },
        {
          "data": {
            "application/vnd.jupyter.widget-view+json": {
              "model_id": "53b5d64e862d4339bb43a82dd591c445",
              "version_major": 2,
              "version_minor": 0
            },
            "text/plain": [
              "Downloading:   0%|          | 0.00/1.14G [00:00<?, ?B/s]"
            ]
          },
          "metadata": {},
          "output_type": "display_data"
        },
        {
          "data": {
            "application/vnd.jupyter.widget-view+json": {
              "model_id": "ec600e544839484a894ec3eaab7529c1",
              "version_major": 2,
              "version_minor": 0
            },
            "text/plain": [
              "Downloading:   0%|          | 0.00/26.0 [00:00<?, ?B/s]"
            ]
          },
          "metadata": {},
          "output_type": "display_data"
        },
        {
          "data": {
            "application/vnd.jupyter.widget-view+json": {
              "model_id": "f75ab9a6abc745c4b0d73d017710b20a",
              "version_major": 2,
              "version_minor": 0
            },
            "text/plain": [
              "Downloading:   0%|          | 0.00/878k [00:00<?, ?B/s]"
            ]
          },
          "metadata": {},
          "output_type": "display_data"
        },
        {
          "data": {
            "application/vnd.jupyter.widget-view+json": {
              "model_id": "761c23f864ed450b9217fc99845504cb",
              "version_major": 2,
              "version_minor": 0
            },
            "text/plain": [
              "Downloading:   0%|          | 0.00/446k [00:00<?, ?B/s]"
            ]
          },
          "metadata": {},
          "output_type": "display_data"
        }
      ],
      "source": [
        "summarizer = pipeline(\"summarization\")"
      ]
    },
    {
      "cell_type": "code",
      "execution_count": 59,
      "metadata": {
        "colab": {
          "base_uri": "https://localhost:8080/"
        },
        "id": "Q81fPLsvU7EC",
        "outputId": "12fe53fa-d7c4-49bb-ac3a-1f722dc48b16"
      },
      "outputs": [
        {
          "name": "stdout",
          "output_type": "stream",
          "text": [
            "input text \n",
            " to put it simply balancer is an ethereum based application specifically a decentralized exchange that utilizes a special trading algorithm called an automated market maker that allows traders to swap their crypto tokens in a very efficient way if that sounded like a bunch of mumbo jumbo don't worry i'm gonna explain all of this throughout the rest of the video welcome to whiteboard crypto the number one youtube channel for crypto education and here we explain topics of the cryptocurrency world using analogies stories and examples so that even your grandpa could understand them in this video we are going to be explaining what balancer is how it works and what their automated portfolio manager or as i call it a create your own index fund idea is let's dig in in the world of defy and cryptocurrencies we don't use the old method of making trades this old method is called an order book model where a buyer and seller write down whatever they want to trade with and then it gets added to a hu\n",
            "Summarized text\n",
            " balancer is an ethereum based application specifically a decentralized exchange that utilizes a special trading algorithm called an automated market maker that allows traders to swap their crypto tokens in a very efficient way . The old method is called an order book model where a buyer and seller write down whatever they want to trade with and then it gets added to a hu .\n",
            "input text \n",
            "ge list of everyone else's trades this list is called an order book essentially you pick what price you want to buy or sell at you can't be guaranteed when the trade will happen if at all because you have to wait around for someone else to match with your trade if you don't want to wait around at all you can look at someone else's trade offer and go ahead and accept it this way the other person gets to trade at the price they want and you get a trade at the time that you want either way you either get to select the price or the time of the trade not both now there is a newer solution that is much better and it doesn't rely on humans but instead algorithms this method is called an automated market maker it'll never run out of assets to sell you the way an automated market maker works is quite complicated but we're gonna try to simplify it for you in this video first a pool of money must be created this pool of money contains two or more assets that someone supplies willingly so that oth\n",
            "Summarized text\n",
            " The way an automated market maker works is quite complicated but we're gonna try to simplify it for you in this video . A pool of money must be created in order to create a pool of assets that someone supplies willingly so that oth the money contains two or more assets .\n",
            "input text \n",
            "er people can use that pool to trade with the way the trading happens is all automatic with an algorithm now the algorithm is very simple and it follows this equation x times y equals k without getting too much into the math of it and we actually have an entire video diving deep into the math of it which i'll link down in the description below the way this algorithm works is actually quite simple as you buy more of one asset the algorithm automatically charges you more and more to keep buying that asset so even if you have a trillion dollars to trade with the pool will never run out of either asset to sell you because it'll keep charging you an infinitely higher price another way to think about it in this way might be better is that you approach the pool with what you want to sell and it will tell you how much it can give you based on its algorithm for example let's use a pool of ethereum and usdc if you go to the pool and you say you want to buy one dollar worth of ethereum it might s\n",
            "Summarized text\n",
            " The way this algorithm works is actually quite simple as you buy more of one asset the algorithm automatically charges you more and more to keep buying that asset . Even if you have a trillion dollars to trade with the pool will never run out of either asset to sell you because it'll keep charging you an infinitely higher price .\n",
            "input text \n",
            "ell you some ethereum at an average price of four thousand dollars however if you go to the same pool and you buy ten dollars worth of ethereum it'll charge you a higher average price of four thousand and eight dollars once more if you go to the pool with one hundred dollars it may charge you an average price of four thousand one hundred dollars per ethereum and finally if you approach the pool with a million dollars it may charge you an infinitely high amount of usdc to buy that aetherium but the trick here is that the pool will never run out of ethereum to sell you it'll just keep charging you a higher portion now since you interacted with the pool and raised the price of the ethereum in that pool other people are gonna come along and sell their ethereum to that pool at a higher price basically giving the pool back more ethereum but also taking some usdc and this is a liquidity pool rebalancing feature liquidity pools and automated market makers are quite complicated when you're firs\n",
            "Summarized text\n",
            " If you go to the pool with one hundred dollars it may charge you an average price of four thousand dollars per ethereum . Other people are gonna come along and sell their ethereum to that pool at a higher price basically giving the pool back more ethereum but also taking some usdc .\n",
            "input text \n",
            "t understanding them so i highly recommend watching our specific videos on those topics if you haven't already but this chart right here is a game changer see this curve it's the x times y equals k formula you can think about any purchase using the liquidity pool with this curve if you give the pool this much of asset a it will return you with this much of asset b the same goes for if you give it this much of asset a it's going to barely give you any asset b and finally if you give it a ton of asset a even if there's a plenty of asset b in the normal curve range it won't give you much now we've gotten this far into the video about balancer and haven't even talked about balancer yet in fact everything i've talked about up to this point is applicable to how many other popular decentralized exchanges work including uni swap pancake swap and sushi swap so what makes balancer better well with uni swap pancake swap and sushi swap you can only deposit two assets in the very beginning of this \n",
            "Summarized text\n",
            " A chart right here is a game changer see this curve it's the x times y equals k formula you can think about any purchase using the liquidity pool with this curve . If you give the pool this much of asset a it will return you with  asset b the same goes for if you give   it's going to barely give you any asset b and finally if you . give it a ton of assets a even if there's a plenty of asset b in the normal curve\n",
            "input text \n",
            "technology each of these pools had to also contain ethereum so you could have a usdc eth pool in a bow token eath pool and to get from usdc to bow token you'd have to make two different swaps eventually the developers got fancy and realized they could allow users to set up any pool they wanted so something like a usdc bow token pool was possible even more so they realized they could hook up a ton of these pools together automatically so anyone can trade from one token in one pool to any other token in another pool at ease and this is technically called routing here's the cool thing that balancer does they take this one step further instead of just letting you deposit two assets into a pool they let you add up to eight different assets in a liquidity pool now the math behind these multi-asset pools is called weighted math and it is designed to allow for swaps between any asset whether or not they even have a price correlation prices are determined by the pool's balances pool's weights a\n",
            "Summarized text\n",
            " balancer allows users to add up to eight different assets in a liquidity pool . The math behind these multi-asset pools is called weighted math and it is designed to allow for swaps between any asset whether or not they even have a price correlation .\n",
            "input text \n",
            "nd the amount of the tokens that are being swapped this might get a little more technical but balancers weighted math equation is a generalization of the x times y equals k constant product formula outlined in the beginning of this video but accounting for cases with more than two tokens as well as weightings that are not an even 50 50 split next up they actually have something called a portfolio manager which i call a crypto index fund now one of the most interesting things that these multi-asset pools allow us to do is to create a synthetic index fund of crypto tokens that will automatically manage itself and rebalance itself as needed so you can easily create your own pool of four or five assets that you want to hold long term and then let people use that pool to trade with there are actually two things that i forgot to mention about how automated market makers work earlier and the first is that simply by letting other people trade with your funds to make swaps you will actually ear\n",
            "Summarized text\n",
            " Balancers weighted math equation is a generalization of the x times y equals k constant product formula outlined in the beginning of this video but accounting for cases with more than two tokens as well as weightings that are not an even 50 50 split next up they actually have something called a portfolio manager which i call a crypto index fund .\n",
            "input text \n",
            "n money how well when you first set up the initial pool of assets you decide on what fee the trader should pay for using your liquidity pool because hey they're using your money now this fee is usually very low but when a ton of traders use a ton of money every day for a year it can really add up so this means your crypto index fund will technically earn somewhat as a dividend as other traders use it to rebalance their prices the other thing that i technically forgot to mention is a scary term for new investors called impermanent loss now i don't have time to explain how impermanent loss works in this video and i actually already have an entire video explaining it that's been made really helpful to beginners however that video specifically does not talk about impermanent loss when there are more than two assets and i know you would love to learn about that so hit the subscribe button if you aren't already subscribed and you'll be notified whenever i create and upload that video moving \n",
            "Summarized text\n",
            " When you first set up the initial pool of assets you decide on what fee the trader should pay for using your liquidity pool because hey they're using your money now this fee is usually very low . When a lot of traders use a ton of money every day for a year it can really add up so this means your crypto index fund will technically earn somewhat as a dividend as other traders use it to rebalance their prices .\n",
            "input text \n",
            "on let's talk about another feature that balancer has they allow you to create pools with customized weights so all of the uni swap pancake swap and sushi swap pools are weighted 50 50 exactly half and half even the a try crypto pool that's found on curve finance used by thousands of people has three assets but it's only divided into equal thirds balancer lets you create your own pools with custom ratios so i could set up an 80 20 one a 10 10 10 71 or even a 95 5 pool this allows even more customization when it comes to setting up your own little index fund pool and you might be wondering how this affects in permanent loss because pools with strong assets having a higher percentage usually result in less in permanent loss here's a nice little chart where you can see how common ratios affect in permanent loss the trade-off for this impermanent loss is usually a higher slippage amount for traders essentially the result of less liquidity for the tokens with less weight one more amazing th\n",
            "Summarized text\n",
            " balancer allows you to create pools with customized weights so all of the uni swap pancake swap and sushi swap pools are weighted 50 50 exactly half and half even the a try crypto pool that's found on curve finance used by thousands of people has three assets but it's only divided into equal thirds .\n",
            "input text \n",
            "ing that balancer has is something called liquidity bootstrapping pools and basically what this means is they allow automatic rebalancing of certain assets so usually all assets are 50 50 or 25 25 25 25 or any of the custom ratios that i talked about earlier however balancer has another pool type called a liquidity bootstrapping pool which is a pool primarily used for newly created tokens or projects the idea is that they generally start a pool with 10 of a highly liquid or trusted coin and then 90 of a new project's coin the project will also select an ending weight typically 50 50. and one of the last primary steps is to set a specific time frame to run the liquidity bootstrapping pool it could be days weeks or even months and once the pool begins the ratio of assets will change over that specified time period so basically it'll start off at 90 10 and then end up with 50 50. and basically this means that the price of the project's new coin starts high and then will drop until there a\n",
            "Summarized text\n",
            " Balancer has another pool type called a liquidity bootstrapping pool which is a pool primarily used for newly created tokens or projects . The idea is that they generally start a pool with 10 of a highly liquid or trusted coin and then 90 of a new project's coin . The price of the project's new coin starts high and then will drop until there is a price drop .\n",
            "input text \n",
            "re new buyers this allows the market to find the appropriate price and seeks to weed out front running which allows for a more fair price model again the math behind this and impermanent loss calculations are quite complicated but what it means for you is that you can purchase new tokens with a more fair opportunity for all investors liquidity bootstrapping pools are actually one of the most successful if not the most successful way to launch a new token personally i'm actually planning on making an entire video on how these liquidity bootstrapping pools work soon including a few other fair launch mechanics that would be really fun to explain so keep your eyes open for that lastly let's get into balancers tokenomics so balancer has recently moved to a few different networks other than just ethereum balancer v2 contracts were first launched on the ethereum mainnet on april 20 2021 and then the actual website and user interface were launched on may 11th the polygon contracts were launche\n",
            "Summarized text\n",
            " Balancer v2 contracts were first launched on the ethereum mainnet on april 20 2021 and then the actual website and user interface were launched on may 11th the polygon contracts were launche on may . 11th . Balancer has recently moved to a few different networks other than just ethereum balancer .\n",
            "input text \n",
            "d on july 1st and then arbitrarum on august 31st in fact there's already a fork a balancer v2 on the phantom network too the maximum supply of balancer tokens is 100 million around 35 million of these tokens were minted at launch and the remaining 65 million can be distributed to liquidity providers however the ultimate amount of these tokens is completely up to balancer holders by proposing suggestions and then voting on them in a dow style the balancer token was actually one of the very first governments token in the whole wide world of defy and right now that's exactly what they're used for governance but they are working on native staking contracts right now until then you can actually deposit balancer tokens in a few different pools across a few different chains to earn more balancer tokens the last thing i want to mention is their grants program now the balancer team also has a grants program where developers can apply for funds to further the project's goals in fact this video a\n"
          ]
        },
        {
          "name": "stderr",
          "output_type": "stream",
          "text": [
            "Your max_length is set to 100, but you input_length is only 95. You might consider decreasing max_length manually, e.g. summarizer('...', max_length=47)\n"
          ]
        },
        {
          "name": "stdout",
          "output_type": "stream",
          "text": [
            "Summarized text\n",
            " The maximum supply of balancer tokens is 100 million around 35 million were minted at launch and the remaining 65 million can be distributed to liquidity providers . The ultimate amount of these tokens is completely up to balancer holders by proposing suggestions and then voting on them . The balancer token was actually one of the very first governments token in the whole world of defy .\n",
            "input text \n",
            "nd the next two videos on this channel about the balancer platform and functionalities are created with the help of a grant that they approved for whiteboard crypto so wrapping this video up i want to thank the balancer grant team for approving that grant and helping me with the script and i want to thank you for watching this video i hope you enjoyed it i really hope that maybe you've learned something and most of all i hope to see you in our next video\n",
            "Summarized text\n",
            " The next two videos on this channel are created with the help of a grant that they approved for whiteboard crypto . i want to thank the balancer grant team for approving that grant and helping me with the script . i really hope that maybe you've learned something and most of all i hope to see you in our next video .\n"
          ]
        }
      ],
      "source": [
        "# iterating in batches\n",
        "num_iters = int(len(result)/1000)\n",
        "\n",
        "summarized_text = []\n",
        "for i in range(0, num_iters + 1):\n",
        "  start = 0\n",
        "  start = i * 1000\n",
        "  end = (i + 1) * 1000\n",
        "  print(\"input text \\n\" + result[start:end])\n",
        "  out = summarizer(result[start:end], min_length = 30, max_length = 100)\n",
        "  out = out[0]\n",
        "  out = out['summary_text']\n",
        "  print(\"Summarized text\\n\"+out)\n",
        "  summarized_text.append(out)\n",
        "\n",
        "#print(summarized_text)"
      ]
    },
    {
      "cell_type": "code",
      "execution_count": 60,
      "metadata": {
        "colab": {
          "base_uri": "https://localhost:8080/"
        },
        "id": "8RcI2CJY-xhA",
        "outputId": "df19c55a-0a0d-4c1e-d38d-e899d2c9d568"
      },
      "outputs": [
        {
          "data": {
            "text/plain": [
              "12458"
            ]
          },
          "execution_count": 60,
          "metadata": {},
          "output_type": "execute_result"
        }
      ],
      "source": [
        "len(result)"
      ]
    },
    {
      "cell_type": "code",
      "execution_count": 61,
      "metadata": {
        "colab": {
          "base_uri": "https://localhost:8080/",
          "height": 162
        },
        "id": "s7oqmoR--zL0",
        "outputId": "2b340e9b-a818-406e-a9cd-5226834a1e28"
      },
      "outputs": [
        {
          "data": {
            "application/vnd.google.colaboratory.intrinsic+json": {
              "type": "string"
            },
            "text/plain": [
              "\" to put it simply balancer is an ethereum based application specifically a decentralized exchange that utilizes a special trading algorithm called an automated market maker that allows traders to swap their crypto tokens in a very efficient way if that sounded like a bunch of mumbo jumbo don't worry i'm gonna explain all of this throughout the rest of the video welcome to whiteboard crypto the number one youtube channel for crypto education and here we explain topics of the cryptocurrency world using analogies stories and examples so that even your grandpa could understand them in this video we are going to be explaining what balancer is how it works and what their automated portfolio manager or as i call it a create your own index fund idea is let's dig in in the world of defy and cryptocurrencies we don't use the old method of making trades this old method is called an order book model where a buyer and seller write down whatever they want to trade with and then it gets added to a huge list of everyone else's trades this list is called an order book essentially you pick what price you want to buy or sell at you can't be guaranteed when the trade will happen if at all because you have to wait around for someone else to match with your trade if you don't want to wait around at all you can look at someone else's trade offer and go ahead and accept it this way the other person gets to trade at the price they want and you get a trade at the time that you want either way you either get to select the price or the time of the trade not both now there is a newer solution that is much better and it doesn't rely on humans but instead algorithms this method is called an automated market maker it'll never run out of assets to sell you the way an automated market maker works is quite complicated but we're gonna try to simplify it for you in this video first a pool of money must be created this pool of money contains two or more assets that someone supplies willingly so that other people can use that pool to trade with the way the trading happens is all automatic with an algorithm now the algorithm is very simple and it follows this equation x times y equals k without getting too much into the math of it and we actually have an entire video diving deep into the math of it which i'll link down in the description below the way this algorithm works is actually quite simple as you buy more of one asset the algorithm automatically charges you more and more to keep buying that asset so even if you have a trillion dollars to trade with the pool will never run out of either asset to sell you because it'll keep charging you an infinitely higher price another way to think about it in this way might be better is that you approach the pool with what you want to sell and it will tell you how much it can give you based on its algorithm for example let's use a pool of ethereum and usdc if you go to the pool and you say you want to buy one dollar worth of ethereum it might sell you some ethereum at an average price of four thousand dollars however if you go to the same pool and you buy ten dollars worth of ethereum it'll charge you a higher average price of four thousand and eight dollars once more if you go to the pool with one hundred dollars it may charge you an average price of four thousand one hundred dollars per ethereum and finally if you approach the pool with a million dollars it may charge you an infinitely high amount of usdc to buy that aetherium but the trick here is that the pool will never run out of ethereum to sell you it'll just keep charging you a higher portion now since you interacted with the pool and raised the price of the ethereum in that pool other people are gonna come along and sell their ethereum to that pool at a higher price basically giving the pool back more ethereum but also taking some usdc and this is a liquidity pool rebalancing feature liquidity pools and automated market makers are quite complicated when you're first understanding them so i highly recommend watching our specific videos on those topics if you haven't already but this chart right here is a game changer see this curve it's the x times y equals k formula you can think about any purchase using the liquidity pool with this curve if you give the pool this much of asset a it will return you with this much of asset b the same goes for if you give it this much of asset a it's going to barely give you any asset b and finally if you give it a ton of asset a even if there's a plenty of asset b in the normal curve range it won't give you much now we've gotten this far into the video about balancer and haven't even talked about balancer yet in fact everything i've talked about up to this point is applicable to how many other popular decentralized exchanges work including uni swap pancake swap and sushi swap so what makes balancer better well with uni swap pancake swap and sushi swap you can only deposit two assets in the very beginning of this technology each of these pools had to also contain ethereum so you could have a usdc eth pool in a bow token eath pool and to get from usdc to bow token you'd have to make two different swaps eventually the developers got fancy and realized they could allow users to set up any pool they wanted so something like a usdc bow token pool was possible even more so they realized they could hook up a ton of these pools together automatically so anyone can trade from one token in one pool to any other token in another pool at ease and this is technically called routing here's the cool thing that balancer does they take this one step further instead of just letting you deposit two assets into a pool they let you add up to eight different assets in a liquidity pool now the math behind these multi-asset pools is called weighted math and it is designed to allow for swaps between any asset whether or not they even have a price correlation prices are determined by the pool's balances pool's weights and the amount of the tokens that are being swapped this might get a little more technical but balancers weighted math equation is a generalization of the x times y equals k constant product formula outlined in the beginning of this video but accounting for cases with more than two tokens as well as weightings that are not an even 50 50 split next up they actually have something called a portfolio manager which i call a crypto index fund now one of the most interesting things that these multi-asset pools allow us to do is to create a synthetic index fund of crypto tokens that will automatically manage itself and rebalance itself as needed so you can easily create your own pool of four or five assets that you want to hold long term and then let people use that pool to trade with there are actually two things that i forgot to mention about how automated market makers work earlier and the first is that simply by letting other people trade with your funds to make swaps you will actually earn money how well when you first set up the initial pool of assets you decide on what fee the trader should pay for using your liquidity pool because hey they're using your money now this fee is usually very low but when a ton of traders use a ton of money every day for a year it can really add up so this means your crypto index fund will technically earn somewhat as a dividend as other traders use it to rebalance their prices the other thing that i technically forgot to mention is a scary term for new investors called impermanent loss now i don't have time to explain how impermanent loss works in this video and i actually already have an entire video explaining it that's been made really helpful to beginners however that video specifically does not talk about impermanent loss when there are more than two assets and i know you would love to learn about that so hit the subscribe button if you aren't already subscribed and you'll be notified whenever i create and upload that video moving on let's talk about another feature that balancer has they allow you to create pools with customized weights so all of the uni swap pancake swap and sushi swap pools are weighted 50 50 exactly half and half even the a try crypto pool that's found on curve finance used by thousands of people has three assets but it's only divided into equal thirds balancer lets you create your own pools with custom ratios so i could set up an 80 20 one a 10 10 10 71 or even a 95 5 pool this allows even more customization when it comes to setting up your own little index fund pool and you might be wondering how this affects in permanent loss because pools with strong assets having a higher percentage usually result in less in permanent loss here's a nice little chart where you can see how common ratios affect in permanent loss the trade-off for this impermanent loss is usually a higher slippage amount for traders essentially the result of less liquidity for the tokens with less weight one more amazing thing that balancer has is something called liquidity bootstrapping pools and basically what this means is they allow automatic rebalancing of certain assets so usually all assets are 50 50 or 25 25 25 25 or any of the custom ratios that i talked about earlier however balancer has another pool type called a liquidity bootstrapping pool which is a pool primarily used for newly created tokens or projects the idea is that they generally start a pool with 10 of a highly liquid or trusted coin and then 90 of a new project's coin the project will also select an ending weight typically 50 50. and one of the last primary steps is to set a specific time frame to run the liquidity bootstrapping pool it could be days weeks or even months and once the pool begins the ratio of assets will change over that specified time period so basically it'll start off at 90 10 and then end up with 50 50. and basically this means that the price of the project's new coin starts high and then will drop until there are new buyers this allows the market to find the appropriate price and seeks to weed out front running which allows for a more fair price model again the math behind this and impermanent loss calculations are quite complicated but what it means for you is that you can purchase new tokens with a more fair opportunity for all investors liquidity bootstrapping pools are actually one of the most successful if not the most successful way to launch a new token personally i'm actually planning on making an entire video on how these liquidity bootstrapping pools work soon including a few other fair launch mechanics that would be really fun to explain so keep your eyes open for that lastly let's get into balancers tokenomics so balancer has recently moved to a few different networks other than just ethereum balancer v2 contracts were first launched on the ethereum mainnet on april 20 2021 and then the actual website and user interface were launched on may 11th the polygon contracts were launched on july 1st and then arbitrarum on august 31st in fact there's already a fork a balancer v2 on the phantom network too the maximum supply of balancer tokens is 100 million around 35 million of these tokens were minted at launch and the remaining 65 million can be distributed to liquidity providers however the ultimate amount of these tokens is completely up to balancer holders by proposing suggestions and then voting on them in a dow style the balancer token was actually one of the very first governments token in the whole wide world of defy and right now that's exactly what they're used for governance but they are working on native staking contracts right now until then you can actually deposit balancer tokens in a few different pools across a few different chains to earn more balancer tokens the last thing i want to mention is their grants program now the balancer team also has a grants program where developers can apply for funds to further the project's goals in fact this video and the next two videos on this channel about the balancer platform and functionalities are created with the help of a grant that they approved for whiteboard crypto so wrapping this video up i want to thank the balancer grant team for approving that grant and helping me with the script and i want to thank you for watching this video i hope you enjoyed it i really hope that maybe you've learned something and most of all i hope to see you in our next video\""
            ]
          },
          "execution_count": 61,
          "metadata": {},
          "output_type": "execute_result"
        }
      ],
      "source": [
        "result"
      ]
    },
    {
      "cell_type": "code",
      "execution_count": 62,
      "metadata": {
        "colab": {
          "base_uri": "https://localhost:8080/"
        },
        "id": "nt0v1t7-VxfZ",
        "outputId": "a7e70503-8990-4df2-a61b-b642aade2679"
      },
      "outputs": [
        {
          "data": {
            "text/plain": [
              "4418"
            ]
          },
          "execution_count": 62,
          "metadata": {},
          "output_type": "execute_result"
        }
      ],
      "source": [
        "len(str(summarized_text))"
      ]
    },
    {
      "cell_type": "code",
      "execution_count": 63,
      "metadata": {
        "colab": {
          "base_uri": "https://localhost:8080/",
          "height": 162
        },
        "id": "UAIp0U68WKb7",
        "outputId": "bf84e6f8-7d6c-4ac8-8ab0-cc931ef627a9"
      },
      "outputs": [
        {
          "data": {
            "application/vnd.google.colaboratory.intrinsic+json": {
              "type": "string"
            },
            "text/plain": [
              "'[\\' balancer is an ethereum based application specifically a decentralized exchange that utilizes a special trading algorithm called an automated market maker that allows traders to swap their crypto tokens in a very efficient way . The old method is called an order book model where a buyer and seller write down whatever they want to trade with and then it gets added to a hu .\\', \" The way an automated market maker works is quite complicated but we\\'re gonna try to simplify it for you in this video . A pool of money must be created in order to create a pool of assets that someone supplies willingly so that oth the money contains two or more assets .\", \" The way this algorithm works is actually quite simple as you buy more of one asset the algorithm automatically charges you more and more to keep buying that asset . Even if you have a trillion dollars to trade with the pool will never run out of either asset to sell you because it\\'ll keep charging you an infinitely higher price .\", \\' If you go to the pool with one hundred dollars it may charge you an average price of four thousand dollars per ethereum . Other people are gonna come along and sell their ethereum to that pool at a higher price basically giving the pool back more ethereum but also taking some usdc .\\', \" A chart right here is a game changer see this curve it\\'s the x times y equals k formula you can think about any purchase using the liquidity pool with this curve . If you give the pool this much of asset a it will return you with  asset b the same goes for if you give   it\\'s going to barely give you any asset b and finally if you . give it a ton of assets a even if there\\'s a plenty of asset b in the normal curve\", \\' balancer allows users to add up to eight different assets in a liquidity pool . The math behind these multi-asset pools is called weighted math and it is designed to allow for swaps between any asset whether or not they even have a price correlation .\\', \\' Balancers weighted math equation is a generalization of the x times y equals k constant product formula outlined in the beginning of this video but accounting for cases with more than two tokens as well as weightings that are not an even 50 50 split next up they actually have something called a portfolio manager which i call a crypto index fund .\\', \" When you first set up the initial pool of assets you decide on what fee the trader should pay for using your liquidity pool because hey they\\'re using your money now this fee is usually very low . When a lot of traders use a ton of money every day for a year it can really add up so this means your crypto index fund will technically earn somewhat as a dividend as other traders use it to rebalance their prices .\", \" balancer allows you to create pools with customized weights so all of the uni swap pancake swap and sushi swap pools are weighted 50 50 exactly half and half even the a try crypto pool that\\'s found on curve finance used by thousands of people has three assets but it\\'s only divided into equal thirds .\", \" Balancer has another pool type called a liquidity bootstrapping pool which is a pool primarily used for newly created tokens or projects . The idea is that they generally start a pool with 10 of a highly liquid or trusted coin and then 90 of a new project\\'s coin . The price of the project\\'s new coin starts high and then will drop until there is a price drop .\", \\' Balancer v2 contracts were first launched on the ethereum mainnet on april 20 2021 and then the actual website and user interface were launched on may 11th the polygon contracts were launche on may . 11th . Balancer has recently moved to a few different networks other than just ethereum balancer .\\', \\' The maximum supply of balancer tokens is 100 million around 35 million were minted at launch and the remaining 65 million can be distributed to liquidity providers . The ultimate amount of these tokens is completely up to balancer holders by proposing suggestions and then voting on them . The balancer token was actually one of the very first governments token in the whole world of defy .\\', \" The next two videos on this channel are created with the help of a grant that they approved for whiteboard crypto . i want to thank the balancer grant team for approving that grant and helping me with the script . i really hope that maybe you\\'ve learned something and most of all i hope to see you in our next video .\"]'"
            ]
          },
          "execution_count": 63,
          "metadata": {},
          "output_type": "execute_result"
        }
      ],
      "source": [
        "str(summarized_text)"
      ]
    },
    {
      "cell_type": "code",
      "execution_count": null,
      "metadata": {
        "id": "gv6vr4yzvX4A"
      },
      "outputs": [],
      "source": []
    },
    {
      "cell_type": "markdown",
      "metadata": {
        "id": "irEgl99uJFE5"
      },
      "source": [
        "# Blog Post Summarization after Web Scraping"
      ]
    },
    {
      "cell_type": "markdown",
      "metadata": {
        "id": "SDpsXf5pJqPu"
      },
      "source": [
        "## Installing Transformers & Importing Dependencies"
      ]
    },
    {
      "cell_type": "code",
      "execution_count": 83,
      "metadata": {
        "colab": {
          "base_uri": "https://localhost:8080/"
        },
        "id": "KhWUs5OFJOih",
        "outputId": "80a6a11f-43db-4426-a408-283dad5d198d"
      },
      "outputs": [
        {
          "name": "stdout",
          "output_type": "stream",
          "text": [
            "Requirement already satisfied: transformers in /usr/local/lib/python3.7/dist-packages (4.13.0)\n",
            "Requirement already satisfied: filelock in /usr/local/lib/python3.7/dist-packages (from transformers) (3.4.0)\n",
            "Requirement already satisfied: tqdm>=4.27 in /usr/local/lib/python3.7/dist-packages (from transformers) (4.62.3)\n",
            "Requirement already satisfied: regex!=2019.12.17 in /usr/local/lib/python3.7/dist-packages (from transformers) (2019.12.20)\n",
            "Requirement already satisfied: sacremoses in /usr/local/lib/python3.7/dist-packages (from transformers) (0.0.46)\n",
            "Requirement already satisfied: pyyaml>=5.1 in /usr/local/lib/python3.7/dist-packages (from transformers) (6.0)\n",
            "Requirement already satisfied: importlib-metadata in /usr/local/lib/python3.7/dist-packages (from transformers) (4.8.2)\n",
            "Requirement already satisfied: packaging>=20.0 in /usr/local/lib/python3.7/dist-packages (from transformers) (21.3)\n",
            "Requirement already satisfied: requests in /usr/local/lib/python3.7/dist-packages (from transformers) (2.23.0)\n",
            "Requirement already satisfied: huggingface-hub<1.0,>=0.1.0 in /usr/local/lib/python3.7/dist-packages (from transformers) (0.2.1)\n",
            "Requirement already satisfied: tokenizers<0.11,>=0.10.1 in /usr/local/lib/python3.7/dist-packages (from transformers) (0.10.3)\n",
            "Requirement already satisfied: numpy>=1.17 in /usr/local/lib/python3.7/dist-packages (from transformers) (1.19.5)\n",
            "Requirement already satisfied: typing-extensions>=3.7.4.3 in /usr/local/lib/python3.7/dist-packages (from huggingface-hub<1.0,>=0.1.0->transformers) (3.10.0.2)\n",
            "Requirement already satisfied: pyparsing!=3.0.5,>=2.0.2 in /usr/local/lib/python3.7/dist-packages (from packaging>=20.0->transformers) (3.0.6)\n",
            "Requirement already satisfied: zipp>=0.5 in /usr/local/lib/python3.7/dist-packages (from importlib-metadata->transformers) (3.6.0)\n",
            "Requirement already satisfied: idna<3,>=2.5 in /usr/local/lib/python3.7/dist-packages (from requests->transformers) (2.10)\n",
            "Requirement already satisfied: urllib3!=1.25.0,!=1.25.1,<1.26,>=1.21.1 in /usr/local/lib/python3.7/dist-packages (from requests->transformers) (1.24.3)\n",
            "Requirement already satisfied: certifi>=2017.4.17 in /usr/local/lib/python3.7/dist-packages (from requests->transformers) (2021.10.8)\n",
            "Requirement already satisfied: chardet<4,>=3.0.2 in /usr/local/lib/python3.7/dist-packages (from requests->transformers) (3.0.4)\n",
            "Requirement already satisfied: six in /usr/local/lib/python3.7/dist-packages (from sacremoses->transformers) (1.15.0)\n",
            "Requirement already satisfied: joblib in /usr/local/lib/python3.7/dist-packages (from sacremoses->transformers) (1.1.0)\n",
            "Requirement already satisfied: click in /usr/local/lib/python3.7/dist-packages (from sacremoses->transformers) (7.1.2)\n"
          ]
        }
      ],
      "source": [
        "!pip install transformers"
      ]
    },
    {
      "cell_type": "code",
      "execution_count": 84,
      "metadata": {
        "id": "knNCnb5-KKc3"
      },
      "outputs": [],
      "source": [
        "from transformers import pipeline\n",
        "from bs4 import BeautifulSoup\n",
        "import requests"
      ]
    },
    {
      "cell_type": "markdown",
      "metadata": {
        "id": "bmdZC5lzKP2l"
      },
      "source": [
        "## Load Summarization Pipeline"
      ]
    },
    {
      "cell_type": "code",
      "execution_count": 85,
      "metadata": {
        "colab": {
          "base_uri": "https://localhost:8080/"
        },
        "id": "HwXQoqV4KNoB",
        "outputId": "9d2cc495-99b1-4faf-e631-1c6dd4a2e5f7"
      },
      "outputs": [
        {
          "name": "stderr",
          "output_type": "stream",
          "text": [
            "No model was supplied, defaulted to sshleifer/distilbart-cnn-12-6 (https://huggingface.co/sshleifer/distilbart-cnn-12-6)\n"
          ]
        }
      ],
      "source": [
        "summarizer = pipeline(\"summarization\")"
      ]
    },
    {
      "cell_type": "markdown",
      "metadata": {
        "id": "9QuH15l_K3GG"
      },
      "source": [
        "## Getting our Blog Post"
      ]
    },
    {
      "cell_type": "code",
      "execution_count": 90,
      "metadata": {
        "id": "a8bD3CEXKojd"
      },
      "outputs": [],
      "source": [
        "URL = \"https://medium.com/building-the-metaverse/what-we-talk-about-when-we-talk-about-the-metaverse-c9ef03c1a5dd\""
      ]
    },
    {
      "cell_type": "code",
      "execution_count": 93,
      "metadata": {
        "id": "SHSeh7lgLIjL"
      },
      "outputs": [],
      "source": [
        "r = requests.get(URL)"
      ]
    },
    {
      "cell_type": "code",
      "execution_count": 94,
      "metadata": {
        "colab": {
          "base_uri": "https://localhost:8080/",
          "height": 162
        },
        "id": "pWp9ocKALLGB",
        "outputId": "eb654adb-ae76-4801-d66b-03713a5ea19c"
      },
      "outputs": [
        {
          "data": {
            "application/vnd.google.colaboratory.intrinsic+json": {
              "type": "string"
            },
            "text/plain": [
              "'<!doctype html><html lang=\"en\"><head><script defer src=\"https://cdn.optimizely.com/js/16180790160.js\"></script><title data-rh=\"true\">What We Talk About When We Talk About the Metaverse | by Jon Radoff | Building the Metaverse | Medium</title><meta data-rh=\"true\" charset=\"utf-8\"/><meta data-rh=\"true\" name=\"viewport\" content=\"width=device-width,minimum-scale=1,initial-scale=1,maximum-scale=1\"/><meta data-rh=\"true\" name=\"theme-color\" content=\"#000000\"/><meta data-rh=\"true\" name=\"twitter:app:name:iphone\" content=\"Medium\"/><meta data-rh=\"true\" name=\"twitter:app:id:iphone\" content=\"828256236\"/><meta data-rh=\"true\" property=\"al:ios:app_name\" content=\"Medium\"/><meta data-rh=\"true\" property=\"al:ios:app_store_id\" content=\"828256236\"/><meta data-rh=\"true\" property=\"al:android:package\" content=\"com.medium.reader\"/><meta data-rh=\"true\" property=\"fb:app_id\" content=\"542599432471018\"/><meta data-rh=\"true\" property=\"og:site_name\" content=\"Medium\"/><meta data-rh=\"true\" property=\"og:type\" content=\"article\"/><meta data-rh=\"true\" property=\"article:published_time\" content=\"2021-06-03T17:13:55.881Z\"/><meta data-rh=\"true\" name=\"title\" content=\"What We Talk About When We Talk About the Metaverse | by Jon Radoff | Building the Metaverse | Medium\"/><meta data-rh=\"true\" property=\"og:title\" content=\"What We Talk About When We Talk About the Metaverse\"/><meta data-rh=\"true\" property=\"twitter:title\" content=\"What We Talk About When We Talk About the Metaverse\"/><meta data-rh=\"true\" name=\"twitter:site\" content=\"@jradoff\"/><meta data-rh=\"true\" name=\"twitter:app:url:iphone\" content=\"medium://p/c9ef03c1a5dd\"/><meta data-rh=\"true\" property=\"al:android:url\" content=\"medium://p/c9ef03c1a5dd\"/><meta data-rh=\"true\" property=\"al:ios:url\" content=\"medium://p/c9ef03c1a5dd\"/><meta data-rh=\"true\" property=\"al:android:app_name\" content=\"Medium\"/><meta data-rh=\"true\" name=\"description\" content=\"Since this is the inaugural article on Building the Metaverse, I wanted to take a moment to think about what this word means, how it has evolved, and what the future may bring. “Metaverse” is a word…\"/><meta data-rh=\"true\" property=\"og:description\" content=\"Decentralization means the metaverse will be weirder, different and even more amazing than we originally imagined.\"/><meta data-rh=\"true\" property=\"twitter:description\" content=\"Decentralization means the metaverse will be weirder, different and even more amazing than we originally imagined.\"/><meta data-rh=\"true\" property=\"og:url\" content=\"https://medium.com/building-the-metaverse/what-we-talk-about-when-we-talk-about-the-metaverse-c9ef03c1a5dd\"/><meta data-rh=\"true\" property=\"al:web:url\" content=\"https://medium.com/building-the-metaverse/what-we-talk-about-when-we-talk-about-the-metaverse-c9ef03c1a5dd\"/><meta data-rh=\"true\" property=\"og:image\" content=\"https://miro.medium.com/max/1200/0*xr-rsGfGktXBcf4h.jpg\"/><meta data-rh=\"true\" name=\"twitter:image:src\" content=\"https://miro.medium.com/max/1200/0*xr-rsGfGktXBcf4h.jpg\"/><meta data-rh=\"true\" name=\"twitter:card\" content=\"summary_large_image\"/><meta data-rh=\"true\" property=\"article:author\" content=\"https://jradoff.medium.com\"/><meta data-rh=\"true\" name=\"twitter:creator\" content=\"@jradoff\"/><meta data-rh=\"true\" name=\"author\" content=\"Jon Radoff\"/><meta data-rh=\"true\" name=\"robots\" content=\"index,follow,max-image-preview:large\"/><meta data-rh=\"true\" name=\"referrer\" content=\"unsafe-url\"/><meta data-rh=\"true\" name=\"twitter:label1\" content=\"Reading time\"/><meta data-rh=\"true\" name=\"twitter:data1\" content=\"5 min read\"/><link data-rh=\"true\" rel=\"search\" type=\"application/opensearchdescription+xml\" title=\"Medium\" href=\"/osd.xml\"/><link data-rh=\"true\" rel=\"apple-touch-icon\" sizes=\"152x152\" href=\"https://miro.medium.com/fit/c/152/152/1*sHhtYhaCe2Uc3IU0IgKwIQ.png\"/><link data-rh=\"true\" rel=\"apple-touch-icon\" sizes=\"120x120\" href=\"https://miro.medium.com/fit/c/120/120/1*sHhtYhaCe2Uc3IU0IgKwIQ.png\"/><link data-rh=\"true\" rel=\"apple-touch-icon\" sizes=\"76x76\" href=\"https://miro.medium.com/fit/c/76/76/1*sHhtYhaCe2Uc3IU0IgKwIQ.png\"/><link data-rh=\"true\" rel=\"apple-touch-icon\" sizes=\"60x60\" href=\"https://miro.medium.com/fit/c/60/60/1*sHhtYhaCe2Uc3IU0IgKwIQ.png\"/><link data-rh=\"true\" rel=\"mask-icon\" href=\"https://cdn-static-1.medium.com/_/fp/icons/Medium-Avatar-500x500.svg\" color=\"#171717\"/><link data-rh=\"true\" rel=\"preconnect\" href=\"https://glyph.medium.com\" crossOrigin=\"\"/><link data-rh=\"true\" rel=\"preconnect\" href=\"https://logx.optimizely.com\"/><link data-rh=\"true\" id=\"glyph_preload_link\" rel=\"preload\" as=\"style\" type=\"text/css\" href=\"https://glyph.medium.com/css/unbound.css\"/><link data-rh=\"true\" id=\"glyph_link\" rel=\"stylesheet\" type=\"text/css\" href=\"https://glyph.medium.com/css/unbound.css\"/><link data-rh=\"true\" rel=\"author\" href=\"https://jradoff.medium.com\"/><link data-rh=\"true\" rel=\"canonical\" href=\"https://medium.com/building-the-metaverse/what-we-talk-about-when-we-talk-about-the-metaverse-c9ef03c1a5dd\"/><link data-rh=\"true\" rel=\"alternate\" href=\"android-app://com.medium.reader/https/medium.com/p/c9ef03c1a5dd\"/><link data-rh=\"true\" rel=\"icon\" href=\"https://miro.medium.com/1*m-R_BkNf1Qjr1YbyOIJY2w.png\"/><script data-rh=\"true\" type=\"application/ld+json\">{\"@context\":\"http:\\\\u002F\\\\u002Fschema.org\",\"@type\":\"NewsArticle\",\"image\":[\"https:\\\\u002F\\\\u002Fmiro.medium.com\\\\u002Fmax\\\\u002F1200\\\\u002F0*xr-rsGfGktXBcf4h.jpg\"],\"url\":\"https:\\\\u002F\\\\u002Fmedium.com\\\\u002Fbuilding-the-metaverse\\\\u002Fwhat-we-talk-about-when-we-talk-about-the-metaverse-c9ef03c1a5dd\",\"dateCreated\":\"2021-02-26T01:31:56.812Z\",\"datePublished\":\"2021-02-26T01:31:56.812Z\",\"dateModified\":\"2021-06-03T17:14:02.827Z\",\"headline\":\"What We Talk About When We Talk About the Metaverse\",\"name\":\"What We Talk About When We Talk About the Metaverse\",\"description\":\"Since this is the inaugural article on Building the Metaverse, I wanted to take a moment to think about what this word means, how it has evolved, and what the future may bring. “Metaverse” is a word…\",\"identifier\":\"c9ef03c1a5dd\",\"author\":{\"@type\":\"Person\",\"name\":\"Jon Radoff\",\"url\":\"https:\\\\u002F\\\\u002Fjradoff.medium.com\"},\"creator\":[\"Jon Radoff\"],\"publisher\":{\"@type\":\"Organization\",\"name\":\"Building the Metaverse\",\"url\":\"https:\\\\u002F\\\\u002Fmedium.com\\\\u002Fbuilding-the-metaverse\",\"logo\":{\"@type\":\"ImageObject\",\"width\":140,\"height\":60,\"url\":\"https:\\\\u002F\\\\u002Fmiro.medium.com\\\\u002Fmax\\\\u002F280\\\\u002F1*5sfogkWazDSSsdXpzjHdIw.png\"}},\"mainEntityOfPage\":\"https:\\\\u002F\\\\u002Fmedium.com\\\\u002Fbuilding-the-metaverse\\\\u002Fwhat-we-talk-about-when-we-talk-about-the-metaverse-c9ef03c1a5dd\"}</script><link rel=\"preload\" href=\"https://cdn.optimizely.com/js/16180790160.js\" as=\"script\"><style type=\"text/css\" data-fela-rehydration=\"494\" data-fela-type=\"STATIC\">html{box-sizing:border-box}*, *:before, *:after{box-sizing:inherit}body{margin:0;padding:0;text-rendering:optimizeLegibility;-webkit-font-smoothing:antialiased;color:rgba(0,0,0,0.8);position:relative;min-height:100vh}h1, h2, h3, h4, h5, h6, dl, dd, ol, ul, menu, figure, blockquote, p, pre, form{margin:0}menu, ol, ul{padding:0;list-style:none;list-style-image:none}main{display:block}a{color:inherit;text-decoration:none}a, button, input{-webkit-tap-highlight-color:transparent}img, svg{vertical-align:middle}button{background:transparent;overflow:visible}button, input, optgroup, select, textarea{margin:0}:root{--reach-tabs:1;--reach-menu-button:1}#speechify-root{font-family:Sohne, sans-serif}</style><style type=\"text/css\" data-fela-rehydration=\"494\" data-fela-type=\"KEYFRAME\">@-webkit-keyframes k1{from{filter:hue-rotate(0deg)}to{filter:hue-rotate(360deg)}}@-moz-keyframes k1{from{filter:hue-rotate(0deg)}to{filter:hue-rotate(360deg)}}@keyframes k1{from{filter:hue-rotate(0deg)}to{filter:hue-rotate(360deg)}}</style><style type=\"text/css\" data-fela-rehydration=\"494\" data-fela-type=\"RULE\">.a{font-family:medium-content-sans-serif-font, -apple-system, BlinkMacSystemFont, \"Segoe UI\", Roboto, Oxygen, Ubuntu, Cantarell, \"Open Sans\", \"Helvetica Neue\", sans-serif}.b{font-weight:400}.c{background-color:rgba(255, 255, 255, 1)}.l{height:100vh}.m{width:100vw}.n{display:flex}.o{align-items:center}.p{justify-content:center}.q{height:25px}.r{fill:rgba(41, 41, 41, 1)}.s{display:block}.t{position:absolute}.u{top:0}.v{left:0}.w{right:0}.x{z-index:500}.y{box-shadow:0 4px 12px 0 rgba(0, 0, 0, 0.05)}.ah{max-width:1192px}.ai{min-width:0}.aj{width:100%}.ak{height:65px}.an{flex:1 0 auto}.ao{fill:rgba(25, 25, 25, 1)}.ap{flex:0 0 auto}.aq{border-top:1px solid rgba(230, 230, 230, 1)}.as{height:54px}.at{overflow:hidden}.au{margin-right:40px}.av{height:36px}.aw{width:84px}.ax{overflow:auto}.ay{flex:0 1 auto}.az{list-style-type:none}.ba{margin:0}.bb{line-height:40px}.bc{white-space:nowrap}.bd{overflow-x:auto}.be{align-items:flex-start}.bf{margin-top:20px}.bg{padding-top:20px}.bh{height:80px}.bi{height:20px}.bj{margin-right:15px}.bk{margin-left:15px}.bl:first-child{margin-left:0}.bm{min-width:1px}.bn{background-color:rgba(168, 168, 168, 1)}.bo{font-family:sohne, \"Helvetica Neue\", Helvetica, Arial, sans-serif}.bp{font-size:13px}.bq{line-height:20px}.br{color:rgba(117, 117, 117, 1)}.bs{text-transform:uppercase}.bt{letter-spacing:1px}.bu{color:inherit}.bv{fill:inherit}.bw{font-size:inherit}.bx{border:inherit}.by{font-family:inherit}.bz{letter-spacing:inherit}.ca{font-weight:inherit}.cb{padding:0}.cf:disabled{cursor:default}.cg:disabled{color:rgba(117, 117, 117, 1)}.ch:disabled{fill:rgba(117, 117, 117, 1)}.ci{margin-bottom:0px}.cj{margin-top:0px}.ck{height:119px}.cs{margin-left:auto}.ct{margin-right:auto}.cu{max-width:728px}.cv{box-sizing:border-box}.cw{background:rgba(255, 255, 255, 1)}.cx{border:1px solid rgba(230, 230, 230, 1)}.cy{border-radius:4px}.cz{box-shadow:0 1px 4px rgba(230, 230, 230, 1)}.da{max-height:100vh}.db{overflow-y:auto}.dc{top:calc(100vh + 100px)}.dd{bottom:calc(100vh + 100px)}.de{width:10px}.df{pointer-events:none}.dg{word-break:break-word}.dh{word-wrap:break-word}.di:after{display:block}.dj:after{content:\"\"}.dk:after{clear:both}.dl{max-width:680px}.dm{line-height:1.23}.dn{letter-spacing:0}.do{font-style:normal}.dp{font-family:fell, Georgia, Cambria, \"Times New Roman\", Times, serif}.ek{margin-bottom:-0.27em}.el{color:rgba(41, 41, 41, 1)}.em{margin-top:32px}.en{justify-content:space-between}.er{border-radius:50%}.es{height:48px}.et{width:48px}.eu{margin-left:8px}.ev{font-size:14px}.ew{margin-bottom:2px}.ey{max-height:20px}.ez{text-overflow:ellipsis}.fa{display:-webkit-box}.fb{-webkit-line-clamp:1}.fc{-webkit-box-orient:vertical}.ff{color:rgba(255, 255, 255, 1)}.fg{padding:0px 8px 1px}.fh{fill:rgba(255, 255, 255, 1)}.fi{background:rgba(26, 137, 23, 1)}.fj{border-color:rgba(26, 137, 23, 1)}.fm:disabled{cursor:inherit !important}.fn:disabled{opacity:0.3}.fo:disabled:hover{background:rgba(26, 137, 23, 1)}.fp:disabled:hover{border-color:rgba(26, 137, 23, 1)}.fq{border-radius:99em}.fr{border-width:1px}.fs{border-style:solid}.ft{display:inline-block}.fu{text-decoration:none}.fv{margin-left:4px}.fw{stroke:rgba(242, 242, 242, 1)}.fx{height:23px}.fy{width:23px}.fz{color:rgba(242, 242, 242, 1)}.ga{fill:rgba(242, 242, 242, 1)}.gb{background:rgba(242, 242, 242, 1)}.gc{border-color:rgba(242, 242, 242, 1)}.gi{align-items:flex-end}.gq{padding-right:1px}.gr{fill:rgba(117, 117, 117, 1)}.gs path{fill:rgba(8, 8, 8, 1)}.gt{margin:0 6px 0 7px}.gu{max-width:1200px}.ha{clear:both}.hc{cursor:zoom-in}.hd{position:relative}.he{z-index:auto}.hg{max-width:100%}.hh{height:auto}.hi{margin-top:10px}.hj{text-align:center}.hm{line-height:1.58}.hn{letter-spacing:-0.004em}.ho{font-family:charter, Georgia, Cambria, \"Times New Roman\", Times, serif}.ij{margin-bottom:-0.46em}.ik{font-style:italic}.il{max-width:200px}.im{border-width:2px}.in{border-color:rgba(255, 255, 255, 1)}.io{float:left}.ip{margin-left:-150px}.iq{margin-right:30px}.ir{width:75%}.is{padding-bottom:10px}.ix{margin-bottom:16px}.iy{opacity:0}.iz{transition:opacity 100ms 400ms}.ja{height:100%}.jb{will-change:transform}.jc{transform:translateZ(0)}.jd{margin:auto}.je{background-color:rgba(242, 242, 242, 1)}.jf{padding-bottom:150%}.jg{height:0}.jh{filter:blur(20px)}.ji{transform:scale(1.1)}.jj{visibility:visible}.jk{text-decoration:underline}.jl{box-shadow:inset 3px 0 0 0 rgba(41, 41, 41, 1)}.jm{padding-left:23px}.jn{margin-left:-20px}.jo{max-width:1920px}.jp{padding-bottom:66.8%}.jq{max-width:421px}.jr{padding-bottom:56.05700712589074%}.js{font-weight:700}.jt{max-width:3000px}.ju{padding-bottom:24.142857142857142%}.jv{line-height:1.12}.jw{letter-spacing:-0.022em}.jx{font-weight:500}.kq{margin-bottom:-0.28em}.kw{padding-bottom:83.33333333333334%}.kx{list-style-type:disc}.ky{margin-left:30px}.kz{padding-left:0px}.lf{will-change:opacity}.lg{position:fixed}.lh{width:188px}.li{left:50%}.lj{transform:translateX(406px)}.lk{top:calc(65px + 54px + 14px)}.ln{will-change:opacity, transform}.lo{transform:translateY(159px)}.lq{width:197px}.lr{flex-direction:column}.ls{font-size:16px}.lt{margin-bottom:20px}.lu{padding-bottom:20px}.lv{padding-top:2px}.lw{max-height:120px}.lx{-webkit-line-clamp:6}.ly{padding-top:32px}.lz{flex-direction:row}.ma{justify-content:space-evenly}.mb{margin-right:20px}.mh{-webkit-user-select:none}.mi{outline:0}.mj{border:0}.mk{user-select:none}.ml{cursor:pointer}.mm> svg{pointer-events:none}.mx button{text-align:left}.my{margin-top:2px}.mz{fill:rgba(61, 61, 61, 1)}.na{opacity:1}.nb{padding-left:6px}.nc{margin-top:1px}.nd{margin-top:40px}.ne{flex-wrap:wrap}.nf{margin-top:25px}.ng{margin-right:8px}.nh{margin-bottom:8px}.ni{line-height:22px}.nj{border-radius:3px}.nk{padding:5px 10px}.nl{max-width:155px}.ns{top:1px}.nv{margin-left:24px}.nw{margin-top:4px}.nx{margin-top:5px}.ny{margin-bottom:25px}.oa{margin-bottom:32px}.ob{min-height:80px}.og{width:80px}.oh{padding-left:102px}.oi{margin-bottom:6px}.ok{font-size:22px}.ol{line-height:28px}.om{max-width:550px}.on{max-width:450px}.oo{line-height:24px}.op{display:none}.or{padding-top:24px}.os{height:40px}.ot{width:40px}.ou{margin-left:12px}.ov{font-size:12px}.ow{line-height:16px}.ox{letter-spacing:0.083em}.oy{padding-top:8px}.oz{margin-bottom:40px}.pa{margin-top:24px}.pb{padding-bottom:16px}.pc{border-bottom:1px solid rgba(230, 230, 230, 1)}.pd{margin-bottom:24px}.qz{flex-grow:0}.ra{padding-bottom:24px}.rb{max-width:500px}.rd{padding-bottom:8px}.rq{padding-bottom:100%}.cc:hover{cursor:pointer}.cd:hover{color:rgba(25, 25, 25, 1)}.ce:hover{fill:rgba(25, 25, 25, 1)}.fe:hover{text-decoration:underline}.fk:hover{background:rgba(15, 115, 12, 1)}.fl:hover{border-color:rgba(15, 115, 12, 1)}.gd:hover{background:rgba(242, 242, 242, 1)}.ge:hover{border-color:rgba(242, 242, 242, 1)}.gf:hover{cursor:wait}.gg:hover{color:rgba(242, 242, 242, 1)}.gh:hover{fill:rgba(242, 242, 242, 1)}.mp:hover{fill:rgba(117, 117, 117, 1)}.hf:focus{transform:scale(1.01)}.mo:focus{fill:rgba(117, 117, 117, 1)}.mn:active{border-style:none}</style><style type=\"text/css\" data-fela-rehydration=\"494\" data-fela-type=\"RULE\" media=\"all and (min-width: 1080px)\">.d{display:none}.ag{margin:0 64px}.cr{padding:0 16px}.eg{font-size:48px}.eh{margin-top:0.55em}.ei{line-height:60px}.ej{letter-spacing:-0.011em}.gp{margin-left:30px}.gz{margin-top:56px}.if{font-size:21px}.ig{margin-top:2em}.ih{line-height:32px}.ii{letter-spacing:-0.003em}.km{font-size:30px}.kn{margin-top:1.95em}.ko{line-height:36px}.kp{letter-spacing:0}.kv{margin-top:0.86em}.le{margin-top:1.05em}.mg{margin-right:5px}.mw{margin-top:0px}.nr{margin-top:5px}.nu{display:inline-block}.po{font-size:22px}.pp{line-height:28px}.qc{width:calc(100% + 32px)}.qd{margin-left:-16px}.qe{margin-right:-16px}.qv{padding-left:16px}.qw{padding-right:16px}.qx{flex-basis:25%}.qy{max-width:25%}.rm{font-size:16px}.rn{line-height:20px}.rz{min-width:70px}.sa{min-height:70px}</style><style type=\"text/css\" data-fela-rehydration=\"494\" data-fela-type=\"RULE\" media=\"all and (max-width: 1079.98px)\">.e{display:none}.go{margin-left:30px}.hk{margin-left:auto}.hl{text-align:center}.it{float:none}.iu{margin-left:0}.iv{margin-right:0}.iw{width:100%}.mv{margin-top:0px}.nq{margin-top:5px}.nt{display:inline-block}</style><style type=\"text/css\" data-fela-rehydration=\"494\" data-fela-type=\"RULE\" media=\"all and (max-width: 903.98px)\">.f{display:none}.gn{margin-left:30px}.mu{margin-top:0px}.no{display:inline-block}.np{margin-top:5px}.rc{margin-right:16px}</style><style type=\"text/css\" data-fela-rehydration=\"494\" data-fela-type=\"RULE\" media=\"all and (max-width: 727.98px)\">.g{display:none}.al{height:56px}.am{display:flex}.ar{display:block}.cl{margin-bottom:0px}.cm{height:110px}.ep{margin-top:32px}.eq{flex-direction:column-reverse}.gl{margin-bottom:30px}.gm{margin-left:0px}.ms{margin-top:2px}.mt{margin-right:16px}.nn{display:inline-block}.nz{padding-top:0}.oc{margin-bottom:24px}.od{align-items:center}.oe{width:102px}.of{position:relative}.oj{padding-left:0}.oq{margin-top:24px}.pe{padding-bottom:12px}.pf{margin-top:16px}.ro{margin-left:16px}.rp{margin-right:0px}</style><style type=\"text/css\" data-fela-rehydration=\"494\" data-fela-type=\"RULE\" media=\"all and (max-width: 551.98px)\">.h{display:none}.ab{margin:0 24px}.cn{padding:0 8px 24px 8px}.dq{font-size:34px}.dr{margin-top:0.56em}.ds{line-height:42px}.dt{letter-spacing:-0.016em}.eo{margin-top:32px}.ex{margin-bottom:0px}.gj{margin-bottom:30px}.gk{margin-left:0px}.gv{margin-top:40px}.hp{font-size:18px}.hq{margin-top:1.56em}.hr{line-height:28px}.hs{letter-spacing:-0.003em}.jy{font-size:22px}.jz{margin-top:1.2em}.ka{letter-spacing:0}.kr{margin-top:0.67em}.la{margin-top:1.34em}.mc{margin-left:8px}.mq{margin-top:2px}.mr{margin-right:16px}.nm{display:inline-block}.pg{font-size:20px}.ph{line-height:24px}.pq{width:calc(100% + 24px)}.pr{margin-left:-12px}.ps{margin-right:-12px}.qf{padding-left:12px}.qg{padding-right:12px}.qh{flex-basis:100%}.qi{max-width:100%}.re{font-size:16px}.rf{line-height:20px}.rr{min-width:48px}.rs{min-height:48px}</style><style type=\"text/css\" data-fela-rehydration=\"494\" data-fela-type=\"RULE\" media=\"all and (min-width: 904px) and (max-width: 1079.98px)\">.i{display:none}.af{margin:0 64px}.cq{padding:0 16px}.ec{font-size:48px}.ed{margin-top:0.55em}.ee{line-height:60px}.ef{letter-spacing:-0.011em}.gy{margin-top:56px}.ib{font-size:21px}.ic{margin-top:2em}.id{line-height:32px}.ie{letter-spacing:-0.003em}.ki{font-size:30px}.kj{margin-top:1.95em}.kk{line-height:36px}.kl{letter-spacing:0}.ku{margin-top:0.86em}.ld{margin-top:1.05em}.mf{margin-right:5px}.pm{font-size:22px}.pn{line-height:28px}.pz{width:calc(100% + 32px)}.qa{margin-left:-16px}.qb{margin-right:-16px}.qr{padding-left:16px}.qs{padding-right:16px}.qt{flex-basis:25%}.qu{max-width:25%}.rk{font-size:16px}.rl{line-height:20px}.rx{min-width:70px}.ry{min-height:70px}</style><style type=\"text/css\" data-fela-rehydration=\"494\" data-fela-type=\"RULE\" media=\"all and (min-width: 728px) and (max-width: 903.98px)\">.j{display:none}.ae{margin:0 48px}.cp{padding:0 16px}.dy{font-size:48px}.dz{margin-top:0.55em}.ea{line-height:60px}.eb{letter-spacing:-0.011em}.gx{margin-top:56px}.hx{font-size:21px}.hy{margin-top:2em}.hz{line-height:32px}.ia{letter-spacing:-0.003em}.ke{font-size:30px}.kf{margin-top:1.95em}.kg{line-height:36px}.kh{letter-spacing:0}.kt{margin-top:0.86em}.lc{margin-top:1.05em}.me{margin-right:5px}.pk{font-size:22px}.pl{line-height:28px}.pw{width:calc(100% + 28px)}.px{margin-left:-14px}.py{margin-right:-14px}.qn{padding-left:14px}.qo{padding-right:14px}.qp{flex-basis:50%}.qq{max-width:50%}.ri{font-size:16px}.rj{line-height:20px}.rv{min-width:48px}.rw{min-height:48px}</style><style type=\"text/css\" data-fela-rehydration=\"494\" data-fela-type=\"RULE\" media=\"all and (min-width: 552px) and (max-width: 727.98px)\">.k{display:none}.ac{margin:0 24px}.co{padding:0 8px 24px 8px}.du{font-size:34px}.dv{margin-top:0.56em}.dw{line-height:42px}.dx{letter-spacing:-0.016em}.gw{margin-top:40px}.ht{font-size:18px}.hu{margin-top:1.56em}.hv{line-height:28px}.hw{letter-spacing:-0.003em}.kb{font-size:22px}.kc{margin-top:1.2em}.kd{letter-spacing:0}.ks{margin-top:0.67em}.lb{margin-top:1.34em}.md{margin-left:8px}.pi{font-size:20px}.pj{line-height:24px}.pt{width:calc(100% + 24px)}.pu{margin-left:-12px}.pv{margin-right:-12px}.qj{padding-left:12px}.qk{padding-right:12px}.ql{flex-basis:100%}.qm{max-width:100%}.rg{font-size:16px}.rh{line-height:20px}.rt{min-width:48px}.ru{min-height:48px}</style><style type=\"text/css\" data-fela-rehydration=\"494\" data-fela-type=\"RULE\" media=\"print\">.z{display:none}</style><style type=\"text/css\" data-fela-rehydration=\"494\" data-fela-type=\"RULE\" media=\"(orientation: landscape) and (max-width: 903.98px)\">.fd{max-height:none}</style><style type=\"text/css\" data-fela-rehydration=\"494\" data-fela-type=\"RULE\" media=\"(prefers-reduced-motion: no-preference)\">.hb{transition:transform 300ms cubic-bezier(0.2, 0, 0.2, 1)}.ll{transition:opacity 200ms}</style><style type=\"text/css\" data-fela-rehydration=\"494\" data-fela-type=\"RULE\" media=\"all and (max-width: 1230px)\">.lm{display:none}</style><style type=\"text/css\" data-fela-rehydration=\"494\" data-fela-type=\"RULE\" media=\"all and (max-width: 1240px)\">.lp{display:none}</style></head><body><div id=\"root\"><div class=\"a b c\"><div class=\"d e f g h i j k\"></div><script>document.domain = document.domain;</script><div class=\"s\"><nav class=\"s t u v w c x y z\"><div><div class=\"s c\"><div class=\"n p\"><div class=\"ab ac ae af ag ah ai aj\"><div class=\"ak n o al am\"><div class=\"n o an x\"><a href=\"https://medium.com/?source=post_page-----c9ef03c1a5dd-----------------------------------\" aria-label=\"Homepage\" rel=\"noopener follow\"><svg viewBox=\"0 0 1043.63 592.71\" class=\"q ao\"><g data-name=\"Layer 2\"><g data-name=\"Layer 1\"><path d=\"M588.67 296.36c0 163.67-131.78 296.35-294.33 296.35S0 460 0 296.36 131.78 0 294.34 0s294.33 132.69 294.33 296.36M911.56 296.36c0 154.06-65.89 279-147.17 279s-147.17-124.94-147.17-279 65.88-279 147.16-279 147.17 124.9 147.17 279M1043.63 296.36c0 138-23.17 249.94-51.76 249.94s-51.75-111.91-51.75-249.94 23.17-249.94 51.75-249.94 51.76 111.9 51.76 249.94\"></path></g></g></svg></a></div><div class=\"s ap x\"></div></div></div></div></div><div class=\"aq s c ar\"><div class=\"n p\"><div class=\"ab ac ae af ag ah ai aj\"><div class=\"as at n o\"><div class=\"au s ap\"><a href=\"/building-the-metaverse?source=post_page-----c9ef03c1a5dd-----------------------------------\" rel=\"noopener follow\"><div class=\"av aw s\"><img alt=\"Building the Metaverse\" class=\"\" src=\"https://miro.medium.com/max/168/1*5sfogkWazDSSsdXpzjHdIw.png\" width=\"84\" height=\"36\"/></div></a></div><div class=\"ax s ay\"><ul class=\"az ba bb bc bd n be g bf bg bh\"><li class=\"n o bi bj bk bl\"><span class=\"bo b bp bq br bs bt\"><a class=\"bu bv bw bx by bz ca cb ba cc cd ce cf cg ch\" rel=\"noopener follow\" href=\"/building-the-metaverse/what-we-talk-about-when-we-talk-about-the-metaverse-c9ef03c1a5dd?source=post_page-----c9ef03c1a5dd-----------------------------------\">About</a></span></li><span class=\"bi bm bn\"></span><li class=\"n o bi bj bk bl\"><span class=\"bo b bp bq br bs bt\"><a class=\"bu bv bw bx by bz ca cb ba cc cd ce cf cg ch\" rel=\"noopener follow\" href=\"/building-the-metaverse/newsletters/building-the-metaverse-weekly-newsletter?source=post_page-----c9ef03c1a5dd-----------------------------------\">Metaverse Weekly News</a></span></li></ul></div></div></div></div></div></div></nav><div class=\"ci cj ck s cl cm\"></div><article><section class=\"cn co cp cq cr cs ct aj cu cv s\"></section><span class=\"s\"></span><div><div><div class=\"t v dc dd de df\"></div><section class=\"dg dh di dj dk\"><div class=\"n p\"><div class=\"ab ac ae af ag dl ai aj\"><div class=\"\"><h1 id=\"7ad4\" class=\"dm dn do dp b dq dr ds dt du dv dw dx dy dz ea eb ec ed ee ef eg eh ei ej ek el\">What We Talk About When We Talk About the Metaverse</h1><div class=\"em\"><div class=\"n en eo ep eq\"><div class=\"o n\"><div><a href=\"https://jradoff.medium.com/?source=post_page-----c9ef03c1a5dd-----------------------------------\" rel=\"noopener follow\"><img alt=\"Jon Radoff\" class=\"s er es et\" src=\"https://miro.medium.com/fit/c/96/96/1*KQymw2HNPm1AVx66lJ6kVg.jpeg\" width=\"48\" height=\"48\"/></a></div><div class=\"eu aj s\"><div class=\"n\"><div style=\"flex:1\"><span class=\"bo b ev bq el\"><div class=\"ew n o ex\"><span class=\"bo b ev bq at ey ez fa fb fc fd el\"><a href=\"https://jradoff.medium.com/?source=post_page-----c9ef03c1a5dd-----------------------------------\" class=\"bu bv bw bx by bz ca cb ba cc fe cf cg ch\" rel=\"noopener follow\">Jon Radoff</a></span><div class=\"eu n\"><span><button class=\"bo b bp bq ff fg fh fi fj fk fl cc fm fn fo fp fq fr fs cv ft fu\">Follow</button></span><div class=\"fv s\"><div><div><div class=\"ft\" role=\"tooltip\" aria-hidden=\"false\"><div class=\"s\"><span><a class=\"bu bv bw bx by bz ca cb ba cc cd ce cf cg ch\" rel=\"noopener follow\" href=\"/m/signin?actionUrl=%2F_%2Fapi%2Fsubscriptions%2Fnewsletters%2Fa76d71da450d&amp;operation=register&amp;redirect=https%3A%2F%2Fmedium.com%2Fbuilding-the-metaverse%2Fwhat-we-talk-about-when-we-talk-about-the-metaverse-c9ef03c1a5dd&amp;newsletterV3=7e6b05637259&amp;newsletterV3Id=a76d71da450d&amp;user=Jon+Radoff&amp;userId=7e6b05637259&amp;source=post_page-----c9ef03c1a5dd---------------------subscribe_user--------------\"><button class=\"bo b ev bq fz cb ga gb gc gd ge gf gg gh fm fn fo fp fq fr fs cv ft fu\" aria-label=\"Subscribe\"><svg width=\"23\" height=\"23\" viewBox=\"0 0 23 23\" fill=\"none\" class=\"fw fx fy\"><path stroke-linecap=\"round\" d=\"M14.58 6.89h3.92M16.39 9V5.08M11.62 7.04H7a1 1 0 0 0-1 1v7.13a1 1 0 0 0 1 1h8.54a1 1 0 0 0 1-1v-3.21\"></path><path d=\"M6 8.44l5.27 3.87 2.81-2.11\" stroke-linecap=\"round\"></path></svg></button></a></span></div></div></div></div></div></div></div></span></div></div><span class=\"bo b ev bq br\"><span class=\"bo b ev bq at ey ez fa fb fc fd br\"><div><a class=\"bu bv bw bx by bz ca cb ba cc fe cf cg ch\" rel=\"noopener follow\" href=\"/building-the-metaverse/what-we-talk-about-when-we-talk-about-the-metaverse-c9ef03c1a5dd?source=post_page-----c9ef03c1a5dd-----------------------------------\"><span>Feb 26</span></a> <!-- -->·<!-- --> <!-- -->5<!-- --> min read</div></span></span></div></div><div class=\"n gi gj gk gl gm gn go gp z\"><div class=\"n o\"><div class=\"gq s ap\"><div><div class=\"ft\" role=\"tooltip\" aria-hidden=\"false\"><button class=\"bu bv bw bx by bz ca cb ba cc cd ce cf cg ch\" aria-label=\"Share on twitter\"><svg width=\"30\" height=\"30\" viewBox=\"0 0 30 30\" fill=\"none\" class=\"gr gs\"><path fill-rule=\"evenodd\" clip-rule=\"evenodd\" d=\"M15 27a12 12 0 1 0 0-24 12 12 0 0 0 0 24zm4.95-16.17a2.67 2.67 0 0 0-4.6 1.84c0 .2.03.41.05.62a7.6 7.6 0 0 1-5.49-2.82 3 3 0 0 0-.38 1.34c.02.94.49 1.76 1.2 2.23a2.53 2.53 0 0 1-1.2-.33v.04c0 1.28.92 2.36 2.14 2.62-.23.05-.46.08-.71.1l-.21-.02-.27-.03a2.68 2.68 0 0 0 2.48 1.86A5.64 5.64 0 0 1 9 19.38a7.62 7.62 0 0 0 4.1 1.19c4.9 0 7.58-4.07 7.57-7.58v-.39c.52-.36.97-.83 1.33-1.38-.48.23-1 .37-1.53.43.56-.33.96-.86 1.15-1.48-.5.31-1.07.53-1.67.66z\" fill=\"#292929\"></path></svg></button></div></div></div><div class=\"gq s ap\"><div><div class=\"ft\" role=\"tooltip\" aria-hidden=\"false\"><button class=\"bu bv bw bx by bz ca cb ba cc cd ce cf cg ch\" aria-label=\"Share on facebook\"><svg width=\"30\" height=\"30\" viewBox=\"0 0 30 30\" fill=\"none\" class=\"gr gs\"><path fill-rule=\"evenodd\" clip-rule=\"evenodd\" d=\"M15 27a12 12 0 1 0 0-24 12 12 0 0 0 0 24zm-1.23-6.03V15.6H12v-2.15h1.77v-1.6C13.77 10 14.85 9 16.42 9c.75 0 1.4.06 1.58.08v1.93h-1.09c-.85 0-1.02.43-1.02 1.05v1.38h2.04l-.27 2.15H15.9V21l-2.13-.03z\" fill=\"#292929\"></path></svg></button></div></div></div><div class=\"gq s ap\"><div><div class=\"ft\" role=\"tooltip\" aria-hidden=\"false\"><button class=\"bu bv bw bx by bz ca cb ba cc cd ce cf cg ch\" aria-label=\"Share on linkedin\"><svg width=\"30\" height=\"30\" viewBox=\"0 0 30 30\" fill=\"none\" class=\"gr gs\"><path fill-rule=\"evenodd\" clip-rule=\"evenodd\" d=\"M27 15a12 12 0 1 1-24 0 12 12 0 0 1 24 0zm-14.61 5v-7.42h-2.26V20h2.26zm-1.13-8.44c.79 0 1.28-.57 1.28-1.28-.02-.73-.5-1.28-1.26-1.28-.78 0-1.28.55-1.28 1.28 0 .71.49 1.28 1.25 1.28h.01zM15.88 20h-2.5s.04-6.5 0-7.17h2.5v1.02l-.02.02h.02v-.02a2.5 2.5 0 0 1 2.25-1.18c1.64 0 2.87 1.02 2.87 3.22V20h-2.5v-3.83c0-.97-.36-1.62-1.26-1.62-.69 0-1.1.44-1.28.87-.06.15-.08.36-.08.58v4z\" fill=\"#292929\"></path></svg></button></div></div></div><div class=\"s ap\"><div><div class=\"ft\" role=\"tooltip\" aria-hidden=\"false\"><button class=\"bu bv bw bx by bz ca cb ba cc cd ce cf cg ch\"><svg width=\"30\" height=\"30\" viewBox=\"0 0 30 30\" fill=\"none\" class=\"gr gs\"><path fill-rule=\"evenodd\" clip-rule=\"evenodd\" d=\"M15 27a12 12 0 1 0 0-24 12 12 0 0 0 0 24zM9.29 16.28c-.2.36-.29.75-.29 1.17a2.57 2.57 0 0 0 .78 1.84l1.01.96c.53.5 1.17.75 1.92.75s1.38-.25 1.9-.75l1.2-1.15.75-.71.51-.5a2.51 2.51 0 0 0 .72-2.34.7.7 0 0 0-.03-.18 2.74 2.74 0 0 0-.23-.5v-.02l-.08-.14-.02-.03-.02-.01a.33.33 0 0 0-.07-.1c0-.02-.01-.03-.03-.05a.2.2 0 0 0-.03-.03l-.03-.04v-.01l-.02-.03-.04-.03a.85.85 0 0 1-.13-.13l-.43-.42-.06.06-.9.84-.05.09a.26.26 0 0 0-.03.1l.37.38c.04.03.08.07.1.11l.01.01.01.03.02.01.04.1.03.04.06.1v.02l.01.02c.03.1.05.2.05.33a1 1 0 0 1-.12.49c-.07.13-.15.22-.22.29l-.88.85-.61.57-.95.92c-.22.2-.5.3-.82.3-.31 0-.58-.1-.8-.3l-.98-.96a1.15 1.15 0 0 1-.3-.42 1.4 1.4 0 0 1-.04-.35c0-.1.01-.2.04-.3a1 1 0 0 1 .3-.49l1.5-1.46v-.24c0-.21 0-.42.04-.6a3.5 3.5 0 0 1 .92-1.72c-.41.1-.78.32-1.11.62l-.01.02-.01.01-2.46 2.33c-.2.21-.35.4-.44.6h-.02c0 .02 0 .02-.02.02v.02l-.01.01zm3.92-1.8a1.83 1.83 0 0 0 .02.97c0 .06 0 .13.02.19.06.17.14.34.22.5v.02l.06.12.02.03.01.02.08.1c0 .02.02.03.04.05l.08.1h.01c0 .01 0 .03.02.03l.14.14.43.41.08-.06.88-.84.05-.09.03-.1-.36-.37a.4.4 0 0 1-.12-.13v-.02l-.02-.02-.05-.09-.04-.04-.04-.1v-.02l-.02-.02a1.16 1.16 0 0 1 .06-.82c.09-.14.16-.24.23-.3l.9-.85.6-.58.93-.92c.23-.2.5-.3.82-.3a1.2 1.2 0 0 1 .82.3l1 .96c.13.15.23.29.28.42a1.43 1.43 0 0 1 0 .66c-.03.17-.12.33-.26.48l-1.54 1.45.02.25a3.28 3.28 0 0 1-.96 2.32 2.5 2.5 0 0 0 1.1-.62l.01-.01 2.46-2.34c.19-.2.35-.4.46-.6l.02-.02v-.02h.01a2.45 2.45 0 0 0 .21-1.82 2.53 2.53 0 0 0-.7-1.19l-1-.96a2.68 2.68 0 0 0-1.91-.75c-.75 0-1.38.25-1.9.76l-1.2 1.14-.76.72-.5.49c-.4.37-.64.83-.74 1.37z\" fill=\"#292929\"></path></svg></button></div></div></div><div class=\"gt s\"></div></div></div></div></div></div><figure class=\"gv gw gx gy gz ha cs ct paragraph-image\"><div role=\"button\" tabindex=\"0\" class=\"hb hc hd he aj hf\"><div class=\"cs ct gu\"><img alt=\"\" class=\"aj hg hh\" src=\"https://miro.medium.com/max/1400/0*xr-rsGfGktXBcf4h.jpg\" width=\"700\" height=\"352\" role=\"presentation\"/></div></div><figcaption class=\"hi hj cu cs ct hk hl bo b ev bq br\">OASIS in Ready Player One</figcaption></figure><p id=\"ee0f\" class=\"hm hn do ho b hp hq hr hs ht hu hv hw hx hy hz ia ib ic id ie if ig ih ii ij dg el\">Since this is the inaugural article on <em class=\"ik\">Building the Metaverse</em>, I wanted to take a moment to think about what this word means, how it has evolved, and what the future may bring.</p><p id=\"f775\" class=\"hm hn do ho b hp hq hr hs ht hu hv hw hx hy hz ia ib ic id ie if ig ih ii ij dg el\">“Metaverse” is a word that conjures different meanings to people: to some, it’s an immersive virtual-reality experience within a persistent landscape; to others, a specific technology stack; to some, it is a vision of future society.</p><figure class=\"gv gw gx gy gz ha cw im fs in io ip iq ir cb is it iu iv iw ix paragraph-image\"><div class=\"cs ct il\"><div class=\"jd s hd je\"><div class=\"jf jg s\"><div class=\"iy iz t u v ja aj at jb jc\"><img alt=\"\" class=\"t u v ja aj jh ji jj\" src=\"https://miro.medium.com/max/40/0*CBcdPIh8PUzkHQ8J.jpg?q=20\" width=\"200\" height=\"300\" role=\"presentation\"/></div><img alt=\"\" class=\"iy iz t u v ja aj c\" width=\"200\" height=\"300\" role=\"presentation\"/><noscript><img alt=\"\" class=\"t u v ja aj\" src=\"https://miro.medium.com/max/400/0*CBcdPIh8PUzkHQ8J.jpg\" width=\"200\" height=\"300\" role=\"presentation\"/></noscript></div></div></div><figcaption class=\"hi hj cu cs ct hk hl bo b ev bq br\">Charlie Stross (Wikipedia)</figcaption></figure><p id=\"c7de\" class=\"hm hn do ho b hp hq hr hs ht hu hv hw hx hy hz ia ib ic id ie if ig ih ii ij dg el\">About 14 years ago, I asked one of my favorite science-fiction authors, <a href=\"http://www.antipope.org/charlie/blog-static/2011/03/five-year-retrospective.html\" class=\"bu jk\" rel=\"noopener ugc nofollow\" target=\"_blank\">Charlie Stross</a>, to write an article for me about the future of games. He had to say this about the metaverse:</p><blockquote class=\"jl jm jn\"><p id=\"3575\" class=\"hm hn ik ho b hp hq hr hs ht hu hv hw hx hy hz ia ib ic id ie if ig ih ii ij dg el\">The really interesting question is whether things will converge on a single overarching metaverse with games or business meetings happening in different places, or whether they’ll fracture and we’ll see even more divergent environments cropping up.</p></blockquote><p id=\"20bc\" class=\"hm hn do ho b hp hq hr hs ht hu hv hw hx hy hz ia ib ic id ie if ig ih ii ij dg el\">It is now possible to say that neither of these futures has entirely come true.</p><figure class=\"gv gw gx gy gz ha cw im fs in io ip iq ir cb is it iu iv iw ix paragraph-image\"><div role=\"button\" tabindex=\"0\" class=\"hb hc hd he aj hf\"><div class=\"cs ct jo\"><div class=\"jd s hd je\"><div class=\"jp jg s\"><div class=\"iy iz t u v ja aj at jb jc\"><img alt=\"\" class=\"t u v ja aj jh ji jj\" src=\"https://miro.medium.com/max/60/0*b0C6cjrrCCljHHhY.jpg?q=20\" width=\"500\" height=\"334\" role=\"presentation\"/></div><img alt=\"\" class=\"iy iz t u v ja aj c\" width=\"500\" height=\"334\" role=\"presentation\"/><noscript><img alt=\"\" class=\"t u v ja aj\" src=\"https://miro.medium.com/max/1000/0*b0C6cjrrCCljHHhY.jpg\" width=\"500\" height=\"334\" srcSet=\"https://miro.medium.com/max/552/0*b0C6cjrrCCljHHhY.jpg 276w, https://miro.medium.com/max/1000/0*b0C6cjrrCCljHHhY.jpg 500w\" sizes=\"500px\" role=\"presentation\"/></noscript></div></div></div></div><figcaption class=\"hi hj cu cs ct hk hl bo b ev bq br\">Neal Stephenson in 2019 (Wikipedia)</figcaption></figure><p id=\"09cb\" class=\"hm hn do ho b hp hq hr hs ht hu hv hw hx hy hz ia ib ic id ie if ig ih ii ij dg el\">In Neal Stephenson’s <em class=\"ik\">Snow Crash</em>, the metaverse is run by the fictional Global Multimedia Protocol Group, an entity controlled by the real-life Association for Computing Machinery. In <em class=\"ik\">Ready Player One</em>, the OASIS virtual reality is owned by a corporation called Innovative Online Industries — and the plot largely revolves around its control. Although social networks seem to follow winner-take-all economics, it seems that virtual spaces have far too much variety and experiences to follow the same path.</p><p id=\"87e8\" class=\"hm hn do ho b hp hq hr hs ht hu hv hw hx hy hz ia ib ic id ie if ig ih ii ij dg el\">Stross was closer to the truth when he wrote about the fragmentation of virtual worlds. Fragmentation is happening because games, virtual realities, and online communities are based on experiences that are far too varied to fit into one particular landscape. These experiences include the immersive 3D VR environments envisioned by <em class=\"ik\">Ready Player One</em>. Fragmentation includes experiences on your phone: <em class=\"ik\">Candy Crush</em> and <em class=\"ik\">Star Trek Timelines</em> and <em class=\"ik\">Genshin Impact</em>. It’s Netflix on your living room wall or projected into a virtual surface in a simulated theatre inside the Oculus. It includes third-person inside 3D within <em class=\"ik\">Fortnite</em>. It is <em class=\"ik\">Decentraland</em> and <em class=\"ik\">Sim City </em>and<em class=\"ik\"> Roblox</em>. It includes both the asynchronous and the synchronous, real-time and turn-based. It is client-server, downloaded, or streamed.</p><p id=\"33e1\" class=\"hm hn do ho b hp hq hr hs ht hu hv hw hx hy hz ia ib ic id ie if ig ih ii ij dg el\">The metaverse is the collective set of online, connected experiences that one can have. The common theme is that the “player” is connected to an<a href=\"https://beacon.by/beamable/building-the-business-foundation-for-the-metaverse\" class=\"bu jk\" rel=\"noopener ugc nofollow\" target=\"_blank\"> online framework that permits live content changes, live social connection or live monetization</a>. The keyword is “live.” The metaverse is a living multiverse of worlds.</p><p id=\"7283\" class=\"hm hn do ho b hp hq hr hs ht hu hv hw hx hy hz ia ib ic id ie if ig ih ii ij dg el\">The other “multi” is that the creation of games and virtual worlds has become multi-disciplinary, requiring knowledge of game design, game theory, behavioral economics, analytics, databases, music, AI, GPUs, graphics, branding, performance, user experience design, storytelling, software engineering and a hundred other talents.</p><figure class=\"gv gw gx gy gz ha cw im fs in io ip iq ir cb is it iu iv iw ix paragraph-image\"><div class=\"cs ct jq\"><div class=\"jd s hd je\"><div class=\"jr jg s\"><div class=\"iy iz t u v ja aj at jb jc\"><img alt=\"\" class=\"t u v ja aj jh ji jj\" src=\"https://miro.medium.com/max/60/0*4mG5BP4--TRf5PMH.jpg?q=20\" width=\"421\" height=\"236\" role=\"presentation\"/></div><img alt=\"\" class=\"iy iz t u v ja aj c\" width=\"421\" height=\"236\" role=\"presentation\"/><noscript><img alt=\"\" class=\"t u v ja aj\" src=\"https://miro.medium.com/max/842/0*4mG5BP4--TRf5PMH.jpg\" width=\"421\" height=\"236\" srcSet=\"https://miro.medium.com/max/552/0*4mG5BP4--TRf5PMH.jpg 276w, https://miro.medium.com/max/842/0*4mG5BP4--TRf5PMH.jpg 421w\" sizes=\"421px\" role=\"presentation\"/></noscript></div></div></div><figcaption class=\"hi hj cu cs ct hk hl bo b ev bq br\">Roblox is a part of the metaverse (Wikipedia image)</figcaption></figure><p id=\"cf5e\" class=\"hm hn do ho b hp hq hr hs ht hu hv hw hx hy hz ia ib ic id ie if ig ih ii ij dg el\">One way to approach the metaverse is to invite people into walled gardens that provide the extensive technological scaffolding for this creativity. Indeed, this has already yielded impressive results in certain settings. In exchange, the cost for this is the high rents you’ll pay and the limits on creativity imposed by the owners.</p><p id=\"89c0\" class=\"hm hn do ho b hp hq hr hs ht hu hv hw hx hy hz ia ib ic id ie if ig ih ii ij dg el\">Another approach to these monolithic silos in which creators are hemmed-in is a “metaverse for all.” In this, the defining characteristic is <strong class=\"ho js\">decentralization</strong>. We already see this in the realm of <a href=\"https://en.wikipedia.org/wiki/Decentralized_finance\" class=\"bu jk\" rel=\"noopener ugc nofollow\" target=\"_blank\">decentralized finance</a> (DeFi). To unlock the creativity of the world, we’ll need similar patterns to play out in the space of virtual worlds and games. Technologies, interfaces and business services are emerging that allow anyone to mash-up, mix, build around and be compensated for creativity. This sort of metaverse demands the ability to create and exchange assets among games, worlds and environments — and a decoupling of the rules, content and technical underpinnings. Creative work will need to be freed from programming and technical impediments that cause the multiplication of processes, workflows and domains of engineering knowledge.</p><p id=\"b0db\" class=\"hm hn do ho b hp hq hr hs ht hu hv hw hx hy hz ia ib ic id ie if ig ih ii ij dg el\">In this future, the AI that drives a chess table could power a game on a phone or executed within a table manifested in virtual reality; the art that represents the assets could come from a marketplace that properly compensates creators; and participation in live chess tournaments could be driven by a live events engine with ticket sales that fund the organizers.</p><p id=\"fa68\" class=\"hm hn do ho b hp hq hr hs ht hu hv hw hx hy hz ia ib ic id ie if ig ih ii ij dg el\">Walled gardens will contain the expansive theme parks that you’ll enjoy visiting — but they won’t be the only destinations. These theme parks will include games, experiences and artistry made by individual innovators and tiny, creative teams… who can choose whether they’d prefer to access the large audiences inside these realms, or strike out on their own and retain their independence.</p><figure class=\"gv gw gx gy gz ha cs ct paragraph-image\"><div role=\"button\" tabindex=\"0\" class=\"hb hc hd he aj hf\"><div class=\"cs ct jt\"><div class=\"jd s hd je\"><div class=\"ju jg s\"><div class=\"iy iz t u v ja aj at jb jc\"><img alt=\"\" class=\"t u v ja aj jh ji jj\" src=\"https://miro.medium.com/max/60/1*mExGaBhc3iRee0t8FoLl-Q.jpeg?q=20\" width=\"700\" height=\"169\" role=\"presentation\"/></div><img alt=\"\" class=\"iy iz t u v ja aj c\" width=\"700\" height=\"169\" role=\"presentation\"/><noscript><img alt=\"\" class=\"t u v ja aj\" src=\"https://miro.medium.com/max/1400/1*mExGaBhc3iRee0t8FoLl-Q.jpeg\" width=\"700\" height=\"169\" srcSet=\"https://miro.medium.com/max/552/1*mExGaBhc3iRee0t8FoLl-Q.jpeg 276w, https://miro.medium.com/max/1104/1*mExGaBhc3iRee0t8FoLl-Q.jpeg 552w, https://miro.medium.com/max/1280/1*mExGaBhc3iRee0t8FoLl-Q.jpeg 640w, https://miro.medium.com/max/1400/1*mExGaBhc3iRee0t8FoLl-Q.jpeg 700w\" sizes=\"700px\" role=\"presentation\"/></noscript></div></div></div></div><figcaption class=\"hi hj cu cs ct hk hl bo b ev bq br\">Metaverse — Flickr image by <a href=\"https://flickr.com/photos/alpha_auer/\" class=\"bu jk\" rel=\"noopener ugc nofollow\" target=\"_blank\">Elif Ayiter</a></figcaption></figure><p id=\"e970\" class=\"hm hn do ho b hp hq hr hs ht hu hv hw hx hy hz ia ib ic id ie if ig ih ii ij dg el\">That’s what I (and others who write for <em class=\"ik\">Building the Metaverse</em>)<em class=\"ik\"> </em>will cover<em class=\"ik\">: </em>we’ll write about the giant theme parks, the amazing experiences, the enabling technologies and the avenues for individual creativity. We’ll cover the decentralized tools and interfaces that support the ecosystem. We’ll discuss the business considerations, business models and new economics of this future.</p><p id=\"0913\" class=\"hm hn do ho b hp hq hr hs ht hu hv hw hx hy hz ia ib ic id ie if ig ih ii ij dg el\">Welcome to the metaverse: weirder, different and even more amazing than we originally imagined.</p><h1 id=\"85a3\" class=\"jv jw do bo jx jy jz hr ka kb kc hv kd ke kf kg kh ki kj kk kl km kn ko kp kq el\">Further Reading</h1><p id=\"25e6\" class=\"hm hn do ho b hp kr hr hs ht ks hv hw hx kt hz ia ib ku id ie if kv ih ii ij dg el\">If you enjoyed this introductory article, you’ll love this deck I assembled to capture many of the topics I cover on <em class=\"ik\">Building the Metaverse:</em></p><figure class=\"gv gw gx gy gz ha\"><div class=\"jd s hd\"><div class=\"kw jg s\"></div></div></figure><p id=\"3c9c\" class=\"hm hn do ho b hp hq hr hs ht hu hv hw hx hy hz ia ib ic id ie if ig ih ii ij dg el\">After you’ve flipped through that, please enjoy a few follow-up articles. These are everyone’s favorites:</p><ul class=\"\"><li id=\"5a70\" class=\"hm hn do ho b hp hq hr hs ht hu hv hw hx hy hz ia ib ic id ie if ig ih ii ij kx ky kz el\"><a class=\"bu jk\" rel=\"noopener\" href=\"/building-the-metaverse/market-map-of-the-metaverse-8ae0cde89696\">Market Map of the Metaverse.</a> I categorize 160+ companies into 7 industry layers, and include a concise comparison of Roblox, Unity and Epic.</li><li id=\"53e7\" class=\"hm hn do ho b hp la hr hs ht lb hv hw hx lc hz ia ib ld id ie if le ih ii ij kx ky kz el\"><a class=\"bu jk\" rel=\"noopener\" href=\"/building-the-metaverse/the-metaverse-value-chain-afcf9e09e3a7\">The Metaverse Value-Chain.</a> How value flows through the 7 industry layers.</li><li id=\"35fd\" class=\"hm hn do ho b hp la hr hs ht lb hv hw hx lc hz ia ib ld id ie if le ih ii ij kx ky kz el\"><a class=\"bu jk\" rel=\"noopener\" href=\"/building-the-metaverse/the-experiences-of-the-metaverse-2126a7899020\">The Experiences of the Metaverse</a>. I dive into some of the specific experiences that people will have — and are already having — in the metaverse.</li></ul></div></div></section></div></div></article><div class=\"iy df lg ln aj lo u ll lp\" data-test-id=\"post-sidebar\"><div class=\"n p\"><div class=\"ab ac ae af ag ah ai aj\"><div class=\"lq n lr\"><div class=\"df\"><div><div class=\"lt s\"><a href=\"/building-the-metaverse?source=post_sidebar--------------------------post_sidebar--------------\" class=\"bu bv bw bx by bz ca cb ba cc cd ce cf cg ch\" rel=\"noopener follow\"><h2 class=\"bo jx ls bq dn el dg\">Building the Metaverse</h2></a><div class=\"lu lv s\"><p class=\"bo b ev bq at lw ez fa lx fc fd br\">Games, experiences, technology, economics, culture and art of the metaverse.</p></div><div class=\"ft\" aria-hidden=\"false\" aria-describedby=\"collectionFollowPopover\" aria-labelledby=\"collectionFollowPopover\"></div></div><div class=\"ly aq aj n o lz ma\"><div class=\"mb n\"><div class=\"n o lz\"><div class=\"hd mc md me mf mg mh\"><span><a class=\"bu bv bw bx by bz ca cb ba cc cd ce cf cg ch\" rel=\"noopener follow\" href=\"/m/signin?actionUrl=https%3A%2F%2Fmedium.com%2F_%2Fvote%2Fbuilding-the-metaverse%2Fc9ef03c1a5dd&amp;operation=register&amp;redirect=https%3A%2F%2Fmedium.com%2Fbuilding-the-metaverse%2Fwhat-we-talk-about-when-we-talk-about-the-metaverse-c9ef03c1a5dd&amp;user=Jon+Radoff&amp;userId=7e6b05637259&amp;source=post_sidebar-----c9ef03c1a5dd---------------------clap_sidebar--------------\"><div class=\"cb mi mj mk ml mm mn mh r mo mp\"><svg width=\"29\" height=\"29\" aria-label=\"clap\"><g fill-rule=\"evenodd\"><path d=\"M13.74 1l.76 2.97.76-2.97zM16.82 4.78l1.84-2.56-1.43-.47zM10.38 2.22l1.84 2.56-.41-3.03zM22.38 22.62a5.11 5.11 0 0 1-3.16 1.61l.49-.45c2.88-2.89 3.45-5.98 1.69-9.21l-1.1-1.94-.96-2.02c-.31-.67-.23-1.18.25-1.55a.84.84 0 0 1 .66-.16c.34.05.66.28.88.6l2.85 5.02c1.18 1.97 1.38 5.12-1.6 8.1M9.1 22.1l-5.02-5.02a1 1 0 0 1 .7-1.7 1 1 0 0 1 .72.3l2.6 2.6a.44.44 0 0 0 .63-.62L6.1 15.04l-1.75-1.75a1 1 0 1 1 1.41-1.41l4.15 4.15a.44.44 0 0 0 .63 0 .44.44 0 0 0 0-.62L6.4 11.26l-1.18-1.18a1 1 0 0 1 0-1.4 1.02 1.02 0 0 1 1.41 0l1.18 1.16L11.96 14a.44.44 0 0 0 .62 0 .44.44 0 0 0 0-.63L8.43 9.22a.99.99 0 0 1-.3-.7.99.99 0 0 1 .3-.7 1 1 0 0 1 1.41 0l7 6.98a.44.44 0 0 0 .7-.5l-1.35-2.85c-.31-.68-.23-1.19.25-1.56a.85.85 0 0 1 .66-.16c.34.06.66.28.88.6L20.63 15c1.57 2.88 1.07 5.54-1.55 8.16a5.62 5.62 0 0 1-5.06 1.65 9.35 9.35 0 0 1-4.93-2.72zM13 6.98l2.56 2.56c-.5.6-.56 1.41-.15 2.28l.26.56-4.25-4.25a.98.98 0 0 1-.12-.45 1 1 0 0 1 .29-.7 1.02 1.02 0 0 1 1.41 0zm8.89 2.06c-.38-.56-.9-.92-1.49-1.01a1.74 1.74 0 0 0-1.34.33c-.38.29-.61.65-.71 1.06a2.1 2.1 0 0 0-1.1-.56 1.78 1.78 0 0 0-.99.13l-2.64-2.64a1.88 1.88 0 0 0-2.65 0 1.86 1.86 0 0 0-.48.85 1.89 1.89 0 0 0-2.67-.01 1.87 1.87 0 0 0-.5.9c-.76-.75-2-.75-2.7-.04a1.88 1.88 0 0 0 0 2.66c-.3.12-.61.29-.87.55a1.88 1.88 0 0 0 0 2.66l.62.62a1.88 1.88 0 0 0-.9 3.16l5.01 5.02c1.6 1.6 3.52 2.64 5.4 2.96a7.16 7.16 0 0 0 1.18.1c1.03 0 2-.25 2.9-.7A5.9 5.9 0 0 0 23 23.24c3.34-3.34 3.08-6.93 1.74-9.17l-2.87-5.04z\"></path></g></svg></div></a></span></div><div class=\"s mq mr ms mt mu mv mw\"><div class=\"mx\"><p class=\"bo b ev bq br\"><button class=\"bu bv bw bx by bz ca cb ba cc cd ce cf cg ch\">145<!-- --> </button></p></div></div></div></div><div class=\"my mb s\"><div class=\"n\"><button class=\"ml mj cb\"><div class=\"n o lz\"><div class=\"n o\"><div><div class=\"ft\" role=\"tooltip\" aria-hidden=\"false\"><svg width=\"25\" height=\"25\" aria-label=\"responses\" class=\"mz na ml mp\"><path d=\"M19.07 21.12a6.33 6.33 0 0 1-3.53-1.1 7.8 7.8 0 0 1-.7-.52c-.77.21-1.57.32-2.38.32-4.67 0-8.46-3.5-8.46-7.8C4 7.7 7.79 4.2 12.46 4.2c4.66 0 8.46 3.5 8.46 7.8 0 2.06-.85 3.99-2.4 5.45a6.28 6.28 0 0 0 1.14 2.59c.15.21.17.48.06.7a.69.69 0 0 1-.62.38h-.03zm0-1v.5l.03-.5h-.03zm-3.92-1.64l.21.2a6.09 6.09 0 0 0 3.24 1.54 7.14 7.14 0 0 1-.83-1.84 5.15 5.15 0 0 1-.16-.75 2.4 2.4 0 0 1-.02-.29v-.23l.18-.15a6.6 6.6 0 0 0 2.3-4.96c0-3.82-3.4-6.93-7.6-6.93-4.19 0-7.6 3.11-7.6 6.93 0 3.83 3.41 6.94 7.6 6.94.83 0 1.64-.12 2.41-.35l.28-.08z\" fill-rule=\"evenodd\"></path></svg></div></div><p class=\"bo b ev bq br\"><span class=\"nb na\">2</span></p></div></div></button></div></div><div class=\"nc s\"></div></div></div></div></div></div></div></div><div class=\"iy df lf lg lh li lj lk ll lm\"></div><div><div class=\"nd ha n lr p\"><div class=\"n p\"><div class=\"ab ac ae af ag dl ai aj\"><div class=\"n ne\"></div><div class=\"n o ne\"><div class=\"s\"><div class=\"ft\"><p class=\"bo b bp bq br\"><div><div class=\"ft\" role=\"tooltip\" aria-hidden=\"false\"><a href=\"http://creativecommons.org/licenses/by/4.0/\" class=\"bu bv bw bx by bz ca cb ba cc fe cf cg ch\" rel=\"noopener follow\" target=\"_blank\">Some rights reserved</a></div></div></p></div><div class=\"ft\"><p class=\"bo b bp bq br\"><span class=\"gr\" style=\"margin-left:5px;vertical-align:text-bottom\"><svg width=\"21\" height=\"21\"><path d=\"M10.48 2c2.4 0 4.4.82 6.04 2.46A8.2 8.2 0 0 1 19 10.5c0 2.39-.81 4.38-2.43 5.96A8.4 8.4 0 0 1 10.49 19c-2.3 0-4.3-.83-5.98-2.5C2.84 14.82 2 12.83 2 10.5s.83-4.34 2.5-6.04A8.14 8.14 0 0 1 10.48 2zm.03 1.53c-1.93 0-3.56.68-4.9 2.04a6.84 6.84 0 0 0-.01 9.82 6.71 6.71 0 0 0 4.92 2.06c1.89 0 3.54-.69 4.94-2.07a6.47 6.47 0 0 0 2-4.87c0-1.93-.67-3.57-2.03-4.93a6.72 6.72 0 0 0-4.91-2.03zM12.8 8.4v3.48h-.97v4.12H9.18v-4.12h-.97V8.39A.53.53 0 0 1 8.37 8a.53.53 0 0 1 .39-.16h3.49c.14 0 .27.06.38.16a.52.52 0 0 1 .16.39zM9.32 6.2c0-.8.39-1.2 1.18-1.2.79 0 1.18.4 1.18 1.2 0 .8-.4 1.19-1.18 1.19-.79 0-1.18-.4-1.18-1.18z\" fill-rule=\"evenodd\"></path></svg></span></p></div></div></div><div class=\"nf s\"><ul class=\"cb ba\"><li class=\"ft az ng nh\"><a href=\"https://medium.com/building-the-metaverse/tagged/metaverse\" class=\"bo b bp ni br nj nk fu s gb\">Metaverse</a></li><li class=\"ft az ng nh\"><a href=\"https://medium.com/building-the-metaverse/tagged/game-development\" class=\"bo b bp ni br nj nk fu s gb\">Game Development</a></li><li class=\"ft az ng nh\"><a href=\"https://medium.com/building-the-metaverse/tagged/free-to-play\" class=\"bo b bp ni br nj nk fu s gb\">Free To Play</a></li><li class=\"ft az ng nh\"><a href=\"https://medium.com/building-the-metaverse/tagged/mmorpg\" class=\"bo b bp ni br nj nk fu s gb\">Mmorpg</a></li><li class=\"ft az ng nh\"><a href=\"https://medium.com/building-the-metaverse/tagged/virtual-reality\" class=\"bo b bp ni br nj nk fu s gb\">Virtual Reality</a></li></ul></div><div class=\"nf s\"><div class=\"n en z\"><div class=\"n o lz\"><div class=\"nl s\"><span class=\"s nm nn no e d\"><div class=\"n o lz\"><div class=\"hd mc md me mf mg mh\"><span><a class=\"bu bv bw bx by bz ca cb ba cc cd ce cf cg ch\" rel=\"noopener follow\" href=\"/m/signin?actionUrl=https%3A%2F%2Fmedium.com%2F_%2Fvote%2Fbuilding-the-metaverse%2Fc9ef03c1a5dd&amp;operation=register&amp;redirect=https%3A%2F%2Fmedium.com%2Fbuilding-the-metaverse%2Fwhat-we-talk-about-when-we-talk-about-the-metaverse-c9ef03c1a5dd&amp;user=Jon+Radoff&amp;userId=7e6b05637259&amp;source=post_actions_footer-----c9ef03c1a5dd---------------------clap_footer--------------\"><div class=\"cb mi mj mk ml mm mn mh r mo mp\"><svg width=\"25\" height=\"25\" viewBox=\"0 0 25 25\" aria-label=\"clap\"><g fill-rule=\"evenodd\"><path d=\"M11.74 0l.76 2.97.76-2.97zM14.81 3.78l1.84-2.56-1.42-.47zM8.38 1.22l1.84 2.56L9.8.75zM20.38 21.62a5.11 5.11 0 0 1-3.16 1.61l.49-.45c2.88-2.89 3.45-5.98 1.69-9.21l-1.1-1.94-.96-2.02c-.31-.67-.23-1.18.25-1.55a.84.84 0 0 1 .66-.16c.34.05.66.28.88.6l2.85 5.02c1.18 1.97 1.38 5.12-1.6 8.1M7.1 21.1l-5.02-5.02a1 1 0 0 1 .7-1.7 1 1 0 0 1 .72.3l2.6 2.6a.44.44 0 0 0 .63-.62L4.1 14.04l-1.75-1.75a1 1 0 1 1 1.41-1.41l4.15 4.15a.44.44 0 0 0 .63 0 .44.44 0 0 0 0-.62L4.4 10.26 3.22 9.08a1 1 0 0 1 0-1.4 1.02 1.02 0 0 1 1.41 0l1.18 1.16L9.96 13a.44.44 0 0 0 .62 0 .44.44 0 0 0 0-.63L6.43 8.22a.99.99 0 0 1-.3-.7.99.99 0 0 1 .3-.7 1 1 0 0 1 1.41 0l7 6.98a.44.44 0 0 0 .7-.5l-1.35-2.85c-.31-.68-.23-1.19.25-1.56a.85.85 0 0 1 .66-.16c.34.06.66.28.88.6L18.63 14c1.57 2.88 1.07 5.54-1.55 8.16a5.62 5.62 0 0 1-5.06 1.65 9.35 9.35 0 0 1-4.93-2.72zM11 5.98l2.56 2.56c-.5.6-.56 1.41-.15 2.28l.26.56-4.25-4.25a.98.98 0 0 1-.12-.45 1 1 0 0 1 .29-.7 1.02 1.02 0 0 1 1.41 0zm8.89 2.06c-.38-.56-.9-.92-1.49-1.01a1.74 1.74 0 0 0-1.34.33c-.38.29-.61.65-.71 1.06a2.1 2.1 0 0 0-1.1-.56 1.78 1.78 0 0 0-.99.13l-2.64-2.64a1.88 1.88 0 0 0-2.65 0 1.86 1.86 0 0 0-.48.85 1.89 1.89 0 0 0-2.67-.01 1.87 1.87 0 0 0-.5.9c-.76-.75-2-.75-2.7-.04a1.88 1.88 0 0 0 0 2.66c-.3.12-.61.29-.87.55a1.88 1.88 0 0 0 0 2.66l.62.62a1.88 1.88 0 0 0-.9 3.16l5.01 5.02c1.6 1.6 3.52 2.64 5.4 2.96a7.16 7.16 0 0 0 1.18.1c1.03 0 2-.25 2.9-.7A5.9 5.9 0 0 0 21 22.24c3.34-3.34 3.08-6.93 1.74-9.17l-2.87-5.04z\"></path></g></svg></div></a></span></div><div class=\"s mq mr ms mt np nq nr\"><div class=\"hd ns mx\"><p class=\"bo b ev bq el\"><button class=\"bu bv bw bx by bz ca cb ba cc cd ce cf cg ch\">145<span class=\"s h g f nt nu\">\\xa0<!-- -->claps</span></button><span class=\"s h g f nt nu\"></span></p></div></div></div></span><span class=\"s h g f nt nu\"><div class=\"n o lz\"><div class=\"hd mc md me mf mg mh\"><span><a class=\"bu bv bw bx by bz ca cb ba cc cd ce cf cg ch\" rel=\"noopener follow\" href=\"/m/signin?actionUrl=https%3A%2F%2Fmedium.com%2F_%2Fvote%2Fbuilding-the-metaverse%2Fc9ef03c1a5dd&amp;operation=register&amp;redirect=https%3A%2F%2Fmedium.com%2Fbuilding-the-metaverse%2Fwhat-we-talk-about-when-we-talk-about-the-metaverse-c9ef03c1a5dd&amp;user=Jon+Radoff&amp;userId=7e6b05637259&amp;source=post_actions_footer-----c9ef03c1a5dd---------------------clap_footer--------------\"><div class=\"cb mi mj mk ml mm mn mh r mo mp\"><svg width=\"25\" height=\"25\" viewBox=\"0 0 25 25\" aria-label=\"clap\"><g fill-rule=\"evenodd\"><path d=\"M11.74 0l.76 2.97.76-2.97zM14.81 3.78l1.84-2.56-1.42-.47zM8.38 1.22l1.84 2.56L9.8.75zM20.38 21.62a5.11 5.11 0 0 1-3.16 1.61l.49-.45c2.88-2.89 3.45-5.98 1.69-9.21l-1.1-1.94-.96-2.02c-.31-.67-.23-1.18.25-1.55a.84.84 0 0 1 .66-.16c.34.05.66.28.88.6l2.85 5.02c1.18 1.97 1.38 5.12-1.6 8.1M7.1 21.1l-5.02-5.02a1 1 0 0 1 .7-1.7 1 1 0 0 1 .72.3l2.6 2.6a.44.44 0 0 0 .63-.62L4.1 14.04l-1.75-1.75a1 1 0 1 1 1.41-1.41l4.15 4.15a.44.44 0 0 0 .63 0 .44.44 0 0 0 0-.62L4.4 10.26 3.22 9.08a1 1 0 0 1 0-1.4 1.02 1.02 0 0 1 1.41 0l1.18 1.16L9.96 13a.44.44 0 0 0 .62 0 .44.44 0 0 0 0-.63L6.43 8.22a.99.99 0 0 1-.3-.7.99.99 0 0 1 .3-.7 1 1 0 0 1 1.41 0l7 6.98a.44.44 0 0 0 .7-.5l-1.35-2.85c-.31-.68-.23-1.19.25-1.56a.85.85 0 0 1 .66-.16c.34.06.66.28.88.6L18.63 14c1.57 2.88 1.07 5.54-1.55 8.16a5.62 5.62 0 0 1-5.06 1.65 9.35 9.35 0 0 1-4.93-2.72zM11 5.98l2.56 2.56c-.5.6-.56 1.41-.15 2.28l.26.56-4.25-4.25a.98.98 0 0 1-.12-.45 1 1 0 0 1 .29-.7 1.02 1.02 0 0 1 1.41 0zm8.89 2.06c-.38-.56-.9-.92-1.49-1.01a1.74 1.74 0 0 0-1.34.33c-.38.29-.61.65-.71 1.06a2.1 2.1 0 0 0-1.1-.56 1.78 1.78 0 0 0-.99.13l-2.64-2.64a1.88 1.88 0 0 0-2.65 0 1.86 1.86 0 0 0-.48.85 1.89 1.89 0 0 0-2.67-.01 1.87 1.87 0 0 0-.5.9c-.76-.75-2-.75-2.7-.04a1.88 1.88 0 0 0 0 2.66c-.3.12-.61.29-.87.55a1.88 1.88 0 0 0 0 2.66l.62.62a1.88 1.88 0 0 0-.9 3.16l5.01 5.02c1.6 1.6 3.52 2.64 5.4 2.96a7.16 7.16 0 0 0 1.18.1c1.03 0 2-.25 2.9-.7A5.9 5.9 0 0 0 21 22.24c3.34-3.34 3.08-6.93 1.74-9.17l-2.87-5.04z\"></path></g></svg></div></a></span></div><div class=\"s mq mr ms mt np nq nr\"><div class=\"mx\"><p class=\"bo b ev bq br\"><button class=\"bu bv bw bx by bz ca cb ba cc cd ce cf cg ch\">145<!-- --> </button></p></div></div></div></span></div><div class=\"nv n\"><div class=\"n\"><button class=\"ml mj cb\"><div class=\"n o lz\"><div class=\"n o\"><div><div class=\"ft\" role=\"tooltip\" aria-hidden=\"false\"><svg width=\"29\" height=\"29\" aria-label=\"responses\" class=\"mz na ml mp nw\"><path d=\"M21.27 20.06a9.04 9.04 0 0 0 2.75-6.68C24.02 8.21 19.67 4 14.1 4S4 8.21 4 13.38c0 5.18 4.53 9.39 10.1 9.39 1 0 2-.14 2.95-.41.28.25.6.49.92.7a7.46 7.46 0 0 0 4.19 1.3c.27 0 .5-.13.6-.35a.63.63 0 0 0-.05-.65 8.08 8.08 0 0 1-1.29-2.58 5.42 5.42 0 0 1-.15-.75zm-3.85 1.32l-.08-.28-.4.12a9.72 9.72 0 0 1-2.84.43c-4.96 0-9-3.71-9-8.27 0-4.55 4.04-8.26 9-8.26 4.95 0 8.77 3.71 8.77 8.27 0 2.25-.75 4.35-2.5 5.92l-.24.21v.32a5.59 5.59 0 0 0 .21 1.29c.19.7.49 1.4.89 2.08a6.43 6.43 0 0 1-2.67-1.06c-.34-.22-.88-.48-1.16-.74z\"></path></svg></div></div><p class=\"bo b ev bq el\"><span class=\"fv nx na\">2</span></p></div></div></button></div></div></div><div class=\"n o\"><div class=\"gq s ap\"><div><div class=\"ft\" role=\"tooltip\" aria-hidden=\"false\"><button class=\"bu bv bw bx by bz ca cb ba cc cd ce cf cg ch\" aria-label=\"Share on twitter\"><svg width=\"30\" height=\"30\" viewBox=\"0 0 30 30\" fill=\"none\" class=\"gr gs\"><path fill-rule=\"evenodd\" clip-rule=\"evenodd\" d=\"M15 27a12 12 0 1 0 0-24 12 12 0 0 0 0 24zm4.95-16.17a2.67 2.67 0 0 0-4.6 1.84c0 .2.03.41.05.62a7.6 7.6 0 0 1-5.49-2.82 3 3 0 0 0-.38 1.34c.02.94.49 1.76 1.2 2.23a2.53 2.53 0 0 1-1.2-.33v.04c0 1.28.92 2.36 2.14 2.62-.23.05-.46.08-.71.1l-.21-.02-.27-.03a2.68 2.68 0 0 0 2.48 1.86A5.64 5.64 0 0 1 9 19.38a7.62 7.62 0 0 0 4.1 1.19c4.9 0 7.58-4.07 7.57-7.58v-.39c.52-.36.97-.83 1.33-1.38-.48.23-1 .37-1.53.43.56-.33.96-.86 1.15-1.48-.5.31-1.07.53-1.67.66z\" fill=\"#292929\"></path></svg></button></div></div></div><div class=\"gq s ap\"><div><div class=\"ft\" role=\"tooltip\" aria-hidden=\"false\"><button class=\"bu bv bw bx by bz ca cb ba cc cd ce cf cg ch\" aria-label=\"Share on facebook\"><svg width=\"30\" height=\"30\" viewBox=\"0 0 30 30\" fill=\"none\" class=\"gr gs\"><path fill-rule=\"evenodd\" clip-rule=\"evenodd\" d=\"M15 27a12 12 0 1 0 0-24 12 12 0 0 0 0 24zm-1.23-6.03V15.6H12v-2.15h1.77v-1.6C13.77 10 14.85 9 16.42 9c.75 0 1.4.06 1.58.08v1.93h-1.09c-.85 0-1.02.43-1.02 1.05v1.38h2.04l-.27 2.15H15.9V21l-2.13-.03z\" fill=\"#292929\"></path></svg></button></div></div></div><div class=\"gq s ap\"><div><div class=\"ft\" role=\"tooltip\" aria-hidden=\"false\"><button class=\"bu bv bw bx by bz ca cb ba cc cd ce cf cg ch\" aria-label=\"Share on linkedin\"><svg width=\"30\" height=\"30\" viewBox=\"0 0 30 30\" fill=\"none\" class=\"gr gs\"><path fill-rule=\"evenodd\" clip-rule=\"evenodd\" d=\"M27 15a12 12 0 1 1-24 0 12 12 0 0 1 24 0zm-14.61 5v-7.42h-2.26V20h2.26zm-1.13-8.44c.79 0 1.28-.57 1.28-1.28-.02-.73-.5-1.28-1.26-1.28-.78 0-1.28.55-1.28 1.28 0 .71.49 1.28 1.25 1.28h.01zM15.88 20h-2.5s.04-6.5 0-7.17h2.5v1.02l-.02.02h.02v-.02a2.5 2.5 0 0 1 2.25-1.18c1.64 0 2.87 1.02 2.87 3.22V20h-2.5v-3.83c0-.97-.36-1.62-1.26-1.62-.69 0-1.1.44-1.28.87-.06.15-.08.36-.08.58v4z\" fill=\"#292929\"></path></svg></button></div></div></div><div class=\"s ap\"><div><div class=\"ft\" role=\"tooltip\" aria-hidden=\"false\"><button class=\"bu bv bw bx by bz ca cb ba cc cd ce cf cg ch\"><svg width=\"30\" height=\"30\" viewBox=\"0 0 30 30\" fill=\"none\" class=\"gr gs\"><path fill-rule=\"evenodd\" clip-rule=\"evenodd\" d=\"M15 27a12 12 0 1 0 0-24 12 12 0 0 0 0 24zM9.29 16.28c-.2.36-.29.75-.29 1.17a2.57 2.57 0 0 0 .78 1.84l1.01.96c.53.5 1.17.75 1.92.75s1.38-.25 1.9-.75l1.2-1.15.75-.71.51-.5a2.51 2.51 0 0 0 .72-2.34.7.7 0 0 0-.03-.18 2.74 2.74 0 0 0-.23-.5v-.02l-.08-.14-.02-.03-.02-.01a.33.33 0 0 0-.07-.1c0-.02-.01-.03-.03-.05a.2.2 0 0 0-.03-.03l-.03-.04v-.01l-.02-.03-.04-.03a.85.85 0 0 1-.13-.13l-.43-.42-.06.06-.9.84-.05.09a.26.26 0 0 0-.03.1l.37.38c.04.03.08.07.1.11l.01.01.01.03.02.01.04.1.03.04.06.1v.02l.01.02c.03.1.05.2.05.33a1 1 0 0 1-.12.49c-.07.13-.15.22-.22.29l-.88.85-.61.57-.95.92c-.22.2-.5.3-.82.3-.31 0-.58-.1-.8-.3l-.98-.96a1.15 1.15 0 0 1-.3-.42 1.4 1.4 0 0 1-.04-.35c0-.1.01-.2.04-.3a1 1 0 0 1 .3-.49l1.5-1.46v-.24c0-.21 0-.42.04-.6a3.5 3.5 0 0 1 .92-1.72c-.41.1-.78.32-1.11.62l-.01.02-.01.01-2.46 2.33c-.2.21-.35.4-.44.6h-.02c0 .02 0 .02-.02.02v.02l-.01.01zm3.92-1.8a1.83 1.83 0 0 0 .02.97c0 .06 0 .13.02.19.06.17.14.34.22.5v.02l.06.12.02.03.01.02.08.1c0 .02.02.03.04.05l.08.1h.01c0 .01 0 .03.02.03l.14.14.43.41.08-.06.88-.84.05-.09.03-.1-.36-.37a.4.4 0 0 1-.12-.13v-.02l-.02-.02-.05-.09-.04-.04-.04-.1v-.02l-.02-.02a1.16 1.16 0 0 1 .06-.82c.09-.14.16-.24.23-.3l.9-.85.6-.58.93-.92c.23-.2.5-.3.82-.3a1.2 1.2 0 0 1 .82.3l1 .96c.13.15.23.29.28.42a1.43 1.43 0 0 1 0 .66c-.03.17-.12.33-.26.48l-1.54 1.45.02.25a3.28 3.28 0 0 1-.96 2.32 2.5 2.5 0 0 0 1.1-.62l.01-.01 2.46-2.34c.19-.2.35-.4.46-.6l.02-.02v-.02h.01a2.45 2.45 0 0 0 .21-1.82 2.53 2.53 0 0 0-.7-1.19l-1-.96a2.68 2.68 0 0 0-1.91-.75c-.75 0-1.38.25-1.9.76l-1.2 1.14-.76.72-.5.49c-.4.37-.64.83-.74 1.37z\" fill=\"#292929\"></path></svg></button></div></div></div><div class=\"gt s ap\"></div></div></div></div></div></div><div><div class=\"n p\"><div class=\"ab ac ae af ag dl ai aj\"><div class=\"ly aq ny nf s nz z\"><div class=\"s g\"><div class=\"ly s\"></div><div class=\"oa ob s hd\"><span class=\"s oc am od\"><div class=\"s t oe of\"><a href=\"https://medium.com/building-the-metaverse?source=follow_footer-----c9ef03c1a5dd-----------------------------------\" rel=\"noopener follow\"><img alt=\"Building the Metaverse\" class=\"cy og bh\" src=\"https://miro.medium.com/fit/c/160/160/1*SxtNtsUJH_VNp8E4urbS-A.jpeg\" width=\"80\" height=\"80\"/></a></div><span class=\"s\"><div class=\"oh oi n oj\"><div class=\"aj n o en\"><h2 class=\"bo jx ok ol dn el\"><a href=\"/building-the-metaverse?source=follow_footer-----c9ef03c1a5dd-----------------------------------\" class=\"bu bv bw bx by bz ca cb ba cc cd ce cf cg ch\" rel=\"noopener follow\">Building the Metaverse</a></h2><div class=\"s g\"><div class=\"ft\" aria-hidden=\"false\" aria-describedby=\"collectionFollowPopover\" aria-labelledby=\"collectionFollowPopover\"></div></div></div></div></span></span><div class=\"oh om s oj ar\"><div class=\"on s\"><p class=\"bo b ls oo br\">Business, technology and culture of all the virtual worlds, realities and experiences of the Metaverse. 2D, 3D, mobile phones, VR/AR, games, MMORPGs, social networks, digital collectibles, esports; game design, Unity, Unreal, free-to-play (f2p), blockchain, NFTs.</p></div><div class=\"op oq ar\"><div class=\"ft\" aria-hidden=\"false\" aria-describedby=\"collectionFollowPopover\" aria-labelledby=\"collectionFollowPopover\"></div></div></div></div></div><div class=\"op ar\"><div class=\"or s\"><div class=\"n lz\"><div class=\"nx s\"><a href=\"https://jradoff.medium.com/?source=follow_footer-----c9ef03c1a5dd-----------------------------------\" rel=\"noopener follow\"><img alt=\"Jon Radoff\" class=\"s er os ot\" src=\"https://miro.medium.com/fit/c/80/80/1*KQymw2HNPm1AVx66lJ6kVg.jpeg\" width=\"40\" height=\"40\"/></a></div><div class=\"ou s\"><p class=\"bo b ov ow ox br bs\">Written by</p><div class=\"n lz\"><h2 class=\"bo jx ls bq dn el\"><a href=\"https://jradoff.medium.com/?source=follow_footer-----c9ef03c1a5dd-----------------------------------\" class=\"bu bv bw bx by bz ca cb ba cc cd ce cf cg ch\" rel=\"noopener follow\">Jon Radoff</a></h2><div class=\"ou n\"><span><button class=\"bo b bp bq ff fg fh fi fj fk fl cc fm fn fo fp fq fr fs cv ft fu\">Follow</button></span><div class=\"fv s\"><div><div><div class=\"ft\" role=\"tooltip\" aria-hidden=\"false\"><div class=\"s\"><span><a class=\"bu bv bw bx by bz ca cb ba cc cd ce cf cg ch\" rel=\"noopener follow\" href=\"/m/signin?actionUrl=%2F_%2Fapi%2Fsubscriptions%2Fnewsletters%2Fa76d71da450d&amp;operation=register&amp;redirect=https%3A%2F%2Fmedium.com%2Fbuilding-the-metaverse%2Fwhat-we-talk-about-when-we-talk-about-the-metaverse-c9ef03c1a5dd&amp;newsletterV3=7e6b05637259&amp;newsletterV3Id=a76d71da450d&amp;user=Jon+Radoff&amp;userId=7e6b05637259&amp;source=follow_footer-----c9ef03c1a5dd---------------------subscribe_user--------------\"><button class=\"bo b ev bq fz cb ga gb gc gd ge gf gg gh fm fn fo fp fq fr fs cv ft fu\" aria-label=\"Subscribe\"><svg width=\"23\" height=\"23\" viewBox=\"0 0 23 23\" fill=\"none\" class=\"fw fx fy\"><path stroke-linecap=\"round\" d=\"M14.58 6.89h3.92M16.39 9V5.08M11.62 7.04H7a1 1 0 0 0-1 1v7.13a1 1 0 0 0 1 1h8.54a1 1 0 0 0 1-1v-3.21\"></path><path d=\"M6 8.44l5.27 3.87 2.81-2.11\" stroke-linecap=\"round\"></path></svg></button></a></span></div></div></div></div></div></div></div><div class=\"oy s\"><p class=\"bo b ev bq br\">Adventurer &amp; entrepreneur. I fight for the game-maker. I like startups, digital culture, stories, software, crypto, cooking/wine, games and adventure.</p></div></div></div><div class=\"or s\"><div class=\"n lz\"><a href=\"https://medium.com/building-the-metaverse?source=follow_footer-----c9ef03c1a5dd-----------------------------------\" rel=\"noopener follow\"><img alt=\"Building the Metaverse\" class=\"cy ot os\" src=\"https://miro.medium.com/fit/c/80/80/1*SxtNtsUJH_VNp8E4urbS-A.jpeg\" width=\"40\" height=\"40\"/></a><div class=\"ou s\"><div class=\"n lz\"><h2 class=\"bo jx ls bq dn el\"><a href=\"/building-the-metaverse?source=follow_footer-----c9ef03c1a5dd-----------------------------------\" class=\"bu bv bw bx by bz ca cb ba cc cd ce cf cg ch\" rel=\"noopener follow\">Building the Metaverse</a></h2><div class=\"ou s\"><div class=\"ft\" aria-hidden=\"false\" aria-describedby=\"collectionFollowPopover\" aria-labelledby=\"collectionFollowPopover\"></div></div></div><div class=\"oy s\"><p class=\"bo b ev bq br\">Business, technology and culture of all the virtual worlds, realities and experiences of the Metaverse. 2D, 3D, mobile phones, VR/AR, games, MMORPGs, social networks, digital collectibles, esports; game design, Unity, Unreal, free-to-play (f2p), blockchain, NFTs.</p></div></div></div></div></div></div></div></div></div><div class=\"s cw z\"><div class=\"n p\"><div class=\"ab ac ae af ag ah ai aj\"><div class=\"oz pa s\"><div class=\"pb pc pd pa s pe pf\"><h2 class=\"bo jx pg ph ka pi pj kd pk pl kh pm pn kl po pp kp el\">More From Medium</h2></div><div class=\"be n lz ne pq pr ps pt pu pv pw px py pz qa qb qc qd qe\"><div class=\"qf qg qh qi qj qk ql qm qn qo qp qq qr qs qt qu qv qw qx qy qz\"><div class=\"ra rb s\"><div class=\"aj ja\"><div class=\"n en\"><div class=\"s ay mr mt rc\"><div class=\"rd s\"><h2 class=\"bo jx re rf ka rg rh kd ri rj kh rk rl kl rm rn kp el\"><a rel=\"noopener follow\" href=\"/@jeromegmorris/rockstars-gta-trilogy-dropped-the-ball-b50f4760f160?source=post_internal_links---------0-------------------------------\">Rockstar’s GTA Trilogy Dropped the Ball,</a></h2></div><div class=\"o n\"><div></div><div class=\"aj s\"><div class=\"n\"><div style=\"flex:1\"><span class=\"bo b ev bq el\"><div class=\"ci n o ex\"><span class=\"bo b bp bq el\"><a class=\"bu bv bw bx by bz ca cb ba cc fe cf cg ch\" rel=\"noopener follow\" href=\"/@jeromegmorris?source=post_internal_links---------0-------------------------------\">Jerome Morris</a></span></div></span></div></div></div></div></div><div class=\"ou ng s ro rp\"><a class=\"bu bv bw bx by bz ca cb ba cc cd ce cf cg ch s\" rel=\"noopener follow\" href=\"/@jeromegmorris/rockstars-gta-trilogy-dropped-the-ball-b50f4760f160?source=post_internal_links---------0-------------------------------\"><div class=\"jd s hd je\"><div class=\"rq jg s\"><div class=\"iy iz t u v ja aj at jb jc\"><img class=\"t u v ja aj jh ji jj\" src=\"https://miro.medium.com/max/60/0*V4lndtzujz6zw5y_?q=20\" width=\"70\" height=\"70\" role=\"presentation\"/></div><img class=\"iy iz rr rs rt ru rv rw rx ry rz sa c\" width=\"70\" height=\"70\" role=\"presentation\"/><noscript><img class=\"rr rs rt ru rv rw rx ry rz sa\" src=\"https://miro.medium.com/fit/c/140/140/0*V4lndtzujz6zw5y_\" width=\"70\" height=\"70\" srcSet=\"https://miro.medium.com/fit/c/96/140/0*V4lndtzujz6zw5y_ 48w, https://miro.medium.com/fit/c/140/140/0*V4lndtzujz6zw5y_ 70w\" sizes=\"70px\" role=\"presentation\"/></noscript></div></div></a></div></div></div></div></div><div class=\"qf qg qh qi qj qk ql qm qn qo qp qq qr qs qt qu qv qw qx qy qz\"><div class=\"ra rb s\"><div class=\"aj ja\"><div class=\"n en\"><div class=\"s ay mr mt rc\"><div class=\"rd s\"><h2 class=\"bo jx re rf ka rg rh kd ri rj kh rk rl kl rm rn kp el\"><a rel=\"noopener follow\" href=\"/@Lucasjrivarola/the-power-fantasy-of-being-confident-and-expressive-28adf8d730db?source=post_internal_links---------1-------------------------------\">The power fantasy of being confident and expressive</a></h2></div><div class=\"o n\"><div></div><div class=\"aj s\"><div class=\"n\"><div style=\"flex:1\"><span class=\"bo b ev bq el\"><div class=\"ci n o ex\"><span class=\"bo b bp bq el\"><a class=\"bu bv bw bx by bz ca cb ba cc fe cf cg ch\" rel=\"noopener follow\" href=\"/@Lucasjrivarola?source=post_internal_links---------1-------------------------------\">Lucas Rivarola</a></span></div></span></div></div></div></div></div><div class=\"ou ng s ro rp\"><a class=\"bu bv bw bx by bz ca cb ba cc cd ce cf cg ch s\" rel=\"noopener follow\" href=\"/@Lucasjrivarola/the-power-fantasy-of-being-confident-and-expressive-28adf8d730db?source=post_internal_links---------1-------------------------------\"><div class=\"jd s hd je\"><div class=\"rq jg s\"><div class=\"iy iz t u v ja aj at jb jc\"><img class=\"t u v ja aj jh ji jj\" src=\"https://miro.medium.com/max/60/1*EJvr0-Td4grAqh5EjYtdmw.jpeg?q=20\" width=\"70\" height=\"70\" role=\"presentation\"/></div><img class=\"iy iz rr rs rt ru rv rw rx ry rz sa c\" width=\"70\" height=\"70\" role=\"presentation\"/><noscript><img class=\"rr rs rt ru rv rw rx ry rz sa\" src=\"https://miro.medium.com/fit/c/140/140/1*EJvr0-Td4grAqh5EjYtdmw.jpeg\" width=\"70\" height=\"70\" srcSet=\"https://miro.medium.com/fit/c/96/140/1*EJvr0-Td4grAqh5EjYtdmw.jpeg 48w, https://miro.medium.com/fit/c/140/140/1*EJvr0-Td4grAqh5EjYtdmw.jpeg 70w\" sizes=\"70px\" role=\"presentation\"/></noscript></div></div></a></div></div></div></div></div><div class=\"qf qg qh qi qj qk ql qm qn qo qp qq qr qs qt qu qv qw qx qy qz\"><div class=\"ra rb s\"><div class=\"aj ja\"><div class=\"n en\"><div class=\"s ay mr mt rc\"><div class=\"rd s\"><h2 class=\"bo jx re rf ka rg rh kd ri rj kh rk rl kl rm rn kp el\"><a rel=\"noopener follow\" href=\"/@SportsLawBlonde/why-i-changed-my-mind-believe-esports-is-a-sport-part-1-defining-elements-aacdef21e051?source=post_internal_links---------2-------------------------------\">Why I Changed My Mind &amp; Believe eSports is a Sport, Part 1: Defining Elements</a></h2></div><div class=\"o n\"><div></div><div class=\"aj s\"><div class=\"n\"><div style=\"flex:1\"><span class=\"bo b ev bq el\"><div class=\"ci n o ex\"><span class=\"bo b bp bq el\"><a class=\"bu bv bw bx by bz ca cb ba cc fe cf cg ch\" rel=\"noopener follow\" href=\"/@SportsLawBlonde?source=post_internal_links---------2-------------------------------\">Jaime Miettinen</a></span></div></span></div></div></div></div></div><div class=\"ou ng s ro rp\"><a class=\"bu bv bw bx by bz ca cb ba cc cd ce cf cg ch s\" rel=\"noopener follow\" href=\"/@SportsLawBlonde/why-i-changed-my-mind-believe-esports-is-a-sport-part-1-defining-elements-aacdef21e051?source=post_internal_links---------2-------------------------------\"><div class=\"jd s hd je\"><div class=\"rq jg s\"><div class=\"iy iz t u v ja aj at jb jc\"><img class=\"t u v ja aj jh ji jj\" src=\"https://miro.medium.com/max/60/1*7ikM-hVUU0QkOc-eoO5ekQ.jpeg?q=20\" width=\"70\" height=\"70\" role=\"presentation\"/></div><img class=\"iy iz rr rs rt ru rv rw rx ry rz sa c\" width=\"70\" height=\"70\" role=\"presentation\"/><noscript><img class=\"rr rs rt ru rv rw rx ry rz sa\" src=\"https://miro.medium.com/fit/c/140/140/1*7ikM-hVUU0QkOc-eoO5ekQ.jpeg\" width=\"70\" height=\"70\" srcSet=\"https://miro.medium.com/fit/c/96/140/1*7ikM-hVUU0QkOc-eoO5ekQ.jpeg 48w, https://miro.medium.com/fit/c/140/140/1*7ikM-hVUU0QkOc-eoO5ekQ.jpeg 70w\" sizes=\"70px\" role=\"presentation\"/></noscript></div></div></a></div></div></div></div></div><div class=\"qf qg qh qi qj qk ql qm qn qo qp qq qr qs qt qu qv qw qx qy qz\"><div class=\"ra rb s\"><div class=\"aj ja\"><div class=\"n en\"><div class=\"s ay mr mt rc\"><div class=\"rd s\"><h2 class=\"bo jx re rf ka rg rh kd ri rj kh rk rl kl rm rn kp el\"><a href=\"https://elijah-claude.medium.com/simulations-the-ultimate-gameplay-321c536633e0?source=post_internal_links---------3-------------------------------\" rel=\"noopener follow\">Simulations: The Ultimate Gameplay?</a></h2></div><div class=\"o n\"><div></div><div class=\"aj s\"><div class=\"n\"><div style=\"flex:1\"><span class=\"bo b ev bq el\"><div class=\"ci n o ex\"><span class=\"bo b bp bq el\"><a href=\"https://elijah-claude.medium.com/?source=post_internal_links---------3-------------------------------\" class=\"bu bv bw bx by bz ca cb ba cc fe cf cg ch\" rel=\"noopener follow\">Elijah Claude</a></span></div></span></div></div></div></div></div><div class=\"ou ng s ro rp\"><a href=\"https://elijah-claude.medium.com/simulations-the-ultimate-gameplay-321c536633e0?source=post_internal_links---------3-------------------------------\" class=\"bu bv bw bx by bz ca cb ba cc cd ce cf cg ch s\" rel=\"noopener follow\"><div class=\"jd s hd je\"><div class=\"rq jg s\"><div class=\"iy iz t u v ja aj at jb jc\"><img class=\"t u v ja aj jh ji jj\" src=\"https://miro.medium.com/max/60/0*h4V76Qe1SfKEyTk7.jpg?q=20\" width=\"70\" height=\"70\" role=\"presentation\"/></div><img class=\"iy iz rr rs rt ru rv rw rx ry rz sa c\" width=\"70\" height=\"70\" role=\"presentation\"/><noscript><img class=\"rr rs rt ru rv rw rx ry rz sa\" src=\"https://miro.medium.com/fit/c/140/140/0*h4V76Qe1SfKEyTk7.jpg\" width=\"70\" height=\"70\" srcSet=\"https://miro.medium.com/fit/c/96/140/0*h4V76Qe1SfKEyTk7.jpg 48w, https://miro.medium.com/fit/c/140/140/0*h4V76Qe1SfKEyTk7.jpg 70w\" sizes=\"70px\" role=\"presentation\"/></noscript></div></div></a></div></div></div></div></div><div class=\"qf qg qh qi qj qk ql qm qn qo qp qq qr qs qt qu qv qw qx qy qz\"><div class=\"ra rb s\"><div class=\"aj ja\"><div class=\"n en\"><div class=\"s ay mr mt rc\"><div class=\"rd s\"><h2 class=\"bo jx re rf ka rg rh kd ri rj kh rk rl kl rm rn kp el\"><a href=\"https://trzewik.medium.com/my-wife-said-you-will-never-play-it-again-b07552347570?source=post_internal_links---------4-------------------------------\" rel=\"noopener follow\">My wife said\\u200a—\\u200ayou will never play it again!</a></h2></div><div class=\"o n\"><div></div><div class=\"aj s\"><div class=\"n\"><div style=\"flex:1\"><span class=\"bo b ev bq el\"><div class=\"ci n o ex\"><span class=\"bo b bp bq el\"><a href=\"https://trzewik.medium.com/?source=post_internal_links---------4-------------------------------\" class=\"bu bv bw bx by bz ca cb ba cc fe cf cg ch\" rel=\"noopener follow\">Ignacy Trzewiczek</a></span></div></span></div></div></div></div></div><div class=\"ou ng s ro rp\"><a href=\"https://trzewik.medium.com/my-wife-said-you-will-never-play-it-again-b07552347570?source=post_internal_links---------4-------------------------------\" class=\"bu bv bw bx by bz ca cb ba cc cd ce cf cg ch s\" rel=\"noopener follow\"><div class=\"jd s hd je\"><div class=\"rq jg s\"><div class=\"iy iz t u v ja aj at jb jc\"><img class=\"t u v ja aj jh ji jj\" src=\"https://miro.medium.com/max/60/1*HQro-m9yXqc4l9yOnZeA9w.png?q=20\" width=\"70\" height=\"70\" role=\"presentation\"/></div><img class=\"iy iz rr rs rt ru rv rw rx ry rz sa c\" width=\"70\" height=\"70\" role=\"presentation\"/><noscript><img class=\"rr rs rt ru rv rw rx ry rz sa\" src=\"https://miro.medium.com/fit/c/140/140/1*HQro-m9yXqc4l9yOnZeA9w.png\" width=\"70\" height=\"70\" srcSet=\"https://miro.medium.com/fit/c/96/140/1*HQro-m9yXqc4l9yOnZeA9w.png 48w, https://miro.medium.com/fit/c/140/140/1*HQro-m9yXqc4l9yOnZeA9w.png 70w\" sizes=\"70px\" role=\"presentation\"/></noscript></div></div></a></div></div></div></div></div><div class=\"qf qg qh qi qj qk ql qm qn qo qp qq qr qs qt qu qv qw qx qy qz\"><div class=\"ra rb s\"><div class=\"aj ja\"><div class=\"n en\"><div class=\"s ay mr mt rc\"><div class=\"rd s\"><h2 class=\"bo jx re rf ka rg rh kd ri rj kh rk rl kl rm rn kp el\"><a href=\"https://daivd-j-kariuki.medium.com/unintelligent-view-on-game-subscriptions-3a8d098e1ced?source=post_internal_links---------5-------------------------------\" rel=\"noopener follow\">Unintelligent view on Game Subscriptions</a></h2></div><div class=\"o n\"><div></div><div class=\"aj s\"><div class=\"n\"><div style=\"flex:1\"><span class=\"bo b ev bq el\"><div class=\"ci n o ex\"><span class=\"bo b bp bq el\"><a href=\"https://daivd-j-kariuki.medium.com/?source=post_internal_links---------5-------------------------------\" class=\"bu bv bw bx by bz ca cb ba cc fe cf cg ch\" rel=\"noopener follow\">David Mwangi</a></span></div></span></div></div></div></div></div><div class=\"ou ng s ro rp\"><a href=\"https://daivd-j-kariuki.medium.com/unintelligent-view-on-game-subscriptions-3a8d098e1ced?source=post_internal_links---------5-------------------------------\" class=\"bu bv bw bx by bz ca cb ba cc cd ce cf cg ch s\" rel=\"noopener follow\"><div class=\"jd s hd je\"><div class=\"rq jg s\"><div class=\"iy iz t u v ja aj at jb jc\"><img class=\"t u v ja aj jh ji jj\" src=\"https://miro.medium.com/max/60/0*QKyykbZD1K1KwHlH?q=20\" width=\"70\" height=\"70\" role=\"presentation\"/></div><img class=\"iy iz rr rs rt ru rv rw rx ry rz sa c\" width=\"70\" height=\"70\" role=\"presentation\"/><noscript><img class=\"rr rs rt ru rv rw rx ry rz sa\" src=\"https://miro.medium.com/fit/c/140/140/0*QKyykbZD1K1KwHlH\" width=\"70\" height=\"70\" srcSet=\"https://miro.medium.com/fit/c/96/140/0*QKyykbZD1K1KwHlH 48w, https://miro.medium.com/fit/c/140/140/0*QKyykbZD1K1KwHlH 70w\" sizes=\"70px\" role=\"presentation\"/></noscript></div></div></a></div></div></div></div></div><div class=\"qf qg qh qi qj qk ql qm qn qo qp qq qr qs qt qu qv qw qx qy qz\"><div class=\"ra rb s\"><div class=\"aj ja\"><div class=\"n en\"><div class=\"s ay mr mt rc\"><div class=\"rd s\"><h2 class=\"bo jx re rf ka rg rh kd ri rj kh rk rl kl rm rn kp el\"><a rel=\"noopener follow\" href=\"/@margaretmtomlinas4/hitman-3-season-of-gluttony-will-be-released-on-august-31-1937d3f455b0?source=post_internal_links---------6-------------------------------\">Hitman 3 Season of Gluttony will be released on August 31</a></h2></div><div class=\"o n\"><div></div><div class=\"aj s\"><div class=\"n\"><div style=\"flex:1\"><span class=\"bo b ev bq el\"><div class=\"ci n o ex\"><span class=\"bo b bp bq el\"><a class=\"bu bv bw bx by bz ca cb ba cc fe cf cg ch\" rel=\"noopener follow\" href=\"/@margaretmtomlinas4?source=post_internal_links---------6-------------------------------\">Margaretmtomlinas</a></span></div></span></div></div></div></div></div><div class=\"ou ng s ro rp\"><a class=\"bu bv bw bx by bz ca cb ba cc cd ce cf cg ch s\" rel=\"noopener follow\" href=\"/@margaretmtomlinas4/hitman-3-season-of-gluttony-will-be-released-on-august-31-1937d3f455b0?source=post_internal_links---------6-------------------------------\"><div class=\"jd s hd je\"><div class=\"rq jg s\"><div class=\"iy iz t u v ja aj at jb jc\"><img class=\"t u v ja aj jh ji jj\" src=\"https://miro.medium.com/max/60/1*hn4v1tCaJy7cWMyb0bpNpQ.png?q=20\" width=\"70\" height=\"70\" role=\"presentation\"/></div><img class=\"iy iz rr rs rt ru rv rw rx ry rz sa c\" width=\"70\" height=\"70\" role=\"presentation\"/><noscript><img class=\"rr rs rt ru rv rw rx ry rz sa\" src=\"https://miro.medium.com/fit/c/140/140/1*hn4v1tCaJy7cWMyb0bpNpQ.png\" width=\"70\" height=\"70\" srcSet=\"https://miro.medium.com/fit/c/96/140/1*hn4v1tCaJy7cWMyb0bpNpQ.png 48w, https://miro.medium.com/fit/c/140/140/1*hn4v1tCaJy7cWMyb0bpNpQ.png 70w\" sizes=\"70px\" role=\"presentation\"/></noscript></div></div></a></div></div></div></div></div><div class=\"qf qg qh qi qj qk ql qm qn qo qp qq qr qs qt qu qv qw qx qy qz\"><div class=\"ra rb s\"><div class=\"aj ja\"><div class=\"n en\"><div class=\"s ay mr mt rc\"><div class=\"rd s\"><h2 class=\"bo jx re rf ka rg rh kd ri rj kh rk rl kl rm rn kp el\"><a rel=\"noopener follow\" href=\"/building-the-metaverse/10-you-need-to-know-about-games-with-nfts-ea74f1911ffc?source=post_internal_links---------7-------------------------------\">10 you Need to Know about Games with NFTs</a></h2></div><div class=\"o n\"><div></div><div class=\"aj s\"><div class=\"n\"><div style=\"flex:1\"><span class=\"bo b ev bq el\"><div class=\"ci n o ex\"><span class=\"bo b bp bq el\"><a href=\"https://jradoff.medium.com/?source=post_internal_links---------7-------------------------------\" class=\"bu bv bw bx by bz ca cb ba cc fe cf cg ch\" rel=\"noopener follow\">Jon Radoff</a><span> <!-- -->in<!-- --> <a href=\"/building-the-metaverse?source=post_internal_links---------7-------------------------------\" class=\"bu bv bw bx by bz ca cb ba cc fe cf cg ch\" rel=\"noopener follow\">Building the Metaverse</a></span></span></div></span></div></div></div></div></div><div class=\"ou ng s ro rp\"><a class=\"bu bv bw bx by bz ca cb ba cc cd ce cf cg ch s\" rel=\"noopener follow\" href=\"/building-the-metaverse/10-you-need-to-know-about-games-with-nfts-ea74f1911ffc?source=post_internal_links---------7-------------------------------\"><div class=\"jd s hd je\"><div class=\"rq jg s\"><div class=\"iy iz t u v ja aj at jb jc\"><img class=\"t u v ja aj jh ji jj\" src=\"https://miro.medium.com/max/60/1*UG0A8vemHAVYn75QTyxnEA@2x.jpeg?q=20\" width=\"70\" height=\"70\" role=\"presentation\"/></div><img class=\"iy iz rr rs rt ru rv rw rx ry rz sa c\" width=\"70\" height=\"70\" role=\"presentation\"/><noscript><img class=\"rr rs rt ru rv rw rx ry rz sa\" src=\"https://miro.medium.com/fit/c/140/140/1*UG0A8vemHAVYn75QTyxnEA@2x.jpeg\" width=\"70\" height=\"70\" srcSet=\"https://miro.medium.com/fit/c/96/140/1*UG0A8vemHAVYn75QTyxnEA@2x.jpeg 48w, https://miro.medium.com/fit/c/140/140/1*UG0A8vemHAVYn75QTyxnEA@2x.jpeg 70w\" sizes=\"70px\" role=\"presentation\"/></noscript></div></div></a></div></div></div></div></div></div></div></div></div></div></div></div></div></div></div></div><script>window.__BUILD_ID__=\"main-20211215-053323-9b5cad9957\"</script><script>window.__GRAPHQL_URI__ = \"https://medium.com/_/graphql\"</script><script>window.__PRELOADED_STATE__ = {\"algolia\":{\"queries\":{}},\"auroraPage\":{\"isAuroraPageEnabled\":false},\"bookReader\":{\"assets\":{},\"reader\":{\"currentAsset\":null,\"currentGFI\":null,\"settingsPanelIsOpen\":false,\"settings\":{\"fontFamily\":\"CHARTER\",\"fontScale\":\"M\",\"publisherStyling\":false,\"textAlignment\":\"start\",\"theme\":\"White\",\"lineSpacing\":0,\"wordSpacing\":0,\"letterSpacing\":0},\"internalNavCounter\":0,\"currentSelection\":null}},\"cache\":{\"experimentGroupSet\":true,\"reason\":\"\",\"group\":\"enabled\",\"tags\":[\"group-edgeCachePosts\",\"post-c9ef03c1a5dd\",\"user-7e6b05637259\",\"collection-844754dc359\"],\"serverVariantState\":\"44136fa355b3678a1146ad16f7e8649e94fb4fc21fe77e8310c060f61caaff8a\",\"middlewareEnabled\":true,\"cacheStatus\":\"DYNAMIC\",\"shouldUseCache\":true,\"vary\":[]},\"client\":{\"hydrated\":false,\"isUs\":false,\"isNativeMedium\":false,\"isSafariMobile\":false,\"isSafari\":false,\"routingEntity\":{\"type\":\"DEFAULT\",\"explicit\":false},\"viewerIsBot\":false},\"debug\":{\"requestId\":\"33c0554a-88db-4622-8a62-fa7f7415391c\",\"hybridDevServices\":[],\"showBookReaderDebugger\":false,\"originalSpanCarrier\":{\"ot-tracer-spanid\":\"0731cbcf31c2577c\",\"ot-tracer-traceid\":\"4f80c1528d5392b1\",\"ot-tracer-sampled\":\"true\"}},\"multiVote\":{\"clapsPerPost\":{}},\"navigation\":{\"branch\":{\"show\":null,\"hasRendered\":null,\"blockedByCTA\":false},\"hideGoogleOneTap\":false,\"hasRenderedGoogleOneTap\":null,\"hasRenderedAlternateUserBanner\":null,\"currentLocation\":\"https:\\\\u002F\\\\u002Fmedium.com\\\\u002Fbuilding-the-metaverse\\\\u002Fwhat-we-talk-about-when-we-talk-about-the-metaverse-c9ef03c1a5dd\",\"host\":\"medium.com\",\"hostname\":\"medium.com\",\"referrer\":\"\",\"hasSetReferrer\":false,\"susiModal\":{\"step\":null,\"operation\":\"register\"},\"postRead\":false,\"queryString\":\"\",\"currentHash\":\"\"},\"tracing\":{},\"userOnboarding\":{\"showFirstBookPurchaseTooltip\":false},\"config\":{\"nodeEnv\":\"production\",\"version\":\"main-20211215-053323-9b5cad9957\",\"isTaggedVersion\":false,\"isMediumDotApp\":false,\"isMediumDotAppVariant\":false,\"target\":\"production\",\"productName\":\"Medium\",\"publicUrl\":\"https:\\\\u002F\\\\u002Fcdn-client.medium.com\\\\u002Flite\",\"authDomain\":\"medium.com\",\"authGoogleClientId\":\"216296035834-k1k6qe060s2tp2a2jam4ljdcms00sttg.apps.googleusercontent.com\",\"favicon\":\"production\",\"glyphUrl\":\"https:\\\\u002F\\\\u002Fglyph.medium.com\",\"branchKey\":\"key_live_ofxXr2qTrrU9NqURK8ZwEhknBxiI6KBm\",\"lightStep\":{\"name\":\"lite-web\",\"host\":\"lightstep.medium.systems\",\"token\":\"ce5be895bef60919541332990ac9fef2\",\"appVersion\":\"main-20211215-053323-9b5cad9957\",\"disableClientReporting\":true},\"algolia\":{\"appId\":\"MQ57UUUQZ2\",\"apiKeySearch\":\"394474ced050e3911ae2249ecc774921\",\"indexPrefix\":\"medium_\",\"host\":\"-dsn.algolia.net\"},\"recaptchaKey\":\"6Lfc37IUAAAAAKGGtC6rLS13R1Hrw_BqADfS1LRk\",\"recaptcha3Key\":\"6Lf8R9wUAAAAABMI_85Wb8melS7Zj6ziuf99Yot5\",\"datadog\":{\"applicationId\":\"6702d87d-a7e0-42fe-bbcb-95b469547ea0\",\"clientToken\":\"pub853ea8d17ad6821d9f8f11861d23dfed\",\"rumToken\":\"pubf9cc52896502b9413b68ba36fc0c7162\",\"context\":{\"deployment\":{\"target\":\"production\",\"tag\":\"main-20211215-053323-9b5cad9957\",\"commit\":\"9b5cad995783610b7d20bfd576794c4082f45585\"}},\"datacenter\":\"us\"},\"googleAnalyticsCode\":\"UA-24232453-2\",\"googlePay\":{\"apiVersion\":\"2\",\"apiVersionMinor\":\"0\",\"merchantId\":\"BCR2DN6TV7EMTGBM\",\"merchantName\":\"Medium\",\"instanceMerchantId\":\"13685562959212738550\"},\"applePay\":{\"version\":3},\"signInWallCustomDomainCollectionIds\":[\"3a8144eabfe3\",\"336d898217ee\",\"61061eb0c96b\",\"138adf9c44c\",\"819cc2aaeee0\"],\"mediumOwnedAndOperatedCollectionIds\":[\"8a9336e5bb4\",\"b7e45b22fec3\",\"193b68bd4fba\",\"8d6b8a439e32\",\"54c98c43354d\",\"3f6ecf56618\",\"d944778ce714\",\"92d2092dc598\",\"ae2a65f35510\",\"1285ba81cada\",\"544c7006046e\",\"fc8964313712\",\"40187e704f1c\",\"88d9857e584e\",\"7b6769f2748b\",\"bcc38c8f6edf\",\"cef6983b292\",\"cb8577c9149e\",\"444d13b52878\",\"713d7dbc99b0\",\"ef8e90590e66\",\"191186aaafa0\",\"55760f21cdc5\",\"9dc80918cc93\",\"bdc4052bbdba\",\"8ccfed20cbb2\"],\"tierOneDomains\":[\"medium.com\",\"thebolditalic.com\",\"arcdigital.media\",\"towardsdatascience.com\",\"uxdesign.cc\",\"codeburst.io\",\"psiloveyou.xyz\",\"writingcooperative.com\",\"entrepreneurshandbook.co\",\"prototypr.io\",\"betterhumans.coach.me\",\"theascent.pub\"],\"topicsToFollow\":[\"d61cf867d93f\",\"8a146bc21b28\",\"1eca0103fff3\",\"4d562ee63426\",\"aef1078a3ef5\",\"e15e46793f8d\",\"6158eb913466\",\"55f1c20aba7a\",\"3d18b94f6858\",\"4861fee224fd\",\"63c6f1f93ee\",\"1d98b3a9a871\",\"decb52b64abf\",\"ae5d4995e225\",\"830cded25262\"],\"topicToTagMappings\":{\"accessibility\":\"accessibility\",\"addiction\":\"addiction\",\"android-development\":\"android-development\",\"art\":\"art\",\"artificial-intelligence\":\"artificial-intelligence\",\"astrology\":\"astrology\",\"basic-income\":\"basic-income\",\"beauty\":\"beauty\",\"biotech\":\"biotech\",\"blockchain\":\"blockchain\",\"books\":\"books\",\"business\":\"business\",\"cannabis\":\"cannabis\",\"cities\":\"cities\",\"climate-change\":\"climate-change\",\"comics\":\"comics\",\"coronavirus\":\"coronavirus\",\"creativity\":\"creativity\",\"cryptocurrency\":\"cryptocurrency\",\"culture\":\"culture\",\"cybersecurity\":\"cybersecurity\",\"data-science\":\"data-science\",\"design\":\"design\",\"digital-life\":\"digital-life\",\"disability\":\"disability\",\"economy\":\"economy\",\"education\":\"education\",\"equality\":\"equality\",\"family\":\"family\",\"feminism\":\"feminism\",\"fiction\":\"fiction\",\"film\":\"film\",\"fitness\":\"fitness\",\"food\":\"food\",\"freelancing\":\"freelancing\",\"future\":\"future\",\"gadgets\":\"gadgets\",\"gaming\":\"gaming\",\"gun-control\":\"gun-control\",\"health\":\"health\",\"history\":\"history\",\"humor\":\"humor\",\"immigration\":\"immigration\",\"ios-development\":\"ios-development\",\"javascript\":\"javascript\",\"justice\":\"justice\",\"language\":\"language\",\"leadership\":\"leadership\",\"lgbtqia\":\"lgbtqia\",\"lifestyle\":\"lifestyle\",\"machine-learning\":\"machine-learning\",\"makers\":\"makers\",\"marketing\":\"marketing\",\"math\":\"math\",\"media\":\"media\",\"mental-health\":\"mental-health\",\"mindfulness\":\"mindfulness\",\"money\":\"money\",\"music\":\"music\",\"neuroscience\":\"neuroscience\",\"nonfiction\":\"nonfiction\",\"outdoors\":\"outdoors\",\"parenting\":\"parenting\",\"pets\":\"pets\",\"philosophy\":\"philosophy\",\"photography\":\"photography\",\"podcasts\":\"podcast\",\"poetry\":\"poetry\",\"politics\":\"politics\",\"privacy\":\"privacy\",\"product-management\":\"product-management\",\"productivity\":\"productivity\",\"programming\":\"programming\",\"psychedelics\":\"psychedelics\",\"psychology\":\"psychology\",\"race\":\"race\",\"relationships\":\"relationships\",\"religion\":\"religion\",\"remote-work\":\"remote-work\",\"san-francisco\":\"san-francisco\",\"science\":\"science\",\"self\":\"self\",\"self-driving-cars\":\"self-driving-cars\",\"sexuality\":\"sexuality\",\"social-media\":\"social-media\",\"society\":\"society\",\"software-engineering\":\"software-engineering\",\"space\":\"space\",\"spirituality\":\"spirituality\",\"sports\":\"sports\",\"startups\":\"startup\",\"style\":\"style\",\"technology\":\"technology\",\"transportation\":\"transportation\",\"travel\":\"travel\",\"true-crime\":\"true-crime\",\"tv\":\"tv\",\"ux\":\"ux\",\"venture-capital\":\"venture-capital\",\"visual-design\":\"visual-design\",\"work\":\"work\",\"world\":\"world\",\"writing\":\"writing\"},\"defaultImages\":{\"avatar\":{\"imageId\":\"1*dmbNkD5D-u45r44go_cf0g.png\",\"height\":150,\"width\":150},\"orgLogo\":{\"imageId\":\"1*OMF3fSqH8t4xBJ9-6oZDZw.png\",\"height\":106,\"width\":545},\"postLogo\":{\"imageId\":\"1*kFrc4tBFM_tCis-2Ic87WA.png\",\"height\":810,\"width\":1440},\"postPreviewImage\":{\"imageId\":\"1*hn4v1tCaJy7cWMyb0bpNpQ.png\",\"height\":386,\"width\":579}},\"collectionStructuredData\":{\"8d6b8a439e32\":{\"name\":\"Elemental\",\"data\":{\"@type\":\"NewsMediaOrganization\",\"ethicsPolicy\":\"https:\\\\u002F\\\\u002Fhelp.medium.com\\\\u002Fhc\\\\u002Fen-us\\\\u002Farticles\\\\u002F360043290473\",\"logo\":{\"@type\":\"ImageObject\",\"url\":\"https:\\\\u002F\\\\u002Fcdn-images-1.medium.com\\\\u002Fmax\\\\u002F980\\\\u002F1*9ygdqoKprhwuTVKUM0DLPA@2x.png\",\"width\":980,\"height\":159}}},\"3f6ecf56618\":{\"name\":\"Forge\",\"data\":{\"@type\":\"NewsMediaOrganization\",\"ethicsPolicy\":\"https:\\\\u002F\\\\u002Fhelp.medium.com\\\\u002Fhc\\\\u002Fen-us\\\\u002Farticles\\\\u002F360043290473\",\"logo\":{\"@type\":\"ImageObject\",\"url\":\"https:\\\\u002F\\\\u002Fcdn-images-1.medium.com\\\\u002Fmax\\\\u002F596\\\\u002F1*uULpIlImcO5TDuBZ6lm7Lg@2x.png\",\"width\":596,\"height\":183}}},\"ae2a65f35510\":{\"name\":\"GEN\",\"data\":{\"@type\":\"NewsMediaOrganization\",\"ethicsPolicy\":\"https:\\\\u002F\\\\u002Fhelp.medium.com\\\\u002Fhc\\\\u002Fen-us\\\\u002Farticles\\\\u002F360043290473\",\"logo\":{\"@type\":\"ImageObject\",\"url\":\"https:\\\\u002F\\\\u002Fmiro.medium.com\\\\u002Fmax\\\\u002F264\\\\u002F1*RdVZMdvfV3YiZTw6mX7yWA.png\",\"width\":264,\"height\":140}}},\"88d9857e584e\":{\"name\":\"LEVEL\",\"data\":{\"@type\":\"NewsMediaOrganization\",\"ethicsPolicy\":\"https:\\\\u002F\\\\u002Fhelp.medium.com\\\\u002Fhc\\\\u002Fen-us\\\\u002Farticles\\\\u002F360043290473\",\"logo\":{\"@type\":\"ImageObject\",\"url\":\"https:\\\\u002F\\\\u002Fmiro.medium.com\\\\u002Fmax\\\\u002F540\\\\u002F1*JqYMhNX6KNNb2UlqGqO2WQ.png\",\"width\":540,\"height\":108}}},\"7b6769f2748b\":{\"name\":\"Marker\",\"data\":{\"@type\":\"NewsMediaOrganization\",\"ethicsPolicy\":\"https:\\\\u002F\\\\u002Fhelp.medium.com\\\\u002Fhc\\\\u002Fen-us\\\\u002Farticles\\\\u002F360043290473\",\"logo\":{\"@type\":\"ImageObject\",\"url\":\"https:\\\\u002F\\\\u002Fcdn-images-1.medium.com\\\\u002Fmax\\\\u002F383\\\\u002F1*haCUs0wF6TgOOvfoY-jEoQ@2x.png\",\"width\":383,\"height\":92}}},\"444d13b52878\":{\"name\":\"OneZero\",\"data\":{\"@type\":\"NewsMediaOrganization\",\"ethicsPolicy\":\"https:\\\\u002F\\\\u002Fhelp.medium.com\\\\u002Fhc\\\\u002Fen-us\\\\u002Farticles\\\\u002F360043290473\",\"logo\":{\"@type\":\"ImageObject\",\"url\":\"https:\\\\u002F\\\\u002Fmiro.medium.com\\\\u002Fmax\\\\u002F540\\\\u002F1*cw32fIqCbRWzwJaoQw6BUg.png\",\"width\":540,\"height\":123}}},\"8ccfed20cbb2\":{\"name\":\"Zora\",\"data\":{\"@type\":\"NewsMediaOrganization\",\"ethicsPolicy\":\"https:\\\\u002F\\\\u002Fhelp.medium.com\\\\u002Fhc\\\\u002Fen-us\\\\u002Farticles\\\\u002F360043290473\",\"logo\":{\"@type\":\"ImageObject\",\"url\":\"https:\\\\u002F\\\\u002Fmiro.medium.com\\\\u002Fmax\\\\u002F540\\\\u002F1*tZUQqRcCCZDXjjiZ4bDvgQ.png\",\"width\":540,\"height\":106}}}},\"embeddedPostIds\":{\"coronavirus\":\"cd3010f9d81f\"},\"sharedCdcMessaging\":{\"COVID_APPLICABLE_TAG_SLUGS\":[],\"COVID_APPLICABLE_TOPIC_NAMES\":[],\"COVID_APPLICABLE_TOPIC_NAMES_FOR_TOPIC_PAGE\":[],\"COVID_MESSAGES\":{\"tierA\":{\"text\":\"For more information on the novel coronavirus and Covid-19, visit cdc.gov.\",\"markups\":[{\"start\":66,\"end\":73,\"href\":\"https:\\\\u002F\\\\u002Fwww.cdc.gov\\\\u002Fcoronavirus\\\\u002F2019-nCoV\"}]},\"tierB\":{\"text\":\"Anyone can publish on Medium per our Policies, but we don’t fact-check every story. For more info about the coronavirus, see cdc.gov.\",\"markups\":[{\"start\":37,\"end\":45,\"href\":\"https:\\\\u002F\\\\u002Fhelp.medium.com\\\\u002Fhc\\\\u002Fen-us\\\\u002Fcategories\\\\u002F201931128-Policies-Safety\"},{\"start\":125,\"end\":132,\"href\":\"https:\\\\u002F\\\\u002Fwww.cdc.gov\\\\u002Fcoronavirus\\\\u002F2019-nCoV\"}]},\"paywall\":{\"text\":\"This article has been made free for everyone, thanks to Medium Members. For more information on the novel coronavirus and Covid-19, visit cdc.gov.\",\"markups\":[{\"start\":56,\"end\":70,\"href\":\"https:\\\\u002F\\\\u002Fmedium.com\\\\u002Fmembership\"},{\"start\":138,\"end\":145,\"href\":\"https:\\\\u002F\\\\u002Fwww.cdc.gov\\\\u002Fcoronavirus\\\\u002F2019-nCoV\"}]},\"unbound\":{\"text\":\"This article is free for everyone, thanks to Medium Members. For more information on the novel coronavirus and Covid-19, visit cdc.gov.\",\"markups\":[{\"start\":45,\"end\":59,\"href\":\"https:\\\\u002F\\\\u002Fmedium.com\\\\u002Fmembership\"},{\"start\":127,\"end\":134,\"href\":\"https:\\\\u002F\\\\u002Fwww.cdc.gov\\\\u002Fcoronavirus\\\\u002F2019-nCoV\"}]}},\"COVID_BANNER_POST_ID_OVERRIDE_WHITELIST\":[\"3b31a67bff4a\"]},\"sharedVoteMessaging\":{\"TAGS\":[\"politics\",\"election-2020\",\"government\",\"us-politics\",\"election\",\"2020-presidential-race\",\"trump\",\"donald-trump\",\"democrats\",\"republicans\",\"congress\",\"republican-party\",\"democratic-party\",\"biden\",\"joe-biden\",\"maga\"],\"TOPICS\":[\"politics\",\"election\"],\"MESSAGE\":{\"text\":\"Find out more about the U.S. election results here.\",\"markups\":[{\"start\":46,\"end\":50,\"href\":\"https:\\\\u002F\\\\u002Fcookpolitical.com\\\\u002F2020-national-popular-vote-tracker\"}]},\"EXCLUDE_POSTS\":[\"397ef29e3ca5\"]},\"embedPostRules\":[],\"recircOptions\":{\"v1\":{\"limit\":3},\"v2\":{\"limit\":8}},\"braintreeClientKey\":\"production_zjkj96jm_m56f8fqpf7ngnrd4\",\"braintree\":{\"enabled\":true,\"merchantId\":\"m56f8fqpf7ngnrd4\",\"merchantAccountId\":{\"usd\":\"AMediumCorporation_instant\",\"eur\":\"amediumcorporation_EUR\"},\"publicKey\":\"cwr8xtycwgjryv82\",\"braintreeEnvironment\":\"production\",\"dashboardUrl\":\"https:\\\\u002F\\\\u002Fwww.braintreegateway.com\\\\u002Fmerchants\",\"gracePeriodDurationInDays\":14,\"mediumMembershipPlanId\":{\"monthly\":\"ce105f8c57a3\",\"monthlyWithTrial\":\"d5ee3dbe3db8\",\"yearly\":\"a40ad4a43185\",\"yearlyStaff\":\"d74fb811198a\",\"yearlyWithTrial\":\"b3bc7350e5c7\"},\"braintreeDiscountId\":{\"oneMonthFree\":\"MONTHS_FREE_01\",\"threeMonthsFree\":\"MONTHS_FREE_03\",\"sixMonthsFree\":\"MONTHS_FREE_06\"},\"3DSecureVersion\":\"2\",\"defaultCurrency\":\"usd\"},\"paypalClientId\":\"AXj1G4fotC2GE8KzWX9mSxCH1wmPE3nJglf4Z2ig_amnhvlMVX87otaq58niAg9iuLktVNF_1WCMnN7v\",\"paypal\":{\"host\":\"https:\\\\u002F\\\\u002Fapi.paypal.com:443\",\"clientMode\":\"production\",\"serverMode\":\"live\",\"webhookId\":\"4G466076A0294510S\",\"monthlyPlan\":{\"planId\":\"P-9WR0658853113943TMU5FDQA\",\"name\":\"Medium Membership (Monthly) with setup fee\",\"description\":\"Unlimited access to the best and brightest stories on Medium. Membership billed monthly.\"},\"yearlyPlan\":{\"planId\":\"P-7N8963881P8875835MU5JOPQ\",\"name\":\"Medium Membership (Annual) with setup fee\",\"description\":\"Unlimited access to the best and brightest stories on Medium. Membership billed annually.\"},\"oneYearGift\":{\"name\":\"Medium Membership (1 Year, Digital Gift Code)\",\"description\":\"Unlimited access to the best and brightest stories on Medium. Gift codes can be redeemed at medium.com\\\\u002Fredeem.\",\"price\":\"50.00\",\"currency\":\"USD\",\"sku\":\"membership-gift-1-yr\"},\"oldMonthlyPlan\":{\"planId\":\"P-96U02458LM656772MJZUVH2Y\",\"name\":\"Medium Membership (Monthly)\",\"description\":\"Unlimited access to the best and brightest stories on Medium. Membership billed monthly.\"},\"oldYearlyPlan\":{\"planId\":\"P-59P80963JF186412JJZU3SMI\",\"name\":\"Medium Membership (Annual)\",\"description\":\"Unlimited access to the best and brightest stories on Medium. Membership billed annually.\"},\"monthlyPlanWithTrial\":{\"planId\":\"P-66C21969LR178604GJPVKUKY\",\"name\":\"Medium Membership (Monthly) with setup fee\",\"description\":\"Unlimited access to the best and brightest stories on Medium. Membership billed monthly.\"},\"yearlyPlanWithTrial\":{\"planId\":\"P-6XW32684EX226940VKCT2MFA\",\"name\":\"Medium Membership (Annual) with setup fee\",\"description\":\"Unlimited access to the best and brightest stories on Medium. Membership billed annually.\"},\"oldMonthlyPlanNoSetupFee\":{\"planId\":\"P-4N046520HR188054PCJC7LJI\",\"name\":\"Medium Membership (Monthly)\",\"description\":\"Unlimited access to the best and brightest stories on Medium. Membership billed monthly.\"},\"oldYearlyPlanNoSetupFee\":{\"planId\":\"P-7A4913502Y5181304CJEJMXQ\",\"name\":\"Medium Membership (Annual)\",\"description\":\"Unlimited access to the best and brightest stories on Medium. Membership billed annually.\"},\"sdkUrl\":\"https:\\\\u002F\\\\u002Fwww.paypal.com\\\\u002Fsdk\\\\u002Fjs\"},\"stripePublishableKey\":\"pk_live_7FReX44VnNIInZwrIIx6ghjl\",\"log\":{\"json\":true,\"level\":\"info\"}},\"session\":{\"xsrf\":\"\"}}</script><script>window.__APOLLO_STATE__ = {\"ROOT_QUERY\":{\"__typename\":\"Query\",\"meterPost({\\\\\"postId\\\\\":\\\\\"c9ef03c1a5dd\\\\\",\\\\\"postMeteringOptions\\\\\":{\\\\\"referrer\\\\\":\\\\\"https:\\\\u002F\\\\u002Fmedium.com\\\\u002Fbuilding-the-metaverse\\\\u002Fmarket-map-of-the-metaverse-8ae0cde89696\\\\\",\\\\\"sk\\\\\":null,\\\\\"source\\\\\":\\\\\"post_page-----8ae0cde89696-----------------------------------\\\\\"}})\":{\"__ref\":\"MeteringInfo:{}\"},\"postResult({\\\\\"id\\\\\":\\\\\"c9ef03c1a5dd\\\\\"})\":{\"__ref\":\"Post:c9ef03c1a5dd\"}},\"MeteringInfo:{}\":{\"__typename\":\"MeteringInfo\",\"postIds\":[],\"maxUnlockCount\":3,\"unlocksRemaining\":0},\"User:7e6b05637259\":{\"id\":\"7e6b05637259\",\"__typename\":\"User\",\"name\":\"Jon Radoff\",\"username\":\"jradoff\",\"newsletterV3\":{\"__ref\":\"NewsletterV3:a76d71da450d\"},\"customStyleSheet\":null,\"isSuspended\":false,\"bio\":\"Adventurer & entrepreneur. I fight for the game-maker. I like startups, digital culture, stories, software, crypto, cooking\\\\u002Fwine, games and adventure.\",\"imageId\":\"1*KQymw2HNPm1AVx66lJ6kVg.jpeg\",\"hasCompletedProfile\":false,\"isAuroraVisible\":true,\"mediumMemberAt\":0,\"socialStats\":{\"__typename\":\"SocialStats\",\"followerCount\":3585,\"followingCount\":1434,\"collectionFollowingCount\":18},\"customDomainState\":{\"__typename\":\"CustomDomainState\",\"live\":{\"__typename\":\"CustomDomain\",\"domain\":\"jradoff.medium.com\",\"status\":\"ACTIVE\",\"isSubdomain\":true}},\"hasSubdomain\":true,\"bookAuthor\":null,\"isPartnerProgramEnrolled\":false,\"viewerEdge\":{\"__ref\":\"UserViewerEdge:userId:7e6b05637259-viewerId:lo_a14e1aa99491\"},\"viewerIsUser\":false,\"homepagePostsConnection({\\\\\"paging\\\\\":{\\\\\"limit\\\\\":1}})\":{\"__typename\":\"PostConnection\",\"posts\":[{\"__ref\":\"Post:7244c5eb84de\"}]},\"postSubscribeMembershipUpsellShownAt\":0,\"allowNotes\":true,\"replyToEmailBannerShownCount\":2,\"twitterScreenName\":\"jradoff\",\"followedCollections\":26,\"referredMembershipCustomHeadline\":\"\",\"referredMembershipCustomBody\":\"\",\"atsQualifiedAt\":1633026287426},\"ImageMetadata:\":{\"id\":\"\",\"__typename\":\"ImageMetadata\",\"focusPercentX\":null,\"focusPercentY\":null},\"CollectionViewerEdge:collectionId:844754dc359-viewerId:lo_a14e1aa99491\":{\"id\":\"collectionId:844754dc359-viewerId:lo_a14e1aa99491\",\"__typename\":\"CollectionViewerEdge\",\"isEditor\":false},\"ImageMetadata:1*5sfogkWazDSSsdXpzjHdIw.png\":{\"id\":\"1*5sfogkWazDSSsdXpzjHdIw.png\",\"__typename\":\"ImageMetadata\",\"originalWidth\":784,\"originalHeight\":336},\"NewsletterV3:2afd353364bb\":{\"id\":\"2afd353364bb\",\"__typename\":\"NewsletterV3\",\"slug\":\"building-the-metaverse-weekly-newsletter\",\"showPromo\":true,\"name\":\"Building the Metaverse Weekly Newsletter\",\"description\":\"Are you a metaverse builder? Gain weekly insights on games, tech and economics of the metaverse.\",\"promoHeadline\":\"\",\"promoBody\":\"\",\"collection\":{\"__ref\":\"Collection:844754dc359\"},\"type\":\"NEWSLETTER_TYPE_COLLECTION\",\"user\":{\"__ref\":\"User:7e6b05637259\"}},\"ImageMetadata:1*SxtNtsUJH_VNp8E4urbS-A.jpeg\":{\"id\":\"1*SxtNtsUJH_VNp8E4urbS-A.jpeg\",\"__typename\":\"ImageMetadata\"},\"Collection:844754dc359\":{\"id\":\"844754dc359\",\"__typename\":\"Collection\",\"domain\":null,\"googleAnalyticsId\":null,\"slug\":\"building-the-metaverse\",\"colorBehavior\":\"ACCENT_COLOR\",\"isAuroraVisible\":false,\"favicon\":{\"__ref\":\"ImageMetadata:\"},\"name\":\"Building the Metaverse\",\"colorPalette\":{\"__typename\":\"ColorPalette\",\"highlightSpectrum\":{\"__typename\":\"ColorSpectrum\",\"backgroundColor\":\"#FFFFFFFF\",\"colorPoints\":[{\"__typename\":\"ColorPoint\",\"color\":\"#FFFFFFFF\",\"point\":0},{\"__typename\":\"ColorPoint\",\"color\":\"#FFE8F3E8\",\"point\":0.1},{\"__typename\":\"ColorPoint\",\"color\":\"#FFE8F3E8\",\"point\":0.2},{\"__typename\":\"ColorPoint\",\"color\":\"#FFD1E7D1\",\"point\":0.6},{\"__typename\":\"ColorPoint\",\"color\":\"#FFA3D0A2\",\"point\":1}]},\"defaultBackgroundSpectrum\":{\"__typename\":\"ColorSpectrum\",\"backgroundColor\":\"#FFFFFFFF\",\"colorPoints\":[{\"__typename\":\"ColorPoint\",\"color\":\"#FF1A8917\",\"point\":0},{\"__typename\":\"ColorPoint\",\"color\":\"#FF11800E\",\"point\":0.1},{\"__typename\":\"ColorPoint\",\"color\":\"#FF0F730C\",\"point\":0.2},{\"__typename\":\"ColorPoint\",\"color\":\"#FF095407\",\"point\":1}]},\"tintBackgroundSpectrum\":null},\"customStyleSheet\":null,\"tagline\":\"Games, experiences, technology, economics, culture and art of the metaverse.\",\"isAuroraEligible\":true,\"viewerEdge\":{\"__ref\":\"CollectionViewerEdge:collectionId:844754dc359-viewerId:lo_a14e1aa99491\"},\"logo\":{\"__ref\":\"ImageMetadata:1*5sfogkWazDSSsdXpzjHdIw.png\"},\"navItems\":[{\"__typename\":\"NavItem\",\"title\":\"About\",\"url\":\"https:\\\\u002F\\\\u002Fmedium.com\\\\u002Fbuilding-the-metaverse\\\\u002Fwhat-we-talk-about-when-we-talk-about-the-metaverse-c9ef03c1a5dd\",\"type\":\"POST_NAV_ITEM\"},{\"__typename\":\"NavItem\",\"title\":\"Metaverse Weekly News\",\"url\":\"https:\\\\u002F\\\\u002Fmedium.com\\\\u002Fbuilding-the-metaverse\\\\u002Fnewsletters\\\\u002Fbuilding-the-metaverse-weekly-newsletter\",\"type\":\"EXTERNAL_LINK_NAV_ITEM\"}],\"creator\":{\"__ref\":\"User:7e6b05637259\"},\"subscriberCount\":1574,\"newsletterV3\":{\"__ref\":\"NewsletterV3:2afd353364bb\"},\"avatar\":{\"__ref\":\"ImageMetadata:1*SxtNtsUJH_VNp8E4urbS-A.jpeg\"},\"canToggleEmail\":false,\"description\":\"Business, technology and culture of all the virtual worlds, realities and experiences of the Metaverse. 2D, 3D, mobile phones, VR\\\\u002FAR, games, MMORPGs, social networks, digital collectibles, esports; game design, Unity, Unreal, free-to-play (f2p), blockchain, NFTs.\",\"ampEnabled\":false,\"twitterUsername\":\"jradoff\",\"facebookPageId\":null,\"customDomainState\":null,\"ptsQualifiedAt\":0},\"UserViewerEdge:userId:7e6b05637259-viewerId:lo_a14e1aa99491\":{\"id\":\"userId:7e6b05637259-viewerId:lo_a14e1aa99491\",\"__typename\":\"UserViewerEdge\",\"isFollowing\":false,\"isUser\":false},\"NewsletterV3:a76d71da450d\":{\"id\":\"a76d71da450d\",\"__typename\":\"NewsletterV3\",\"type\":\"NEWSLETTER_TYPE_AUTHOR\",\"slug\":\"7e6b05637259\",\"name\":\"7e6b05637259\",\"collection\":null,\"user\":{\"__ref\":\"User:7e6b05637259\"},\"description\":\"\",\"promoHeadline\":\"\",\"promoBody\":\"\",\"replyToEmail\":\"jon@metavert.io\",\"showPromo\":true,\"subscribersCount\":182},\"Post:7244c5eb84de\":{\"id\":\"7244c5eb84de\",\"__typename\":\"Post\"},\"Topic:137f52891b6b\":{\"id\":\"137f52891b6b\",\"__typename\":\"Topic\",\"name\":\"Gaming\",\"slug\":\"gaming\"},\"Paragraph:de8c39fdc201_0\":{\"id\":\"de8c39fdc201_0\",\"__typename\":\"Paragraph\",\"name\":\"7ad4\",\"text\":\"What We Talk About When We Talk About the Metaverse\",\"type\":\"H3\",\"href\":null,\"layout\":null,\"metadata\":null,\"hasDropCap\":null,\"iframe\":null,\"mixtapeMetadata\":null,\"markups\":[],\"dropCapImage\":null},\"Paragraph:de8c39fdc201_1\":{\"id\":\"de8c39fdc201_1\",\"__typename\":\"Paragraph\",\"name\":\"fdf9\",\"text\":\"OASIS in Ready Player One\",\"type\":\"IMG\",\"href\":null,\"layout\":\"INSET_CENTER\",\"metadata\":{\"__ref\":\"ImageMetadata:0*xr-rsGfGktXBcf4h.jpg\"},\"hasDropCap\":null,\"iframe\":null,\"mixtapeMetadata\":null,\"markups\":[],\"dropCapImage\":null},\"Paragraph:de8c39fdc201_2\":{\"id\":\"de8c39fdc201_2\",\"__typename\":\"Paragraph\",\"name\":\"ee0f\",\"text\":\"Since this is the inaugural article on Building the Metaverse, I wanted to take a moment to think about what this word means, how it has evolved, and what the future may bring.\",\"type\":\"P\",\"href\":null,\"layout\":null,\"metadata\":null,\"hasDropCap\":null,\"iframe\":null,\"mixtapeMetadata\":null,\"markups\":[{\"__typename\":\"Markup\",\"start\":39,\"end\":61,\"type\":\"EM\",\"href\":null,\"anchorType\":null,\"userId\":null,\"linkMetadata\":null}],\"dropCapImage\":null},\"Paragraph:de8c39fdc201_3\":{\"id\":\"de8c39fdc201_3\",\"__typename\":\"Paragraph\",\"name\":\"f775\",\"text\":\"“Metaverse” is a word that conjures different meanings to people: to some, it’s an immersive virtual-reality experience within a persistent landscape; to others, a specific technology stack; to some, it is a vision of future society.\",\"type\":\"P\",\"href\":null,\"layout\":null,\"metadata\":null,\"hasDropCap\":null,\"iframe\":null,\"mixtapeMetadata\":null,\"markups\":[],\"dropCapImage\":null},\"Paragraph:de8c39fdc201_4\":{\"id\":\"de8c39fdc201_4\",\"__typename\":\"Paragraph\",\"name\":\"2cb2\",\"text\":\"Charlie Stross (Wikipedia)\",\"type\":\"IMG\",\"href\":null,\"layout\":\"OUTSET_LEFT\",\"metadata\":{\"__ref\":\"ImageMetadata:0*CBcdPIh8PUzkHQ8J.jpg\"},\"hasDropCap\":null,\"iframe\":null,\"mixtapeMetadata\":null,\"markups\":[],\"dropCapImage\":null},\"Paragraph:de8c39fdc201_5\":{\"id\":\"de8c39fdc201_5\",\"__typename\":\"Paragraph\",\"name\":\"c7de\",\"text\":\"About 14 years ago, I asked one of my favorite science-fiction authors, Charlie Stross, to write an article for me about the future of games. He had to say this about the metaverse:\",\"type\":\"P\",\"href\":null,\"layout\":null,\"metadata\":null,\"hasDropCap\":null,\"iframe\":null,\"mixtapeMetadata\":null,\"markups\":[{\"__typename\":\"Markup\",\"start\":72,\"end\":86,\"type\":\"A\",\"href\":\"http:\\\\u002F\\\\u002Fwww.antipope.org\\\\u002Fcharlie\\\\u002Fblog-static\\\\u002F2011\\\\u002F03\\\\u002Ffive-year-retrospective.html\",\"anchorType\":\"LINK\",\"userId\":null,\"linkMetadata\":null}],\"dropCapImage\":null},\"Paragraph:de8c39fdc201_6\":{\"id\":\"de8c39fdc201_6\",\"__typename\":\"Paragraph\",\"name\":\"3575\",\"text\":\"The really interesting question is whether things will converge on a single overarching metaverse with games or business meetings happening in different places, or whether they’ll fracture and we’ll see even more divergent environments cropping up.\",\"type\":\"BQ\",\"href\":null,\"layout\":null,\"metadata\":null,\"hasDropCap\":null,\"iframe\":null,\"mixtapeMetadata\":null,\"markups\":[],\"dropCapImage\":null},\"Paragraph:de8c39fdc201_7\":{\"id\":\"de8c39fdc201_7\",\"__typename\":\"Paragraph\",\"name\":\"20bc\",\"text\":\"It is now possible to say that neither of these futures has entirely come true.\",\"type\":\"P\",\"href\":null,\"layout\":null,\"metadata\":null,\"hasDropCap\":null,\"iframe\":null,\"mixtapeMetadata\":null,\"markups\":[],\"dropCapImage\":null},\"Paragraph:de8c39fdc201_8\":{\"id\":\"de8c39fdc201_8\",\"__typename\":\"Paragraph\",\"name\":\"d66d\",\"text\":\"Neal Stephenson in 2019 (Wikipedia)\",\"type\":\"IMG\",\"href\":null,\"layout\":\"OUTSET_LEFT\",\"metadata\":{\"__ref\":\"ImageMetadata:0*b0C6cjrrCCljHHhY.jpg\"},\"hasDropCap\":null,\"iframe\":null,\"mixtapeMetadata\":null,\"markups\":[],\"dropCapImage\":null},\"Paragraph:de8c39fdc201_9\":{\"id\":\"de8c39fdc201_9\",\"__typename\":\"Paragraph\",\"name\":\"09cb\",\"text\":\"In Neal Stephenson’s Snow Crash, the metaverse is run by the fictional Global Multimedia Protocol Group, an entity controlled by the real-life Association for Computing Machinery. In Ready Player One, the OASIS virtual reality is owned by a corporation called Innovative Online Industries — and the plot largely revolves around its control. Although social networks seem to follow winner-take-all economics, it seems that virtual spaces have far too much variety and experiences to follow the same path.\",\"type\":\"P\",\"href\":null,\"layout\":null,\"metadata\":null,\"hasDropCap\":null,\"iframe\":null,\"mixtapeMetadata\":null,\"markups\":[{\"__typename\":\"Markup\",\"start\":21,\"end\":31,\"type\":\"EM\",\"href\":null,\"anchorType\":null,\"userId\":null,\"linkMetadata\":null},{\"__typename\":\"Markup\",\"start\":183,\"end\":199,\"type\":\"EM\",\"href\":null,\"anchorType\":null,\"userId\":null,\"linkMetadata\":null}],\"dropCapImage\":null},\"Paragraph:de8c39fdc201_10\":{\"id\":\"de8c39fdc201_10\",\"__typename\":\"Paragraph\",\"name\":\"87e8\",\"text\":\"Stross was closer to the truth when he wrote about the fragmentation of virtual worlds. Fragmentation is happening because games, virtual realities, and online communities are based on experiences that are far too varied to fit into one particular landscape. These experiences include the immersive 3D VR environments envisioned by Ready Player One. Fragmentation includes experiences on your phone: Candy Crush and Star Trek Timelines and Genshin Impact. It’s Netflix on your living room wall or projected into a virtual surface in a simulated theatre inside the Oculus. It includes third-person inside 3D within Fortnite. It is Decentraland and Sim City and Roblox. It includes both the asynchronous and the synchronous, real-time and turn-based. It is client-server, downloaded, or streamed.\",\"type\":\"P\",\"href\":null,\"layout\":null,\"metadata\":null,\"hasDropCap\":null,\"iframe\":null,\"mixtapeMetadata\":null,\"markups\":[{\"__typename\":\"Markup\",\"start\":332,\"end\":348,\"type\":\"EM\",\"href\":null,\"anchorType\":null,\"userId\":null,\"linkMetadata\":null},{\"__typename\":\"Markup\",\"start\":400,\"end\":411,\"type\":\"EM\",\"href\":null,\"anchorType\":null,\"userId\":null,\"linkMetadata\":null},{\"__typename\":\"Markup\",\"start\":416,\"end\":435,\"type\":\"EM\",\"href\":null,\"anchorType\":null,\"userId\":null,\"linkMetadata\":null},{\"__typename\":\"Markup\",\"start\":440,\"end\":454,\"type\":\"EM\",\"href\":null,\"anchorType\":null,\"userId\":null,\"linkMetadata\":null},{\"__typename\":\"Markup\",\"start\":614,\"end\":622,\"type\":\"EM\",\"href\":null,\"anchorType\":null,\"userId\":null,\"linkMetadata\":null},{\"__typename\":\"Markup\",\"start\":630,\"end\":642,\"type\":\"EM\",\"href\":null,\"anchorType\":null,\"userId\":null,\"linkMetadata\":null},{\"__typename\":\"Markup\",\"start\":647,\"end\":656,\"type\":\"EM\",\"href\":null,\"anchorType\":null,\"userId\":null,\"linkMetadata\":null},{\"__typename\":\"Markup\",\"start\":659,\"end\":666,\"type\":\"EM\",\"href\":null,\"anchorType\":null,\"userId\":null,\"linkMetadata\":null}],\"dropCapImage\":null},\"Paragraph:de8c39fdc201_11\":{\"id\":\"de8c39fdc201_11\",\"__typename\":\"Paragraph\",\"name\":\"33e1\",\"text\":\"The metaverse is the collective set of online, connected experiences that one can have. The common theme is that the “player” is connected to an online framework that permits live content changes, live social connection or live monetization. The keyword is “live.” The metaverse is a living multiverse of worlds.\",\"type\":\"P\",\"href\":null,\"layout\":null,\"metadata\":null,\"hasDropCap\":null,\"iframe\":null,\"mixtapeMetadata\":null,\"markups\":[{\"__typename\":\"Markup\",\"start\":144,\"end\":240,\"type\":\"A\",\"href\":\"https:\\\\u002F\\\\u002Fbeacon.by\\\\u002Fbeamable\\\\u002Fbuilding-the-business-foundation-for-the-metaverse\",\"anchorType\":\"LINK\",\"userId\":null,\"linkMetadata\":null}],\"dropCapImage\":null},\"Paragraph:de8c39fdc201_12\":{\"id\":\"de8c39fdc201_12\",\"__typename\":\"Paragraph\",\"name\":\"7283\",\"text\":\"The other “multi” is that the creation of games and virtual worlds has become multi-disciplinary, requiring knowledge of game design, game theory, behavioral economics, analytics, databases, music, AI, GPUs, graphics, branding, performance, user experience design, storytelling, software engineering and a hundred other talents.\",\"type\":\"P\",\"href\":null,\"layout\":null,\"metadata\":null,\"hasDropCap\":null,\"iframe\":null,\"mixtapeMetadata\":null,\"markups\":[],\"dropCapImage\":null},\"Paragraph:de8c39fdc201_13\":{\"id\":\"de8c39fdc201_13\",\"__typename\":\"Paragraph\",\"name\":\"04eb\",\"text\":\"Roblox is a part of the metaverse (Wikipedia image)\",\"type\":\"IMG\",\"href\":null,\"layout\":\"OUTSET_LEFT\",\"metadata\":{\"__ref\":\"ImageMetadata:0*4mG5BP4--TRf5PMH.jpg\"},\"hasDropCap\":null,\"iframe\":null,\"mixtapeMetadata\":null,\"markups\":[],\"dropCapImage\":null},\"Paragraph:de8c39fdc201_14\":{\"id\":\"de8c39fdc201_14\",\"__typename\":\"Paragraph\",\"name\":\"cf5e\",\"text\":\"One way to approach the metaverse is to invite people into walled gardens that provide the extensive technological scaffolding for this creativity. Indeed, this has already yielded impressive results in certain settings. In exchange, the cost for this is the high rents you’ll pay and the limits on creativity imposed by the owners.\",\"type\":\"P\",\"href\":null,\"layout\":null,\"metadata\":null,\"hasDropCap\":null,\"iframe\":null,\"mixtapeMetadata\":null,\"markups\":[],\"dropCapImage\":null},\"Paragraph:de8c39fdc201_15\":{\"id\":\"de8c39fdc201_15\",\"__typename\":\"Paragraph\",\"name\":\"89c0\",\"text\":\"Another approach to these monolithic silos in which creators are hemmed-in is a “metaverse for all.” In this, the defining characteristic is decentralization. We already see this in the realm of decentralized finance (DeFi). To unlock the creativity of the world, we’ll need similar patterns to play out in the space of virtual worlds and games. Technologies, interfaces and business services are emerging that allow anyone to mash-up, mix, build around and be compensated for creativity. This sort of metaverse demands the ability to create and exchange assets among games, worlds and environments — and a decoupling of the rules, content and technical underpinnings. Creative work will need to be freed from programming and technical impediments that cause the multiplication of processes, workflows and domains of engineering knowledge.\",\"type\":\"P\",\"href\":null,\"layout\":null,\"metadata\":null,\"hasDropCap\":null,\"iframe\":null,\"mixtapeMetadata\":null,\"markups\":[{\"__typename\":\"Markup\",\"start\":195,\"end\":216,\"type\":\"A\",\"href\":\"https:\\\\u002F\\\\u002Fen.wikipedia.org\\\\u002Fwiki\\\\u002FDecentralized_finance\",\"anchorType\":\"LINK\",\"userId\":null,\"linkMetadata\":null},{\"__typename\":\"Markup\",\"start\":141,\"end\":157,\"type\":\"STRONG\",\"href\":null,\"anchorType\":null,\"userId\":null,\"linkMetadata\":null}],\"dropCapImage\":null},\"Paragraph:de8c39fdc201_16\":{\"id\":\"de8c39fdc201_16\",\"__typename\":\"Paragraph\",\"name\":\"b0db\",\"text\":\"In this future, the AI that drives a chess table could power a game on a phone or executed within a table manifested in virtual reality; the art that represents the assets could come from a marketplace that properly compensates creators; and participation in live chess tournaments could be driven by a live events engine with ticket sales that fund the organizers.\",\"type\":\"P\",\"href\":null,\"layout\":null,\"metadata\":null,\"hasDropCap\":null,\"iframe\":null,\"mixtapeMetadata\":null,\"markups\":[],\"dropCapImage\":null},\"Paragraph:de8c39fdc201_17\":{\"id\":\"de8c39fdc201_17\",\"__typename\":\"Paragraph\",\"name\":\"fa68\",\"text\":\"Walled gardens will contain the expansive theme parks that you’ll enjoy visiting — but they won’t be the only destinations. These theme parks will include games, experiences and artistry made by individual innovators and tiny, creative teams… who can choose whether they’d prefer to access the large audiences inside these realms, or strike out on their own and retain their independence.\",\"type\":\"P\",\"href\":null,\"layout\":null,\"metadata\":null,\"hasDropCap\":null,\"iframe\":null,\"mixtapeMetadata\":null,\"markups\":[],\"dropCapImage\":null},\"Paragraph:de8c39fdc201_18\":{\"id\":\"de8c39fdc201_18\",\"__typename\":\"Paragraph\",\"name\":\"0802\",\"text\":\"Metaverse — Flickr image by Elif Ayiter\",\"type\":\"IMG\",\"href\":null,\"layout\":\"INSET_CENTER\",\"metadata\":{\"__ref\":\"ImageMetadata:1*mExGaBhc3iRee0t8FoLl-Q.jpeg\"},\"hasDropCap\":null,\"iframe\":null,\"mixtapeMetadata\":null,\"markups\":[{\"__typename\":\"Markup\",\"start\":28,\"end\":39,\"type\":\"A\",\"href\":\"https:\\\\u002F\\\\u002Fflickr.com\\\\u002Fphotos\\\\u002Falpha_auer\\\\u002F\",\"anchorType\":\"LINK\",\"userId\":null,\"linkMetadata\":null}],\"dropCapImage\":null},\"Paragraph:de8c39fdc201_19\":{\"id\":\"de8c39fdc201_19\",\"__typename\":\"Paragraph\",\"name\":\"e970\",\"text\":\"That’s what I (and others who write for Building the Metaverse) will cover: we’ll write about the giant theme parks, the amazing experiences, the enabling technologies and the avenues for individual creativity. We’ll cover the decentralized tools and interfaces that support the ecosystem. We’ll discuss the business considerations, business models and new economics of this future.\",\"type\":\"P\",\"href\":null,\"layout\":null,\"metadata\":null,\"hasDropCap\":null,\"iframe\":null,\"mixtapeMetadata\":null,\"markups\":[{\"__typename\":\"Markup\",\"start\":40,\"end\":62,\"type\":\"EM\",\"href\":null,\"anchorType\":null,\"userId\":null,\"linkMetadata\":null},{\"__typename\":\"Markup\",\"start\":63,\"end\":64,\"type\":\"EM\",\"href\":null,\"anchorType\":null,\"userId\":null,\"linkMetadata\":null},{\"__typename\":\"Markup\",\"start\":74,\"end\":76,\"type\":\"EM\",\"href\":null,\"anchorType\":null,\"userId\":null,\"linkMetadata\":null}],\"dropCapImage\":null},\"Paragraph:de8c39fdc201_20\":{\"id\":\"de8c39fdc201_20\",\"__typename\":\"Paragraph\",\"name\":\"0913\",\"text\":\"Welcome to the metaverse: weirder, different and even more amazing than we originally imagined.\",\"type\":\"P\",\"href\":null,\"layout\":null,\"metadata\":null,\"hasDropCap\":null,\"iframe\":null,\"mixtapeMetadata\":null,\"markups\":[],\"dropCapImage\":null},\"Paragraph:de8c39fdc201_21\":{\"id\":\"de8c39fdc201_21\",\"__typename\":\"Paragraph\",\"name\":\"85a3\",\"text\":\"Further Reading\",\"type\":\"H3\",\"href\":null,\"layout\":null,\"metadata\":null,\"hasDropCap\":null,\"iframe\":null,\"mixtapeMetadata\":null,\"markups\":[],\"dropCapImage\":null},\"Paragraph:de8c39fdc201_22\":{\"id\":\"de8c39fdc201_22\",\"__typename\":\"Paragraph\",\"name\":\"25e6\",\"text\":\"If you enjoyed this introductory article, you’ll love this deck I assembled to capture many of the topics I cover on Building the Metaverse:\",\"type\":\"P\",\"href\":null,\"layout\":null,\"metadata\":null,\"hasDropCap\":null,\"iframe\":null,\"mixtapeMetadata\":null,\"markups\":[{\"__typename\":\"Markup\",\"start\":117,\"end\":140,\"type\":\"EM\",\"href\":null,\"anchorType\":null,\"userId\":null,\"linkMetadata\":null}],\"dropCapImage\":null},\"Paragraph:de8c39fdc201_23\":{\"id\":\"de8c39fdc201_23\",\"__typename\":\"Paragraph\",\"name\":\"dbee\",\"text\":\"\",\"type\":\"IFRAME\",\"href\":null,\"layout\":\"INSET_CENTER\",\"metadata\":null,\"hasDropCap\":null,\"iframe\":{\"__typename\":\"Iframe\",\"mediaResource\":{\"__ref\":\"MediaResource:b723fbf867d3df922f05b547bcc29e11\"}},\"mixtapeMetadata\":null,\"markups\":[],\"dropCapImage\":null},\"Paragraph:de8c39fdc201_24\":{\"id\":\"de8c39fdc201_24\",\"__typename\":\"Paragraph\",\"name\":\"3c9c\",\"text\":\"After you’ve flipped through that, please enjoy a few follow-up articles. These are everyone’s favorites:\",\"type\":\"P\",\"href\":null,\"layout\":null,\"metadata\":null,\"hasDropCap\":null,\"iframe\":null,\"mixtapeMetadata\":null,\"markups\":[],\"dropCapImage\":null},\"Paragraph:de8c39fdc201_25\":{\"id\":\"de8c39fdc201_25\",\"__typename\":\"Paragraph\",\"name\":\"5a70\",\"text\":\"Market Map of the Metaverse. I categorize 160+ companies into 7 industry layers, and include a concise comparison of Roblox, Unity and Epic.\",\"type\":\"ULI\",\"href\":null,\"layout\":null,\"metadata\":null,\"hasDropCap\":null,\"iframe\":null,\"mixtapeMetadata\":null,\"markups\":[{\"__typename\":\"Markup\",\"start\":0,\"end\":28,\"type\":\"A\",\"href\":\"https:\\\\u002F\\\\u002Fmedium.com\\\\u002Fbuilding-the-metaverse\\\\u002Fmarket-map-of-the-metaverse-8ae0cde89696\",\"anchorType\":\"LINK\",\"userId\":null,\"linkMetadata\":null}],\"dropCapImage\":null},\"Paragraph:de8c39fdc201_26\":{\"id\":\"de8c39fdc201_26\",\"__typename\":\"Paragraph\",\"name\":\"53e7\",\"text\":\"The Metaverse Value-Chain. How value flows through the 7 industry layers.\",\"type\":\"ULI\",\"href\":null,\"layout\":null,\"metadata\":null,\"hasDropCap\":null,\"iframe\":null,\"mixtapeMetadata\":null,\"markups\":[{\"__typename\":\"Markup\",\"start\":0,\"end\":26,\"type\":\"A\",\"href\":\"https:\\\\u002F\\\\u002Fmedium.com\\\\u002Fbuilding-the-metaverse\\\\u002Fthe-metaverse-value-chain-afcf9e09e3a7\",\"anchorType\":\"LINK\",\"userId\":null,\"linkMetadata\":null}],\"dropCapImage\":null},\"Paragraph:de8c39fdc201_27\":{\"id\":\"de8c39fdc201_27\",\"__typename\":\"Paragraph\",\"name\":\"35fd\",\"text\":\"The Experiences of the Metaverse. I dive into some of the specific experiences that people will have — and are already having — in the metaverse.\",\"type\":\"ULI\",\"href\":null,\"layout\":null,\"metadata\":null,\"hasDropCap\":null,\"iframe\":null,\"mixtapeMetadata\":null,\"markups\":[{\"__typename\":\"Markup\",\"start\":0,\"end\":32,\"type\":\"A\",\"href\":\"https:\\\\u002F\\\\u002Fmedium.com\\\\u002Fbuilding-the-metaverse\\\\u002Fthe-experiences-of-the-metaverse-2126a7899020\",\"anchorType\":\"LINK\",\"userId\":null,\"linkMetadata\":null}],\"dropCapImage\":null},\"ImageMetadata:0*xr-rsGfGktXBcf4h.jpg\":{\"id\":\"0*xr-rsGfGktXBcf4h.jpg\",\"__typename\":\"ImageMetadata\",\"originalHeight\":603,\"originalWidth\":1200,\"focusPercentX\":null,\"focusPercentY\":null,\"alt\":null},\"ImageMetadata:0*CBcdPIh8PUzkHQ8J.jpg\":{\"id\":\"0*CBcdPIh8PUzkHQ8J.jpg\",\"__typename\":\"ImageMetadata\",\"originalHeight\":300,\"originalWidth\":200,\"focusPercentX\":null,\"focusPercentY\":null,\"alt\":null},\"ImageMetadata:0*b0C6cjrrCCljHHhY.jpg\":{\"id\":\"0*b0C6cjrrCCljHHhY.jpg\",\"__typename\":\"ImageMetadata\",\"originalHeight\":1280,\"originalWidth\":1920,\"focusPercentX\":null,\"focusPercentY\":null,\"alt\":null},\"ImageMetadata:0*4mG5BP4--TRf5PMH.jpg\":{\"id\":\"0*4mG5BP4--TRf5PMH.jpg\",\"__typename\":\"ImageMetadata\",\"originalHeight\":236,\"originalWidth\":421,\"focusPercentX\":null,\"focusPercentY\":null,\"alt\":null},\"ImageMetadata:1*mExGaBhc3iRee0t8FoLl-Q.jpeg\":{\"id\":\"1*mExGaBhc3iRee0t8FoLl-Q.jpeg\",\"__typename\":\"ImageMetadata\",\"originalHeight\":723,\"originalWidth\":3000,\"focusPercentX\":null,\"focusPercentY\":null,\"alt\":null},\"MediaResource:b723fbf867d3df922f05b547bcc29e11\":{\"id\":\"b723fbf867d3df922f05b547bcc29e11\",\"__typename\":\"MediaResource\",\"iframeSrc\":\"https:\\\\u002F\\\\u002Fcdn.embedly.com\\\\u002Fwidgets\\\\u002Fmedia.html?src=https%3A%2F%2Fwww.slideshare.net%2Fslideshow%2Fembed_code%2Fkey%2F1F5Z8T9NslS5yf&display_name=SlideShare&url=https%3A%2F%2Fwww.slideshare.net%2Fjradoff%2Fbuilding-the-metaverse-248941223&image=https%3A%2F%2Fcdn.slidesharecdn.com%2Fss_thumbnails%2Fbuildingthemetaversedeck2-210603143622-thumbnail-4.jpg%3Fcb%3D1622817046&key=a19fcc184b9711e1b4764040d3dc5c07&type=text%2Fhtml&schema=slideshare\",\"iframeHeight\":500,\"iframeWidth\":600,\"title\":\"Building the Metaverse\"},\"Tag:metaverse\":{\"id\":\"metaverse\",\"__typename\":\"Tag\",\"displayTitle\":\"Metaverse\",\"normalizedTagSlug\":\"metaverse\"},\"Tag:game-development\":{\"id\":\"game-development\",\"__typename\":\"Tag\",\"displayTitle\":\"Game Development\",\"normalizedTagSlug\":\"game-development\"},\"Tag:free-to-play\":{\"id\":\"free-to-play\",\"__typename\":\"Tag\",\"displayTitle\":\"Free To Play\",\"normalizedTagSlug\":\"free-to-play\"},\"Tag:mmorpg\":{\"id\":\"mmorpg\",\"__typename\":\"Tag\",\"displayTitle\":\"Mmorpg\",\"normalizedTagSlug\":\"mmorpg\"},\"Tag:virtual-reality\":{\"id\":\"virtual-reality\",\"__typename\":\"Tag\",\"displayTitle\":\"Virtual Reality\",\"normalizedTagSlug\":\"virtual-reality\"},\"ImageMetadata:0*V4lndtzujz6zw5y_\":{\"id\":\"0*V4lndtzujz6zw5y_\",\"__typename\":\"ImageMetadata\",\"focusPercentX\":null,\"focusPercentY\":null},\"UserViewerEdge:userId:2b9d8cf81636-viewerId:lo_a14e1aa99491\":{\"id\":\"userId:2b9d8cf81636-viewerId:lo_a14e1aa99491\",\"__typename\":\"UserViewerEdge\",\"isFollowing\":false,\"isUser\":false},\"User:2b9d8cf81636\":{\"id\":\"2b9d8cf81636\",\"__typename\":\"User\",\"name\":\"Jerome Morris\",\"username\":\"jeromegmorris\",\"bio\":\"A gaming enthusiast and writer in the gaming industry\",\"imageId\":\"0*q_aN4TH1MwqBM1ro\",\"mediumMemberAt\":0,\"isPartnerProgramEnrolled\":false,\"viewerEdge\":{\"__ref\":\"UserViewerEdge:userId:2b9d8cf81636-viewerId:lo_a14e1aa99491\"},\"viewerIsUser\":false,\"newsletterV3\":null,\"customDomainState\":null,\"hasSubdomain\":false,\"postSubscribeMembershipUpsellShownAt\":0},\"Post:b50f4760f160\":{\"id\":\"b50f4760f160\",\"__typename\":\"Post\",\"title\":\"Rockstar’s GTA Trilogy Dropped the Ball,\",\"mediumUrl\":\"https:\\\\u002F\\\\u002Fmedium.com\\\\u002F@jeromegmorris\\\\u002Frockstars-gta-trilogy-dropped-the-ball-b50f4760f160\",\"previewImage\":{\"__ref\":\"ImageMetadata:0*V4lndtzujz6zw5y_\"},\"isPublished\":true,\"firstPublishedAt\":1637753695736,\"readingTime\":2.379559748427673,\"statusForCollection\":null,\"isLocked\":false,\"visibility\":\"PUBLIC\",\"collection\":null,\"creator\":{\"__ref\":\"User:2b9d8cf81636\"},\"previewContent\":{\"__typename\":\"PreviewContent\",\"isFullContent\":false}},\"ImageMetadata:1*EJvr0-Td4grAqh5EjYtdmw.jpeg\":{\"id\":\"1*EJvr0-Td4grAqh5EjYtdmw.jpeg\",\"__typename\":\"ImageMetadata\",\"focusPercentX\":null,\"focusPercentY\":null},\"UserViewerEdge:userId:291efffd2aa8-viewerId:lo_a14e1aa99491\":{\"id\":\"userId:291efffd2aa8-viewerId:lo_a14e1aa99491\",\"__typename\":\"UserViewerEdge\",\"isFollowing\":false,\"isUser\":false},\"User:291efffd2aa8\":{\"id\":\"291efffd2aa8\",\"__typename\":\"User\",\"name\":\"Lucas Rivarola\",\"username\":\"Lucasjrivarola\",\"bio\":\"25 | Buenos Aires, Argentina\",\"imageId\":\"1*kU3qlOtciBRRbDsFX1PGNA.jpeg\",\"mediumMemberAt\":0,\"isPartnerProgramEnrolled\":false,\"viewerEdge\":{\"__ref\":\"UserViewerEdge:userId:291efffd2aa8-viewerId:lo_a14e1aa99491\"},\"viewerIsUser\":false,\"newsletterV3\":null,\"customDomainState\":null,\"hasSubdomain\":false,\"postSubscribeMembershipUpsellShownAt\":0},\"Post:28adf8d730db\":{\"id\":\"28adf8d730db\",\"__typename\":\"Post\",\"title\":\"The power fantasy of being confident and expressive\",\"mediumUrl\":\"https:\\\\u002F\\\\u002Fmedium.com\\\\u002F@Lucasjrivarola\\\\u002Fthe-power-fantasy-of-being-confident-and-expressive-28adf8d730db\",\"previewImage\":{\"__ref\":\"ImageMetadata:1*EJvr0-Td4grAqh5EjYtdmw.jpeg\"},\"isPublished\":true,\"firstPublishedAt\":1525122763872,\"readingTime\":7.674842767295597,\"statusForCollection\":null,\"isLocked\":false,\"visibility\":\"PUBLIC\",\"collection\":null,\"creator\":{\"__ref\":\"User:291efffd2aa8\"},\"previewContent\":{\"__typename\":\"PreviewContent\",\"isFullContent\":false}},\"ImageMetadata:1*7ikM-hVUU0QkOc-eoO5ekQ.jpeg\":{\"id\":\"1*7ikM-hVUU0QkOc-eoO5ekQ.jpeg\",\"__typename\":\"ImageMetadata\",\"focusPercentX\":null,\"focusPercentY\":null},\"UserViewerEdge:userId:38182d50740c-viewerId:lo_a14e1aa99491\":{\"id\":\"userId:38182d50740c-viewerId:lo_a14e1aa99491\",\"__typename\":\"UserViewerEdge\",\"isFollowing\":false,\"isUser\":false},\"User:38182d50740c\":{\"id\":\"38182d50740c\",\"__typename\":\"User\",\"name\":\"Jaime Miettinen\",\"username\":\"SportsLawBlonde\",\"bio\":\"Attorney for the Sports, Entertainment, & Arts communities @ Miettinen Law PLLC. Blogger http:\\\\u002F\\\\u002Fsportslawblondes.com & podcaster https:\\\\u002F\\\\u002Fitunes.apple.com\\\\u002Fus\\\\u002Fpod\",\"imageId\":\"1*WAkCVGCQTGHjW4bS8C6ppA.jpeg\",\"mediumMemberAt\":0,\"isPartnerProgramEnrolled\":false,\"viewerEdge\":{\"__ref\":\"UserViewerEdge:userId:38182d50740c-viewerId:lo_a14e1aa99491\"},\"viewerIsUser\":false,\"newsletterV3\":null,\"customDomainState\":null,\"hasSubdomain\":false,\"postSubscribeMembershipUpsellShownAt\":0},\"Post:aacdef21e051\":{\"id\":\"aacdef21e051\",\"__typename\":\"Post\",\"title\":\"Why I Changed My Mind & Believe eSports is a Sport, Part 1: Defining Elements\",\"mediumUrl\":\"https:\\\\u002F\\\\u002Fmedium.com\\\\u002F@SportsLawBlonde\\\\u002Fwhy-i-changed-my-mind-believe-esports-is-a-sport-part-1-defining-elements-aacdef21e051\",\"previewImage\":{\"__ref\":\"ImageMetadata:1*7ikM-hVUU0QkOc-eoO5ekQ.jpeg\"},\"isPublished\":true,\"firstPublishedAt\":1486746556429,\"readingTime\":3.6415094339622645,\"statusForCollection\":null,\"isLocked\":false,\"visibility\":\"PUBLIC\",\"collection\":null,\"creator\":{\"__ref\":\"User:38182d50740c\"},\"previewContent\":{\"__typename\":\"PreviewContent\",\"isFullContent\":false}},\"ImageMetadata:0*h4V76Qe1SfKEyTk7.jpg\":{\"id\":\"0*h4V76Qe1SfKEyTk7.jpg\",\"__typename\":\"ImageMetadata\",\"focusPercentX\":null,\"focusPercentY\":null},\"UserViewerEdge:userId:68e871ac112d-viewerId:lo_a14e1aa99491\":{\"id\":\"userId:68e871ac112d-viewerId:lo_a14e1aa99491\",\"__typename\":\"UserViewerEdge\",\"isFollowing\":false,\"isUser\":false},\"NewsletterV3:31841373b929\":{\"id\":\"31841373b929\",\"__typename\":\"NewsletterV3\",\"type\":\"NEWSLETTER_TYPE_AUTHOR\",\"slug\":\"68e871ac112d\",\"name\":\"68e871ac112d\",\"collection\":null,\"user\":{\"__ref\":\"User:68e871ac112d\"}},\"User:68e871ac112d\":{\"id\":\"68e871ac112d\",\"__typename\":\"User\",\"name\":\"Elijah Claude\",\"username\":\"elijah-claude\",\"newsletterV3\":{\"__ref\":\"NewsletterV3:31841373b929\"},\"bio\":\"Philosopher, Imagineer, Erudite.\",\"imageId\":\"1*LviSTKzn-03s-e1r_zyh9A.jpeg\",\"mediumMemberAt\":0,\"isPartnerProgramEnrolled\":false,\"viewerEdge\":{\"__ref\":\"UserViewerEdge:userId:68e871ac112d-viewerId:lo_a14e1aa99491\"},\"viewerIsUser\":false,\"customDomainState\":{\"__typename\":\"CustomDomainState\",\"live\":{\"__typename\":\"CustomDomain\",\"domain\":\"elijah-claude.medium.com\"}},\"hasSubdomain\":true,\"postSubscribeMembershipUpsellShownAt\":0},\"Post:321c536633e0\":{\"id\":\"321c536633e0\",\"__typename\":\"Post\",\"title\":\"Simulations: The Ultimate Gameplay?\",\"mediumUrl\":\"https:\\\\u002F\\\\u002Felijah-claude.medium.com\\\\u002Fsimulations-the-ultimate-gameplay-321c536633e0\",\"previewImage\":{\"__ref\":\"ImageMetadata:0*h4V76Qe1SfKEyTk7.jpg\"},\"isPublished\":true,\"firstPublishedAt\":1500177578576,\"readingTime\":3.588679245283019,\"statusForCollection\":null,\"isLocked\":false,\"visibility\":\"PUBLIC\",\"collection\":null,\"creator\":{\"__ref\":\"User:68e871ac112d\"},\"previewContent\":{\"__typename\":\"PreviewContent\",\"isFullContent\":false}},\"ImageMetadata:1*HQro-m9yXqc4l9yOnZeA9w.png\":{\"id\":\"1*HQro-m9yXqc4l9yOnZeA9w.png\",\"__typename\":\"ImageMetadata\",\"focusPercentX\":null,\"focusPercentY\":null},\"UserViewerEdge:userId:3352e19e26f-viewerId:lo_a14e1aa99491\":{\"id\":\"userId:3352e19e26f-viewerId:lo_a14e1aa99491\",\"__typename\":\"UserViewerEdge\",\"isFollowing\":false,\"isUser\":false},\"User:3352e19e26f\":{\"id\":\"3352e19e26f\",\"__typename\":\"User\",\"name\":\"Ignacy Trzewiczek\",\"username\":\"trzewik\",\"bio\":\"Ignacy Trzewiczek is designer of Robinson Crusoe, Imperial Settlers, Detective.. He published two books about game design — Board Games That Tell Stories.\",\"imageId\":\"1*k1pnIQ152xi-SXm0pvM6vA.png\",\"mediumMemberAt\":0,\"isPartnerProgramEnrolled\":false,\"viewerEdge\":{\"__ref\":\"UserViewerEdge:userId:3352e19e26f-viewerId:lo_a14e1aa99491\"},\"viewerIsUser\":false,\"newsletterV3\":null,\"customDomainState\":{\"__typename\":\"CustomDomainState\",\"live\":{\"__typename\":\"CustomDomain\",\"domain\":\"trzewik.medium.com\"}},\"hasSubdomain\":true,\"postSubscribeMembershipUpsellShownAt\":0},\"Post:b07552347570\":{\"id\":\"b07552347570\",\"__typename\":\"Post\",\"title\":\"My wife said\\u200a—\\u200ayou will never play it again!\",\"mediumUrl\":\"https:\\\\u002F\\\\u002Ftrzewik.medium.com\\\\u002Fmy-wife-said-you-will-never-play-it-again-b07552347570\",\"previewImage\":{\"__ref\":\"ImageMetadata:1*HQro-m9yXqc4l9yOnZeA9w.png\"},\"isPublished\":true,\"firstPublishedAt\":1629448357672,\"readingTime\":2.516981132075472,\"statusForCollection\":null,\"isLocked\":false,\"visibility\":\"PUBLIC\",\"collection\":null,\"creator\":{\"__ref\":\"User:3352e19e26f\"},\"previewContent\":{\"__typename\":\"PreviewContent\",\"isFullContent\":false}},\"ImageMetadata:0*QKyykbZD1K1KwHlH\":{\"id\":\"0*QKyykbZD1K1KwHlH\",\"__typename\":\"ImageMetadata\",\"focusPercentX\":null,\"focusPercentY\":null},\"UserViewerEdge:userId:1b9296221dbd-viewerId:lo_a14e1aa99491\":{\"id\":\"userId:1b9296221dbd-viewerId:lo_a14e1aa99491\",\"__typename\":\"UserViewerEdge\",\"isFollowing\":false,\"isUser\":false},\"User:1b9296221dbd\":{\"id\":\"1b9296221dbd\",\"__typename\":\"User\",\"name\":\"David Mwangi\",\"username\":\"daivd-j-kariuki\",\"bio\":\"Seeking more unintelligent views\",\"imageId\":\"1*P22CLpWN8wU7b7ee5IhcwQ.png\",\"mediumMemberAt\":0,\"isPartnerProgramEnrolled\":false,\"viewerEdge\":{\"__ref\":\"UserViewerEdge:userId:1b9296221dbd-viewerId:lo_a14e1aa99491\"},\"viewerIsUser\":false,\"newsletterV3\":null,\"customDomainState\":{\"__typename\":\"CustomDomainState\",\"live\":{\"__typename\":\"CustomDomain\",\"domain\":\"daivd-j-kariuki.medium.com\"}},\"hasSubdomain\":true,\"postSubscribeMembershipUpsellShownAt\":0},\"Post:3a8d098e1ced\":{\"id\":\"3a8d098e1ced\",\"__typename\":\"Post\",\"title\":\"Unintelligent view on Game Subscriptions\",\"mediumUrl\":\"https:\\\\u002F\\\\u002Fdaivd-j-kariuki.medium.com\\\\u002Funintelligent-view-on-game-subscriptions-3a8d098e1ced\",\"previewImage\":{\"__ref\":\"ImageMetadata:0*QKyykbZD1K1KwHlH\"},\"isPublished\":true,\"firstPublishedAt\":1609754794315,\"readingTime\":2.8971698113207545,\"statusForCollection\":null,\"isLocked\":false,\"visibility\":\"PUBLIC\",\"collection\":null,\"creator\":{\"__ref\":\"User:1b9296221dbd\"},\"previewContent\":{\"__typename\":\"PreviewContent\",\"isFullContent\":false}},\"UserViewerEdge:userId:ef68055d8e88-viewerId:lo_a14e1aa99491\":{\"id\":\"userId:ef68055d8e88-viewerId:lo_a14e1aa99491\",\"__typename\":\"UserViewerEdge\",\"isFollowing\":false,\"isUser\":false},\"User:ef68055d8e88\":{\"id\":\"ef68055d8e88\",\"__typename\":\"User\",\"name\":\"Margaretmtomlinas\",\"username\":\"margaretmtomlinas4\",\"bio\":\"\",\"imageId\":\"0*I31SorQaZxEdXiz7\",\"mediumMemberAt\":0,\"isPartnerProgramEnrolled\":false,\"viewerEdge\":{\"__ref\":\"UserViewerEdge:userId:ef68055d8e88-viewerId:lo_a14e1aa99491\"},\"viewerIsUser\":false,\"newsletterV3\":null,\"customDomainState\":null,\"hasSubdomain\":false,\"postSubscribeMembershipUpsellShownAt\":0},\"Post:1937d3f455b0\":{\"id\":\"1937d3f455b0\",\"__typename\":\"Post\",\"title\":\"Hitman 3 Season of Gluttony will be released on August 31\",\"mediumUrl\":\"https:\\\\u002F\\\\u002Fmedium.com\\\\u002F@margaretmtomlinas4\\\\u002Fhitman-3-season-of-gluttony-will-be-released-on-august-31-1937d3f455b0\",\"previewImage\":{\"__ref\":\"ImageMetadata:\"},\"isPublished\":true,\"firstPublishedAt\":1630087783106,\"readingTime\":1.2792452830188679,\"statusForCollection\":null,\"isLocked\":false,\"visibility\":\"PUBLIC\",\"collection\":null,\"creator\":{\"__ref\":\"User:ef68055d8e88\"},\"previewContent\":{\"__typename\":\"PreviewContent\",\"isFullContent\":false}},\"ImageMetadata:1*UG0A8vemHAVYn75QTyxnEA@2x.jpeg\":{\"id\":\"1*UG0A8vemHAVYn75QTyxnEA@2x.jpeg\",\"__typename\":\"ImageMetadata\",\"focusPercentX\":null,\"focusPercentY\":null},\"Post:ea74f1911ffc\":{\"id\":\"ea74f1911ffc\",\"__typename\":\"Post\",\"title\":\"10 you Need to Know about Games with NFTs\",\"mediumUrl\":\"https:\\\\u002F\\\\u002Fmedium.com\\\\u002Fbuilding-the-metaverse\\\\u002F10-you-need-to-know-about-games-with-nfts-ea74f1911ffc\",\"previewImage\":{\"__ref\":\"ImageMetadata:1*UG0A8vemHAVYn75QTyxnEA@2x.jpeg\"},\"isPublished\":true,\"firstPublishedAt\":1614968530129,\"readingTime\":1.6339622641509433,\"statusForCollection\":\"APPROVED\",\"isLocked\":false,\"visibility\":\"PUBLIC\",\"collection\":{\"__ref\":\"Collection:844754dc359\"},\"creator\":{\"__ref\":\"User:7e6b05637259\"},\"previewContent\":{\"__typename\":\"PreviewContent\",\"isFullContent\":false}},\"PostViewerEdge:postId:c9ef03c1a5dd-viewerId:lo_a14e1aa99491\":{\"id\":\"postId:c9ef03c1a5dd-viewerId:lo_a14e1aa99491\",\"__typename\":\"PostViewerEdge\",\"catalogsConnection\":null},\"Post:c9ef03c1a5dd\":{\"id\":\"c9ef03c1a5dd\",\"__typename\":\"Post\",\"creator\":{\"__ref\":\"User:7e6b05637259\"},\"canonicalUrl\":\"\",\"collection\":{\"__ref\":\"Collection:844754dc359\"},\"content({\\\\\"postMeteringOptions\\\\\":{\\\\\"referrer\\\\\":\\\\\"https:\\\\u002F\\\\u002Fmedium.com\\\\u002Fbuilding-the-metaverse\\\\u002Fmarket-map-of-the-metaverse-8ae0cde89696\\\\\",\\\\\"sk\\\\\":null,\\\\\"source\\\\\":\\\\\"post_page-----8ae0cde89696-----------------------------------\\\\\"}})\":{\"__typename\":\"PostContent\",\"isLockedPreviewOnly\":false,\"validatedShareKey\":\"\",\"bodyModel\":{\"__typename\":\"RichText\",\"paragraphs\":[{\"__ref\":\"Paragraph:de8c39fdc201_0\"},{\"__ref\":\"Paragraph:de8c39fdc201_1\"},{\"__ref\":\"Paragraph:de8c39fdc201_2\"},{\"__ref\":\"Paragraph:de8c39fdc201_3\"},{\"__ref\":\"Paragraph:de8c39fdc201_4\"},{\"__ref\":\"Paragraph:de8c39fdc201_5\"},{\"__ref\":\"Paragraph:de8c39fdc201_6\"},{\"__ref\":\"Paragraph:de8c39fdc201_7\"},{\"__ref\":\"Paragraph:de8c39fdc201_8\"},{\"__ref\":\"Paragraph:de8c39fdc201_9\"},{\"__ref\":\"Paragraph:de8c39fdc201_10\"},{\"__ref\":\"Paragraph:de8c39fdc201_11\"},{\"__ref\":\"Paragraph:de8c39fdc201_12\"},{\"__ref\":\"Paragraph:de8c39fdc201_13\"},{\"__ref\":\"Paragraph:de8c39fdc201_14\"},{\"__ref\":\"Paragraph:de8c39fdc201_15\"},{\"__ref\":\"Paragraph:de8c39fdc201_16\"},{\"__ref\":\"Paragraph:de8c39fdc201_17\"},{\"__ref\":\"Paragraph:de8c39fdc201_18\"},{\"__ref\":\"Paragraph:de8c39fdc201_19\"},{\"__ref\":\"Paragraph:de8c39fdc201_20\"},{\"__ref\":\"Paragraph:de8c39fdc201_21\"},{\"__ref\":\"Paragraph:de8c39fdc201_22\"},{\"__ref\":\"Paragraph:de8c39fdc201_23\"},{\"__ref\":\"Paragraph:de8c39fdc201_24\"},{\"__ref\":\"Paragraph:de8c39fdc201_25\"},{\"__ref\":\"Paragraph:de8c39fdc201_26\"},{\"__ref\":\"Paragraph:de8c39fdc201_27\"}],\"sections\":[{\"__typename\":\"Section\",\"name\":\"d672\",\"startIndex\":0,\"textLayout\":null,\"imageLayout\":null,\"backgroundImage\":null,\"videoLayout\":null,\"backgroundVideo\":null}]}},\"customStyleSheet\":null,\"firstPublishedAt\":1614303116812,\"isIndexable\":true,\"isLocked\":false,\"isPublished\":true,\"isShortform\":false,\"layerCake\":3,\"primaryTopic\":{\"__ref\":\"Topic:137f52891b6b\"},\"title\":\"What We Talk About When We Talk About the Metaverse\",\"isMarkedPaywallOnly\":false,\"mediumUrl\":\"https:\\\\u002F\\\\u002Fmedium.com\\\\u002Fbuilding-the-metaverse\\\\u002Fwhat-we-talk-about-when-we-talk-about-the-metaverse-c9ef03c1a5dd\",\"readingTime\":4.388050314465409,\"detectedLanguage\":\"en\",\"wordCount\":942,\"isLimitedState\":false,\"visibility\":\"PUBLIC\",\"license\":\"CC_40_BY\",\"inResponseToPostResult\":null,\"allowResponses\":true,\"newsletterId\":\"\",\"sequence\":null,\"tags\":[{\"__ref\":\"Tag:metaverse\"},{\"__ref\":\"Tag:game-development\"},{\"__ref\":\"Tag:free-to-play\"},{\"__ref\":\"Tag:mmorpg\"},{\"__ref\":\"Tag:virtual-reality\"}],\"topics\":[{\"__typename\":\"Topic\",\"topicId\":\"137f52891b6b\",\"name\":\"Gaming\"},{\"__typename\":\"Topic\",\"topicId\":\"1af65db9c2f8\",\"name\":\"Artificial Intelligence\"}],\"isNewsletter\":false,\"isPublishToEmail\":false,\"socialTitle\":\"\",\"socialDek\":\"\",\"noIndex\":null,\"curationStatus\":null,\"metaDescription\":\"\",\"latestPublishedAt\":1622740435881,\"previewContent\":{\"__typename\":\"PreviewContent\",\"subtitle\":\"Decentralization means the metaverse will be weirder, different and even more amazing than we originally imagined.\"},\"previewImage\":{\"__ref\":\"ImageMetadata:0*xr-rsGfGktXBcf4h.jpg\"},\"clapCount\":145,\"postResponses\":{\"__typename\":\"PostResponses\",\"count\":2},\"isSuspended\":false,\"pendingCollection\":null,\"statusForCollection\":\"APPROVED\",\"lockedSource\":\"LOCKED_POST_SOURCE_NONE\",\"pinnedAt\":0,\"pinnedByCreatorAt\":0,\"curationEligibleAt\":0,\"responseDistribution\":\"NOT_DISTRIBUTED\",\"inResponseToEntityType\":null,\"internalLinks({\\\\\"paging\\\\\":{\\\\\"limit\\\\\":8}})\":{\"__typename\":\"InternalLinksConnection\",\"items\":[{\"__ref\":\"Post:b50f4760f160\"},{\"__ref\":\"Post:28adf8d730db\"},{\"__ref\":\"Post:aacdef21e051\"},{\"__ref\":\"Post:321c536633e0\"},{\"__ref\":\"Post:b07552347570\"},{\"__ref\":\"Post:3a8d098e1ced\"},{\"__ref\":\"Post:1937d3f455b0\"},{\"__ref\":\"Post:ea74f1911ffc\"}]},\"viewerEdge\":{\"__ref\":\"PostViewerEdge:postId:c9ef03c1a5dd-viewerId:lo_a14e1aa99491\"},\"collaborators\":[],\"translationSourcePost\":null,\"audioVersionUrl\":\"\",\"seoTitle\":\"\",\"updatedAt\":1622740442827,\"shortformType\":\"SHORTFORM_TYPE_LINK\",\"structuredData\":\"\",\"seoDescription\":\"\",\"latestPublishedVersion\":\"de8c39fdc201\",\"isAuthorNewsletter\":false,\"voterCount\":30,\"recommenders\":[],\"content({})\":{\"__typename\":\"PostContent\",\"isLockedPreviewOnly\":false,\"validatedShareKey\":\"\",\"bodyModel\":{\"__typename\":\"RichText\",\"paragraphs\":[{\"__ref\":\"Paragraph:de8c39fdc201_0\"},{\"__ref\":\"Paragraph:de8c39fdc201_1\"},{\"__ref\":\"Paragraph:de8c39fdc201_2\"},{\"__ref\":\"Paragraph:de8c39fdc201_3\"},{\"__ref\":\"Paragraph:de8c39fdc201_4\"},{\"__ref\":\"Paragraph:de8c39fdc201_5\"},{\"__ref\":\"Paragraph:de8c39fdc201_6\"},{\"__ref\":\"Paragraph:de8c39fdc201_7\"},{\"__ref\":\"Paragraph:de8c39fdc201_8\"},{\"__ref\":\"Paragraph:de8c39fdc201_9\"},{\"__ref\":\"Paragraph:de8c39fdc201_10\"},{\"__ref\":\"Paragraph:de8c39fdc201_11\"},{\"__ref\":\"Paragraph:de8c39fdc201_12\"},{\"__ref\":\"Paragraph:de8c39fdc201_13\"},{\"__ref\":\"Paragraph:de8c39fdc201_14\"},{\"__ref\":\"Paragraph:de8c39fdc201_15\"},{\"__ref\":\"Paragraph:de8c39fdc201_16\"},{\"__ref\":\"Paragraph:de8c39fdc201_17\"},{\"__ref\":\"Paragraph:de8c39fdc201_18\"},{\"__ref\":\"Paragraph:de8c39fdc201_19\"},{\"__ref\":\"Paragraph:de8c39fdc201_20\"},{\"__ref\":\"Paragraph:de8c39fdc201_21\"},{\"__ref\":\"Paragraph:de8c39fdc201_22\"},{\"__ref\":\"Paragraph:de8c39fdc201_23\"},{\"__ref\":\"Paragraph:de8c39fdc201_24\"},{\"__ref\":\"Paragraph:de8c39fdc201_25\"},{\"__ref\":\"Paragraph:de8c39fdc201_26\"},{\"__ref\":\"Paragraph:de8c39fdc201_27\"}],\"sections\":[{\"__typename\":\"Section\",\"name\":\"d672\",\"startIndex\":0,\"textLayout\":null,\"imageLayout\":null,\"backgroundImage\":null,\"videoLayout\":null,\"backgroundVideo\":null}]}}}}</script><script>window.__MIDDLEWARE_STATE__={\"session\":{\"xsrf\":\"\"},\"cache\":{\"cacheStatus\":\"HIT\",\"shouldUseCache\":true}}</script><script src=\"https://cdn-client.medium.com/lite/static/js/manifest.b98edf84.js\"></script><script src=\"https://cdn-client.medium.com/lite/static/js/35565.71cd3bc0.js\"></script><script src=\"https://cdn-client.medium.com/lite/static/js/main.bbf5234c.js\"></script><script src=\"https://cdn-client.medium.com/lite/static/js/45573.4354ed57.chunk.js\"></script>\\n<script src=\"https://cdn-client.medium.com/lite/static/js/instrumentation.b36a3c7f.chunk.js\"></script>\\n<script src=\"https://cdn-client.medium.com/lite/static/js/reporting.7ffdf826.chunk.js\"></script>\\n<script src=\"https://cdn-client.medium.com/lite/static/js/1752.a348f767.chunk.js\"></script>\\n<script src=\"https://cdn-client.medium.com/lite/static/js/7794.9590314e.chunk.js\"></script>\\n<script src=\"https://cdn-client.medium.com/lite/static/js/8353.3bb2d559.chunk.js\"></script>\\n<script src=\"https://cdn-client.medium.com/lite/static/js/32018.8b578440.chunk.js\"></script>\\n<script src=\"https://cdn-client.medium.com/lite/static/js/80685.29e1bf85.chunk.js\"></script>\\n<script src=\"https://cdn-client.medium.com/lite/static/js/11615.14b476f7.chunk.js\"></script>\\n<script src=\"https://cdn-client.medium.com/lite/static/js/11034.8b48db35.chunk.js\"></script>\\n<script src=\"https://cdn-client.medium.com/lite/static/js/90192.a7d57f8a.chunk.js\"></script>\\n<script src=\"https://cdn-client.medium.com/lite/static/js/19692.c9311437.chunk.js\"></script>\\n<script src=\"https://cdn-client.medium.com/lite/static/js/79088.e4863540.chunk.js\"></script>\\n<script src=\"https://cdn-client.medium.com/lite/static/js/81645.b955b7c8.chunk.js\"></script>\\n<script src=\"https://cdn-client.medium.com/lite/static/js/21936.668e20ff.chunk.js\"></script>\\n<script src=\"https://cdn-client.medium.com/lite/static/js/63303.b45636f0.chunk.js\"></script>\\n<script src=\"https://cdn-client.medium.com/lite/static/js/5850.b6744db4.chunk.js\"></script>\\n<script src=\"https://cdn-client.medium.com/lite/static/js/70832.444ac173.chunk.js\"></script>\\n<script src=\"https://cdn-client.medium.com/lite/static/js/5055.78455feb.chunk.js\"></script>\\n<script src=\"https://cdn-client.medium.com/lite/static/js/72776.5da58502.chunk.js\"></script>\\n<script src=\"https://cdn-client.medium.com/lite/static/js/95064.25d50b88.chunk.js\"></script>\\n<script src=\"https://cdn-client.medium.com/lite/static/js/50327.c2422d85.chunk.js\"></script>\\n<script src=\"https://cdn-client.medium.com/lite/static/js/6898.969714a2.chunk.js\"></script>\\n<script src=\"https://cdn-client.medium.com/lite/static/js/61781.8135fc03.chunk.js\"></script>\\n<script src=\"https://cdn-client.medium.com/lite/static/js/37801.d7a0cb0c.chunk.js\"></script>\\n<script src=\"https://cdn-client.medium.com/lite/static/js/26022.af9b2abc.chunk.js\"></script>\\n<script src=\"https://cdn-client.medium.com/lite/static/js/39592.4b817af2.chunk.js\"></script>\\n<script src=\"https://cdn-client.medium.com/lite/static/js/7790.1bfa0f88.chunk.js\"></script>\\n<script src=\"https://cdn-client.medium.com/lite/static/js/73252.64ac95a7.chunk.js\"></script>\\n<script src=\"https://cdn-client.medium.com/lite/static/js/33673.952ffdce.chunk.js\"></script>\\n<script src=\"https://cdn-client.medium.com/lite/static/js/95972.996c4300.chunk.js\"></script>\\n<script src=\"https://cdn-client.medium.com/lite/static/js/92397.168bdb90.chunk.js\"></script>\\n<script src=\"https://cdn-client.medium.com/lite/static/js/68519.7a66f2e4.chunk.js\"></script>\\n<script src=\"https://cdn-client.medium.com/lite/static/js/47875.c8d47f24.chunk.js\"></script>\\n<script src=\"https://cdn-client.medium.com/lite/static/js/51334.9bfcafaa.chunk.js\"></script>\\n<script src=\"https://cdn-client.medium.com/lite/static/js/31142.7804778e.chunk.js\"></script>\\n<script src=\"https://cdn-client.medium.com/lite/static/js/989.83bfd7c8.chunk.js\"></script>\\n<script src=\"https://cdn-client.medium.com/lite/static/js/Post.76a6c83b.chunk.js\"></script><script>window.main();</script><script defer src=\"https://static.cloudflareinsights.com/beacon.min.js/v64f9daad31f64f81be21cbef6184a5e31634941392597\" integrity=\"sha512-gV/bogrUTVP2N3IzTDKzgP0Js1gg4fbwtYB6ftgLbKQu/V8yH2+lrKCfKHelh4SO3DPzKj4/glTO+tNJGDnb0A==\" data-cf-beacon=\\'{\"rayId\":\"6bdea3bd9c5b3a32\",\"token\":\"0b5f665943484354a59c39c6833f7078\",\"version\":\"2021.12.0\",\"si\":100}\\' crossorigin=\"anonymous\"></script>\\n</body></html>'"
            ]
          },
          "execution_count": 94,
          "metadata": {},
          "output_type": "execute_result"
        }
      ],
      "source": [
        "r.text"
      ]
    },
    {
      "cell_type": "code",
      "execution_count": 97,
      "metadata": {
        "id": "Uib85xMULUNq"
      },
      "outputs": [],
      "source": [
        "soup = BeautifulSoup(r.text, 'html.parser')\n",
        "results = soup.find_all(['h1', 'p'])\n",
        "text = [result.text for result in results]\n",
        "ARTICLE = ' '.join(text)"
      ]
    },
    {
      "cell_type": "code",
      "execution_count": 98,
      "metadata": {
        "colab": {
          "base_uri": "https://localhost:8080/",
          "height": 162
        },
        "id": "sQqfSSnIbzNn",
        "outputId": "b2fc493a-ff1c-4922-9a92-49474832cd56"
      },
      "outputs": [
        {
          "data": {
            "application/vnd.google.colaboratory.intrinsic+json": {
              "type": "string"
            },
            "text/plain": [
              "'What We Talk About When We Talk About the Metaverse Since this is the inaugural article on Building the Metaverse, I wanted to take a moment to think about what this word means, how it has evolved, and what the future may bring. “Metaverse” is a word that conjures different meanings to people: to some, it’s an immersive virtual-reality experience within a persistent landscape; to others, a specific technology stack; to some, it is a vision of future society. About 14 years ago, I asked one of my favorite science-fiction authors, Charlie Stross, to write an article for me about the future of games. He had to say this about the metaverse: The really interesting question is whether things will converge on a single overarching metaverse with games or business meetings happening in different places, or whether they’ll fracture and we’ll see even more divergent environments cropping up. It is now possible to say that neither of these futures has entirely come true. In Neal Stephenson’s Snow Crash, the metaverse is run by the fictional Global Multimedia Protocol Group, an entity controlled by the real-life Association for Computing Machinery. In Ready Player One, the OASIS virtual reality is owned by a corporation called Innovative Online Industries — and the plot largely revolves around its control. Although social networks seem to follow winner-take-all economics, it seems that virtual spaces have far too much variety and experiences to follow the same path. Stross was closer to the truth when he wrote about the fragmentation of virtual worlds. Fragmentation is happening because games, virtual realities, and online communities are based on experiences that are far too varied to fit into one particular landscape. These experiences include the immersive 3D VR environments envisioned by Ready Player One. Fragmentation includes experiences on your phone: Candy Crush and Star Trek Timelines and Genshin Impact. It’s Netflix on your living room wall or projected into a virtual surface in a simulated theatre inside the Oculus. It includes third-person inside 3D within Fortnite. It is Decentraland and Sim City and Roblox. It includes both the asynchronous and the synchronous, real-time and turn-based. It is client-server, downloaded, or streamed. The metaverse is the collective set of online, connected experiences that one can have. The common theme is that the “player” is connected to an online framework that permits live content changes, live social connection or live monetization. The keyword is “live.” The metaverse is a living multiverse of worlds. The other “multi” is that the creation of games and virtual worlds has become multi-disciplinary, requiring knowledge of game design, game theory, behavioral economics, analytics, databases, music, AI, GPUs, graphics, branding, performance, user experience design, storytelling, software engineering and a hundred other talents. One way to approach the metaverse is to invite people into walled gardens that provide the extensive technological scaffolding for this creativity. Indeed, this has already yielded impressive results in certain settings. In exchange, the cost for this is the high rents you’ll pay and the limits on creativity imposed by the owners. Another approach to these monolithic silos in which creators are hemmed-in is a “metaverse for all.” In this, the defining characteristic is decentralization. We already see this in the realm of decentralized finance (DeFi). To unlock the creativity of the world, we’ll need similar patterns to play out in the space of virtual worlds and games. Technologies, interfaces and business services are emerging that allow anyone to mash-up, mix, build around and be compensated for creativity. This sort of metaverse demands the ability to create and exchange assets among games, worlds and environments — and a decoupling of the rules, content and technical underpinnings. Creative work will need to be freed from programming and technical impediments that cause the multiplication of processes, workflows and domains of engineering knowledge. In this future, the AI that drives a chess table could power a game on a phone or executed within a table manifested in virtual reality; the art that represents the assets could come from a marketplace that properly compensates creators; and participation in live chess tournaments could be driven by a live events engine with ticket sales that fund the organizers. Walled gardens will contain the expansive theme parks that you’ll enjoy visiting — but they won’t be the only destinations. These theme parks will include games, experiences and artistry made by individual innovators and tiny, creative teams… who can choose whether they’d prefer to access the large audiences inside these realms, or strike out on their own and retain their independence. That’s what I (and others who write for Building the Metaverse) will cover: we’ll write about the giant theme parks, the amazing experiences, the enabling technologies and the avenues for individual creativity. We’ll cover the decentralized tools and interfaces that support the ecosystem. We’ll discuss the business considerations, business models and new economics of this future. Welcome to the metaverse: weirder, different and even more amazing than we originally imagined. Further Reading If you enjoyed this introductory article, you’ll love this deck I assembled to capture many of the topics I cover on Building the Metaverse: After you’ve flipped through that, please enjoy a few follow-up articles. These are everyone’s favorites: Games, experiences, technology, economics, culture and art of the metaverse. 145  2 Some rights reserved  145\\xa0claps 145  2 Business, technology and culture of all the virtual worlds, realities and experiences of the Metaverse. 2D, 3D, mobile phones, VR/AR, games, MMORPGs, social networks, digital collectibles, esports; game design, Unity, Unreal, free-to-play (f2p), blockchain, NFTs. Written by Adventurer & entrepreneur. I fight for the game-maker. I like startups, digital culture, stories, software, crypto, cooking/wine, games and adventure. Business, technology and culture of all the virtual worlds, realities and experiences of the Metaverse. 2D, 3D, mobile phones, VR/AR, games, MMORPGs, social networks, digital collectibles, esports; game design, Unity, Unreal, free-to-play (f2p), blockchain, NFTs.'"
            ]
          },
          "execution_count": 98,
          "metadata": {},
          "output_type": "execute_result"
        }
      ],
      "source": [
        "ARTICLE"
      ]
    },
    {
      "cell_type": "markdown",
      "metadata": {
        "id": "xNipJeQfcii3"
      },
      "source": [
        "## Chunking Text"
      ]
    },
    {
      "cell_type": "code",
      "execution_count": 99,
      "metadata": {
        "id": "cMUxlPUmb3E3"
      },
      "outputs": [],
      "source": [
        "# splitting sentences by end-of-sentence tags after appending it\n",
        "ARTICLE = ARTICLE.replace('.', '.<eos>')\n",
        "ARTICLE = ARTICLE.replace('?', '?<eos>')\n",
        "ARTICLE = ARTICLE.replace('!', '!<eos>')\n",
        "sentences = ARTICLE.split('<eos>')"
      ]
    },
    {
      "cell_type": "code",
      "execution_count": 100,
      "metadata": {
        "colab": {
          "base_uri": "https://localhost:8080/"
        },
        "id": "60HdjcC9ctSM",
        "outputId": "6d7c8b2c-b15b-433f-d839-b3ede3580a4a"
      },
      "outputs": [
        {
          "data": {
            "text/plain": [
              "['What We Talk About When We Talk About the Metaverse Since this is the inaugural article on Building the Metaverse, I wanted to take a moment to think about what this word means, how it has evolved, and what the future may bring.',\n",
              " ' “Metaverse” is a word that conjures different meanings to people: to some, it’s an immersive virtual-reality experience within a persistent landscape; to others, a specific technology stack; to some, it is a vision of future society.',\n",
              " ' About 14 years ago, I asked one of my favorite science-fiction authors, Charlie Stross, to write an article for me about the future of games.',\n",
              " ' He had to say this about the metaverse: The really interesting question is whether things will converge on a single overarching metaverse with games or business meetings happening in different places, or whether they’ll fracture and we’ll see even more divergent environments cropping up.',\n",
              " ' It is now possible to say that neither of these futures has entirely come true.',\n",
              " ' In Neal Stephenson’s Snow Crash, the metaverse is run by the fictional Global Multimedia Protocol Group, an entity controlled by the real-life Association for Computing Machinery.',\n",
              " ' In Ready Player One, the OASIS virtual reality is owned by a corporation called Innovative Online Industries — and the plot largely revolves around its control.',\n",
              " ' Although social networks seem to follow winner-take-all economics, it seems that virtual spaces have far too much variety and experiences to follow the same path.',\n",
              " ' Stross was closer to the truth when he wrote about the fragmentation of virtual worlds.',\n",
              " ' Fragmentation is happening because games, virtual realities, and online communities are based on experiences that are far too varied to fit into one particular landscape.',\n",
              " ' These experiences include the immersive 3D VR environments envisioned by Ready Player One.',\n",
              " ' Fragmentation includes experiences on your phone: Candy Crush and Star Trek Timelines and Genshin Impact.',\n",
              " ' It’s Netflix on your living room wall or projected into a virtual surface in a simulated theatre inside the Oculus.',\n",
              " ' It includes third-person inside 3D within Fortnite.',\n",
              " ' It is Decentraland and Sim City and Roblox.',\n",
              " ' It includes both the asynchronous and the synchronous, real-time and turn-based.',\n",
              " ' It is client-server, downloaded, or streamed.',\n",
              " ' The metaverse is the collective set of online, connected experiences that one can have.',\n",
              " ' The common theme is that the “player” is connected to an online framework that permits live content changes, live social connection or live monetization.',\n",
              " ' The keyword is “live.',\n",
              " '” The metaverse is a living multiverse of worlds.',\n",
              " ' The other “multi” is that the creation of games and virtual worlds has become multi-disciplinary, requiring knowledge of game design, game theory, behavioral economics, analytics, databases, music, AI, GPUs, graphics, branding, performance, user experience design, storytelling, software engineering and a hundred other talents.',\n",
              " ' One way to approach the metaverse is to invite people into walled gardens that provide the extensive technological scaffolding for this creativity.',\n",
              " ' Indeed, this has already yielded impressive results in certain settings.',\n",
              " ' In exchange, the cost for this is the high rents you’ll pay and the limits on creativity imposed by the owners.',\n",
              " ' Another approach to these monolithic silos in which creators are hemmed-in is a “metaverse for all.',\n",
              " '” In this, the defining characteristic is decentralization.',\n",
              " ' We already see this in the realm of decentralized finance (DeFi).',\n",
              " ' To unlock the creativity of the world, we’ll need similar patterns to play out in the space of virtual worlds and games.',\n",
              " ' Technologies, interfaces and business services are emerging that allow anyone to mash-up, mix, build around and be compensated for creativity.',\n",
              " ' This sort of metaverse demands the ability to create and exchange assets among games, worlds and environments — and a decoupling of the rules, content and technical underpinnings.',\n",
              " ' Creative work will need to be freed from programming and technical impediments that cause the multiplication of processes, workflows and domains of engineering knowledge.',\n",
              " ' In this future, the AI that drives a chess table could power a game on a phone or executed within a table manifested in virtual reality; the art that represents the assets could come from a marketplace that properly compensates creators; and participation in live chess tournaments could be driven by a live events engine with ticket sales that fund the organizers.',\n",
              " ' Walled gardens will contain the expansive theme parks that you’ll enjoy visiting — but they won’t be the only destinations.',\n",
              " ' These theme parks will include games, experiences and artistry made by individual innovators and tiny, creative teams… who can choose whether they’d prefer to access the large audiences inside these realms, or strike out on their own and retain their independence.',\n",
              " ' That’s what I (and others who write for Building the Metaverse) will cover: we’ll write about the giant theme parks, the amazing experiences, the enabling technologies and the avenues for individual creativity.',\n",
              " ' We’ll cover the decentralized tools and interfaces that support the ecosystem.',\n",
              " ' We’ll discuss the business considerations, business models and new economics of this future.',\n",
              " ' Welcome to the metaverse: weirder, different and even more amazing than we originally imagined.',\n",
              " ' Further Reading If you enjoyed this introductory article, you’ll love this deck I assembled to capture many of the topics I cover on Building the Metaverse: After you’ve flipped through that, please enjoy a few follow-up articles.',\n",
              " ' These are everyone’s favorites: Games, experiences, technology, economics, culture and art of the metaverse.',\n",
              " ' 145  2 Some rights reserved  145\\xa0claps 145  2 Business, technology and culture of all the virtual worlds, realities and experiences of the Metaverse.',\n",
              " ' 2D, 3D, mobile phones, VR/AR, games, MMORPGs, social networks, digital collectibles, esports; game design, Unity, Unreal, free-to-play (f2p), blockchain, NFTs.',\n",
              " ' Written by Adventurer & entrepreneur.',\n",
              " ' I fight for the game-maker.',\n",
              " ' I like startups, digital culture, stories, software, crypto, cooking/wine, games and adventure.',\n",
              " ' Business, technology and culture of all the virtual worlds, realities and experiences of the Metaverse.',\n",
              " ' 2D, 3D, mobile phones, VR/AR, games, MMORPGs, social networks, digital collectibles, esports; game design, Unity, Unreal, free-to-play (f2p), blockchain, NFTs.',\n",
              " '']"
            ]
          },
          "execution_count": 100,
          "metadata": {},
          "output_type": "execute_result"
        }
      ],
      "source": [
        "sentences"
      ]
    },
    {
      "cell_type": "code",
      "execution_count": 101,
      "metadata": {
        "colab": {
          "base_uri": "https://localhost:8080/"
        },
        "id": "Ft_45nzCcubg",
        "outputId": "3deaf9d3-4605-4317-d35f-ab1e36018cb2"
      },
      "outputs": [
        {
          "name": "stdout",
          "output_type": "stream",
          "text": [
            "0\n"
          ]
        }
      ],
      "source": [
        "max_chunk = 500\n",
        "current_chunk = 0 \n",
        "chunks = []\n",
        "for sentence in sentences:\n",
        "    # checking if we have an empty chunk \n",
        "    if len(chunks) == current_chunk + 1: \n",
        "        if len(chunks[current_chunk]) + len(sentence.split(' ')) <= max_chunk:\n",
        "            chunks[current_chunk].extend(sentence.split(' '))\n",
        "        else:\n",
        "            current_chunk += 1\n",
        "            chunks.append(sentence.split(' '))\n",
        "    else:\n",
        "        print(current_chunk)\n",
        "        chunks.append(sentence.split(' '))\n",
        "\n",
        "for chunk_id in range(len(chunks)):\n",
        "    chunks[chunk_id] = ' '.join(chunks[chunk_id])"
      ]
    },
    {
      "cell_type": "code",
      "execution_count": 103,
      "metadata": {
        "colab": {
          "base_uri": "https://localhost:8080/",
          "height": 162
        },
        "id": "obDhz51Peipp",
        "outputId": "7d776a5b-574b-4eb7-9dc6-da0f19d2caa7"
      },
      "outputs": [
        {
          "data": {
            "application/vnd.google.colaboratory.intrinsic+json": {
              "type": "string"
            },
            "text/plain": [
              "' Indeed, this has already yielded impressive results in certain settings.  In exchange, the cost for this is the high rents you’ll pay and the limits on creativity imposed by the owners.  Another approach to these monolithic silos in which creators are hemmed-in is a “metaverse for all. ” In this, the defining characteristic is decentralization.  We already see this in the realm of decentralized finance (DeFi).  To unlock the creativity of the world, we’ll need similar patterns to play out in the space of virtual worlds and games.  Technologies, interfaces and business services are emerging that allow anyone to mash-up, mix, build around and be compensated for creativity.  This sort of metaverse demands the ability to create and exchange assets among games, worlds and environments — and a decoupling of the rules, content and technical underpinnings.  Creative work will need to be freed from programming and technical impediments that cause the multiplication of processes, workflows and domains of engineering knowledge.  In this future, the AI that drives a chess table could power a game on a phone or executed within a table manifested in virtual reality; the art that represents the assets could come from a marketplace that properly compensates creators; and participation in live chess tournaments could be driven by a live events engine with ticket sales that fund the organizers.  Walled gardens will contain the expansive theme parks that you’ll enjoy visiting — but they won’t be the only destinations.  These theme parks will include games, experiences and artistry made by individual innovators and tiny, creative teams… who can choose whether they’d prefer to access the large audiences inside these realms, or strike out on their own and retain their independence.  That’s what I (and others who write for Building the Metaverse) will cover: we’ll write about the giant theme parks, the amazing experiences, the enabling technologies and the avenues for individual creativity.  We’ll cover the decentralized tools and interfaces that support the ecosystem.  We’ll discuss the business considerations, business models and new economics of this future.  Welcome to the metaverse: weirder, different and even more amazing than we originally imagined.  Further Reading If you enjoyed this introductory article, you’ll love this deck I assembled to capture many of the topics I cover on Building the Metaverse: After you’ve flipped through that, please enjoy a few follow-up articles.  These are everyone’s favorites: Games, experiences, technology, economics, culture and art of the metaverse.  145  2 Some rights reserved  145\\xa0claps 145  2 Business, technology and culture of all the virtual worlds, realities and experiences of the Metaverse.  2D, 3D, mobile phones, VR/AR, games, MMORPGs, social networks, digital collectibles, esports; game design, Unity, Unreal, free-to-play (f2p), blockchain, NFTs.  Written by Adventurer & entrepreneur.  I fight for the game-maker.  I like startups, digital culture, stories, software, crypto, cooking/wine, games and adventure.'"
            ]
          },
          "execution_count": 103,
          "metadata": {},
          "output_type": "execute_result"
        }
      ],
      "source": [
        "chunks[1]"
      ]
    },
    {
      "cell_type": "code",
      "execution_count": 104,
      "metadata": {
        "colab": {
          "base_uri": "https://localhost:8080/"
        },
        "id": "qmkzWi7LekYo",
        "outputId": "6442badc-e0de-4b52-ad1c-7c70c0e5004a"
      },
      "outputs": [
        {
          "data": {
            "text/plain": [
              "3"
            ]
          },
          "execution_count": 104,
          "metadata": {},
          "output_type": "execute_result"
        }
      ],
      "source": [
        "len(chunks)"
      ]
    },
    {
      "cell_type": "code",
      "execution_count": 107,
      "metadata": {
        "colab": {
          "base_uri": "https://localhost:8080/"
        },
        "id": "pKagpbOJerqq",
        "outputId": "e9bf22a0-40e0-4283-c4e8-f2d42a05f490"
      },
      "outputs": [
        {
          "data": {
            "text/plain": [
              "494"
            ]
          },
          "execution_count": 107,
          "metadata": {},
          "output_type": "execute_result"
        }
      ],
      "source": [
        "len(chunks[1].split(' '))"
      ]
    },
    {
      "cell_type": "markdown",
      "metadata": {
        "id": "-KpaoyWqe2ap"
      },
      "source": [
        "## Summarize Text"
      ]
    },
    {
      "cell_type": "code",
      "execution_count": 112,
      "metadata": {
        "id": "AJd59lvFewXH"
      },
      "outputs": [],
      "source": [
        "res = summarizer(chunks, max_length=70, min_length=30, do_sample=False)"
      ]
    },
    {
      "cell_type": "code",
      "execution_count": 113,
      "metadata": {
        "colab": {
          "base_uri": "https://localhost:8080/"
        },
        "id": "3o8LxDi_e--5",
        "outputId": "f61aa408-b8d5-41c5-867b-27a93899b009"
      },
      "outputs": [
        {
          "data": {
            "text/plain": [
              "['What We Talk About When We Talk About the Metaverse Since this is the inaugural article on Building the Metaverse, I wanted to take a moment to think about what this word means, how it has evolved, and what the future may bring.  “Metaverse” is a word that conjures different meanings to people: to some, it’s an immersive virtual-reality experience within a persistent landscape; to others, a specific technology stack; to some, it is a vision of future society.  About 14 years ago, I asked one of my favorite science-fiction authors, Charlie Stross, to write an article for me about the future of games.  He had to say this about the metaverse: The really interesting question is whether things will converge on a single overarching metaverse with games or business meetings happening in different places, or whether they’ll fracture and we’ll see even more divergent environments cropping up.  It is now possible to say that neither of these futures has entirely come true.  In Neal Stephenson’s Snow Crash, the metaverse is run by the fictional Global Multimedia Protocol Group, an entity controlled by the real-life Association for Computing Machinery.  In Ready Player One, the OASIS virtual reality is owned by a corporation called Innovative Online Industries — and the plot largely revolves around its control.  Although social networks seem to follow winner-take-all economics, it seems that virtual spaces have far too much variety and experiences to follow the same path.  Stross was closer to the truth when he wrote about the fragmentation of virtual worlds.  Fragmentation is happening because games, virtual realities, and online communities are based on experiences that are far too varied to fit into one particular landscape.  These experiences include the immersive 3D VR environments envisioned by Ready Player One.  Fragmentation includes experiences on your phone: Candy Crush and Star Trek Timelines and Genshin Impact.  It’s Netflix on your living room wall or projected into a virtual surface in a simulated theatre inside the Oculus.  It includes third-person inside 3D within Fortnite.  It is Decentraland and Sim City and Roblox.  It includes both the asynchronous and the synchronous, real-time and turn-based.  It is client-server, downloaded, or streamed.  The metaverse is the collective set of online, connected experiences that one can have.  The common theme is that the “player” is connected to an online framework that permits live content changes, live social connection or live monetization.  The keyword is “live. ” The metaverse is a living multiverse of worlds.  The other “multi” is that the creation of games and virtual worlds has become multi-disciplinary, requiring knowledge of game design, game theory, behavioral economics, analytics, databases, music, AI, GPUs, graphics, branding, performance, user experience design, storytelling, software engineering and a hundred other talents.  One way to approach the metaverse is to invite people into walled gardens that provide the extensive technological scaffolding for this creativity.',\n",
              " ' Indeed, this has already yielded impressive results in certain settings.  In exchange, the cost for this is the high rents you’ll pay and the limits on creativity imposed by the owners.  Another approach to these monolithic silos in which creators are hemmed-in is a “metaverse for all. ” In this, the defining characteristic is decentralization.  We already see this in the realm of decentralized finance (DeFi).  To unlock the creativity of the world, we’ll need similar patterns to play out in the space of virtual worlds and games.  Technologies, interfaces and business services are emerging that allow anyone to mash-up, mix, build around and be compensated for creativity.  This sort of metaverse demands the ability to create and exchange assets among games, worlds and environments — and a decoupling of the rules, content and technical underpinnings.  Creative work will need to be freed from programming and technical impediments that cause the multiplication of processes, workflows and domains of engineering knowledge.  In this future, the AI that drives a chess table could power a game on a phone or executed within a table manifested in virtual reality; the art that represents the assets could come from a marketplace that properly compensates creators; and participation in live chess tournaments could be driven by a live events engine with ticket sales that fund the organizers.  Walled gardens will contain the expansive theme parks that you’ll enjoy visiting — but they won’t be the only destinations.  These theme parks will include games, experiences and artistry made by individual innovators and tiny, creative teams… who can choose whether they’d prefer to access the large audiences inside these realms, or strike out on their own and retain their independence.  That’s what I (and others who write for Building the Metaverse) will cover: we’ll write about the giant theme parks, the amazing experiences, the enabling technologies and the avenues for individual creativity.  We’ll cover the decentralized tools and interfaces that support the ecosystem.  We’ll discuss the business considerations, business models and new economics of this future.  Welcome to the metaverse: weirder, different and even more amazing than we originally imagined.  Further Reading If you enjoyed this introductory article, you’ll love this deck I assembled to capture many of the topics I cover on Building the Metaverse: After you’ve flipped through that, please enjoy a few follow-up articles.  These are everyone’s favorites: Games, experiences, technology, economics, culture and art of the metaverse.  145  2 Some rights reserved  145\\xa0claps 145  2 Business, technology and culture of all the virtual worlds, realities and experiences of the Metaverse.  2D, 3D, mobile phones, VR/AR, games, MMORPGs, social networks, digital collectibles, esports; game design, Unity, Unreal, free-to-play (f2p), blockchain, NFTs.  Written by Adventurer & entrepreneur.  I fight for the game-maker.  I like startups, digital culture, stories, software, crypto, cooking/wine, games and adventure.',\n",
              " ' Business, technology and culture of all the virtual worlds, realities and experiences of the Metaverse.  2D, 3D, mobile phones, VR/AR, games, MMORPGs, social networks, digital collectibles, esports; game design, Unity, Unreal, free-to-play (f2p), blockchain, NFTs. ']"
            ]
          },
          "execution_count": 113,
          "metadata": {},
          "output_type": "execute_result"
        }
      ],
      "source": [
        "chunks"
      ]
    },
    {
      "cell_type": "code",
      "execution_count": 114,
      "metadata": {
        "colab": {
          "base_uri": "https://localhost:8080/"
        },
        "id": "BHNtm7VPfAAp",
        "outputId": "8fa6a01f-51cf-45ae-b6a0-5ea658a4e923"
      },
      "outputs": [
        {
          "data": {
            "text/plain": [
              "[{'summary_text': ' “Metaverse” is a word that conjures different meanings to people: to some, it’s an immersive virtual-reality experience within a persistent landscape; to others, a specific technology stack . “The metaverse is a living multiverse of worlds. The common theme is that the “player”'},\n",
              " {'summary_text': ' Building the Metaverse is a “metaverse for all’s creators’ ability to create and exchange assets among games, worlds and environments . Walled gardens will contain the expansive theme parks that you’ll enjoy visiting — but they won’t be the only destinations . These theme parks will include games, experiences'},\n",
              " {'summary_text': ' Metaverse:  2D, 3D, mobile phones, VR/AR, games, MMORPGs, social networks, digital collectibles, esports; game design, Unity, Unreal, free-to-play (f2p), blockchain, NFTs.  Business, technology and culture of all virtual worlds, realities'}]"
            ]
          },
          "execution_count": 114,
          "metadata": {},
          "output_type": "execute_result"
        }
      ],
      "source": [
        "res"
      ]
    },
    {
      "cell_type": "code",
      "execution_count": 115,
      "metadata": {
        "colab": {
          "base_uri": "https://localhost:8080/",
          "height": 144
        },
        "id": "ubevNgghfRgt",
        "outputId": "823638d7-f547-4a7f-ea09-e52caad737d7"
      },
      "outputs": [
        {
          "data": {
            "application/vnd.google.colaboratory.intrinsic+json": {
              "type": "string"
            },
            "text/plain": [
              "' “Metaverse” is a word that conjures different meanings to people: to some, it’s an immersive virtual-reality experience within a persistent landscape; to others, a specific technology stack . “The metaverse is a living multiverse of worlds. The common theme is that the “player” Building the Metaverse is a “metaverse for all’s creators’ ability to create and exchange assets among games, worlds and environments . Walled gardens will contain the expansive theme parks that you’ll enjoy visiting — but they won’t be the only destinations . These theme parks will include games, experiences Metaverse:  2D, 3D, mobile phones, VR/AR, games, MMORPGs, social networks, digital collectibles, esports; game design, Unity, Unreal, free-to-play (f2p), blockchain, NFTs.  Business, technology and culture of all virtual worlds, realities'"
            ]
          },
          "execution_count": 115,
          "metadata": {},
          "output_type": "execute_result"
        }
      ],
      "source": [
        "''.join([summ['summary_text'] for summ in res])"
      ]
    },
    {
      "cell_type": "markdown",
      "metadata": {
        "id": "krS6V-1xgBXj"
      },
      "source": [
        "## Output to Text File"
      ]
    },
    {
      "cell_type": "code",
      "execution_count": 116,
      "metadata": {
        "id": "gHYFse_Afdlm"
      },
      "outputs": [],
      "source": [
        "text = ' '.join([summ['summary_text'] for summ in res])"
      ]
    },
    {
      "cell_type": "code",
      "execution_count": 117,
      "metadata": {
        "id": "rN3OzlVvgHqp"
      },
      "outputs": [],
      "source": [
        "with open('blogsummary.txt', 'w') as f:\n",
        "    f.write(text)"
      ]
    },
    {
      "cell_type": "markdown",
      "metadata": {
        "id": "iKhIWYX_4UeN"
      },
      "source": [
        "# Abstractive Summarization with Pegasus"
      ]
    },
    {
      "cell_type": "markdown",
      "metadata": {
        "id": "Hcs_s_b25SQV"
      },
      "source": [
        "## Install Dependencies"
      ]
    },
    {
      "cell_type": "code",
      "execution_count": 1,
      "metadata": {
        "colab": {
          "base_uri": "https://localhost:8080/"
        },
        "id": "GMvqUtSB4W_u",
        "outputId": "8279c582-ff20-47ae-d40b-0fd07209e371"
      },
      "outputs": [
        {
          "name": "stdout",
          "output_type": "stream",
          "text": [
            "Looking in links: https://download.pytorch.org/whl/cu113/torch_stable.html\n",
            "Collecting torch==1.10.0+cu113\n",
            "  Downloading https://download.pytorch.org/whl/cu113/torch-1.10.0%2Bcu113-cp37-cp37m-linux_x86_64.whl (1821.5 MB)\n",
            "\u001b[K     |██████████████▋                 | 834.1 MB 2.2 MB/s eta 0:07:30tcmalloc: large alloc 1147494400 bytes == 0x558337e5e000 @  0x7f9285469615 0x5582fe6324cc 0x5582fe71247a 0x5582fe6352ed 0x5582fe726e1d 0x5582fe6a8e99 0x5582fe6a39ee 0x5582fe636bda 0x5582fe6a8d00 0x5582fe6a39ee 0x5582fe636bda 0x5582fe6a5737 0x5582fe727c66 0x5582fe6a4daf 0x5582fe727c66 0x5582fe6a4daf 0x5582fe727c66 0x5582fe6a4daf 0x5582fe637039 0x5582fe67a409 0x5582fe635c52 0x5582fe6a8c25 0x5582fe6a39ee 0x5582fe636bda 0x5582fe6a5737 0x5582fe6a39ee 0x5582fe636bda 0x5582fe6a4915 0x5582fe636afa 0x5582fe6a4c0d 0x5582fe6a39ee\n",
            "\u001b[K     |██████████████████▌             | 1055.7 MB 1.6 MB/s eta 0:07:55tcmalloc: large alloc 1434370048 bytes == 0x55837c4b4000 @  0x7f9285469615 0x5582fe6324cc 0x5582fe71247a 0x5582fe6352ed 0x5582fe726e1d 0x5582fe6a8e99 0x5582fe6a39ee 0x5582fe636bda 0x5582fe6a8d00 0x5582fe6a39ee 0x5582fe636bda 0x5582fe6a5737 0x5582fe727c66 0x5582fe6a4daf 0x5582fe727c66 0x5582fe6a4daf 0x5582fe727c66 0x5582fe6a4daf 0x5582fe637039 0x5582fe67a409 0x5582fe635c52 0x5582fe6a8c25 0x5582fe6a39ee 0x5582fe636bda 0x5582fe6a5737 0x5582fe6a39ee 0x5582fe636bda 0x5582fe6a4915 0x5582fe636afa 0x5582fe6a4c0d 0x5582fe6a39ee\n",
            "\u001b[K     |███████████████████████▌        | 1336.2 MB 1.6 MB/s eta 0:05:13tcmalloc: large alloc 1792966656 bytes == 0x5583012e6000 @  0x7f9285469615 0x5582fe6324cc 0x5582fe71247a 0x5582fe6352ed 0x5582fe726e1d 0x5582fe6a8e99 0x5582fe6a39ee 0x5582fe636bda 0x5582fe6a8d00 0x5582fe6a39ee 0x5582fe636bda 0x5582fe6a5737 0x5582fe727c66 0x5582fe6a4daf 0x5582fe727c66 0x5582fe6a4daf 0x5582fe727c66 0x5582fe6a4daf 0x5582fe637039 0x5582fe67a409 0x5582fe635c52 0x5582fe6a8c25 0x5582fe6a39ee 0x5582fe636bda 0x5582fe6a5737 0x5582fe6a39ee 0x5582fe636bda 0x5582fe6a4915 0x5582fe636afa 0x5582fe6a4c0d 0x5582fe6a39ee\n",
            "\u001b[K     |█████████████████████████████▊  | 1691.1 MB 1.4 MB/s eta 0:01:36tcmalloc: large alloc 2241208320 bytes == 0x55836c0ce000 @  0x7f9285469615 0x5582fe6324cc 0x5582fe71247a 0x5582fe6352ed 0x5582fe726e1d 0x5582fe6a8e99 0x5582fe6a39ee 0x5582fe636bda 0x5582fe6a8d00 0x5582fe6a39ee 0x5582fe636bda 0x5582fe6a5737 0x5582fe727c66 0x5582fe6a4daf 0x5582fe727c66 0x5582fe6a4daf 0x5582fe727c66 0x5582fe6a4daf 0x5582fe637039 0x5582fe67a409 0x5582fe635c52 0x5582fe6a8c25 0x5582fe6a39ee 0x5582fe636bda 0x5582fe6a5737 0x5582fe6a39ee 0x5582fe636bda 0x5582fe6a4915 0x5582fe636afa 0x5582fe6a4c0d 0x5582fe6a39ee\n",
            "\u001b[K     |████████████████████████████████| 1821.5 MB 1.3 MB/s eta 0:00:01tcmalloc: large alloc 1821458432 bytes == 0x5583f1a30000 @  0x7f92854681e7 0x5582fe668067 0x5582fe6324cc 0x5582fe71247a 0x5582fe6352ed 0x5582fe726e1d 0x5582fe6a8e99 0x5582fe6a39ee 0x5582fe636bda 0x5582fe6a4c0d 0x5582fe6a39ee 0x5582fe636bda 0x5582fe6a4c0d 0x5582fe6a39ee 0x5582fe636bda 0x5582fe6a4c0d 0x5582fe6a39ee 0x5582fe636bda 0x5582fe6a4c0d 0x5582fe6a39ee 0x5582fe636bda 0x5582fe6a4c0d 0x5582fe636afa 0x5582fe6a4c0d 0x5582fe6a39ee 0x5582fe636bda 0x5582fe6a5737 0x5582fe6a39ee 0x5582fe636bda 0x5582fe6a5737 0x5582fe6a39ee\n",
            "tcmalloc: large alloc 2276827136 bytes == 0x55845e344000 @  0x7f9285469615 0x5582fe6324cc 0x5582fe71247a 0x5582fe6352ed 0x5582fe726e1d 0x5582fe6a8e99 0x5582fe6a39ee 0x5582fe636bda 0x5582fe6a4c0d 0x5582fe6a39ee 0x5582fe636bda 0x5582fe6a4c0d 0x5582fe6a39ee 0x5582fe636bda 0x5582fe6a4c0d 0x5582fe6a39ee 0x5582fe636bda 0x5582fe6a4c0d 0x5582fe6a39ee 0x5582fe636bda 0x5582fe6a4c0d 0x5582fe636afa 0x5582fe6a4c0d 0x5582fe6a39ee 0x5582fe636bda 0x5582fe6a5737 0x5582fe6a39ee 0x5582fe636bda 0x5582fe6a5737 0x5582fe6a39ee 0x5582fe637271\n",
            "\u001b[K     |████████████████████████████████| 1821.5 MB 3.1 kB/s \n",
            "\u001b[?25hCollecting torchvision==0.11.1+cu113\n",
            "  Downloading https://download.pytorch.org/whl/cu113/torchvision-0.11.1%2Bcu113-cp37-cp37m-linux_x86_64.whl (24.6 MB)\n",
            "\u001b[K     |████████████████████████████████| 24.6 MB 31 kB/s \n",
            "\u001b[?25hCollecting torchaudio===0.10.0+cu113\n",
            "  Downloading https://download.pytorch.org/whl/cu113/torchaudio-0.10.0%2Bcu113-cp37-cp37m-linux_x86_64.whl (2.9 MB)\n",
            "\u001b[K     |████████████████████████████████| 2.9 MB 30.3 MB/s \n",
            "\u001b[?25hRequirement already satisfied: typing-extensions in /usr/local/lib/python3.7/dist-packages (from torch==1.10.0+cu113) (3.10.0.2)\n",
            "Requirement already satisfied: pillow!=8.3.0,>=5.3.0 in /usr/local/lib/python3.7/dist-packages (from torchvision==0.11.1+cu113) (7.1.2)\n",
            "Requirement already satisfied: numpy in /usr/local/lib/python3.7/dist-packages (from torchvision==0.11.1+cu113) (1.19.5)\n",
            "Installing collected packages: torch, torchvision, torchaudio\n",
            "  Attempting uninstall: torch\n",
            "    Found existing installation: torch 1.8.2+cu111\n",
            "    Uninstalling torch-1.8.2+cu111:\n",
            "      Successfully uninstalled torch-1.8.2+cu111\n",
            "  Attempting uninstall: torchvision\n",
            "    Found existing installation: torchvision 0.9.2+cu111\n",
            "    Uninstalling torchvision-0.9.2+cu111:\n",
            "      Successfully uninstalled torchvision-0.9.2+cu111\n",
            "  Attempting uninstall: torchaudio\n",
            "    Found existing installation: torchaudio 0.8.2\n",
            "    Uninstalling torchaudio-0.8.2:\n",
            "      Successfully uninstalled torchaudio-0.8.2\n",
            "Successfully installed torch-1.10.0+cu113 torchaudio-0.10.0+cu113 torchvision-0.11.1+cu113\n"
          ]
        }
      ],
      "source": [
        "# installing PyTorch\n",
        "!pip install torch==1.10.0+cu113 torchvision==0.11.1+cu113 torchaudio===0.10.0+cu113 -f https://download.pytorch.org/whl/cu113/torch_stable.html"
      ]
    },
    {
      "cell_type": "code",
      "execution_count": 2,
      "metadata": {
        "colab": {
          "base_uri": "https://localhost:8080/"
        },
        "id": "OVK4ChmS5vIB",
        "outputId": "f4c852ea-1ae1-4bee-ffaa-08e49963c10d"
      },
      "outputs": [
        {
          "name": "stdout",
          "output_type": "stream",
          "text": [
            "Requirement already satisfied: transformers in /usr/local/lib/python3.7/dist-packages (4.13.0)\n",
            "Requirement already satisfied: numpy>=1.17 in /usr/local/lib/python3.7/dist-packages (from transformers) (1.19.5)\n",
            "Requirement already satisfied: filelock in /usr/local/lib/python3.7/dist-packages (from transformers) (3.4.0)\n",
            "Requirement already satisfied: tqdm>=4.27 in /usr/local/lib/python3.7/dist-packages (from transformers) (4.62.3)\n",
            "Requirement already satisfied: requests in /usr/local/lib/python3.7/dist-packages (from transformers) (2.23.0)\n",
            "Requirement already satisfied: tokenizers<0.11,>=0.10.1 in /usr/local/lib/python3.7/dist-packages (from transformers) (0.10.3)\n",
            "Requirement already satisfied: huggingface-hub<1.0,>=0.1.0 in /usr/local/lib/python3.7/dist-packages (from transformers) (0.2.1)\n",
            "Requirement already satisfied: regex!=2019.12.17 in /usr/local/lib/python3.7/dist-packages (from transformers) (2019.12.20)\n",
            "Requirement already satisfied: pyyaml>=5.1 in /usr/local/lib/python3.7/dist-packages (from transformers) (6.0)\n",
            "Requirement already satisfied: packaging>=20.0 in /usr/local/lib/python3.7/dist-packages (from transformers) (21.3)\n",
            "Requirement already satisfied: sacremoses in /usr/local/lib/python3.7/dist-packages (from transformers) (0.0.46)\n",
            "Requirement already satisfied: importlib-metadata in /usr/local/lib/python3.7/dist-packages (from transformers) (4.8.2)\n",
            "Requirement already satisfied: typing-extensions>=3.7.4.3 in /usr/local/lib/python3.7/dist-packages (from huggingface-hub<1.0,>=0.1.0->transformers) (3.10.0.2)\n",
            "Requirement already satisfied: pyparsing!=3.0.5,>=2.0.2 in /usr/local/lib/python3.7/dist-packages (from packaging>=20.0->transformers) (3.0.6)\n",
            "Requirement already satisfied: zipp>=0.5 in /usr/local/lib/python3.7/dist-packages (from importlib-metadata->transformers) (3.6.0)\n",
            "Requirement already satisfied: certifi>=2017.4.17 in /usr/local/lib/python3.7/dist-packages (from requests->transformers) (2021.10.8)\n",
            "Requirement already satisfied: chardet<4,>=3.0.2 in /usr/local/lib/python3.7/dist-packages (from requests->transformers) (3.0.4)\n",
            "Requirement already satisfied: idna<3,>=2.5 in /usr/local/lib/python3.7/dist-packages (from requests->transformers) (2.10)\n",
            "Requirement already satisfied: urllib3!=1.25.0,!=1.25.1,<1.26,>=1.21.1 in /usr/local/lib/python3.7/dist-packages (from requests->transformers) (1.24.3)\n",
            "Requirement already satisfied: six in /usr/local/lib/python3.7/dist-packages (from sacremoses->transformers) (1.15.0)\n",
            "Requirement already satisfied: click in /usr/local/lib/python3.7/dist-packages (from sacremoses->transformers) (7.1.2)\n",
            "Requirement already satisfied: joblib in /usr/local/lib/python3.7/dist-packages (from sacremoses->transformers) (1.1.0)\n"
          ]
        }
      ],
      "source": [
        "# installing HF Transformers\n",
        "!pip install transformers"
      ]
    },
    {
      "cell_type": "code",
      "execution_count": 3,
      "metadata": {
        "colab": {
          "base_uri": "https://localhost:8080/"
        },
        "id": "yfJggENz8_W1",
        "outputId": "8dc1817d-1194-486a-8d52-55bb51942e32"
      },
      "outputs": [
        {
          "name": "stdout",
          "output_type": "stream",
          "text": [
            "Requirement already satisfied: SentencePiece in /usr/local/lib/python3.7/dist-packages (0.1.96)\n"
          ]
        }
      ],
      "source": [
        "!pip install SentencePiece"
      ]
    },
    {
      "cell_type": "markdown",
      "metadata": {
        "id": "_kELqhXo6I7o"
      },
      "source": [
        "## Import & Load Model"
      ]
    },
    {
      "cell_type": "code",
      "execution_count": 4,
      "metadata": {
        "id": "piXgRjXT6K0p"
      },
      "outputs": [],
      "source": [
        "# importing dependencies from tansformers\n",
        "from transformers import PegasusForConditionalGeneration, PegasusTokenizer"
      ]
    },
    {
      "cell_type": "code",
      "execution_count": 5,
      "metadata": {
        "colab": {
          "base_uri": "https://localhost:8080/",
          "height": 145,
          "referenced_widgets": [
            "884b445ee25344879382cfe2911fc0ed",
            "8108c5c947924803b5119ac8baa31fbd",
            "9321f18deaa74de6b4377a9c26a7e9ff",
            "32143fe90dcb42fe8da93564ff2f87bd",
            "f26f0d6a5ae34b1381efd5073450e8ff",
            "f0503b666e9e478c9e5598e2338c7d26",
            "0428e28c8fe640fa861bf98bef98eb32",
            "3af2d6cf2c67471286c04dfb879ca1a2",
            "d4dd41da51e747dd96804415a7cb3adc",
            "e1b0f96f4e6f4d0fb06c0480129c677d",
            "35e774cc17ee4682829989cd03e47291",
            "b17b19e7de564c33b7cb7e6b978c4f9b",
            "a4af42a2065c4e8c8faba4eced9257e8",
            "ee6be4a65f3f439ea97761db47f84193",
            "0b358b9f02c6411195e9c0c5c21a012a",
            "352d28ae80084e3fac5846bb86a692ec",
            "c007585862954cc5898f535c1d8fa6a4",
            "324b9fcd701d468cbb49ab99e722d837",
            "77a565f42c3b446394a0b3cbce7e6ce7",
            "9d03577bc15c48df89187c2c02c02b58",
            "b950e058bc1c4fe58cb069f5c839a931",
            "3dd0a5b5f2e34ef6bd92de3ce81789e0",
            "649278ce20c4412081d86a8c09c970c2",
            "4f3849e8e5f14f479c0e49c0c152da85",
            "a989d90d64cd442ea833e64e97f16b71",
            "5ead63c32c6148bb8e4a0db977df4169",
            "c55cb66788784b7293750ba549c9690a",
            "23d8be0183a8407d911b8971ed13d72d",
            "4649da52127e48e68bada308cbfa4474",
            "cea9193d86814278b8e5e0059b2f360a",
            "7861d9496a0742bf84db3bf16e37c832",
            "6efdeded557b44a692c3fed297a6eb9e",
            "76406f5f1ad940d68af9706e0db27489",
            "97e87eac85db4bc1b38ffb4c5cb8c710",
            "5c92c3fa2e5145a799d46d86d273aeb8",
            "39813ec2c3934fe883bdb94f17755522",
            "aaf0ff58c84b4c3087fa1944b158aaa9",
            "cdda96665916475899ed3fdf194c008f",
            "a22b96aa836143f0aa1ffeae12f8bea6",
            "cdf86989ef7a456ca0e1c4cbf60e369b",
            "35c161fbe1d64239b7fbd46bfebbf965",
            "d18da63e026e4aae83656bb864d5a737",
            "f7cd154ddaaa48778198fd68a11ce40a",
            "e7199afc1bca4e8fa301513bf7d296f2"
          ]
        },
        "id": "q5h-3FAs6uGb",
        "outputId": "0d86f4bf-3058-431c-c419-53b8e75d5aba"
      },
      "outputs": [
        {
          "data": {
            "application/vnd.jupyter.widget-view+json": {
              "model_id": "884b445ee25344879382cfe2911fc0ed",
              "version_major": 2,
              "version_minor": 0
            },
            "text/plain": [
              "Downloading:   0%|          | 0.00/1.82M [00:00<?, ?B/s]"
            ]
          },
          "metadata": {},
          "output_type": "display_data"
        },
        {
          "data": {
            "application/vnd.jupyter.widget-view+json": {
              "model_id": "b17b19e7de564c33b7cb7e6b978c4f9b",
              "version_major": 2,
              "version_minor": 0
            },
            "text/plain": [
              "Downloading:   0%|          | 0.00/65.0 [00:00<?, ?B/s]"
            ]
          },
          "metadata": {},
          "output_type": "display_data"
        },
        {
          "data": {
            "application/vnd.jupyter.widget-view+json": {
              "model_id": "649278ce20c4412081d86a8c09c970c2",
              "version_major": 2,
              "version_minor": 0
            },
            "text/plain": [
              "Downloading:   0%|          | 0.00/87.0 [00:00<?, ?B/s]"
            ]
          },
          "metadata": {},
          "output_type": "display_data"
        },
        {
          "data": {
            "application/vnd.jupyter.widget-view+json": {
              "model_id": "97e87eac85db4bc1b38ffb4c5cb8c710",
              "version_major": 2,
              "version_minor": 0
            },
            "text/plain": [
              "Downloading:   0%|          | 0.00/3.36M [00:00<?, ?B/s]"
            ]
          },
          "metadata": {},
          "output_type": "display_data"
        }
      ],
      "source": [
        "# loading tokenizer\n",
        "tokenizer = PegasusTokenizer.from_pretrained(\"google/pegasus-xsum\")"
      ]
    },
    {
      "cell_type": "code",
      "execution_count": 6,
      "metadata": {
        "id": "BFe3QTwE7MjA"
      },
      "outputs": [],
      "source": [
        "# loading model\n",
        "model = PegasusForConditionalGeneration.from_pretrained(\"google/pegasus-xsum\")"
      ]
    },
    {
      "cell_type": "markdown",
      "metadata": {
        "id": "EyT6uf6B7feb"
      },
      "source": [
        "## Perform Abstractive Summarization"
      ]
    },
    {
      "cell_type": "code",
      "execution_count": 7,
      "metadata": {
        "id": "T2TYV2ul7iMw"
      },
      "outputs": [],
      "source": [
        "text = \"\"\"\n",
        "Kunal Nayyar (/kʊˈnɑːl ˈnaɪ.ər/, kuu-NAHL NY-ər; born 30 April 1981) is a British American actor. He portrayed Raj Koothrappali on the CBS sitcom The Big Bang Theory (2007–2019), and voiced Vijay on the Nickelodeon animated sitcom Sanjay and Craig (2013–2016). Nayyar also appeared in the films Ice Age: Continental Drift (2012), The Scribbler (2014), Dr. Cabbie (2014), Consumed (2015), Trolls (2016), and Sweetness in the Belly (2019). Forbes listed Nayyar as the world's third-highest-paid television actor in 2015 and 2018, with earnings of US$20 million and US$23.5 million, respectively.[1][2]\n",
        "\n",
        "Early life\n",
        "Nayyar was born in Hounslow, West London to a family of Indian immigrants. When he was 4 years old, his family returned to India, and he grew up in New Delhi.[3] He attended St. Columba's School, where he played badminton for the school team.[4][5] His parents live in New Delhi.[6][7]\n",
        "\n",
        "In 1999, Nayyar moved to the United States to pursue a Bachelor of Business Administration in finance from the University of Portland, Oregon.[8] He started taking acting classes and appeared in several school plays while working on his degree.[3]\n",
        "\n",
        "After participating in the American College Theater Festival, Nayyar decided to become an actor. He then attended Temple University in Philadelphia, Pennsylvania, where he received a Master of Fine Arts in acting.[9]\n",
        "\n",
        "Career\n",
        "\n",
        "Nayyar on a tour of The Big Bang Theory in 2008\n",
        "After graduating, Nayyar found work doing American television ads and plays on the London stage.[10] He first gained attention in the US for his role in the West Coast production of Rajiv Joseph's 2006 play Huck & Holden, where he portrayed an Indian exchange student anxious to experience American culture before returning home.[9] In 2006, Nayyar teamed up with Arun Das to write the play Cotton Candy, which premiered in New Delhi to positive reviews.[11]\n",
        "\n",
        "Nayyar made a guest appearance on the CBS drama NCIS in the season four episode \"Suspicion\", in which he played Youssef Zidan, an Iraqi terrorist.[12]\n",
        "\n",
        "Nayyar's agent heard about a role for a scientist in an upcoming CBS pilot and encouraged him to audition for the part. This led to his casting in the sitcom The Big Bang Theory, where he played the role of an astrophysicist Raj Koothrappali.[13]\n",
        "\n",
        "In 2011, he co-hosted the Tribute to Nerds show with co-star Simon Helberg at the comedy festival Just for Laughs.[14]\n",
        "\n",
        "Nayyar voiced Gupta in Ice Age: Continental Drift in 2012. During the same year he completed the shooting of his first film, Dr. Cabbie, produced by Bollywood actor Salman Khan.[15]\n",
        "\n",
        "From 5 May to 29 June 2015, Nayyar performed in an off-Broadway production, The Spoils, written by and starring actor Jesse Eisenberg. Nayyar played Kalyan, a Nepalese student and roommate of the protagonist Ben, played by Eisenberg.[16] The production transferred to London's West End in 2016.\n",
        "\n",
        "Nayyar published a book about his career journey, titled Yes, My Accent is Real: and Some Other Things I Haven’t Told You, in September 2015.[3]\n",
        "\n",
        "He voiced Guy Diamond in DreamWorks' animated movie Trolls, released in November 2016.\n",
        "\n",
        "In 2020, Nayyar played a convicted serial killer named Sandeep on the Netflix UK production, Criminal: UK. He appeared in the final episode of Season 2, which was released in August 2020. In the same year, he joined the cast of upcoming thriller titled Suspicion on Apple TV+, based on the Israeli thriller TV series False Flag, alongside Uma Thurman, Elizabeth Henstridge and Elyes Gabel.[17]\n",
        "\n",
        "In 2021, he was announced as having been picked to play the title role of A. J. Fikry in the upcoming comedy drama The Storied Life Of A. J. Fikry, alongside Lucy Hale and Christina Hendricks, an adaptation of the best-selling novel by Gabrielle Zevin.[18]\n",
        "\n",
        "\"\"\""
      ]
    },
    {
      "cell_type": "code",
      "execution_count": 8,
      "metadata": {
        "id": "8VFehuAH9pVt"
      },
      "outputs": [],
      "source": [
        "# creating tokens\n",
        "tokens = tokenizer(text, truncation=True, padding=\"longest\", return_tensors=\"pt\")"
      ]
    },
    {
      "cell_type": "code",
      "execution_count": 9,
      "metadata": {
        "colab": {
          "base_uri": "https://localhost:8080/"
        },
        "id": "MwTOXndW944g",
        "outputId": "1750ab10-2b5f-4b28-98fd-11de390f84e7"
      },
      "outputs": [
        {
          "data": {
            "text/plain": [
              "{'input_ids': tensor([[82150, 46401, 26052,   143,   191,  1052,   105,   454,   105,  1191,\n",
              "           110,   105,  2558,   105,   107,   105,   551,   191,   108, 23539,\n",
              "          1858,   121, 83705,  1240,  3942,   121,   105,   551,   206,  1723,\n",
              "           677,   960, 17298,   158,   117,   114,  1816,   655,  5102,   107,\n",
              "           285, 17720, 16117, 39464, 42559,  9241, 12502,   124,   109, 12022,\n",
              "         33454,   139,  2338, 14280, 11245, 66776,  1198, 13316,   312,   111,\n",
              "         25412, 32594,   124,   109, 52947,  8461, 33454, 43067,   111,  8491,\n",
              "           143, 15622,  1198, 14262,   250, 46401, 26052,   163,  2893,   115,\n",
              "           109,  3265,  6527,  6271,   151, 16235, 44235, 28238,   108,   139,\n",
              "           520, 40250, 32961, 26470,   108,   982,   107, 13792, 20860, 26470,\n",
              "           108, 80614,   252, 22924,   108, 41609,   116, 25350,   108,   111,\n",
              "          7303,  1759,   115,   109, 32866, 38245,   107, 15347,  1661, 46401,\n",
              "         26052,   130,   109,   278,   131,   116,   776,   121, 42279,   121,\n",
              "         16097,  3069,  5102,   115,  1680,   111,  3939,   122,  5264,   113,\n",
              "           787, 45766,   604,   111,   787, 28273, 18476,   604,   108,  4802,\n",
              "           107, 65077, 32887, 50558,  6236,   271, 46401, 26052,   140,  1723,\n",
              "           115, 86387,   108,  1167,  1169,   112,   114,   328,   113,  2128,\n",
              "          8881,   107,   434,   178,   140,   384,   231,   459,   108,   169,\n",
              "           328,  2491,   112,  1144,   108,   111,   178,  3139,   164,   115,\n",
              "           351,  5321,   107,  4101, 59740,   285,  3243,   873,   107, 88625,\n",
              "           131,   116,   760,   108,   241,   178,  1421, 42038,   118,   109,\n",
              "           399,   320,   107,  4101,   914, 32887,  1343,  1100,  1006,  1119,\n",
              "           498,   115,   351,  5321,   107,  4101,  1717, 32887,  1954,  1100,\n",
              "           222, 15825, 46401, 26052,  1652,   112,   109,   706,  1013,   112,\n",
              "          4462,   114,  7058,   113,  1423,  4396,   115,  3324,   135,   109,\n",
              "           502,   113,  6701,   108,  5237,   107,  4101,  2000,  1100,   285,\n",
              "           547,   646,  4216,  1745,   111,  2893,   115,   500,   399,  2840,\n",
              "           277,   375,   124,   169,  1393,   107,  4101, 59740,   721,  4245,\n",
              "           115,   109,   655,  1369,  8882,  2781,   108, 46401, 26052,  1159,\n",
              "           112,   460,   142,  5102,   107,   285,   237,  3243,  6518,   502,\n",
              "           115,  5546,   108,  4900,   108,   241,   178,   915,   114,  2802,\n",
              "           113,  6610,  2667,   115,  4216,   107,  4101, 76207, 10433, 46401,\n",
              "         26052,   124,   114,  1473,   113,   139,  2338, 14280, 11245,   115,\n",
              "          3390,   721, 10634,   108, 46401, 26052,   374,   201,   557,   655,\n",
              "          3069,  3885,   111,  2840,   124,   109,  1169,  1348,   107, 65077,\n",
              "         73950,   285,   211,  4119,  1090,   115,   109,   787,   118,   169,\n",
              "           868,   115,   109,  1167,  3500,   889,   113, 56375,  4723,   131,\n",
              "           116,  4822,   462, 50306,   259, 27069,   108,   241,   178, 17720,\n",
              "           142,  2128,  2264,   980,  9993,   112,   306,   655,  1378,   269,\n",
              "          4319,   238,   107,  4101, 76207,   222, 10235, 46401, 26052, 13365,\n",
              "           164,   122, 40107, 18649,   112,  1094,   109,   462, 11223, 15999,\n",
              "           108,   162, 23251,   115,   351,  5321,   112,  1259,  1558,   107,\n",
              "         65077, 49040, 46401, 26052,   266,   114,  2439,  2436,   124,   109,\n",
              "         12022,  4970, 89116,   115,   109,   578,   541,  3257,   198,   283,\n",
              "         52784, 79734,   194,   108,   115,   162,   178,  1421, 82937,  2464,\n",
              "         62001,   108,   142, 16353,  9605,   107, 65077, 50558, 46401, 26052,\n",
              "           131,   116,  2575,  1455,   160,   114,   868,   118,   114,  9732,\n",
              "           115,   142,  2713, 12022,  4947,   111,  3825,   342,   112, 19351,\n",
              "           118,   109,   297,   107,   182,  1358,   112,   169,  9477,   115,\n",
              "           109, 33454,   139,  2338, 14280, 11245,   108,   241,   178,  1421,\n",
              "           109,   868,   113,   142, 91172, 16117, 39464, 42559,  9241, 12502,\n",
              "           107,     1]]), 'attention_mask': tensor([[1, 1, 1, 1, 1, 1, 1, 1, 1, 1, 1, 1, 1, 1, 1, 1, 1, 1, 1, 1, 1, 1, 1, 1,\n",
              "         1, 1, 1, 1, 1, 1, 1, 1, 1, 1, 1, 1, 1, 1, 1, 1, 1, 1, 1, 1, 1, 1, 1, 1,\n",
              "         1, 1, 1, 1, 1, 1, 1, 1, 1, 1, 1, 1, 1, 1, 1, 1, 1, 1, 1, 1, 1, 1, 1, 1,\n",
              "         1, 1, 1, 1, 1, 1, 1, 1, 1, 1, 1, 1, 1, 1, 1, 1, 1, 1, 1, 1, 1, 1, 1, 1,\n",
              "         1, 1, 1, 1, 1, 1, 1, 1, 1, 1, 1, 1, 1, 1, 1, 1, 1, 1, 1, 1, 1, 1, 1, 1,\n",
              "         1, 1, 1, 1, 1, 1, 1, 1, 1, 1, 1, 1, 1, 1, 1, 1, 1, 1, 1, 1, 1, 1, 1, 1,\n",
              "         1, 1, 1, 1, 1, 1, 1, 1, 1, 1, 1, 1, 1, 1, 1, 1, 1, 1, 1, 1, 1, 1, 1, 1,\n",
              "         1, 1, 1, 1, 1, 1, 1, 1, 1, 1, 1, 1, 1, 1, 1, 1, 1, 1, 1, 1, 1, 1, 1, 1,\n",
              "         1, 1, 1, 1, 1, 1, 1, 1, 1, 1, 1, 1, 1, 1, 1, 1, 1, 1, 1, 1, 1, 1, 1, 1,\n",
              "         1, 1, 1, 1, 1, 1, 1, 1, 1, 1, 1, 1, 1, 1, 1, 1, 1, 1, 1, 1, 1, 1, 1, 1,\n",
              "         1, 1, 1, 1, 1, 1, 1, 1, 1, 1, 1, 1, 1, 1, 1, 1, 1, 1, 1, 1, 1, 1, 1, 1,\n",
              "         1, 1, 1, 1, 1, 1, 1, 1, 1, 1, 1, 1, 1, 1, 1, 1, 1, 1, 1, 1, 1, 1, 1, 1,\n",
              "         1, 1, 1, 1, 1, 1, 1, 1, 1, 1, 1, 1, 1, 1, 1, 1, 1, 1, 1, 1, 1, 1, 1, 1,\n",
              "         1, 1, 1, 1, 1, 1, 1, 1, 1, 1, 1, 1, 1, 1, 1, 1, 1, 1, 1, 1, 1, 1, 1, 1,\n",
              "         1, 1, 1, 1, 1, 1, 1, 1, 1, 1, 1, 1, 1, 1, 1, 1, 1, 1, 1, 1, 1, 1, 1, 1,\n",
              "         1, 1, 1, 1, 1, 1, 1, 1, 1, 1, 1, 1, 1, 1, 1, 1, 1, 1, 1, 1, 1, 1, 1, 1,\n",
              "         1, 1, 1, 1, 1, 1, 1, 1, 1, 1, 1, 1, 1, 1, 1, 1, 1, 1, 1, 1, 1, 1, 1, 1,\n",
              "         1, 1, 1, 1, 1, 1, 1, 1, 1, 1, 1, 1, 1, 1, 1, 1, 1, 1, 1, 1, 1, 1, 1, 1,\n",
              "         1, 1, 1, 1, 1, 1, 1, 1, 1, 1, 1, 1, 1, 1, 1, 1, 1, 1, 1, 1, 1, 1, 1, 1,\n",
              "         1, 1, 1, 1, 1, 1, 1, 1, 1, 1, 1, 1, 1, 1, 1, 1, 1, 1, 1, 1, 1, 1, 1, 1,\n",
              "         1, 1, 1, 1, 1, 1, 1, 1, 1, 1, 1, 1, 1, 1, 1, 1, 1, 1, 1, 1, 1, 1, 1, 1,\n",
              "         1, 1, 1, 1, 1, 1, 1, 1]])}"
            ]
          },
          "execution_count": 9,
          "metadata": {},
          "output_type": "execute_result"
        }
      ],
      "source": [
        "tokens"
      ]
    },
    {
      "cell_type": "code",
      "execution_count": 10,
      "metadata": {
        "id": "ixSxPK8L_rEn"
      },
      "outputs": [],
      "source": [
        "# summarizing\n",
        "summary = model.generate(**tokens)"
      ]
    },
    {
      "cell_type": "code",
      "execution_count": 11,
      "metadata": {
        "colab": {
          "base_uri": "https://localhost:8080/"
        },
        "id": "NjMgE8MXABVM",
        "outputId": "0bde0061-0f89-4821-c1d5-78cd7a4ee8f5"
      },
      "outputs": [
        {
          "data": {
            "text/plain": [
              "{'attention_mask': tensor([[1, 1, 1, 1, 1, 1, 1, 1, 1, 1, 1, 1, 1, 1, 1, 1, 1, 1, 1, 1, 1, 1, 1, 1,\n",
              "          1, 1, 1, 1, 1, 1, 1, 1, 1, 1, 1, 1, 1, 1, 1, 1, 1, 1, 1, 1, 1, 1, 1, 1,\n",
              "          1, 1, 1, 1, 1, 1, 1, 1, 1, 1, 1, 1, 1, 1, 1, 1, 1, 1, 1, 1, 1, 1, 1, 1,\n",
              "          1, 1, 1, 1, 1, 1, 1, 1, 1, 1, 1, 1, 1, 1, 1, 1, 1, 1, 1, 1, 1, 1, 1, 1,\n",
              "          1, 1, 1, 1, 1, 1, 1, 1, 1, 1, 1, 1, 1, 1, 1, 1, 1, 1, 1, 1, 1, 1, 1, 1,\n",
              "          1, 1, 1, 1, 1, 1, 1, 1, 1, 1, 1, 1, 1, 1, 1, 1, 1, 1, 1, 1, 1, 1, 1, 1,\n",
              "          1, 1, 1, 1, 1, 1, 1, 1, 1, 1, 1, 1, 1, 1, 1, 1, 1, 1, 1, 1, 1, 1, 1, 1,\n",
              "          1, 1, 1, 1, 1, 1, 1, 1, 1, 1, 1, 1, 1, 1, 1, 1, 1, 1, 1, 1, 1, 1, 1, 1,\n",
              "          1, 1, 1, 1, 1, 1, 1, 1, 1, 1, 1, 1, 1, 1, 1, 1, 1, 1, 1, 1, 1, 1, 1, 1,\n",
              "          1, 1, 1, 1, 1, 1, 1, 1, 1, 1, 1, 1, 1, 1, 1, 1, 1, 1, 1, 1, 1, 1, 1, 1,\n",
              "          1, 1, 1, 1, 1, 1, 1, 1, 1, 1, 1, 1, 1, 1, 1, 1, 1, 1, 1, 1, 1, 1, 1, 1,\n",
              "          1, 1, 1, 1, 1, 1, 1, 1, 1, 1, 1, 1, 1, 1, 1, 1, 1, 1, 1, 1, 1, 1, 1, 1,\n",
              "          1, 1, 1, 1, 1, 1, 1, 1, 1, 1, 1, 1, 1, 1, 1, 1, 1, 1, 1, 1, 1, 1, 1, 1,\n",
              "          1, 1, 1, 1, 1, 1, 1, 1, 1, 1, 1, 1, 1, 1, 1, 1, 1, 1, 1, 1, 1, 1, 1, 1,\n",
              "          1, 1, 1, 1, 1, 1, 1, 1, 1, 1, 1, 1, 1, 1, 1, 1, 1, 1, 1, 1, 1, 1, 1, 1,\n",
              "          1, 1, 1, 1, 1, 1, 1, 1, 1, 1, 1, 1, 1, 1, 1, 1, 1, 1, 1, 1, 1, 1, 1, 1,\n",
              "          1, 1, 1, 1, 1, 1, 1, 1, 1, 1, 1, 1, 1, 1, 1, 1, 1, 1, 1, 1, 1, 1, 1, 1,\n",
              "          1, 1, 1, 1, 1, 1, 1, 1, 1, 1, 1, 1, 1, 1, 1, 1, 1, 1, 1, 1, 1, 1, 1, 1,\n",
              "          1, 1, 1, 1, 1, 1, 1, 1, 1, 1, 1, 1, 1, 1, 1, 1, 1, 1, 1, 1, 1, 1, 1, 1,\n",
              "          1, 1, 1, 1, 1, 1, 1, 1, 1, 1, 1, 1, 1, 1, 1, 1, 1, 1, 1, 1, 1, 1, 1, 1,\n",
              "          1, 1, 1, 1, 1, 1, 1, 1, 1, 1, 1, 1, 1, 1, 1, 1, 1, 1, 1, 1, 1, 1, 1, 1,\n",
              "          1, 1, 1, 1, 1, 1, 1, 1]]),\n",
              " 'input_ids': tensor([[82150, 46401, 26052,   143,   191,  1052,   105,   454,   105,  1191,\n",
              "            110,   105,  2558,   105,   107,   105,   551,   191,   108, 23539,\n",
              "           1858,   121, 83705,  1240,  3942,   121,   105,   551,   206,  1723,\n",
              "            677,   960, 17298,   158,   117,   114,  1816,   655,  5102,   107,\n",
              "            285, 17720, 16117, 39464, 42559,  9241, 12502,   124,   109, 12022,\n",
              "          33454,   139,  2338, 14280, 11245, 66776,  1198, 13316,   312,   111,\n",
              "          25412, 32594,   124,   109, 52947,  8461, 33454, 43067,   111,  8491,\n",
              "            143, 15622,  1198, 14262,   250, 46401, 26052,   163,  2893,   115,\n",
              "            109,  3265,  6527,  6271,   151, 16235, 44235, 28238,   108,   139,\n",
              "            520, 40250, 32961, 26470,   108,   982,   107, 13792, 20860, 26470,\n",
              "            108, 80614,   252, 22924,   108, 41609,   116, 25350,   108,   111,\n",
              "           7303,  1759,   115,   109, 32866, 38245,   107, 15347,  1661, 46401,\n",
              "          26052,   130,   109,   278,   131,   116,   776,   121, 42279,   121,\n",
              "          16097,  3069,  5102,   115,  1680,   111,  3939,   122,  5264,   113,\n",
              "            787, 45766,   604,   111,   787, 28273, 18476,   604,   108,  4802,\n",
              "            107, 65077, 32887, 50558,  6236,   271, 46401, 26052,   140,  1723,\n",
              "            115, 86387,   108,  1167,  1169,   112,   114,   328,   113,  2128,\n",
              "           8881,   107,   434,   178,   140,   384,   231,   459,   108,   169,\n",
              "            328,  2491,   112,  1144,   108,   111,   178,  3139,   164,   115,\n",
              "            351,  5321,   107,  4101, 59740,   285,  3243,   873,   107, 88625,\n",
              "            131,   116,   760,   108,   241,   178,  1421, 42038,   118,   109,\n",
              "            399,   320,   107,  4101,   914, 32887,  1343,  1100,  1006,  1119,\n",
              "            498,   115,   351,  5321,   107,  4101,  1717, 32887,  1954,  1100,\n",
              "            222, 15825, 46401, 26052,  1652,   112,   109,   706,  1013,   112,\n",
              "           4462,   114,  7058,   113,  1423,  4396,   115,  3324,   135,   109,\n",
              "            502,   113,  6701,   108,  5237,   107,  4101,  2000,  1100,   285,\n",
              "            547,   646,  4216,  1745,   111,  2893,   115,   500,   399,  2840,\n",
              "            277,   375,   124,   169,  1393,   107,  4101, 59740,   721,  4245,\n",
              "            115,   109,   655,  1369,  8882,  2781,   108, 46401, 26052,  1159,\n",
              "            112,   460,   142,  5102,   107,   285,   237,  3243,  6518,   502,\n",
              "            115,  5546,   108,  4900,   108,   241,   178,   915,   114,  2802,\n",
              "            113,  6610,  2667,   115,  4216,   107,  4101, 76207, 10433, 46401,\n",
              "          26052,   124,   114,  1473,   113,   139,  2338, 14280, 11245,   115,\n",
              "           3390,   721, 10634,   108, 46401, 26052,   374,   201,   557,   655,\n",
              "           3069,  3885,   111,  2840,   124,   109,  1169,  1348,   107, 65077,\n",
              "          73950,   285,   211,  4119,  1090,   115,   109,   787,   118,   169,\n",
              "            868,   115,   109,  1167,  3500,   889,   113, 56375,  4723,   131,\n",
              "            116,  4822,   462, 50306,   259, 27069,   108,   241,   178, 17720,\n",
              "            142,  2128,  2264,   980,  9993,   112,   306,   655,  1378,   269,\n",
              "           4319,   238,   107,  4101, 76207,   222, 10235, 46401, 26052, 13365,\n",
              "            164,   122, 40107, 18649,   112,  1094,   109,   462, 11223, 15999,\n",
              "            108,   162, 23251,   115,   351,  5321,   112,  1259,  1558,   107,\n",
              "          65077, 49040, 46401, 26052,   266,   114,  2439,  2436,   124,   109,\n",
              "          12022,  4970, 89116,   115,   109,   578,   541,  3257,   198,   283,\n",
              "          52784, 79734,   194,   108,   115,   162,   178,  1421, 82937,  2464,\n",
              "          62001,   108,   142, 16353,  9605,   107, 65077, 50558, 46401, 26052,\n",
              "            131,   116,  2575,  1455,   160,   114,   868,   118,   114,  9732,\n",
              "            115,   142,  2713, 12022,  4947,   111,  3825,   342,   112, 19351,\n",
              "            118,   109,   297,   107,   182,  1358,   112,   169,  9477,   115,\n",
              "            109, 33454,   139,  2338, 14280, 11245,   108,   241,   178,  1421,\n",
              "            109,   868,   113,   142, 91172, 16117, 39464, 42559,  9241, 12502,\n",
              "            107,     1]])}"
            ]
          },
          "execution_count": 11,
          "metadata": {},
          "output_type": "execute_result"
        }
      ],
      "source": [
        "# unpacking the tokens above and demo'ing here\n",
        "{**tokens}"
      ]
    },
    {
      "cell_type": "code",
      "execution_count": 12,
      "metadata": {
        "colab": {
          "base_uri": "https://localhost:8080/"
        },
        "id": "mqE6KhsdAL70",
        "outputId": "197c7e7e-3def-4ecb-efd3-6ac783f9e0ed"
      },
      "outputs": [
        {
          "data": {
            "text/plain": [
              "tensor([[    0, 22682, 82150, 46401, 26052,   148,   174,  1729,   109,   278,\n",
              "           131,   116,   776,   121, 42279,   121, 16097,  3069,  5102,   115,\n",
              "          1680,   111,  3939,   122,  5264,   113,   787, 45766,   604,   111,\n",
              "           787, 28273, 18476,   604,   108,  4802,   107,     1]])"
            ]
          },
          "execution_count": 12,
          "metadata": {},
          "output_type": "execute_result"
        }
      ],
      "source": [
        "# summary in tokens\n",
        "summary"
      ]
    },
    {
      "cell_type": "code",
      "execution_count": 13,
      "metadata": {
        "colab": {
          "base_uri": "https://localhost:8080/",
          "height": 54
        },
        "id": "Mm-xKE1sAWgA",
        "outputId": "d69f9d02-4a09-4429-dffe-9a429424fa0b"
      },
      "outputs": [
        {
          "data": {
            "application/vnd.google.colaboratory.intrinsic+json": {
              "type": "string"
            },
            "text/plain": [
              "\"Actor Kunal Nayyar has been named the world's third-highest-paid television actor in 2015 and 2018, with earnings of US$20 million and US$23.5 million, respectively.\""
            ]
          },
          "execution_count": 13,
          "metadata": {},
          "output_type": "execute_result"
        }
      ],
      "source": [
        "# summary in words\n",
        "tokenizer.decode(summary[0])"
      ]
    },
    {
      "cell_type": "markdown",
      "metadata": {
        "id": "jHYHgLURDApV"
      },
      "source": [
        "# Wrapping all models in simple pipelines"
      ]
    },
    {
      "cell_type": "markdown",
      "metadata": {
        "id": "gt8BoBTCX_0A"
      },
      "source": [
        "## YTVideoToText"
      ]
    },
    {
      "cell_type": "code",
      "execution_count": 2,
      "metadata": {
        "colab": {
          "base_uri": "https://localhost:8080/"
        },
        "id": "KkFzDPZGNNH9",
        "outputId": "5aa3e0d9-b8e8-4021-8b8c-f4ad5129ecaf"
      },
      "outputs": [
        {
          "name": "stdout",
          "output_type": "stream",
          "text": [
            "Collecting transformers\n",
            "  Downloading transformers-4.13.0-py3-none-any.whl (3.3 MB)\n",
            "\u001b[K     |████████████████████████████████| 3.3 MB 5.3 MB/s \n",
            "\u001b[?25hCollecting huggingface-hub<1.0,>=0.1.0\n",
            "  Downloading huggingface_hub-0.2.1-py3-none-any.whl (61 kB)\n",
            "\u001b[K     |████████████████████████████████| 61 kB 499 kB/s \n",
            "\u001b[?25hRequirement already satisfied: numpy>=1.17 in /usr/local/lib/python3.7/dist-packages (from transformers) (1.19.5)\n",
            "Requirement already satisfied: importlib-metadata in /usr/local/lib/python3.7/dist-packages (from transformers) (4.8.2)\n",
            "Requirement already satisfied: filelock in /usr/local/lib/python3.7/dist-packages (from transformers) (3.4.0)\n",
            "Collecting sacremoses\n",
            "  Downloading sacremoses-0.0.46-py3-none-any.whl (895 kB)\n",
            "\u001b[K     |████████████████████████████████| 895 kB 43.5 MB/s \n",
            "\u001b[?25hCollecting tokenizers<0.11,>=0.10.1\n",
            "  Downloading tokenizers-0.10.3-cp37-cp37m-manylinux_2_5_x86_64.manylinux1_x86_64.manylinux_2_12_x86_64.manylinux2010_x86_64.whl (3.3 MB)\n",
            "\u001b[K     |████████████████████████████████| 3.3 MB 32.2 MB/s \n",
            "\u001b[?25hRequirement already satisfied: packaging>=20.0 in /usr/local/lib/python3.7/dist-packages (from transformers) (21.3)\n",
            "Collecting pyyaml>=5.1\n",
            "  Downloading PyYAML-6.0-cp37-cp37m-manylinux_2_5_x86_64.manylinux1_x86_64.manylinux_2_12_x86_64.manylinux2010_x86_64.whl (596 kB)\n",
            "\u001b[K     |████████████████████████████████| 596 kB 40.6 MB/s \n",
            "\u001b[?25hRequirement already satisfied: tqdm>=4.27 in /usr/local/lib/python3.7/dist-packages (from transformers) (4.62.3)\n",
            "Requirement already satisfied: requests in /usr/local/lib/python3.7/dist-packages (from transformers) (2.23.0)\n",
            "Requirement already satisfied: regex!=2019.12.17 in /usr/local/lib/python3.7/dist-packages (from transformers) (2019.12.20)\n",
            "Requirement already satisfied: typing-extensions>=3.7.4.3 in /usr/local/lib/python3.7/dist-packages (from huggingface-hub<1.0,>=0.1.0->transformers) (3.10.0.2)\n",
            "Requirement already satisfied: pyparsing!=3.0.5,>=2.0.2 in /usr/local/lib/python3.7/dist-packages (from packaging>=20.0->transformers) (3.0.6)\n",
            "Requirement already satisfied: zipp>=0.5 in /usr/local/lib/python3.7/dist-packages (from importlib-metadata->transformers) (3.6.0)\n",
            "Requirement already satisfied: urllib3!=1.25.0,!=1.25.1,<1.26,>=1.21.1 in /usr/local/lib/python3.7/dist-packages (from requests->transformers) (1.24.3)\n",
            "Requirement already satisfied: certifi>=2017.4.17 in /usr/local/lib/python3.7/dist-packages (from requests->transformers) (2021.10.8)\n",
            "Requirement already satisfied: idna<3,>=2.5 in /usr/local/lib/python3.7/dist-packages (from requests->transformers) (2.10)\n",
            "Requirement already satisfied: chardet<4,>=3.0.2 in /usr/local/lib/python3.7/dist-packages (from requests->transformers) (3.0.4)\n",
            "Requirement already satisfied: six in /usr/local/lib/python3.7/dist-packages (from sacremoses->transformers) (1.15.0)\n",
            "Requirement already satisfied: click in /usr/local/lib/python3.7/dist-packages (from sacremoses->transformers) (7.1.2)\n",
            "Requirement already satisfied: joblib in /usr/local/lib/python3.7/dist-packages (from sacremoses->transformers) (1.1.0)\n",
            "Installing collected packages: pyyaml, tokenizers, sacremoses, huggingface-hub, transformers\n",
            "  Attempting uninstall: pyyaml\n",
            "    Found existing installation: PyYAML 3.13\n",
            "    Uninstalling PyYAML-3.13:\n",
            "      Successfully uninstalled PyYAML-3.13\n",
            "Successfully installed huggingface-hub-0.2.1 pyyaml-6.0 sacremoses-0.0.46 tokenizers-0.10.3 transformers-4.13.0\n",
            "Collecting youtube_transcript_api\n",
            "  Downloading youtube_transcript_api-0.4.3-py3-none-any.whl (23 kB)\n",
            "Requirement already satisfied: requests in /usr/local/lib/python3.7/dist-packages (from youtube_transcript_api) (2.23.0)\n",
            "Requirement already satisfied: certifi>=2017.4.17 in /usr/local/lib/python3.7/dist-packages (from requests->youtube_transcript_api) (2021.10.8)\n",
            "Requirement already satisfied: urllib3!=1.25.0,!=1.25.1,<1.26,>=1.21.1 in /usr/local/lib/python3.7/dist-packages (from requests->youtube_transcript_api) (1.24.3)\n",
            "Requirement already satisfied: chardet<4,>=3.0.2 in /usr/local/lib/python3.7/dist-packages (from requests->youtube_transcript_api) (3.0.4)\n",
            "Requirement already satisfied: idna<3,>=2.5 in /usr/local/lib/python3.7/dist-packages (from requests->youtube_transcript_api) (2.10)\n",
            "Installing collected packages: youtube-transcript-api\n",
            "Successfully installed youtube-transcript-api-0.4.3\n"
          ]
        }
      ],
      "source": [
        "!pip install transformers\n",
        "!pip install youtube_transcript_api"
      ]
    },
    {
      "cell_type": "code",
      "execution_count": 7,
      "metadata": {
        "id": "ty0yna3hAl9X"
      },
      "outputs": [],
      "source": [
        "def YTVideoToText(video_link):\n",
        "    # installing & importing libraries\n",
        "    from transformers import pipeline\n",
        "    from youtube_transcript_api import YouTubeTranscriptApi\n",
        "\n",
        "    # fetching video transcript\n",
        "    video_id = video_link.split(\"=\")[1]\n",
        "    transcript = YouTubeTranscriptApi.get_transcript(video_id)\n",
        "\n",
        "    # iterating throughout and adding all text together\n",
        "    result = \"\"\n",
        "    for i in transcript:\n",
        "        result += ' ' + i['text']\n",
        "\n",
        "    # summarize text\n",
        "    summarizerfb = pipeline(\"summarization\", model=\"facebook/bart-large-cnn\")\n",
        "    \n",
        "    num_iters = int(len(result)/1000)\n",
        "    summarized_text = []\n",
        "    summarized_text2 = []\n",
        "    for i in range(0, num_iters + 1):\n",
        "        start = 0\n",
        "        start = i * 1000\n",
        "        end = (i + 1) * 1000\n",
        "        out = summarizerfb(result[start:end], max_length=130, min_length=30, do_sample=False)\n",
        "        out = out[0]\n",
        "        out = out['summary_text']\n",
        "        summarized_text.append(out)\n",
        "        summarized_text2 = ' '.join(summarized_text)\n",
        "\n",
        "    # returning summary\n",
        "    print(str(summarized_text2))"
      ]
    },
    {
      "cell_type": "code",
      "execution_count": 8,
      "metadata": {
        "colab": {
          "base_uri": "https://localhost:8080/"
        },
        "id": "ItW1T0E8NSZK",
        "outputId": "ce31c979-382e-47e8-ec2a-db709b24ec74"
      },
      "outputs": [
        {
          "name": "stderr",
          "output_type": "stream",
          "text": [
            "Your max_length is set to 130, but you input_length is only 120. You might consider decreasing max_length manually, e.g. summarizer('...', max_length=60)\n"
          ]
        },
        {
          "name": "stdout",
          "output_type": "stream",
          "text": [
            "There's some super strange stuff happening online right now, and I need to tell you about it. First, look at this tweet. The first tweet ever tweetedin the history of Twitter. The tweet was purchased for $2,915,835.47. NFT stands for non fungible token. Some people think it may revolutionize our society, while at the same time accelerating the climate disaster. Johnny Harris talks about the non-fungible token, NFT. He also talks about a $20,000 Tesla that you can win by donating $10. Omaze.com/JohnnyHarris is offering a chance to win a Tesla and $20,000. The money will be donated to organizations that provide clean water, food security, and light to regions around the world. \"I just love it, I love the color, I feel like an identity with this thing. And I kind of fell in love\" \"This jacket is not replaceable. If I went onto the website and paid $39 for a Uni Qlo orange jacket that was this exact same model\" Everything in our economy is one or the other, fungible or non-fungible. A sack or rice is fungible, you just want a sack of rice, you don't care which one it is. The Mona Lisa, non-Fungible, there's only one. one of them, it's valuable to me at least. And to explain this, I have to explain something I have avoided explaining for a very long time. A bank documents every transaction that comes in from all their customers. At the end of the day they have a tally of all the money that went out of their account and into your account and they can give you a number. More and more your money is just a number on a screen. Banks and other middle men have been keeping stuff like this running smoothly for centuries. With the rise of the internet, people started to wonder. Is there a way that we could do this same thing without the bank? The result is a very cleverconcept called the blockchain. In a crypto world, transactions are recorded publicly on the internet. If you don't have six coins in your account, your transaction is rejected. The public record is kept of every single transaction. The point here is that the group verifies the legitimacy of every transaction by keeping an eye on every transaction to make sure that it adds up. But this is where it starts to bend my mind, what if we apply this to something that isn't money or currency? Let's say one day you're just looking at the ledger and the l The only thing that theblockchain cares about is does the Malaysian businessman have three million dollars worth of coins? And so a bunch of computersall around the world look at the whole entire entirelist of transactions and say like yeah, this guy has more than 3 million dollarsworth of coins, approved. They approve the transaction, and now it is written in a public record that is unalterable. There are tens of thousands of NFTs of all kinds. Some music is being given tokens, lots of art is being minted as tokens and being bought and sold. NBA Top Shot. l and that there's only one of them. The technology that is the backbone for all of this, the blockchain stuff that we've been talking about relies on the public ledger. That is the sort of heart and soul conceptually, but mechanically, like physically what it relies on is computers doing a bunch of little calculations all day and night forever. Most NFTs are stored on a                blockchain called Ethereum. As of now, in early April 2021, the Ethereum blockchain is using 33 terawatt hours of electricity. That's the same amount of power as the country of Serbia. In the '90s the internet was taking off and people were just realizing that you could make money on the internet. The stock market wassurging, 400% in five years mainly fueled by so much hype and excitement ar. h an ironic moment. The rise peaked in March of 2000, and then the bubble burst, and a lot of these companies either went under or completely lost all of their excitement valuation. But, did that mean that the internet went away? No, companies went on to reshape our world. I'm not here to say if the bubble's gonna burst, or whatever, I don't know. I just know that this is a crazy moment where we're getting our heads around a new technology and what it means, and eventually will adapt. This won't be crazy, thiswon't be novel anymore, prices will go down, but the technology thatallowed it all to happen will probably stick around.\n"
          ]
        }
      ],
      "source": [
        "YTVideoToText(\"https://www.youtube.com/watch?v=Oz9zw7-_vhM\")"
      ]
    },
    {
      "cell_type": "markdown",
      "metadata": {
        "id": "7wPRb_WSYCLo"
      },
      "source": [
        "## postSummaryWithBart"
      ]
    },
    {
      "cell_type": "code",
      "execution_count": 9,
      "metadata": {
        "id": "XG6hsbkINgT0"
      },
      "outputs": [],
      "source": [
        "def postSummaryWithBart(blog_link):\n",
        "    # importing libraries\n",
        "    from transformers import pipeline\n",
        "    from bs4 import BeautifulSoup\n",
        "    import requests\n",
        "\n",
        "    # loading summarization pipeline\n",
        "    summarizer = pipeline(\"summarization\")\n",
        "\n",
        "    # getting our blog post\n",
        "    URL = blog_link\n",
        "    r = requests.get(URL)\n",
        "    soup = BeautifulSoup(r.text, 'html.parser')\n",
        "    results = soup.find_all(['h1', 'p'])\n",
        "    text = [result.text for result in results]\n",
        "    ARTICLE = ' '.join(text)\n",
        "\n",
        "    # replacing punctuations with end-of-sentence tags\n",
        "    ARTICLE = ARTICLE.replace('.', '.<eos>')\n",
        "    ARTICLE = ARTICLE.replace('?', '?<eos>')\n",
        "    ARTICLE = ARTICLE.replace('!', '!<eos>')\n",
        "    sentences = ARTICLE.split('<eos>')\n",
        "\n",
        "    # chunking text\n",
        "    max_chunk = 500\n",
        "    current_chunk = 0 \n",
        "    chunks = []\n",
        "    for sentence in sentences:\n",
        "        # checking if we have an empty chunk \n",
        "        if len(chunks) == current_chunk + 1: \n",
        "            if len(chunks[current_chunk]) + len(sentence.split(' ')) <= max_chunk:\n",
        "                chunks[current_chunk].extend(sentence.split(' '))\n",
        "            else:\n",
        "                current_chunk += 1\n",
        "                chunks.append(sentence.split(' '))\n",
        "        else:\n",
        "            print(current_chunk)\n",
        "            chunks.append(sentence.split(' '))\n",
        "    for chunk_id in range(len(chunks)):\n",
        "        chunks[chunk_id] = ' '.join(chunks[chunk_id])\n",
        "\n",
        "    # summarizing text\n",
        "    res = summarizer(chunks, max_length=70, min_length=30, do_sample=False)\n",
        "    text = ''.join([summ['summary_text'] for summ in res])\n",
        "\n",
        "    # returning summary\n",
        "    print(text)"
      ]
    },
    {
      "cell_type": "code",
      "execution_count": 10,
      "metadata": {
        "colab": {
          "base_uri": "https://localhost:8080/",
          "height": 251,
          "referenced_widgets": [
            "d2222bf4743d46e0b4574c7ede218563",
            "f86f18245863498daaa0470cd41141e1",
            "48dcead57e944168853f7c5962365043",
            "56f7a2b6f940438baf627be99f37a13f",
            "0630255eaf4149788d1c223163c5be22",
            "ba9b57f9f80545e4bfdd1f3772e9dbed",
            "a6c38e872b7949e9869522a52f8639fe",
            "914aad89745342bd91da09a8c98e7478",
            "df826bf703fb42da9bf5e759b9f83319",
            "625551b167c24047b44463a7140511d3",
            "c065abe2f5084a978508bdf1c653576a",
            "5363fb086979430eae979ddbed1ec5f1",
            "068051d7e9ed468aa3eb34bd2459a723",
            "7c9e264be25b46dfbfd28db83a8ea899",
            "78b1fa1e6ff14210ae0ef4399fd64b22",
            "a9d8bfd7b7954235920c76125dc0b779",
            "accd87c6baa642e1b52175785561d2df",
            "dd66bbe6804f4442a3b5447afec69111",
            "547d82a4e73b47a7bc2c7d1d53b4b65d",
            "b1a73a411bcf4afb91cd2c7eda9df251",
            "48d9ff6943404469bc3031f4cfdb9054",
            "6d15200e0468455fa54e483d3c8241ce",
            "43b04dea90ff4e7893ba9c3636a74d11",
            "22c912be5ee54aa5a549617b69396f0a",
            "9d2c71f89f3543d7aed3c0d303d61527",
            "caa9b5b7026f4ea38c6117812aa7b48f",
            "d0696205199546959aceb6a5daa484c8",
            "cd26c7c6e1cd4c11b210d1a00745cc51",
            "407af009277e4900ab2714693c7048c3",
            "56685409c9f44018ab84796d786419a6",
            "db3460a6eba843a6be257e6a533c8c15",
            "597744c8bc194cdfadb1597b7597e7c8",
            "5984382d33a14ca280ae8c980e6f3070",
            "5f0fa71cb2d448b5844a249f1f69ead9",
            "d6ca31bb2b7641fba88cef04bcfb25e6",
            "ee720550a1e241c0b95b82a1c594aa8b",
            "a31d8e27c4f7494cafdc0af6197c213f",
            "88bc422d4156413cb17bc6d8e10ad680",
            "48c17b132ce04bceb707cd632867ed03",
            "5b73ce1df0ad491a8645b5e93bd9a241",
            "f1922ba63afb40b9a84d4ff77ff9e1f1",
            "ce0993dafeb4483a9546996dc106f8ce",
            "891bb1d8c37340e1b0067349bccc84e8",
            "d5fbf55d3e23479d927128f42fca0e6a",
            "cb03b6fba80c48fbae6aeb3170b892b2",
            "4dd63786bdf4436d9ba4b0761f9ca4f8",
            "4fdf0e934e09499eb62ea43ad1e1d358",
            "7508853792f84b3b8607ebe8a1c6852f",
            "970d2481981940c18ff98b5c62526042",
            "e1ddc5e88d6b4c4ba6db85e4d0b3fba1",
            "b5c899abd3104e3cb25f87d339c0c7ad",
            "c556cb72fd68475fac7ec225df6f135d",
            "7d112daddf83492b8bb1449a110ecc2d",
            "3c5e570c6d4e4e46bee489d753e89ede",
            "016ed9509c8a4f7285bb0f095592a0f2"
          ]
        },
        "id": "LBzDvrasSuod",
        "outputId": "4448affc-0b29-429c-9b27-c38f39aa2947"
      },
      "outputs": [
        {
          "name": "stderr",
          "output_type": "stream",
          "text": [
            "No model was supplied, defaulted to sshleifer/distilbart-cnn-12-6 (https://huggingface.co/sshleifer/distilbart-cnn-12-6)\n"
          ]
        },
        {
          "data": {
            "application/vnd.jupyter.widget-view+json": {
              "model_id": "d2222bf4743d46e0b4574c7ede218563",
              "version_major": 2,
              "version_minor": 0
            },
            "text/plain": [
              "Downloading:   0%|          | 0.00/1.76k [00:00<?, ?B/s]"
            ]
          },
          "metadata": {},
          "output_type": "display_data"
        },
        {
          "data": {
            "application/vnd.jupyter.widget-view+json": {
              "model_id": "5363fb086979430eae979ddbed1ec5f1",
              "version_major": 2,
              "version_minor": 0
            },
            "text/plain": [
              "Downloading:   0%|          | 0.00/1.14G [00:00<?, ?B/s]"
            ]
          },
          "metadata": {},
          "output_type": "display_data"
        },
        {
          "data": {
            "application/vnd.jupyter.widget-view+json": {
              "model_id": "43b04dea90ff4e7893ba9c3636a74d11",
              "version_major": 2,
              "version_minor": 0
            },
            "text/plain": [
              "Downloading:   0%|          | 0.00/26.0 [00:00<?, ?B/s]"
            ]
          },
          "metadata": {},
          "output_type": "display_data"
        },
        {
          "data": {
            "application/vnd.jupyter.widget-view+json": {
              "model_id": "5f0fa71cb2d448b5844a249f1f69ead9",
              "version_major": 2,
              "version_minor": 0
            },
            "text/plain": [
              "Downloading:   0%|          | 0.00/878k [00:00<?, ?B/s]"
            ]
          },
          "metadata": {},
          "output_type": "display_data"
        },
        {
          "data": {
            "application/vnd.jupyter.widget-view+json": {
              "model_id": "cb03b6fba80c48fbae6aeb3170b892b2",
              "version_major": 2,
              "version_minor": 0
            },
            "text/plain": [
              "Downloading:   0%|          | 0.00/446k [00:00<?, ?B/s]"
            ]
          },
          "metadata": {},
          "output_type": "display_data"
        },
        {
          "name": "stdout",
          "output_type": "stream",
          "text": [
            "0\n",
            " 7 Blogs that I Totally Enjoy Reading Every Day are a few of my favorite non-recipe blogs . They are just that — blogs I find fun! Some deal with light and fluffy stuff, some dig a little deeper into the meat of life . Erin Loechner's blog is filled with beautifully-written essays on everything Joanna Goddard's blog is full of random lists, questions, product recommendations, and regular posts on everything from style, to food, design, travel, relationships and motherhood . She has been following Elise Blaha Cripe's blog since before she even knew what a blog was . The Everygirl blog shares a wealth of content for women about what it looks like to live a meaningful, healthy and stylish life . Courtney Carver’s minimalist blog is filled with some of the best articles and tips I’ve read . The Every Girl and Carrots N Cake are among the most fun lifestyle blogs to read . What are your “just for fun” favorite blogs to spend time reading? Share your favorite blogs with us! The New Potato, Camille Styles, Cookie & Kate, The Skinny Confidential, Danielle LaPorte, Love & Lemons, Just a Girl & Her Blog, Chocolate Covered Katie, Happily Eva After, Girl’s Gone Child, Atlantic-Pacific, One Lit Chick, Kitchen Treaty, The Simple Veganista Meghan, Michelle and Ali share their favorite non-food blogs . Michelle, Michelle, Ali, Aidel and Meghan all agree . Meghan and Ali are looking forward to checking out some of the blogs they've never visited . I believe in making memories around a happy table too, and so I think your blog is great!  These are all wonderful and exactly the type of things I was looking for in a daily dose of creativity .  I needed this so badly… THANKS!\n"
          ]
        }
      ],
      "source": [
        "postSummaryWithBart(\"https://www.gimmesomeoven.com/life/blogs-im-reading-and-loving-lately/\")"
      ]
    },
    {
      "cell_type": "markdown",
      "metadata": {
        "id": "-pf3A0DMYFJx"
      },
      "source": [
        "## abstractiveSummaryWithPegasus"
      ]
    },
    {
      "cell_type": "code",
      "execution_count": 1,
      "metadata": {
        "colab": {
          "base_uri": "https://localhost:8080/"
        },
        "id": "piMEBU5daU0Z",
        "outputId": "25ee3eb9-a5d8-4ca4-f761-b01fc956be47"
      },
      "outputs": [
        {
          "name": "stdout",
          "output_type": "stream",
          "text": [
            "Looking in links: https://download.pytorch.org/whl/cu113/torch_stable.html\n",
            "Collecting torch==1.10.0+cu113\n",
            "  Downloading https://download.pytorch.org/whl/cu113/torch-1.10.0%2Bcu113-cp37-cp37m-linux_x86_64.whl (1821.5 MB)\n",
            "\u001b[K     |██████████████▋                 | 834.1 MB 1.6 MB/s eta 0:10:16tcmalloc: large alloc 1147494400 bytes == 0x559dfd298000 @  0x7fcb75a41615 0x559dc2f004cc 0x559dc2fe047a 0x559dc2f032ed 0x559dc2ff4e1d 0x559dc2f76e99 0x559dc2f719ee 0x559dc2f04bda 0x559dc2f76d00 0x559dc2f719ee 0x559dc2f04bda 0x559dc2f73737 0x559dc2ff5c66 0x559dc2f72daf 0x559dc2ff5c66 0x559dc2f72daf 0x559dc2ff5c66 0x559dc2f72daf 0x559dc2f05039 0x559dc2f48409 0x559dc2f03c52 0x559dc2f76c25 0x559dc2f719ee 0x559dc2f04bda 0x559dc2f73737 0x559dc2f719ee 0x559dc2f04bda 0x559dc2f72915 0x559dc2f04afa 0x559dc2f72c0d 0x559dc2f719ee\n",
            "\u001b[K     |██████████████████▌             | 1055.7 MB 1.5 MB/s eta 0:08:19tcmalloc: large alloc 1434370048 bytes == 0x559e418ee000 @  0x7fcb75a41615 0x559dc2f004cc 0x559dc2fe047a 0x559dc2f032ed 0x559dc2ff4e1d 0x559dc2f76e99 0x559dc2f719ee 0x559dc2f04bda 0x559dc2f76d00 0x559dc2f719ee 0x559dc2f04bda 0x559dc2f73737 0x559dc2ff5c66 0x559dc2f72daf 0x559dc2ff5c66 0x559dc2f72daf 0x559dc2ff5c66 0x559dc2f72daf 0x559dc2f05039 0x559dc2f48409 0x559dc2f03c52 0x559dc2f76c25 0x559dc2f719ee 0x559dc2f04bda 0x559dc2f73737 0x559dc2f719ee 0x559dc2f04bda 0x559dc2f72915 0x559dc2f04afa 0x559dc2f72c0d 0x559dc2f719ee\n",
            "\u001b[K     |███████████████████████▌        | 1336.2 MB 1.5 MB/s eta 0:05:34tcmalloc: large alloc 1792966656 bytes == 0x559dc6720000 @  0x7fcb75a41615 0x559dc2f004cc 0x559dc2fe047a 0x559dc2f032ed 0x559dc2ff4e1d 0x559dc2f76e99 0x559dc2f719ee 0x559dc2f04bda 0x559dc2f76d00 0x559dc2f719ee 0x559dc2f04bda 0x559dc2f73737 0x559dc2ff5c66 0x559dc2f72daf 0x559dc2ff5c66 0x559dc2f72daf 0x559dc2ff5c66 0x559dc2f72daf 0x559dc2f05039 0x559dc2f48409 0x559dc2f03c52 0x559dc2f76c25 0x559dc2f719ee 0x559dc2f04bda 0x559dc2f73737 0x559dc2f719ee 0x559dc2f04bda 0x559dc2f72915 0x559dc2f04afa 0x559dc2f72c0d 0x559dc2f719ee\n",
            "\u001b[K     |█████████████████████████████▊  | 1691.1 MB 1.5 MB/s eta 0:01:29tcmalloc: large alloc 2241208320 bytes == 0x559e31508000 @  0x7fcb75a41615 0x559dc2f004cc 0x559dc2fe047a 0x559dc2f032ed 0x559dc2ff4e1d 0x559dc2f76e99 0x559dc2f719ee 0x559dc2f04bda 0x559dc2f76d00 0x559dc2f719ee 0x559dc2f04bda 0x559dc2f73737 0x559dc2ff5c66 0x559dc2f72daf 0x559dc2ff5c66 0x559dc2f72daf 0x559dc2ff5c66 0x559dc2f72daf 0x559dc2f05039 0x559dc2f48409 0x559dc2f03c52 0x559dc2f76c25 0x559dc2f719ee 0x559dc2f04bda 0x559dc2f73737 0x559dc2f719ee 0x559dc2f04bda 0x559dc2f72915 0x559dc2f04afa 0x559dc2f72c0d 0x559dc2f719ee\n",
            "\u001b[K     |████████████████████████████████| 1821.5 MB 1.6 MB/s eta 0:00:01tcmalloc: large alloc 1821458432 bytes == 0x559eb6e6a000 @  0x7fcb75a401e7 0x559dc2f36067 0x559dc2f004cc 0x559dc2fe047a 0x559dc2f032ed 0x559dc2ff4e1d 0x559dc2f76e99 0x559dc2f719ee 0x559dc2f04bda 0x559dc2f72c0d 0x559dc2f719ee 0x559dc2f04bda 0x559dc2f72c0d 0x559dc2f719ee 0x559dc2f04bda 0x559dc2f72c0d 0x559dc2f719ee 0x559dc2f04bda 0x559dc2f72c0d 0x559dc2f719ee 0x559dc2f04bda 0x559dc2f72c0d 0x559dc2f04afa 0x559dc2f72c0d 0x559dc2f719ee 0x559dc2f04bda 0x559dc2f73737 0x559dc2f719ee 0x559dc2f04bda 0x559dc2f73737 0x559dc2f719ee\n",
            "tcmalloc: large alloc 2276827136 bytes == 0x559f2377e000 @  0x7fcb75a41615 0x559dc2f004cc 0x559dc2fe047a 0x559dc2f032ed 0x559dc2ff4e1d 0x559dc2f76e99 0x559dc2f719ee 0x559dc2f04bda 0x559dc2f72c0d 0x559dc2f719ee 0x559dc2f04bda 0x559dc2f72c0d 0x559dc2f719ee 0x559dc2f04bda 0x559dc2f72c0d 0x559dc2f719ee 0x559dc2f04bda 0x559dc2f72c0d 0x559dc2f719ee 0x559dc2f04bda 0x559dc2f72c0d 0x559dc2f04afa 0x559dc2f72c0d 0x559dc2f719ee 0x559dc2f04bda 0x559dc2f73737 0x559dc2f719ee 0x559dc2f04bda 0x559dc2f73737 0x559dc2f719ee 0x559dc2f05271\n",
            "\u001b[K     |████████████████████████████████| 1821.5 MB 3.4 kB/s \n",
            "\u001b[?25hCollecting torchvision==0.11.1+cu113\n",
            "  Downloading https://download.pytorch.org/whl/cu113/torchvision-0.11.1%2Bcu113-cp37-cp37m-linux_x86_64.whl (24.6 MB)\n",
            "\u001b[K     |████████████████████████████████| 24.6 MB 1.7 MB/s \n",
            "\u001b[?25hCollecting torchaudio===0.10.0+cu113\n",
            "  Downloading https://download.pytorch.org/whl/cu113/torchaudio-0.10.0%2Bcu113-cp37-cp37m-linux_x86_64.whl (2.9 MB)\n",
            "\u001b[K     |████████████████████████████████| 2.9 MB 27.7 MB/s \n",
            "\u001b[?25hRequirement already satisfied: typing-extensions in /usr/local/lib/python3.7/dist-packages (from torch==1.10.0+cu113) (3.10.0.2)\n",
            "Requirement already satisfied: numpy in /usr/local/lib/python3.7/dist-packages (from torchvision==0.11.1+cu113) (1.19.5)\n",
            "Requirement already satisfied: pillow!=8.3.0,>=5.3.0 in /usr/local/lib/python3.7/dist-packages (from torchvision==0.11.1+cu113) (7.1.2)\n",
            "Installing collected packages: torch, torchvision, torchaudio\n",
            "  Attempting uninstall: torch\n",
            "    Found existing installation: torch 1.10.0+cu111\n",
            "    Uninstalling torch-1.10.0+cu111:\n",
            "      Successfully uninstalled torch-1.10.0+cu111\n",
            "  Attempting uninstall: torchvision\n",
            "    Found existing installation: torchvision 0.11.1+cu111\n",
            "    Uninstalling torchvision-0.11.1+cu111:\n",
            "      Successfully uninstalled torchvision-0.11.1+cu111\n",
            "  Attempting uninstall: torchaudio\n",
            "    Found existing installation: torchaudio 0.10.0+cu111\n",
            "    Uninstalling torchaudio-0.10.0+cu111:\n",
            "      Successfully uninstalled torchaudio-0.10.0+cu111\n",
            "Successfully installed torch-1.10.0+cu113 torchaudio-0.10.0+cu113 torchvision-0.11.1+cu113\n"
          ]
        }
      ],
      "source": [
        "# installing PyTorch\n",
        "!pip install torch==1.10.0+cu113 torchvision==0.11.1+cu113 torchaudio===0.10.0+cu113 -f https://download.pytorch.org/whl/cu113/torch_stable.html"
      ]
    },
    {
      "cell_type": "code",
      "execution_count": 2,
      "metadata": {
        "colab": {
          "base_uri": "https://localhost:8080/"
        },
        "id": "p9gn-Rz8WYt1",
        "outputId": "bf70b0d5-5e68-4806-d904-2e6594c0a4af"
      },
      "outputs": [
        {
          "name": "stdout",
          "output_type": "stream",
          "text": [
            "Requirement already satisfied: SentencePiece in /usr/local/lib/python3.7/dist-packages (0.1.96)\n",
            "Requirement already satisfied: transformers in /usr/local/lib/python3.7/dist-packages (4.13.0)\n",
            "Requirement already satisfied: filelock in /usr/local/lib/python3.7/dist-packages (from transformers) (3.4.0)\n",
            "Requirement already satisfied: numpy>=1.17 in /usr/local/lib/python3.7/dist-packages (from transformers) (1.19.5)\n",
            "Requirement already satisfied: requests in /usr/local/lib/python3.7/dist-packages (from transformers) (2.23.0)\n",
            "Requirement already satisfied: regex!=2019.12.17 in /usr/local/lib/python3.7/dist-packages (from transformers) (2019.12.20)\n",
            "Requirement already satisfied: packaging>=20.0 in /usr/local/lib/python3.7/dist-packages (from transformers) (21.3)\n",
            "Requirement already satisfied: tokenizers<0.11,>=0.10.1 in /usr/local/lib/python3.7/dist-packages (from transformers) (0.10.3)\n",
            "Requirement already satisfied: tqdm>=4.27 in /usr/local/lib/python3.7/dist-packages (from transformers) (4.62.3)\n",
            "Requirement already satisfied: pyyaml>=5.1 in /usr/local/lib/python3.7/dist-packages (from transformers) (6.0)\n",
            "Requirement already satisfied: sacremoses in /usr/local/lib/python3.7/dist-packages (from transformers) (0.0.46)\n",
            "Requirement already satisfied: huggingface-hub<1.0,>=0.1.0 in /usr/local/lib/python3.7/dist-packages (from transformers) (0.2.1)\n",
            "Requirement already satisfied: importlib-metadata in /usr/local/lib/python3.7/dist-packages (from transformers) (4.8.2)\n",
            "Requirement already satisfied: typing-extensions>=3.7.4.3 in /usr/local/lib/python3.7/dist-packages (from huggingface-hub<1.0,>=0.1.0->transformers) (3.10.0.2)\n",
            "Requirement already satisfied: pyparsing!=3.0.5,>=2.0.2 in /usr/local/lib/python3.7/dist-packages (from packaging>=20.0->transformers) (3.0.6)\n",
            "Requirement already satisfied: zipp>=0.5 in /usr/local/lib/python3.7/dist-packages (from importlib-metadata->transformers) (3.6.0)\n",
            "Requirement already satisfied: chardet<4,>=3.0.2 in /usr/local/lib/python3.7/dist-packages (from requests->transformers) (3.0.4)\n",
            "Requirement already satisfied: urllib3!=1.25.0,!=1.25.1,<1.26,>=1.21.1 in /usr/local/lib/python3.7/dist-packages (from requests->transformers) (1.24.3)\n",
            "Requirement already satisfied: idna<3,>=2.5 in /usr/local/lib/python3.7/dist-packages (from requests->transformers) (2.10)\n",
            "Requirement already satisfied: certifi>=2017.4.17 in /usr/local/lib/python3.7/dist-packages (from requests->transformers) (2021.10.8)\n",
            "Requirement already satisfied: click in /usr/local/lib/python3.7/dist-packages (from sacremoses->transformers) (7.1.2)\n",
            "Requirement already satisfied: joblib in /usr/local/lib/python3.7/dist-packages (from sacremoses->transformers) (1.1.0)\n",
            "Requirement already satisfied: six in /usr/local/lib/python3.7/dist-packages (from sacremoses->transformers) (1.15.0)\n"
          ]
        }
      ],
      "source": [
        "!pip install SentencePiece\n",
        "!pip install transformers"
      ]
    },
    {
      "cell_type": "code",
      "execution_count": 3,
      "metadata": {
        "id": "2FZOHBdhS0VW"
      },
      "outputs": [],
      "source": [
        "def abstractiveSummaryWithPegasus(words):\n",
        "    # importing & loading model\n",
        "    from transformers import PegasusForConditionalGeneration, PegasusTokenizer\n",
        "    tokenizer = PegasusTokenizer.from_pretrained(\"google/pegasus-xsum\")\n",
        "    model = PegasusForConditionalGeneration.from_pretrained(\"google/pegasus-xsum\")\n",
        "\n",
        "    # perform summarization\n",
        "    tokens = tokenizer(words, truncation=True, padding=\"longest\", return_tensors=\"pt\")\n",
        "    summary = model.generate(**tokens)\n",
        "    actual_summ = tokenizer.decode(summary[0])\n",
        "\n",
        "    # returning summary\n",
        "    print(actual_summ)"
      ]
    },
    {
      "cell_type": "code",
      "execution_count": 4,
      "metadata": {
        "colab": {
          "base_uri": "https://localhost:8080/"
        },
        "id": "oJ0sK8JfWPJ9",
        "outputId": "cbe30304-cdb9-4365-823b-fe0bc017a901"
      },
      "outputs": [
        {
          "name": "stdout",
          "output_type": "stream",
          "text": [
            "The Big Cloud is a network of people who share data and resources.\n"
          ]
        }
      ],
      "source": [
        "word_text = \"\"\"\n",
        "Each participant in the network can choose what they host/provide and can be home to different content. Similar to your home network, you are in control of what you share, and you don’t share everything.\n",
        "\n",
        "This is a core tenet of decentralized identity. The same cryptographic principles underpinning cryptocurrencies like Bitcoin and Ethereum are being leveraged by applications to provide secure, cross-platform identity services. This is fundamentally different from other authentication systems such as OAuth 2.0, where a trusted party has to be reached to assess one's identity. This materializes in the form of “Login with Big Cloud provider” buttons. These cloud providers are the only ones with enough data, resources, and technical expertise.\n",
        "\n",
        "\"\"\"\n",
        "\n",
        "abstractiveSummaryWithPegasus(word_text)"
      ]
    }
  ],
  "metadata": {
    "accelerator": "GPU",
    "colab": {
      "collapsed_sections": [
        "1YYNXmz84ujT",
        "H4FWYnE74hst"
      ],
      "name": "Project Summarize",
      "provenance": [],
      "toc_visible": true
    },
    "kernelspec": {
      "display_name": "Python 3",
      "name": "python3"
    },
    "language_info": {
      "name": "python"
    },
    "widgets": {
      "application/vnd.jupyter.widget-state+json": {
        "016ed9509c8a4f7285bb0f095592a0f2": {
          "model_module": "@jupyter-widgets/base",
          "model_module_version": "1.2.0",
          "model_name": "LayoutModel",
          "state": {
            "_model_module": "@jupyter-widgets/base",
            "_model_module_version": "1.2.0",
            "_model_name": "LayoutModel",
            "_view_count": null,
            "_view_module": "@jupyter-widgets/base",
            "_view_module_version": "1.2.0",
            "_view_name": "LayoutView",
            "align_content": null,
            "align_items": null,
            "align_self": null,
            "border": null,
            "bottom": null,
            "display": null,
            "flex": null,
            "flex_flow": null,
            "grid_area": null,
            "grid_auto_columns": null,
            "grid_auto_flow": null,
            "grid_auto_rows": null,
            "grid_column": null,
            "grid_gap": null,
            "grid_row": null,
            "grid_template_areas": null,
            "grid_template_columns": null,
            "grid_template_rows": null,
            "height": null,
            "justify_content": null,
            "justify_items": null,
            "left": null,
            "margin": null,
            "max_height": null,
            "max_width": null,
            "min_height": null,
            "min_width": null,
            "object_fit": null,
            "object_position": null,
            "order": null,
            "overflow": null,
            "overflow_x": null,
            "overflow_y": null,
            "padding": null,
            "right": null,
            "top": null,
            "visibility": null,
            "width": null
          }
        },
        "0358762267fc4e49b79048630bf05663": {
          "model_module": "@jupyter-widgets/base",
          "model_module_version": "1.2.0",
          "model_name": "LayoutModel",
          "state": {
            "_model_module": "@jupyter-widgets/base",
            "_model_module_version": "1.2.0",
            "_model_name": "LayoutModel",
            "_view_count": null,
            "_view_module": "@jupyter-widgets/base",
            "_view_module_version": "1.2.0",
            "_view_name": "LayoutView",
            "align_content": null,
            "align_items": null,
            "align_self": null,
            "border": null,
            "bottom": null,
            "display": null,
            "flex": null,
            "flex_flow": null,
            "grid_area": null,
            "grid_auto_columns": null,
            "grid_auto_flow": null,
            "grid_auto_rows": null,
            "grid_column": null,
            "grid_gap": null,
            "grid_row": null,
            "grid_template_areas": null,
            "grid_template_columns": null,
            "grid_template_rows": null,
            "height": null,
            "justify_content": null,
            "justify_items": null,
            "left": null,
            "margin": null,
            "max_height": null,
            "max_width": null,
            "min_height": null,
            "min_width": null,
            "object_fit": null,
            "object_position": null,
            "order": null,
            "overflow": null,
            "overflow_x": null,
            "overflow_y": null,
            "padding": null,
            "right": null,
            "top": null,
            "visibility": null,
            "width": null
          }
        },
        "0428e28c8fe640fa861bf98bef98eb32": {
          "model_module": "@jupyter-widgets/base",
          "model_module_version": "1.2.0",
          "model_name": "LayoutModel",
          "state": {
            "_model_module": "@jupyter-widgets/base",
            "_model_module_version": "1.2.0",
            "_model_name": "LayoutModel",
            "_view_count": null,
            "_view_module": "@jupyter-widgets/base",
            "_view_module_version": "1.2.0",
            "_view_name": "LayoutView",
            "align_content": null,
            "align_items": null,
            "align_self": null,
            "border": null,
            "bottom": null,
            "display": null,
            "flex": null,
            "flex_flow": null,
            "grid_area": null,
            "grid_auto_columns": null,
            "grid_auto_flow": null,
            "grid_auto_rows": null,
            "grid_column": null,
            "grid_gap": null,
            "grid_row": null,
            "grid_template_areas": null,
            "grid_template_columns": null,
            "grid_template_rows": null,
            "height": null,
            "justify_content": null,
            "justify_items": null,
            "left": null,
            "margin": null,
            "max_height": null,
            "max_width": null,
            "min_height": null,
            "min_width": null,
            "object_fit": null,
            "object_position": null,
            "order": null,
            "overflow": null,
            "overflow_x": null,
            "overflow_y": null,
            "padding": null,
            "right": null,
            "top": null,
            "visibility": null,
            "width": null
          }
        },
        "0630255eaf4149788d1c223163c5be22": {
          "model_module": "@jupyter-widgets/controls",
          "model_module_version": "1.5.0",
          "model_name": "HTMLModel",
          "state": {
            "_dom_classes": [],
            "_model_module": "@jupyter-widgets/controls",
            "_model_module_version": "1.5.0",
            "_model_name": "HTMLModel",
            "_view_count": null,
            "_view_module": "@jupyter-widgets/controls",
            "_view_module_version": "1.5.0",
            "_view_name": "HTMLView",
            "description": "",
            "description_tooltip": null,
            "layout": "IPY_MODEL_c065abe2f5084a978508bdf1c653576a",
            "placeholder": "​",
            "style": "IPY_MODEL_625551b167c24047b44463a7140511d3",
            "value": " 1.76k/1.76k [00:00&lt;00:00, 9.74kB/s]"
          }
        },
        "068051d7e9ed468aa3eb34bd2459a723": {
          "model_module": "@jupyter-widgets/base",
          "model_module_version": "1.2.0",
          "model_name": "LayoutModel",
          "state": {
            "_model_module": "@jupyter-widgets/base",
            "_model_module_version": "1.2.0",
            "_model_name": "LayoutModel",
            "_view_count": null,
            "_view_module": "@jupyter-widgets/base",
            "_view_module_version": "1.2.0",
            "_view_name": "LayoutView",
            "align_content": null,
            "align_items": null,
            "align_self": null,
            "border": null,
            "bottom": null,
            "display": null,
            "flex": null,
            "flex_flow": null,
            "grid_area": null,
            "grid_auto_columns": null,
            "grid_auto_flow": null,
            "grid_auto_rows": null,
            "grid_column": null,
            "grid_gap": null,
            "grid_row": null,
            "grid_template_areas": null,
            "grid_template_columns": null,
            "grid_template_rows": null,
            "height": null,
            "justify_content": null,
            "justify_items": null,
            "left": null,
            "margin": null,
            "max_height": null,
            "max_width": null,
            "min_height": null,
            "min_width": null,
            "object_fit": null,
            "object_position": null,
            "order": null,
            "overflow": null,
            "overflow_x": null,
            "overflow_y": null,
            "padding": null,
            "right": null,
            "top": null,
            "visibility": null,
            "width": null
          }
        },
        "0b358b9f02c6411195e9c0c5c21a012a": {
          "model_module": "@jupyter-widgets/controls",
          "model_module_version": "1.5.0",
          "model_name": "FloatProgressModel",
          "state": {
            "_dom_classes": [],
            "_model_module": "@jupyter-widgets/controls",
            "_model_module_version": "1.5.0",
            "_model_name": "FloatProgressModel",
            "_view_count": null,
            "_view_module": "@jupyter-widgets/controls",
            "_view_module_version": "1.5.0",
            "_view_name": "ProgressView",
            "bar_style": "success",
            "description": "",
            "description_tooltip": null,
            "layout": "IPY_MODEL_9d03577bc15c48df89187c2c02c02b58",
            "max": 65,
            "min": 0,
            "orientation": "horizontal",
            "style": "IPY_MODEL_77a565f42c3b446394a0b3cbce7e6ce7",
            "value": 65
          }
        },
        "0cf591f4aa354d9e9c5a4b4e913bc914": {
          "model_module": "@jupyter-widgets/controls",
          "model_module_version": "1.5.0",
          "model_name": "DescriptionStyleModel",
          "state": {
            "_model_module": "@jupyter-widgets/controls",
            "_model_module_version": "1.5.0",
            "_model_name": "DescriptionStyleModel",
            "_view_count": null,
            "_view_module": "@jupyter-widgets/base",
            "_view_module_version": "1.2.0",
            "_view_name": "StyleView",
            "description_width": ""
          }
        },
        "0d30467e39f04929923314dc768ac5fd": {
          "model_module": "@jupyter-widgets/controls",
          "model_module_version": "1.5.0",
          "model_name": "FloatProgressModel",
          "state": {
            "_dom_classes": [],
            "_model_module": "@jupyter-widgets/controls",
            "_model_module_version": "1.5.0",
            "_model_name": "FloatProgressModel",
            "_view_count": null,
            "_view_module": "@jupyter-widgets/controls",
            "_view_module_version": "1.5.0",
            "_view_name": "ProgressView",
            "bar_style": "success",
            "description": "",
            "description_tooltip": null,
            "layout": "IPY_MODEL_b6d015eabaf34bf392dda544d552cf51",
            "max": 26,
            "min": 0,
            "orientation": "horizontal",
            "style": "IPY_MODEL_afc5eefaa74e4a7fb5b1a9c1d4a4543d",
            "value": 26
          }
        },
        "137bfa2882654e319c0471969bfc82b4": {
          "model_module": "@jupyter-widgets/base",
          "model_module_version": "1.2.0",
          "model_name": "LayoutModel",
          "state": {
            "_model_module": "@jupyter-widgets/base",
            "_model_module_version": "1.2.0",
            "_model_name": "LayoutModel",
            "_view_count": null,
            "_view_module": "@jupyter-widgets/base",
            "_view_module_version": "1.2.0",
            "_view_name": "LayoutView",
            "align_content": null,
            "align_items": null,
            "align_self": null,
            "border": null,
            "bottom": null,
            "display": null,
            "flex": null,
            "flex_flow": null,
            "grid_area": null,
            "grid_auto_columns": null,
            "grid_auto_flow": null,
            "grid_auto_rows": null,
            "grid_column": null,
            "grid_gap": null,
            "grid_row": null,
            "grid_template_areas": null,
            "grid_template_columns": null,
            "grid_template_rows": null,
            "height": null,
            "justify_content": null,
            "justify_items": null,
            "left": null,
            "margin": null,
            "max_height": null,
            "max_width": null,
            "min_height": null,
            "min_width": null,
            "object_fit": null,
            "object_position": null,
            "order": null,
            "overflow": null,
            "overflow_x": null,
            "overflow_y": null,
            "padding": null,
            "right": null,
            "top": null,
            "visibility": null,
            "width": null
          }
        },
        "19e88e4acf1f4a91ad3485375d29359d": {
          "model_module": "@jupyter-widgets/controls",
          "model_module_version": "1.5.0",
          "model_name": "DescriptionStyleModel",
          "state": {
            "_model_module": "@jupyter-widgets/controls",
            "_model_module_version": "1.5.0",
            "_model_name": "DescriptionStyleModel",
            "_view_count": null,
            "_view_module": "@jupyter-widgets/base",
            "_view_module_version": "1.2.0",
            "_view_name": "StyleView",
            "description_width": ""
          }
        },
        "1a4fcc714f7a48c8bd99276c60f4873e": {
          "model_module": "@jupyter-widgets/base",
          "model_module_version": "1.2.0",
          "model_name": "LayoutModel",
          "state": {
            "_model_module": "@jupyter-widgets/base",
            "_model_module_version": "1.2.0",
            "_model_name": "LayoutModel",
            "_view_count": null,
            "_view_module": "@jupyter-widgets/base",
            "_view_module_version": "1.2.0",
            "_view_name": "LayoutView",
            "align_content": null,
            "align_items": null,
            "align_self": null,
            "border": null,
            "bottom": null,
            "display": null,
            "flex": null,
            "flex_flow": null,
            "grid_area": null,
            "grid_auto_columns": null,
            "grid_auto_flow": null,
            "grid_auto_rows": null,
            "grid_column": null,
            "grid_gap": null,
            "grid_row": null,
            "grid_template_areas": null,
            "grid_template_columns": null,
            "grid_template_rows": null,
            "height": null,
            "justify_content": null,
            "justify_items": null,
            "left": null,
            "margin": null,
            "max_height": null,
            "max_width": null,
            "min_height": null,
            "min_width": null,
            "object_fit": null,
            "object_position": null,
            "order": null,
            "overflow": null,
            "overflow_x": null,
            "overflow_y": null,
            "padding": null,
            "right": null,
            "top": null,
            "visibility": null,
            "width": null
          }
        },
        "1a637a10c97f423a9bed376e833a864a": {
          "model_module": "@jupyter-widgets/controls",
          "model_module_version": "1.5.0",
          "model_name": "DescriptionStyleModel",
          "state": {
            "_model_module": "@jupyter-widgets/controls",
            "_model_module_version": "1.5.0",
            "_model_name": "DescriptionStyleModel",
            "_view_count": null,
            "_view_module": "@jupyter-widgets/base",
            "_view_module_version": "1.2.0",
            "_view_name": "StyleView",
            "description_width": ""
          }
        },
        "1ec1c0c56c4e44a79bce5b0834f7b9da": {
          "model_module": "@jupyter-widgets/controls",
          "model_module_version": "1.5.0",
          "model_name": "HTMLModel",
          "state": {
            "_dom_classes": [],
            "_model_module": "@jupyter-widgets/controls",
            "_model_module_version": "1.5.0",
            "_model_name": "HTMLModel",
            "_view_count": null,
            "_view_module": "@jupyter-widgets/controls",
            "_view_module_version": "1.5.0",
            "_view_name": "HTMLView",
            "description": "",
            "description_tooltip": null,
            "layout": "IPY_MODEL_137bfa2882654e319c0471969bfc82b4",
            "placeholder": "​",
            "style": "IPY_MODEL_19e88e4acf1f4a91ad3485375d29359d",
            "value": " 26.0/26.0 [00:00&lt;00:00, 523B/s]"
          }
        },
        "1f4154505a8a43b788cbd7858f7101a7": {
          "model_module": "@jupyter-widgets/controls",
          "model_module_version": "1.5.0",
          "model_name": "HTMLModel",
          "state": {
            "_dom_classes": [],
            "_model_module": "@jupyter-widgets/controls",
            "_model_module_version": "1.5.0",
            "_model_name": "HTMLModel",
            "_view_count": null,
            "_view_module": "@jupyter-widgets/controls",
            "_view_module_version": "1.5.0",
            "_view_name": "HTMLView",
            "description": "",
            "description_tooltip": null,
            "layout": "IPY_MODEL_95dd4169b2cf49edbdfd3723ba18e04a",
            "placeholder": "​",
            "style": "IPY_MODEL_0cf591f4aa354d9e9c5a4b4e913bc914",
            "value": "Downloading: 100%"
          }
        },
        "22c912be5ee54aa5a549617b69396f0a": {
          "model_module": "@jupyter-widgets/base",
          "model_module_version": "1.2.0",
          "model_name": "LayoutModel",
          "state": {
            "_model_module": "@jupyter-widgets/base",
            "_model_module_version": "1.2.0",
            "_model_name": "LayoutModel",
            "_view_count": null,
            "_view_module": "@jupyter-widgets/base",
            "_view_module_version": "1.2.0",
            "_view_name": "LayoutView",
            "align_content": null,
            "align_items": null,
            "align_self": null,
            "border": null,
            "bottom": null,
            "display": null,
            "flex": null,
            "flex_flow": null,
            "grid_area": null,
            "grid_auto_columns": null,
            "grid_auto_flow": null,
            "grid_auto_rows": null,
            "grid_column": null,
            "grid_gap": null,
            "grid_row": null,
            "grid_template_areas": null,
            "grid_template_columns": null,
            "grid_template_rows": null,
            "height": null,
            "justify_content": null,
            "justify_items": null,
            "left": null,
            "margin": null,
            "max_height": null,
            "max_width": null,
            "min_height": null,
            "min_width": null,
            "object_fit": null,
            "object_position": null,
            "order": null,
            "overflow": null,
            "overflow_x": null,
            "overflow_y": null,
            "padding": null,
            "right": null,
            "top": null,
            "visibility": null,
            "width": null
          }
        },
        "23d8be0183a8407d911b8971ed13d72d": {
          "model_module": "@jupyter-widgets/controls",
          "model_module_version": "1.5.0",
          "model_name": "DescriptionStyleModel",
          "state": {
            "_model_module": "@jupyter-widgets/controls",
            "_model_module_version": "1.5.0",
            "_model_name": "DescriptionStyleModel",
            "_view_count": null,
            "_view_module": "@jupyter-widgets/base",
            "_view_module_version": "1.2.0",
            "_view_name": "StyleView",
            "description_width": ""
          }
        },
        "2554d765e4fc4ad19491d6a63e74d2df": {
          "model_module": "@jupyter-widgets/base",
          "model_module_version": "1.2.0",
          "model_name": "LayoutModel",
          "state": {
            "_model_module": "@jupyter-widgets/base",
            "_model_module_version": "1.2.0",
            "_model_name": "LayoutModel",
            "_view_count": null,
            "_view_module": "@jupyter-widgets/base",
            "_view_module_version": "1.2.0",
            "_view_name": "LayoutView",
            "align_content": null,
            "align_items": null,
            "align_self": null,
            "border": null,
            "bottom": null,
            "display": null,
            "flex": null,
            "flex_flow": null,
            "grid_area": null,
            "grid_auto_columns": null,
            "grid_auto_flow": null,
            "grid_auto_rows": null,
            "grid_column": null,
            "grid_gap": null,
            "grid_row": null,
            "grid_template_areas": null,
            "grid_template_columns": null,
            "grid_template_rows": null,
            "height": null,
            "justify_content": null,
            "justify_items": null,
            "left": null,
            "margin": null,
            "max_height": null,
            "max_width": null,
            "min_height": null,
            "min_width": null,
            "object_fit": null,
            "object_position": null,
            "order": null,
            "overflow": null,
            "overflow_x": null,
            "overflow_y": null,
            "padding": null,
            "right": null,
            "top": null,
            "visibility": null,
            "width": null
          }
        },
        "281fda0f70e24c1ebcaad27bb31db398": {
          "model_module": "@jupyter-widgets/controls",
          "model_module_version": "1.5.0",
          "model_name": "HTMLModel",
          "state": {
            "_dom_classes": [],
            "_model_module": "@jupyter-widgets/controls",
            "_model_module_version": "1.5.0",
            "_model_name": "HTMLModel",
            "_view_count": null,
            "_view_module": "@jupyter-widgets/controls",
            "_view_module_version": "1.5.0",
            "_view_name": "HTMLView",
            "description": "",
            "description_tooltip": null,
            "layout": "IPY_MODEL_5e66450f2bbe4b5f88d6537eb84c7f6b",
            "placeholder": "​",
            "style": "IPY_MODEL_1a637a10c97f423a9bed376e833a864a",
            "value": " 878k/878k [00:00&lt;00:00, 922kB/s]"
          }
        },
        "28299a5d65d64d7abf7dfa94a1b6b3bb": {
          "model_module": "@jupyter-widgets/base",
          "model_module_version": "1.2.0",
          "model_name": "LayoutModel",
          "state": {
            "_model_module": "@jupyter-widgets/base",
            "_model_module_version": "1.2.0",
            "_model_name": "LayoutModel",
            "_view_count": null,
            "_view_module": "@jupyter-widgets/base",
            "_view_module_version": "1.2.0",
            "_view_name": "LayoutView",
            "align_content": null,
            "align_items": null,
            "align_self": null,
            "border": null,
            "bottom": null,
            "display": null,
            "flex": null,
            "flex_flow": null,
            "grid_area": null,
            "grid_auto_columns": null,
            "grid_auto_flow": null,
            "grid_auto_rows": null,
            "grid_column": null,
            "grid_gap": null,
            "grid_row": null,
            "grid_template_areas": null,
            "grid_template_columns": null,
            "grid_template_rows": null,
            "height": null,
            "justify_content": null,
            "justify_items": null,
            "left": null,
            "margin": null,
            "max_height": null,
            "max_width": null,
            "min_height": null,
            "min_width": null,
            "object_fit": null,
            "object_position": null,
            "order": null,
            "overflow": null,
            "overflow_x": null,
            "overflow_y": null,
            "padding": null,
            "right": null,
            "top": null,
            "visibility": null,
            "width": null
          }
        },
        "29a9b46f9d6548c6893aa0ec638a55ec": {
          "model_module": "@jupyter-widgets/controls",
          "model_module_version": "1.5.0",
          "model_name": "FloatProgressModel",
          "state": {
            "_dom_classes": [],
            "_model_module": "@jupyter-widgets/controls",
            "_model_module_version": "1.5.0",
            "_model_name": "FloatProgressModel",
            "_view_count": null,
            "_view_module": "@jupyter-widgets/controls",
            "_view_module_version": "1.5.0",
            "_view_name": "ProgressView",
            "bar_style": "success",
            "description": "",
            "description_tooltip": null,
            "layout": "IPY_MODEL_0358762267fc4e49b79048630bf05663",
            "max": 456318,
            "min": 0,
            "orientation": "horizontal",
            "style": "IPY_MODEL_8a19ce535a8347a589cc13f6e84bf8f7",
            "value": 456318
          }
        },
        "2d34a6cb2e9c42faaea30fcbef17a4fe": {
          "model_module": "@jupyter-widgets/controls",
          "model_module_version": "1.5.0",
          "model_name": "HTMLModel",
          "state": {
            "_dom_classes": [],
            "_model_module": "@jupyter-widgets/controls",
            "_model_module_version": "1.5.0",
            "_model_name": "HTMLModel",
            "_view_count": null,
            "_view_module": "@jupyter-widgets/controls",
            "_view_module_version": "1.5.0",
            "_view_name": "HTMLView",
            "description": "",
            "description_tooltip": null,
            "layout": "IPY_MODEL_8f0b5960343b4a65b1abe26c3d9ea60f",
            "placeholder": "​",
            "style": "IPY_MODEL_79e5325ed4a446b8a1a8896675642162",
            "value": "Downloading: 100%"
          }
        },
        "32143fe90dcb42fe8da93564ff2f87bd": {
          "model_module": "@jupyter-widgets/controls",
          "model_module_version": "1.5.0",
          "model_name": "FloatProgressModel",
          "state": {
            "_dom_classes": [],
            "_model_module": "@jupyter-widgets/controls",
            "_model_module_version": "1.5.0",
            "_model_name": "FloatProgressModel",
            "_view_count": null,
            "_view_module": "@jupyter-widgets/controls",
            "_view_module_version": "1.5.0",
            "_view_name": "ProgressView",
            "bar_style": "success",
            "description": "",
            "description_tooltip": null,
            "layout": "IPY_MODEL_d4dd41da51e747dd96804415a7cb3adc",
            "max": 1912529,
            "min": 0,
            "orientation": "horizontal",
            "style": "IPY_MODEL_3af2d6cf2c67471286c04dfb879ca1a2",
            "value": 1912529
          }
        },
        "324b9fcd701d468cbb49ab99e722d837": {
          "model_module": "@jupyter-widgets/base",
          "model_module_version": "1.2.0",
          "model_name": "LayoutModel",
          "state": {
            "_model_module": "@jupyter-widgets/base",
            "_model_module_version": "1.2.0",
            "_model_name": "LayoutModel",
            "_view_count": null,
            "_view_module": "@jupyter-widgets/base",
            "_view_module_version": "1.2.0",
            "_view_name": "LayoutView",
            "align_content": null,
            "align_items": null,
            "align_self": null,
            "border": null,
            "bottom": null,
            "display": null,
            "flex": null,
            "flex_flow": null,
            "grid_area": null,
            "grid_auto_columns": null,
            "grid_auto_flow": null,
            "grid_auto_rows": null,
            "grid_column": null,
            "grid_gap": null,
            "grid_row": null,
            "grid_template_areas": null,
            "grid_template_columns": null,
            "grid_template_rows": null,
            "height": null,
            "justify_content": null,
            "justify_items": null,
            "left": null,
            "margin": null,
            "max_height": null,
            "max_width": null,
            "min_height": null,
            "min_width": null,
            "object_fit": null,
            "object_position": null,
            "order": null,
            "overflow": null,
            "overflow_x": null,
            "overflow_y": null,
            "padding": null,
            "right": null,
            "top": null,
            "visibility": null,
            "width": null
          }
        },
        "32dc138f98e14d99b023f5f5fbec1443": {
          "model_module": "@jupyter-widgets/base",
          "model_module_version": "1.2.0",
          "model_name": "LayoutModel",
          "state": {
            "_model_module": "@jupyter-widgets/base",
            "_model_module_version": "1.2.0",
            "_model_name": "LayoutModel",
            "_view_count": null,
            "_view_module": "@jupyter-widgets/base",
            "_view_module_version": "1.2.0",
            "_view_name": "LayoutView",
            "align_content": null,
            "align_items": null,
            "align_self": null,
            "border": null,
            "bottom": null,
            "display": null,
            "flex": null,
            "flex_flow": null,
            "grid_area": null,
            "grid_auto_columns": null,
            "grid_auto_flow": null,
            "grid_auto_rows": null,
            "grid_column": null,
            "grid_gap": null,
            "grid_row": null,
            "grid_template_areas": null,
            "grid_template_columns": null,
            "grid_template_rows": null,
            "height": null,
            "justify_content": null,
            "justify_items": null,
            "left": null,
            "margin": null,
            "max_height": null,
            "max_width": null,
            "min_height": null,
            "min_width": null,
            "object_fit": null,
            "object_position": null,
            "order": null,
            "overflow": null,
            "overflow_x": null,
            "overflow_y": null,
            "padding": null,
            "right": null,
            "top": null,
            "visibility": null,
            "width": null
          }
        },
        "352d28ae80084e3fac5846bb86a692ec": {
          "model_module": "@jupyter-widgets/controls",
          "model_module_version": "1.5.0",
          "model_name": "HTMLModel",
          "state": {
            "_dom_classes": [],
            "_model_module": "@jupyter-widgets/controls",
            "_model_module_version": "1.5.0",
            "_model_name": "HTMLModel",
            "_view_count": null,
            "_view_module": "@jupyter-widgets/controls",
            "_view_module_version": "1.5.0",
            "_view_name": "HTMLView",
            "description": "",
            "description_tooltip": null,
            "layout": "IPY_MODEL_3dd0a5b5f2e34ef6bd92de3ce81789e0",
            "placeholder": "​",
            "style": "IPY_MODEL_b950e058bc1c4fe58cb069f5c839a931",
            "value": " 65.0/65.0 [00:00&lt;00:00, 1.60kB/s]"
          }
        },
        "35c161fbe1d64239b7fbd46bfebbf965": {
          "model_module": "@jupyter-widgets/controls",
          "model_module_version": "1.5.0",
          "model_name": "ProgressStyleModel",
          "state": {
            "_model_module": "@jupyter-widgets/controls",
            "_model_module_version": "1.5.0",
            "_model_name": "ProgressStyleModel",
            "_view_count": null,
            "_view_module": "@jupyter-widgets/base",
            "_view_module_version": "1.2.0",
            "_view_name": "StyleView",
            "bar_color": null,
            "description_width": ""
          }
        },
        "35e774cc17ee4682829989cd03e47291": {
          "model_module": "@jupyter-widgets/base",
          "model_module_version": "1.2.0",
          "model_name": "LayoutModel",
          "state": {
            "_model_module": "@jupyter-widgets/base",
            "_model_module_version": "1.2.0",
            "_model_name": "LayoutModel",
            "_view_count": null,
            "_view_module": "@jupyter-widgets/base",
            "_view_module_version": "1.2.0",
            "_view_name": "LayoutView",
            "align_content": null,
            "align_items": null,
            "align_self": null,
            "border": null,
            "bottom": null,
            "display": null,
            "flex": null,
            "flex_flow": null,
            "grid_area": null,
            "grid_auto_columns": null,
            "grid_auto_flow": null,
            "grid_auto_rows": null,
            "grid_column": null,
            "grid_gap": null,
            "grid_row": null,
            "grid_template_areas": null,
            "grid_template_columns": null,
            "grid_template_rows": null,
            "height": null,
            "justify_content": null,
            "justify_items": null,
            "left": null,
            "margin": null,
            "max_height": null,
            "max_width": null,
            "min_height": null,
            "min_width": null,
            "object_fit": null,
            "object_position": null,
            "order": null,
            "overflow": null,
            "overflow_x": null,
            "overflow_y": null,
            "padding": null,
            "right": null,
            "top": null,
            "visibility": null,
            "width": null
          }
        },
        "36b8d463be834ac485c26746bad6b111": {
          "model_module": "@jupyter-widgets/controls",
          "model_module_version": "1.5.0",
          "model_name": "HTMLModel",
          "state": {
            "_dom_classes": [],
            "_model_module": "@jupyter-widgets/controls",
            "_model_module_version": "1.5.0",
            "_model_name": "HTMLModel",
            "_view_count": null,
            "_view_module": "@jupyter-widgets/controls",
            "_view_module_version": "1.5.0",
            "_view_name": "HTMLView",
            "description": "",
            "description_tooltip": null,
            "layout": "IPY_MODEL_77970af71ae946f48631a72ff51c0786",
            "placeholder": "​",
            "style": "IPY_MODEL_b4f53cd84d924d11a91f4f37a5135751",
            "value": " 1.76k/1.76k [00:00&lt;00:00, 36.3kB/s]"
          }
        },
        "39813ec2c3934fe883bdb94f17755522": {
          "model_module": "@jupyter-widgets/controls",
          "model_module_version": "1.5.0",
          "model_name": "HTMLModel",
          "state": {
            "_dom_classes": [],
            "_model_module": "@jupyter-widgets/controls",
            "_model_module_version": "1.5.0",
            "_model_name": "HTMLModel",
            "_view_count": null,
            "_view_module": "@jupyter-widgets/controls",
            "_view_module_version": "1.5.0",
            "_view_name": "HTMLView",
            "description": "",
            "description_tooltip": null,
            "layout": "IPY_MODEL_cdf86989ef7a456ca0e1c4cbf60e369b",
            "placeholder": "​",
            "style": "IPY_MODEL_a22b96aa836143f0aa1ffeae12f8bea6",
            "value": "Downloading: 100%"
          }
        },
        "39a02eda2c6d4d5b90e9e41d963227b0": {
          "model_module": "@jupyter-widgets/base",
          "model_module_version": "1.2.0",
          "model_name": "LayoutModel",
          "state": {
            "_model_module": "@jupyter-widgets/base",
            "_model_module_version": "1.2.0",
            "_model_name": "LayoutModel",
            "_view_count": null,
            "_view_module": "@jupyter-widgets/base",
            "_view_module_version": "1.2.0",
            "_view_name": "LayoutView",
            "align_content": null,
            "align_items": null,
            "align_self": null,
            "border": null,
            "bottom": null,
            "display": null,
            "flex": null,
            "flex_flow": null,
            "grid_area": null,
            "grid_auto_columns": null,
            "grid_auto_flow": null,
            "grid_auto_rows": null,
            "grid_column": null,
            "grid_gap": null,
            "grid_row": null,
            "grid_template_areas": null,
            "grid_template_columns": null,
            "grid_template_rows": null,
            "height": null,
            "justify_content": null,
            "justify_items": null,
            "left": null,
            "margin": null,
            "max_height": null,
            "max_width": null,
            "min_height": null,
            "min_width": null,
            "object_fit": null,
            "object_position": null,
            "order": null,
            "overflow": null,
            "overflow_x": null,
            "overflow_y": null,
            "padding": null,
            "right": null,
            "top": null,
            "visibility": null,
            "width": null
          }
        },
        "3af2d6cf2c67471286c04dfb879ca1a2": {
          "model_module": "@jupyter-widgets/controls",
          "model_module_version": "1.5.0",
          "model_name": "ProgressStyleModel",
          "state": {
            "_model_module": "@jupyter-widgets/controls",
            "_model_module_version": "1.5.0",
            "_model_name": "ProgressStyleModel",
            "_view_count": null,
            "_view_module": "@jupyter-widgets/base",
            "_view_module_version": "1.2.0",
            "_view_name": "StyleView",
            "bar_color": null,
            "description_width": ""
          }
        },
        "3c5e570c6d4e4e46bee489d753e89ede": {
          "model_module": "@jupyter-widgets/controls",
          "model_module_version": "1.5.0",
          "model_name": "DescriptionStyleModel",
          "state": {
            "_model_module": "@jupyter-widgets/controls",
            "_model_module_version": "1.5.0",
            "_model_name": "DescriptionStyleModel",
            "_view_count": null,
            "_view_module": "@jupyter-widgets/base",
            "_view_module_version": "1.2.0",
            "_view_name": "StyleView",
            "description_width": ""
          }
        },
        "3dd0a5b5f2e34ef6bd92de3ce81789e0": {
          "model_module": "@jupyter-widgets/base",
          "model_module_version": "1.2.0",
          "model_name": "LayoutModel",
          "state": {
            "_model_module": "@jupyter-widgets/base",
            "_model_module_version": "1.2.0",
            "_model_name": "LayoutModel",
            "_view_count": null,
            "_view_module": "@jupyter-widgets/base",
            "_view_module_version": "1.2.0",
            "_view_name": "LayoutView",
            "align_content": null,
            "align_items": null,
            "align_self": null,
            "border": null,
            "bottom": null,
            "display": null,
            "flex": null,
            "flex_flow": null,
            "grid_area": null,
            "grid_auto_columns": null,
            "grid_auto_flow": null,
            "grid_auto_rows": null,
            "grid_column": null,
            "grid_gap": null,
            "grid_row": null,
            "grid_template_areas": null,
            "grid_template_columns": null,
            "grid_template_rows": null,
            "height": null,
            "justify_content": null,
            "justify_items": null,
            "left": null,
            "margin": null,
            "max_height": null,
            "max_width": null,
            "min_height": null,
            "min_width": null,
            "object_fit": null,
            "object_position": null,
            "order": null,
            "overflow": null,
            "overflow_x": null,
            "overflow_y": null,
            "padding": null,
            "right": null,
            "top": null,
            "visibility": null,
            "width": null
          }
        },
        "407af009277e4900ab2714693c7048c3": {
          "model_module": "@jupyter-widgets/base",
          "model_module_version": "1.2.0",
          "model_name": "LayoutModel",
          "state": {
            "_model_module": "@jupyter-widgets/base",
            "_model_module_version": "1.2.0",
            "_model_name": "LayoutModel",
            "_view_count": null,
            "_view_module": "@jupyter-widgets/base",
            "_view_module_version": "1.2.0",
            "_view_name": "LayoutView",
            "align_content": null,
            "align_items": null,
            "align_self": null,
            "border": null,
            "bottom": null,
            "display": null,
            "flex": null,
            "flex_flow": null,
            "grid_area": null,
            "grid_auto_columns": null,
            "grid_auto_flow": null,
            "grid_auto_rows": null,
            "grid_column": null,
            "grid_gap": null,
            "grid_row": null,
            "grid_template_areas": null,
            "grid_template_columns": null,
            "grid_template_rows": null,
            "height": null,
            "justify_content": null,
            "justify_items": null,
            "left": null,
            "margin": null,
            "max_height": null,
            "max_width": null,
            "min_height": null,
            "min_width": null,
            "object_fit": null,
            "object_position": null,
            "order": null,
            "overflow": null,
            "overflow_x": null,
            "overflow_y": null,
            "padding": null,
            "right": null,
            "top": null,
            "visibility": null,
            "width": null
          }
        },
        "43475ddff02840278f0d4237105ad590": {
          "model_module": "@jupyter-widgets/controls",
          "model_module_version": "1.5.0",
          "model_name": "DescriptionStyleModel",
          "state": {
            "_model_module": "@jupyter-widgets/controls",
            "_model_module_version": "1.5.0",
            "_model_name": "DescriptionStyleModel",
            "_view_count": null,
            "_view_module": "@jupyter-widgets/base",
            "_view_module_version": "1.2.0",
            "_view_name": "StyleView",
            "description_width": ""
          }
        },
        "43b04dea90ff4e7893ba9c3636a74d11": {
          "model_module": "@jupyter-widgets/controls",
          "model_module_version": "1.5.0",
          "model_name": "HBoxModel",
          "state": {
            "_dom_classes": [],
            "_model_module": "@jupyter-widgets/controls",
            "_model_module_version": "1.5.0",
            "_model_name": "HBoxModel",
            "_view_count": null,
            "_view_module": "@jupyter-widgets/controls",
            "_view_module_version": "1.5.0",
            "_view_name": "HBoxView",
            "box_style": "",
            "children": [
              "IPY_MODEL_9d2c71f89f3543d7aed3c0d303d61527",
              "IPY_MODEL_caa9b5b7026f4ea38c6117812aa7b48f",
              "IPY_MODEL_d0696205199546959aceb6a5daa484c8"
            ],
            "layout": "IPY_MODEL_22c912be5ee54aa5a549617b69396f0a"
          }
        },
        "454c5b294cd6450bbf59573f9fd5f9da": {
          "model_module": "@jupyter-widgets/controls",
          "model_module_version": "1.5.0",
          "model_name": "DescriptionStyleModel",
          "state": {
            "_model_module": "@jupyter-widgets/controls",
            "_model_module_version": "1.5.0",
            "_model_name": "DescriptionStyleModel",
            "_view_count": null,
            "_view_module": "@jupyter-widgets/base",
            "_view_module_version": "1.2.0",
            "_view_name": "StyleView",
            "description_width": ""
          }
        },
        "4649da52127e48e68bada308cbfa4474": {
          "model_module": "@jupyter-widgets/base",
          "model_module_version": "1.2.0",
          "model_name": "LayoutModel",
          "state": {
            "_model_module": "@jupyter-widgets/base",
            "_model_module_version": "1.2.0",
            "_model_name": "LayoutModel",
            "_view_count": null,
            "_view_module": "@jupyter-widgets/base",
            "_view_module_version": "1.2.0",
            "_view_name": "LayoutView",
            "align_content": null,
            "align_items": null,
            "align_self": null,
            "border": null,
            "bottom": null,
            "display": null,
            "flex": null,
            "flex_flow": null,
            "grid_area": null,
            "grid_auto_columns": null,
            "grid_auto_flow": null,
            "grid_auto_rows": null,
            "grid_column": null,
            "grid_gap": null,
            "grid_row": null,
            "grid_template_areas": null,
            "grid_template_columns": null,
            "grid_template_rows": null,
            "height": null,
            "justify_content": null,
            "justify_items": null,
            "left": null,
            "margin": null,
            "max_height": null,
            "max_width": null,
            "min_height": null,
            "min_width": null,
            "object_fit": null,
            "object_position": null,
            "order": null,
            "overflow": null,
            "overflow_x": null,
            "overflow_y": null,
            "padding": null,
            "right": null,
            "top": null,
            "visibility": null,
            "width": null
          }
        },
        "48c17b132ce04bceb707cd632867ed03": {
          "model_module": "@jupyter-widgets/controls",
          "model_module_version": "1.5.0",
          "model_name": "DescriptionStyleModel",
          "state": {
            "_model_module": "@jupyter-widgets/controls",
            "_model_module_version": "1.5.0",
            "_model_name": "DescriptionStyleModel",
            "_view_count": null,
            "_view_module": "@jupyter-widgets/base",
            "_view_module_version": "1.2.0",
            "_view_name": "StyleView",
            "description_width": ""
          }
        },
        "48d9ff6943404469bc3031f4cfdb9054": {
          "model_module": "@jupyter-widgets/controls",
          "model_module_version": "1.5.0",
          "model_name": "DescriptionStyleModel",
          "state": {
            "_model_module": "@jupyter-widgets/controls",
            "_model_module_version": "1.5.0",
            "_model_name": "DescriptionStyleModel",
            "_view_count": null,
            "_view_module": "@jupyter-widgets/base",
            "_view_module_version": "1.2.0",
            "_view_name": "StyleView",
            "description_width": ""
          }
        },
        "48dcead57e944168853f7c5962365043": {
          "model_module": "@jupyter-widgets/controls",
          "model_module_version": "1.5.0",
          "model_name": "HTMLModel",
          "state": {
            "_dom_classes": [],
            "_model_module": "@jupyter-widgets/controls",
            "_model_module_version": "1.5.0",
            "_model_name": "HTMLModel",
            "_view_count": null,
            "_view_module": "@jupyter-widgets/controls",
            "_view_module_version": "1.5.0",
            "_view_name": "HTMLView",
            "description": "",
            "description_tooltip": null,
            "layout": "IPY_MODEL_a6c38e872b7949e9869522a52f8639fe",
            "placeholder": "​",
            "style": "IPY_MODEL_ba9b57f9f80545e4bfdd1f3772e9dbed",
            "value": "Downloading: 100%"
          }
        },
        "4dd63786bdf4436d9ba4b0761f9ca4f8": {
          "model_module": "@jupyter-widgets/base",
          "model_module_version": "1.2.0",
          "model_name": "LayoutModel",
          "state": {
            "_model_module": "@jupyter-widgets/base",
            "_model_module_version": "1.2.0",
            "_model_name": "LayoutModel",
            "_view_count": null,
            "_view_module": "@jupyter-widgets/base",
            "_view_module_version": "1.2.0",
            "_view_name": "LayoutView",
            "align_content": null,
            "align_items": null,
            "align_self": null,
            "border": null,
            "bottom": null,
            "display": null,
            "flex": null,
            "flex_flow": null,
            "grid_area": null,
            "grid_auto_columns": null,
            "grid_auto_flow": null,
            "grid_auto_rows": null,
            "grid_column": null,
            "grid_gap": null,
            "grid_row": null,
            "grid_template_areas": null,
            "grid_template_columns": null,
            "grid_template_rows": null,
            "height": null,
            "justify_content": null,
            "justify_items": null,
            "left": null,
            "margin": null,
            "max_height": null,
            "max_width": null,
            "min_height": null,
            "min_width": null,
            "object_fit": null,
            "object_position": null,
            "order": null,
            "overflow": null,
            "overflow_x": null,
            "overflow_y": null,
            "padding": null,
            "right": null,
            "top": null,
            "visibility": null,
            "width": null
          }
        },
        "4df36d6ebf7f46d3980ff28f89f3f174": {
          "model_module": "@jupyter-widgets/base",
          "model_module_version": "1.2.0",
          "model_name": "LayoutModel",
          "state": {
            "_model_module": "@jupyter-widgets/base",
            "_model_module_version": "1.2.0",
            "_model_name": "LayoutModel",
            "_view_count": null,
            "_view_module": "@jupyter-widgets/base",
            "_view_module_version": "1.2.0",
            "_view_name": "LayoutView",
            "align_content": null,
            "align_items": null,
            "align_self": null,
            "border": null,
            "bottom": null,
            "display": null,
            "flex": null,
            "flex_flow": null,
            "grid_area": null,
            "grid_auto_columns": null,
            "grid_auto_flow": null,
            "grid_auto_rows": null,
            "grid_column": null,
            "grid_gap": null,
            "grid_row": null,
            "grid_template_areas": null,
            "grid_template_columns": null,
            "grid_template_rows": null,
            "height": null,
            "justify_content": null,
            "justify_items": null,
            "left": null,
            "margin": null,
            "max_height": null,
            "max_width": null,
            "min_height": null,
            "min_width": null,
            "object_fit": null,
            "object_position": null,
            "order": null,
            "overflow": null,
            "overflow_x": null,
            "overflow_y": null,
            "padding": null,
            "right": null,
            "top": null,
            "visibility": null,
            "width": null
          }
        },
        "4f3849e8e5f14f479c0e49c0c152da85": {
          "model_module": "@jupyter-widgets/base",
          "model_module_version": "1.2.0",
          "model_name": "LayoutModel",
          "state": {
            "_model_module": "@jupyter-widgets/base",
            "_model_module_version": "1.2.0",
            "_model_name": "LayoutModel",
            "_view_count": null,
            "_view_module": "@jupyter-widgets/base",
            "_view_module_version": "1.2.0",
            "_view_name": "LayoutView",
            "align_content": null,
            "align_items": null,
            "align_self": null,
            "border": null,
            "bottom": null,
            "display": null,
            "flex": null,
            "flex_flow": null,
            "grid_area": null,
            "grid_auto_columns": null,
            "grid_auto_flow": null,
            "grid_auto_rows": null,
            "grid_column": null,
            "grid_gap": null,
            "grid_row": null,
            "grid_template_areas": null,
            "grid_template_columns": null,
            "grid_template_rows": null,
            "height": null,
            "justify_content": null,
            "justify_items": null,
            "left": null,
            "margin": null,
            "max_height": null,
            "max_width": null,
            "min_height": null,
            "min_width": null,
            "object_fit": null,
            "object_position": null,
            "order": null,
            "overflow": null,
            "overflow_x": null,
            "overflow_y": null,
            "padding": null,
            "right": null,
            "top": null,
            "visibility": null,
            "width": null
          }
        },
        "4fdf0e934e09499eb62ea43ad1e1d358": {
          "model_module": "@jupyter-widgets/controls",
          "model_module_version": "1.5.0",
          "model_name": "HTMLModel",
          "state": {
            "_dom_classes": [],
            "_model_module": "@jupyter-widgets/controls",
            "_model_module_version": "1.5.0",
            "_model_name": "HTMLModel",
            "_view_count": null,
            "_view_module": "@jupyter-widgets/controls",
            "_view_module_version": "1.5.0",
            "_view_name": "HTMLView",
            "description": "",
            "description_tooltip": null,
            "layout": "IPY_MODEL_b5c899abd3104e3cb25f87d339c0c7ad",
            "placeholder": "​",
            "style": "IPY_MODEL_e1ddc5e88d6b4c4ba6db85e4d0b3fba1",
            "value": "Downloading: 100%"
          }
        },
        "5012a899f8de4f0694be51d23e545038": {
          "model_module": "@jupyter-widgets/controls",
          "model_module_version": "1.5.0",
          "model_name": "DescriptionStyleModel",
          "state": {
            "_model_module": "@jupyter-widgets/controls",
            "_model_module_version": "1.5.0",
            "_model_name": "DescriptionStyleModel",
            "_view_count": null,
            "_view_module": "@jupyter-widgets/base",
            "_view_module_version": "1.2.0",
            "_view_name": "StyleView",
            "description_width": ""
          }
        },
        "5363fb086979430eae979ddbed1ec5f1": {
          "model_module": "@jupyter-widgets/controls",
          "model_module_version": "1.5.0",
          "model_name": "HBoxModel",
          "state": {
            "_dom_classes": [],
            "_model_module": "@jupyter-widgets/controls",
            "_model_module_version": "1.5.0",
            "_model_name": "HBoxModel",
            "_view_count": null,
            "_view_module": "@jupyter-widgets/controls",
            "_view_module_version": "1.5.0",
            "_view_name": "HBoxView",
            "box_style": "",
            "children": [
              "IPY_MODEL_7c9e264be25b46dfbfd28db83a8ea899",
              "IPY_MODEL_78b1fa1e6ff14210ae0ef4399fd64b22",
              "IPY_MODEL_a9d8bfd7b7954235920c76125dc0b779"
            ],
            "layout": "IPY_MODEL_068051d7e9ed468aa3eb34bd2459a723"
          }
        },
        "53b5d64e862d4339bb43a82dd591c445": {
          "model_module": "@jupyter-widgets/controls",
          "model_module_version": "1.5.0",
          "model_name": "HBoxModel",
          "state": {
            "_dom_classes": [],
            "_model_module": "@jupyter-widgets/controls",
            "_model_module_version": "1.5.0",
            "_model_name": "HBoxModel",
            "_view_count": null,
            "_view_module": "@jupyter-widgets/controls",
            "_view_module_version": "1.5.0",
            "_view_name": "HBoxView",
            "box_style": "",
            "children": [
              "IPY_MODEL_7abeb969c7e641398943a564d9e3189d",
              "IPY_MODEL_b927d33f499046b391125c80e563b0fb",
              "IPY_MODEL_78e67eebbf5b4d32bc20535b3cd3a8d7"
            ],
            "layout": "IPY_MODEL_4df36d6ebf7f46d3980ff28f89f3f174"
          }
        },
        "547d82a4e73b47a7bc2c7d1d53b4b65d": {
          "model_module": "@jupyter-widgets/controls",
          "model_module_version": "1.5.0",
          "model_name": "ProgressStyleModel",
          "state": {
            "_model_module": "@jupyter-widgets/controls",
            "_model_module_version": "1.5.0",
            "_model_name": "ProgressStyleModel",
            "_view_count": null,
            "_view_module": "@jupyter-widgets/base",
            "_view_module_version": "1.2.0",
            "_view_name": "StyleView",
            "bar_color": null,
            "description_width": ""
          }
        },
        "56685409c9f44018ab84796d786419a6": {
          "model_module": "@jupyter-widgets/controls",
          "model_module_version": "1.5.0",
          "model_name": "ProgressStyleModel",
          "state": {
            "_model_module": "@jupyter-widgets/controls",
            "_model_module_version": "1.5.0",
            "_model_name": "ProgressStyleModel",
            "_view_count": null,
            "_view_module": "@jupyter-widgets/base",
            "_view_module_version": "1.2.0",
            "_view_name": "StyleView",
            "bar_color": null,
            "description_width": ""
          }
        },
        "56f7a2b6f940438baf627be99f37a13f": {
          "model_module": "@jupyter-widgets/controls",
          "model_module_version": "1.5.0",
          "model_name": "FloatProgressModel",
          "state": {
            "_dom_classes": [],
            "_model_module": "@jupyter-widgets/controls",
            "_model_module_version": "1.5.0",
            "_model_name": "FloatProgressModel",
            "_view_count": null,
            "_view_module": "@jupyter-widgets/controls",
            "_view_module_version": "1.5.0",
            "_view_name": "ProgressView",
            "bar_style": "success",
            "description": "",
            "description_tooltip": null,
            "layout": "IPY_MODEL_df826bf703fb42da9bf5e759b9f83319",
            "max": 1802,
            "min": 0,
            "orientation": "horizontal",
            "style": "IPY_MODEL_914aad89745342bd91da09a8c98e7478",
            "value": 1802
          }
        },
        "597744c8bc194cdfadb1597b7597e7c8": {
          "model_module": "@jupyter-widgets/controls",
          "model_module_version": "1.5.0",
          "model_name": "DescriptionStyleModel",
          "state": {
            "_model_module": "@jupyter-widgets/controls",
            "_model_module_version": "1.5.0",
            "_model_name": "DescriptionStyleModel",
            "_view_count": null,
            "_view_module": "@jupyter-widgets/base",
            "_view_module_version": "1.2.0",
            "_view_name": "StyleView",
            "description_width": ""
          }
        },
        "5984382d33a14ca280ae8c980e6f3070": {
          "model_module": "@jupyter-widgets/base",
          "model_module_version": "1.2.0",
          "model_name": "LayoutModel",
          "state": {
            "_model_module": "@jupyter-widgets/base",
            "_model_module_version": "1.2.0",
            "_model_name": "LayoutModel",
            "_view_count": null,
            "_view_module": "@jupyter-widgets/base",
            "_view_module_version": "1.2.0",
            "_view_name": "LayoutView",
            "align_content": null,
            "align_items": null,
            "align_self": null,
            "border": null,
            "bottom": null,
            "display": null,
            "flex": null,
            "flex_flow": null,
            "grid_area": null,
            "grid_auto_columns": null,
            "grid_auto_flow": null,
            "grid_auto_rows": null,
            "grid_column": null,
            "grid_gap": null,
            "grid_row": null,
            "grid_template_areas": null,
            "grid_template_columns": null,
            "grid_template_rows": null,
            "height": null,
            "justify_content": null,
            "justify_items": null,
            "left": null,
            "margin": null,
            "max_height": null,
            "max_width": null,
            "min_height": null,
            "min_width": null,
            "object_fit": null,
            "object_position": null,
            "order": null,
            "overflow": null,
            "overflow_x": null,
            "overflow_y": null,
            "padding": null,
            "right": null,
            "top": null,
            "visibility": null,
            "width": null
          }
        },
        "5b73ce1df0ad491a8645b5e93bd9a241": {
          "model_module": "@jupyter-widgets/base",
          "model_module_version": "1.2.0",
          "model_name": "LayoutModel",
          "state": {
            "_model_module": "@jupyter-widgets/base",
            "_model_module_version": "1.2.0",
            "_model_name": "LayoutModel",
            "_view_count": null,
            "_view_module": "@jupyter-widgets/base",
            "_view_module_version": "1.2.0",
            "_view_name": "LayoutView",
            "align_content": null,
            "align_items": null,
            "align_self": null,
            "border": null,
            "bottom": null,
            "display": null,
            "flex": null,
            "flex_flow": null,
            "grid_area": null,
            "grid_auto_columns": null,
            "grid_auto_flow": null,
            "grid_auto_rows": null,
            "grid_column": null,
            "grid_gap": null,
            "grid_row": null,
            "grid_template_areas": null,
            "grid_template_columns": null,
            "grid_template_rows": null,
            "height": null,
            "justify_content": null,
            "justify_items": null,
            "left": null,
            "margin": null,
            "max_height": null,
            "max_width": null,
            "min_height": null,
            "min_width": null,
            "object_fit": null,
            "object_position": null,
            "order": null,
            "overflow": null,
            "overflow_x": null,
            "overflow_y": null,
            "padding": null,
            "right": null,
            "top": null,
            "visibility": null,
            "width": null
          }
        },
        "5c016d1cad5b46718b858f8f8a323bf2": {
          "model_module": "@jupyter-widgets/controls",
          "model_module_version": "1.5.0",
          "model_name": "DescriptionStyleModel",
          "state": {
            "_model_module": "@jupyter-widgets/controls",
            "_model_module_version": "1.5.0",
            "_model_name": "DescriptionStyleModel",
            "_view_count": null,
            "_view_module": "@jupyter-widgets/base",
            "_view_module_version": "1.2.0",
            "_view_name": "StyleView",
            "description_width": ""
          }
        },
        "5c92c3fa2e5145a799d46d86d273aeb8": {
          "model_module": "@jupyter-widgets/base",
          "model_module_version": "1.2.0",
          "model_name": "LayoutModel",
          "state": {
            "_model_module": "@jupyter-widgets/base",
            "_model_module_version": "1.2.0",
            "_model_name": "LayoutModel",
            "_view_count": null,
            "_view_module": "@jupyter-widgets/base",
            "_view_module_version": "1.2.0",
            "_view_name": "LayoutView",
            "align_content": null,
            "align_items": null,
            "align_self": null,
            "border": null,
            "bottom": null,
            "display": null,
            "flex": null,
            "flex_flow": null,
            "grid_area": null,
            "grid_auto_columns": null,
            "grid_auto_flow": null,
            "grid_auto_rows": null,
            "grid_column": null,
            "grid_gap": null,
            "grid_row": null,
            "grid_template_areas": null,
            "grid_template_columns": null,
            "grid_template_rows": null,
            "height": null,
            "justify_content": null,
            "justify_items": null,
            "left": null,
            "margin": null,
            "max_height": null,
            "max_width": null,
            "min_height": null,
            "min_width": null,
            "object_fit": null,
            "object_position": null,
            "order": null,
            "overflow": null,
            "overflow_x": null,
            "overflow_y": null,
            "padding": null,
            "right": null,
            "top": null,
            "visibility": null,
            "width": null
          }
        },
        "5e66450f2bbe4b5f88d6537eb84c7f6b": {
          "model_module": "@jupyter-widgets/base",
          "model_module_version": "1.2.0",
          "model_name": "LayoutModel",
          "state": {
            "_model_module": "@jupyter-widgets/base",
            "_model_module_version": "1.2.0",
            "_model_name": "LayoutModel",
            "_view_count": null,
            "_view_module": "@jupyter-widgets/base",
            "_view_module_version": "1.2.0",
            "_view_name": "LayoutView",
            "align_content": null,
            "align_items": null,
            "align_self": null,
            "border": null,
            "bottom": null,
            "display": null,
            "flex": null,
            "flex_flow": null,
            "grid_area": null,
            "grid_auto_columns": null,
            "grid_auto_flow": null,
            "grid_auto_rows": null,
            "grid_column": null,
            "grid_gap": null,
            "grid_row": null,
            "grid_template_areas": null,
            "grid_template_columns": null,
            "grid_template_rows": null,
            "height": null,
            "justify_content": null,
            "justify_items": null,
            "left": null,
            "margin": null,
            "max_height": null,
            "max_width": null,
            "min_height": null,
            "min_width": null,
            "object_fit": null,
            "object_position": null,
            "order": null,
            "overflow": null,
            "overflow_x": null,
            "overflow_y": null,
            "padding": null,
            "right": null,
            "top": null,
            "visibility": null,
            "width": null
          }
        },
        "5ead63c32c6148bb8e4a0db977df4169": {
          "model_module": "@jupyter-widgets/controls",
          "model_module_version": "1.5.0",
          "model_name": "FloatProgressModel",
          "state": {
            "_dom_classes": [],
            "_model_module": "@jupyter-widgets/controls",
            "_model_module_version": "1.5.0",
            "_model_name": "FloatProgressModel",
            "_view_count": null,
            "_view_module": "@jupyter-widgets/controls",
            "_view_module_version": "1.5.0",
            "_view_name": "ProgressView",
            "bar_style": "success",
            "description": "",
            "description_tooltip": null,
            "layout": "IPY_MODEL_7861d9496a0742bf84db3bf16e37c832",
            "max": 87,
            "min": 0,
            "orientation": "horizontal",
            "style": "IPY_MODEL_cea9193d86814278b8e5e0059b2f360a",
            "value": 87
          }
        },
        "5f0fa71cb2d448b5844a249f1f69ead9": {
          "model_module": "@jupyter-widgets/controls",
          "model_module_version": "1.5.0",
          "model_name": "HBoxModel",
          "state": {
            "_dom_classes": [],
            "_model_module": "@jupyter-widgets/controls",
            "_model_module_version": "1.5.0",
            "_model_name": "HBoxModel",
            "_view_count": null,
            "_view_module": "@jupyter-widgets/controls",
            "_view_module_version": "1.5.0",
            "_view_name": "HBoxView",
            "box_style": "",
            "children": [
              "IPY_MODEL_ee720550a1e241c0b95b82a1c594aa8b",
              "IPY_MODEL_a31d8e27c4f7494cafdc0af6197c213f",
              "IPY_MODEL_88bc422d4156413cb17bc6d8e10ad680"
            ],
            "layout": "IPY_MODEL_d6ca31bb2b7641fba88cef04bcfb25e6"
          }
        },
        "61b8b07cb8764877b4f9fdec460db068": {
          "model_module": "@jupyter-widgets/controls",
          "model_module_version": "1.5.0",
          "model_name": "DescriptionStyleModel",
          "state": {
            "_model_module": "@jupyter-widgets/controls",
            "_model_module_version": "1.5.0",
            "_model_name": "DescriptionStyleModel",
            "_view_count": null,
            "_view_module": "@jupyter-widgets/base",
            "_view_module_version": "1.2.0",
            "_view_name": "StyleView",
            "description_width": ""
          }
        },
        "625551b167c24047b44463a7140511d3": {
          "model_module": "@jupyter-widgets/controls",
          "model_module_version": "1.5.0",
          "model_name": "DescriptionStyleModel",
          "state": {
            "_model_module": "@jupyter-widgets/controls",
            "_model_module_version": "1.5.0",
            "_model_name": "DescriptionStyleModel",
            "_view_count": null,
            "_view_module": "@jupyter-widgets/base",
            "_view_module_version": "1.2.0",
            "_view_name": "StyleView",
            "description_width": ""
          }
        },
        "63f1a1abbc0040b08642972c8c94c2ad": {
          "model_module": "@jupyter-widgets/base",
          "model_module_version": "1.2.0",
          "model_name": "LayoutModel",
          "state": {
            "_model_module": "@jupyter-widgets/base",
            "_model_module_version": "1.2.0",
            "_model_name": "LayoutModel",
            "_view_count": null,
            "_view_module": "@jupyter-widgets/base",
            "_view_module_version": "1.2.0",
            "_view_name": "LayoutView",
            "align_content": null,
            "align_items": null,
            "align_self": null,
            "border": null,
            "bottom": null,
            "display": null,
            "flex": null,
            "flex_flow": null,
            "grid_area": null,
            "grid_auto_columns": null,
            "grid_auto_flow": null,
            "grid_auto_rows": null,
            "grid_column": null,
            "grid_gap": null,
            "grid_row": null,
            "grid_template_areas": null,
            "grid_template_columns": null,
            "grid_template_rows": null,
            "height": null,
            "justify_content": null,
            "justify_items": null,
            "left": null,
            "margin": null,
            "max_height": null,
            "max_width": null,
            "min_height": null,
            "min_width": null,
            "object_fit": null,
            "object_position": null,
            "order": null,
            "overflow": null,
            "overflow_x": null,
            "overflow_y": null,
            "padding": null,
            "right": null,
            "top": null,
            "visibility": null,
            "width": null
          }
        },
        "649278ce20c4412081d86a8c09c970c2": {
          "model_module": "@jupyter-widgets/controls",
          "model_module_version": "1.5.0",
          "model_name": "HBoxModel",
          "state": {
            "_dom_classes": [],
            "_model_module": "@jupyter-widgets/controls",
            "_model_module_version": "1.5.0",
            "_model_name": "HBoxModel",
            "_view_count": null,
            "_view_module": "@jupyter-widgets/controls",
            "_view_module_version": "1.5.0",
            "_view_name": "HBoxView",
            "box_style": "",
            "children": [
              "IPY_MODEL_a989d90d64cd442ea833e64e97f16b71",
              "IPY_MODEL_5ead63c32c6148bb8e4a0db977df4169",
              "IPY_MODEL_c55cb66788784b7293750ba549c9690a"
            ],
            "layout": "IPY_MODEL_4f3849e8e5f14f479c0e49c0c152da85"
          }
        },
        "6552e362f8ee4c00964830851f322585": {
          "model_module": "@jupyter-widgets/base",
          "model_module_version": "1.2.0",
          "model_name": "LayoutModel",
          "state": {
            "_model_module": "@jupyter-widgets/base",
            "_model_module_version": "1.2.0",
            "_model_name": "LayoutModel",
            "_view_count": null,
            "_view_module": "@jupyter-widgets/base",
            "_view_module_version": "1.2.0",
            "_view_name": "LayoutView",
            "align_content": null,
            "align_items": null,
            "align_self": null,
            "border": null,
            "bottom": null,
            "display": null,
            "flex": null,
            "flex_flow": null,
            "grid_area": null,
            "grid_auto_columns": null,
            "grid_auto_flow": null,
            "grid_auto_rows": null,
            "grid_column": null,
            "grid_gap": null,
            "grid_row": null,
            "grid_template_areas": null,
            "grid_template_columns": null,
            "grid_template_rows": null,
            "height": null,
            "justify_content": null,
            "justify_items": null,
            "left": null,
            "margin": null,
            "max_height": null,
            "max_width": null,
            "min_height": null,
            "min_width": null,
            "object_fit": null,
            "object_position": null,
            "order": null,
            "overflow": null,
            "overflow_x": null,
            "overflow_y": null,
            "padding": null,
            "right": null,
            "top": null,
            "visibility": null,
            "width": null
          }
        },
        "6d15200e0468455fa54e483d3c8241ce": {
          "model_module": "@jupyter-widgets/base",
          "model_module_version": "1.2.0",
          "model_name": "LayoutModel",
          "state": {
            "_model_module": "@jupyter-widgets/base",
            "_model_module_version": "1.2.0",
            "_model_name": "LayoutModel",
            "_view_count": null,
            "_view_module": "@jupyter-widgets/base",
            "_view_module_version": "1.2.0",
            "_view_name": "LayoutView",
            "align_content": null,
            "align_items": null,
            "align_self": null,
            "border": null,
            "bottom": null,
            "display": null,
            "flex": null,
            "flex_flow": null,
            "grid_area": null,
            "grid_auto_columns": null,
            "grid_auto_flow": null,
            "grid_auto_rows": null,
            "grid_column": null,
            "grid_gap": null,
            "grid_row": null,
            "grid_template_areas": null,
            "grid_template_columns": null,
            "grid_template_rows": null,
            "height": null,
            "justify_content": null,
            "justify_items": null,
            "left": null,
            "margin": null,
            "max_height": null,
            "max_width": null,
            "min_height": null,
            "min_width": null,
            "object_fit": null,
            "object_position": null,
            "order": null,
            "overflow": null,
            "overflow_x": null,
            "overflow_y": null,
            "padding": null,
            "right": null,
            "top": null,
            "visibility": null,
            "width": null
          }
        },
        "6efdeded557b44a692c3fed297a6eb9e": {
          "model_module": "@jupyter-widgets/controls",
          "model_module_version": "1.5.0",
          "model_name": "DescriptionStyleModel",
          "state": {
            "_model_module": "@jupyter-widgets/controls",
            "_model_module_version": "1.5.0",
            "_model_name": "DescriptionStyleModel",
            "_view_count": null,
            "_view_module": "@jupyter-widgets/base",
            "_view_module_version": "1.2.0",
            "_view_name": "StyleView",
            "description_width": ""
          }
        },
        "7508853792f84b3b8607ebe8a1c6852f": {
          "model_module": "@jupyter-widgets/controls",
          "model_module_version": "1.5.0",
          "model_name": "FloatProgressModel",
          "state": {
            "_dom_classes": [],
            "_model_module": "@jupyter-widgets/controls",
            "_model_module_version": "1.5.0",
            "_model_name": "FloatProgressModel",
            "_view_count": null,
            "_view_module": "@jupyter-widgets/controls",
            "_view_module_version": "1.5.0",
            "_view_name": "ProgressView",
            "bar_style": "success",
            "description": "",
            "description_tooltip": null,
            "layout": "IPY_MODEL_7d112daddf83492b8bb1449a110ecc2d",
            "max": 456318,
            "min": 0,
            "orientation": "horizontal",
            "style": "IPY_MODEL_c556cb72fd68475fac7ec225df6f135d",
            "value": 456318
          }
        },
        "761c23f864ed450b9217fc99845504cb": {
          "model_module": "@jupyter-widgets/controls",
          "model_module_version": "1.5.0",
          "model_name": "HBoxModel",
          "state": {
            "_dom_classes": [],
            "_model_module": "@jupyter-widgets/controls",
            "_model_module_version": "1.5.0",
            "_model_name": "HBoxModel",
            "_view_count": null,
            "_view_module": "@jupyter-widgets/controls",
            "_view_module_version": "1.5.0",
            "_view_name": "HBoxView",
            "box_style": "",
            "children": [
              "IPY_MODEL_fa53bb425b9d4dae92c58be3b8c04893",
              "IPY_MODEL_29a9b46f9d6548c6893aa0ec638a55ec",
              "IPY_MODEL_8c060a16f612459f8a5cce11125d46c5"
            ],
            "layout": "IPY_MODEL_ba9110abf4274eb29d7d7a84be5707a3"
          }
        },
        "76406f5f1ad940d68af9706e0db27489": {
          "model_module": "@jupyter-widgets/base",
          "model_module_version": "1.2.0",
          "model_name": "LayoutModel",
          "state": {
            "_model_module": "@jupyter-widgets/base",
            "_model_module_version": "1.2.0",
            "_model_name": "LayoutModel",
            "_view_count": null,
            "_view_module": "@jupyter-widgets/base",
            "_view_module_version": "1.2.0",
            "_view_name": "LayoutView",
            "align_content": null,
            "align_items": null,
            "align_self": null,
            "border": null,
            "bottom": null,
            "display": null,
            "flex": null,
            "flex_flow": null,
            "grid_area": null,
            "grid_auto_columns": null,
            "grid_auto_flow": null,
            "grid_auto_rows": null,
            "grid_column": null,
            "grid_gap": null,
            "grid_row": null,
            "grid_template_areas": null,
            "grid_template_columns": null,
            "grid_template_rows": null,
            "height": null,
            "justify_content": null,
            "justify_items": null,
            "left": null,
            "margin": null,
            "max_height": null,
            "max_width": null,
            "min_height": null,
            "min_width": null,
            "object_fit": null,
            "object_position": null,
            "order": null,
            "overflow": null,
            "overflow_x": null,
            "overflow_y": null,
            "padding": null,
            "right": null,
            "top": null,
            "visibility": null,
            "width": null
          }
        },
        "7779d84503754519b885d2f21b20a0b5": {
          "model_module": "@jupyter-widgets/controls",
          "model_module_version": "1.5.0",
          "model_name": "FloatProgressModel",
          "state": {
            "_dom_classes": [],
            "_model_module": "@jupyter-widgets/controls",
            "_model_module_version": "1.5.0",
            "_model_name": "FloatProgressModel",
            "_view_count": null,
            "_view_module": "@jupyter-widgets/controls",
            "_view_module_version": "1.5.0",
            "_view_name": "ProgressView",
            "bar_style": "success",
            "description": "",
            "description_tooltip": null,
            "layout": "IPY_MODEL_e409a946ac1a42e19d64cffec3bb1ec4",
            "max": 1802,
            "min": 0,
            "orientation": "horizontal",
            "style": "IPY_MODEL_9d35ed2e3a0a4c7bb07e1db106246c58",
            "value": 1802
          }
        },
        "77970af71ae946f48631a72ff51c0786": {
          "model_module": "@jupyter-widgets/base",
          "model_module_version": "1.2.0",
          "model_name": "LayoutModel",
          "state": {
            "_model_module": "@jupyter-widgets/base",
            "_model_module_version": "1.2.0",
            "_model_name": "LayoutModel",
            "_view_count": null,
            "_view_module": "@jupyter-widgets/base",
            "_view_module_version": "1.2.0",
            "_view_name": "LayoutView",
            "align_content": null,
            "align_items": null,
            "align_self": null,
            "border": null,
            "bottom": null,
            "display": null,
            "flex": null,
            "flex_flow": null,
            "grid_area": null,
            "grid_auto_columns": null,
            "grid_auto_flow": null,
            "grid_auto_rows": null,
            "grid_column": null,
            "grid_gap": null,
            "grid_row": null,
            "grid_template_areas": null,
            "grid_template_columns": null,
            "grid_template_rows": null,
            "height": null,
            "justify_content": null,
            "justify_items": null,
            "left": null,
            "margin": null,
            "max_height": null,
            "max_width": null,
            "min_height": null,
            "min_width": null,
            "object_fit": null,
            "object_position": null,
            "order": null,
            "overflow": null,
            "overflow_x": null,
            "overflow_y": null,
            "padding": null,
            "right": null,
            "top": null,
            "visibility": null,
            "width": null
          }
        },
        "77a565f42c3b446394a0b3cbce7e6ce7": {
          "model_module": "@jupyter-widgets/controls",
          "model_module_version": "1.5.0",
          "model_name": "ProgressStyleModel",
          "state": {
            "_model_module": "@jupyter-widgets/controls",
            "_model_module_version": "1.5.0",
            "_model_name": "ProgressStyleModel",
            "_view_count": null,
            "_view_module": "@jupyter-widgets/base",
            "_view_module_version": "1.2.0",
            "_view_name": "StyleView",
            "bar_color": null,
            "description_width": ""
          }
        },
        "7861d9496a0742bf84db3bf16e37c832": {
          "model_module": "@jupyter-widgets/base",
          "model_module_version": "1.2.0",
          "model_name": "LayoutModel",
          "state": {
            "_model_module": "@jupyter-widgets/base",
            "_model_module_version": "1.2.0",
            "_model_name": "LayoutModel",
            "_view_count": null,
            "_view_module": "@jupyter-widgets/base",
            "_view_module_version": "1.2.0",
            "_view_name": "LayoutView",
            "align_content": null,
            "align_items": null,
            "align_self": null,
            "border": null,
            "bottom": null,
            "display": null,
            "flex": null,
            "flex_flow": null,
            "grid_area": null,
            "grid_auto_columns": null,
            "grid_auto_flow": null,
            "grid_auto_rows": null,
            "grid_column": null,
            "grid_gap": null,
            "grid_row": null,
            "grid_template_areas": null,
            "grid_template_columns": null,
            "grid_template_rows": null,
            "height": null,
            "justify_content": null,
            "justify_items": null,
            "left": null,
            "margin": null,
            "max_height": null,
            "max_width": null,
            "min_height": null,
            "min_width": null,
            "object_fit": null,
            "object_position": null,
            "order": null,
            "overflow": null,
            "overflow_x": null,
            "overflow_y": null,
            "padding": null,
            "right": null,
            "top": null,
            "visibility": null,
            "width": null
          }
        },
        "78b1fa1e6ff14210ae0ef4399fd64b22": {
          "model_module": "@jupyter-widgets/controls",
          "model_module_version": "1.5.0",
          "model_name": "FloatProgressModel",
          "state": {
            "_dom_classes": [],
            "_model_module": "@jupyter-widgets/controls",
            "_model_module_version": "1.5.0",
            "_model_name": "FloatProgressModel",
            "_view_count": null,
            "_view_module": "@jupyter-widgets/controls",
            "_view_module_version": "1.5.0",
            "_view_name": "ProgressView",
            "bar_style": "success",
            "description": "",
            "description_tooltip": null,
            "layout": "IPY_MODEL_b1a73a411bcf4afb91cd2c7eda9df251",
            "max": 1222317369,
            "min": 0,
            "orientation": "horizontal",
            "style": "IPY_MODEL_547d82a4e73b47a7bc2c7d1d53b4b65d",
            "value": 1222317369
          }
        },
        "78e67eebbf5b4d32bc20535b3cd3a8d7": {
          "model_module": "@jupyter-widgets/controls",
          "model_module_version": "1.5.0",
          "model_name": "HTMLModel",
          "state": {
            "_dom_classes": [],
            "_model_module": "@jupyter-widgets/controls",
            "_model_module_version": "1.5.0",
            "_model_name": "HTMLModel",
            "_view_count": null,
            "_view_module": "@jupyter-widgets/controls",
            "_view_module_version": "1.5.0",
            "_view_name": "HTMLView",
            "description": "",
            "description_tooltip": null,
            "layout": "IPY_MODEL_a8090c4b535745c79a870eb307521171",
            "placeholder": "​",
            "style": "IPY_MODEL_61b8b07cb8764877b4f9fdec460db068",
            "value": " 1.14G/1.14G [00:35&lt;00:00, 34.6MB/s]"
          }
        },
        "79e5325ed4a446b8a1a8896675642162": {
          "model_module": "@jupyter-widgets/controls",
          "model_module_version": "1.5.0",
          "model_name": "DescriptionStyleModel",
          "state": {
            "_model_module": "@jupyter-widgets/controls",
            "_model_module_version": "1.5.0",
            "_model_name": "DescriptionStyleModel",
            "_view_count": null,
            "_view_module": "@jupyter-widgets/base",
            "_view_module_version": "1.2.0",
            "_view_name": "StyleView",
            "description_width": ""
          }
        },
        "7abeb969c7e641398943a564d9e3189d": {
          "model_module": "@jupyter-widgets/controls",
          "model_module_version": "1.5.0",
          "model_name": "HTMLModel",
          "state": {
            "_dom_classes": [],
            "_model_module": "@jupyter-widgets/controls",
            "_model_module_version": "1.5.0",
            "_model_name": "HTMLModel",
            "_view_count": null,
            "_view_module": "@jupyter-widgets/controls",
            "_view_module_version": "1.5.0",
            "_view_name": "HTMLView",
            "description": "",
            "description_tooltip": null,
            "layout": "IPY_MODEL_6552e362f8ee4c00964830851f322585",
            "placeholder": "​",
            "style": "IPY_MODEL_454c5b294cd6450bbf59573f9fd5f9da",
            "value": "Downloading: 100%"
          }
        },
        "7c9e264be25b46dfbfd28db83a8ea899": {
          "model_module": "@jupyter-widgets/controls",
          "model_module_version": "1.5.0",
          "model_name": "HTMLModel",
          "state": {
            "_dom_classes": [],
            "_model_module": "@jupyter-widgets/controls",
            "_model_module_version": "1.5.0",
            "_model_name": "HTMLModel",
            "_view_count": null,
            "_view_module": "@jupyter-widgets/controls",
            "_view_module_version": "1.5.0",
            "_view_name": "HTMLView",
            "description": "",
            "description_tooltip": null,
            "layout": "IPY_MODEL_dd66bbe6804f4442a3b5447afec69111",
            "placeholder": "​",
            "style": "IPY_MODEL_accd87c6baa642e1b52175785561d2df",
            "value": "Downloading: 100%"
          }
        },
        "7d112daddf83492b8bb1449a110ecc2d": {
          "model_module": "@jupyter-widgets/base",
          "model_module_version": "1.2.0",
          "model_name": "LayoutModel",
          "state": {
            "_model_module": "@jupyter-widgets/base",
            "_model_module_version": "1.2.0",
            "_model_name": "LayoutModel",
            "_view_count": null,
            "_view_module": "@jupyter-widgets/base",
            "_view_module_version": "1.2.0",
            "_view_name": "LayoutView",
            "align_content": null,
            "align_items": null,
            "align_self": null,
            "border": null,
            "bottom": null,
            "display": null,
            "flex": null,
            "flex_flow": null,
            "grid_area": null,
            "grid_auto_columns": null,
            "grid_auto_flow": null,
            "grid_auto_rows": null,
            "grid_column": null,
            "grid_gap": null,
            "grid_row": null,
            "grid_template_areas": null,
            "grid_template_columns": null,
            "grid_template_rows": null,
            "height": null,
            "justify_content": null,
            "justify_items": null,
            "left": null,
            "margin": null,
            "max_height": null,
            "max_width": null,
            "min_height": null,
            "min_width": null,
            "object_fit": null,
            "object_position": null,
            "order": null,
            "overflow": null,
            "overflow_x": null,
            "overflow_y": null,
            "padding": null,
            "right": null,
            "top": null,
            "visibility": null,
            "width": null
          }
        },
        "8108c5c947924803b5119ac8baa31fbd": {
          "model_module": "@jupyter-widgets/base",
          "model_module_version": "1.2.0",
          "model_name": "LayoutModel",
          "state": {
            "_model_module": "@jupyter-widgets/base",
            "_model_module_version": "1.2.0",
            "_model_name": "LayoutModel",
            "_view_count": null,
            "_view_module": "@jupyter-widgets/base",
            "_view_module_version": "1.2.0",
            "_view_name": "LayoutView",
            "align_content": null,
            "align_items": null,
            "align_self": null,
            "border": null,
            "bottom": null,
            "display": null,
            "flex": null,
            "flex_flow": null,
            "grid_area": null,
            "grid_auto_columns": null,
            "grid_auto_flow": null,
            "grid_auto_rows": null,
            "grid_column": null,
            "grid_gap": null,
            "grid_row": null,
            "grid_template_areas": null,
            "grid_template_columns": null,
            "grid_template_rows": null,
            "height": null,
            "justify_content": null,
            "justify_items": null,
            "left": null,
            "margin": null,
            "max_height": null,
            "max_width": null,
            "min_height": null,
            "min_width": null,
            "object_fit": null,
            "object_position": null,
            "order": null,
            "overflow": null,
            "overflow_x": null,
            "overflow_y": null,
            "padding": null,
            "right": null,
            "top": null,
            "visibility": null,
            "width": null
          }
        },
        "884b445ee25344879382cfe2911fc0ed": {
          "model_module": "@jupyter-widgets/controls",
          "model_module_version": "1.5.0",
          "model_name": "HBoxModel",
          "state": {
            "_dom_classes": [],
            "_model_module": "@jupyter-widgets/controls",
            "_model_module_version": "1.5.0",
            "_model_name": "HBoxModel",
            "_view_count": null,
            "_view_module": "@jupyter-widgets/controls",
            "_view_module_version": "1.5.0",
            "_view_name": "HBoxView",
            "box_style": "",
            "children": [
              "IPY_MODEL_9321f18deaa74de6b4377a9c26a7e9ff",
              "IPY_MODEL_32143fe90dcb42fe8da93564ff2f87bd",
              "IPY_MODEL_f26f0d6a5ae34b1381efd5073450e8ff"
            ],
            "layout": "IPY_MODEL_8108c5c947924803b5119ac8baa31fbd"
          }
        },
        "88bc422d4156413cb17bc6d8e10ad680": {
          "model_module": "@jupyter-widgets/controls",
          "model_module_version": "1.5.0",
          "model_name": "HTMLModel",
          "state": {
            "_dom_classes": [],
            "_model_module": "@jupyter-widgets/controls",
            "_model_module_version": "1.5.0",
            "_model_name": "HTMLModel",
            "_view_count": null,
            "_view_module": "@jupyter-widgets/controls",
            "_view_module_version": "1.5.0",
            "_view_name": "HTMLView",
            "description": "",
            "description_tooltip": null,
            "layout": "IPY_MODEL_d5fbf55d3e23479d927128f42fca0e6a",
            "placeholder": "​",
            "style": "IPY_MODEL_891bb1d8c37340e1b0067349bccc84e8",
            "value": " 878k/878k [00:00&lt;00:00, 2.71MB/s]"
          }
        },
        "891bb1d8c37340e1b0067349bccc84e8": {
          "model_module": "@jupyter-widgets/controls",
          "model_module_version": "1.5.0",
          "model_name": "DescriptionStyleModel",
          "state": {
            "_model_module": "@jupyter-widgets/controls",
            "_model_module_version": "1.5.0",
            "_model_name": "DescriptionStyleModel",
            "_view_count": null,
            "_view_module": "@jupyter-widgets/base",
            "_view_module_version": "1.2.0",
            "_view_name": "StyleView",
            "description_width": ""
          }
        },
        "8a19ce535a8347a589cc13f6e84bf8f7": {
          "model_module": "@jupyter-widgets/controls",
          "model_module_version": "1.5.0",
          "model_name": "ProgressStyleModel",
          "state": {
            "_model_module": "@jupyter-widgets/controls",
            "_model_module_version": "1.5.0",
            "_model_name": "ProgressStyleModel",
            "_view_count": null,
            "_view_module": "@jupyter-widgets/base",
            "_view_module_version": "1.2.0",
            "_view_name": "StyleView",
            "bar_color": null,
            "description_width": ""
          }
        },
        "8c060a16f612459f8a5cce11125d46c5": {
          "model_module": "@jupyter-widgets/controls",
          "model_module_version": "1.5.0",
          "model_name": "HTMLModel",
          "state": {
            "_dom_classes": [],
            "_model_module": "@jupyter-widgets/controls",
            "_model_module_version": "1.5.0",
            "_model_name": "HTMLModel",
            "_view_count": null,
            "_view_module": "@jupyter-widgets/controls",
            "_view_module_version": "1.5.0",
            "_view_name": "HTMLView",
            "description": "",
            "description_tooltip": null,
            "layout": "IPY_MODEL_39a02eda2c6d4d5b90e9e41d963227b0",
            "placeholder": "​",
            "style": "IPY_MODEL_5c016d1cad5b46718b858f8f8a323bf2",
            "value": " 446k/446k [00:00&lt;00:00, 906kB/s]"
          }
        },
        "8f0b5960343b4a65b1abe26c3d9ea60f": {
          "model_module": "@jupyter-widgets/base",
          "model_module_version": "1.2.0",
          "model_name": "LayoutModel",
          "state": {
            "_model_module": "@jupyter-widgets/base",
            "_model_module_version": "1.2.0",
            "_model_name": "LayoutModel",
            "_view_count": null,
            "_view_module": "@jupyter-widgets/base",
            "_view_module_version": "1.2.0",
            "_view_name": "LayoutView",
            "align_content": null,
            "align_items": null,
            "align_self": null,
            "border": null,
            "bottom": null,
            "display": null,
            "flex": null,
            "flex_flow": null,
            "grid_area": null,
            "grid_auto_columns": null,
            "grid_auto_flow": null,
            "grid_auto_rows": null,
            "grid_column": null,
            "grid_gap": null,
            "grid_row": null,
            "grid_template_areas": null,
            "grid_template_columns": null,
            "grid_template_rows": null,
            "height": null,
            "justify_content": null,
            "justify_items": null,
            "left": null,
            "margin": null,
            "max_height": null,
            "max_width": null,
            "min_height": null,
            "min_width": null,
            "object_fit": null,
            "object_position": null,
            "order": null,
            "overflow": null,
            "overflow_x": null,
            "overflow_y": null,
            "padding": null,
            "right": null,
            "top": null,
            "visibility": null,
            "width": null
          }
        },
        "914aad89745342bd91da09a8c98e7478": {
          "model_module": "@jupyter-widgets/controls",
          "model_module_version": "1.5.0",
          "model_name": "ProgressStyleModel",
          "state": {
            "_model_module": "@jupyter-widgets/controls",
            "_model_module_version": "1.5.0",
            "_model_name": "ProgressStyleModel",
            "_view_count": null,
            "_view_module": "@jupyter-widgets/base",
            "_view_module_version": "1.2.0",
            "_view_name": "StyleView",
            "bar_color": null,
            "description_width": ""
          }
        },
        "9321f18deaa74de6b4377a9c26a7e9ff": {
          "model_module": "@jupyter-widgets/controls",
          "model_module_version": "1.5.0",
          "model_name": "HTMLModel",
          "state": {
            "_dom_classes": [],
            "_model_module": "@jupyter-widgets/controls",
            "_model_module_version": "1.5.0",
            "_model_name": "HTMLModel",
            "_view_count": null,
            "_view_module": "@jupyter-widgets/controls",
            "_view_module_version": "1.5.0",
            "_view_name": "HTMLView",
            "description": "",
            "description_tooltip": null,
            "layout": "IPY_MODEL_0428e28c8fe640fa861bf98bef98eb32",
            "placeholder": "​",
            "style": "IPY_MODEL_f0503b666e9e478c9e5598e2338c7d26",
            "value": "Downloading: 100%"
          }
        },
        "95dd4169b2cf49edbdfd3723ba18e04a": {
          "model_module": "@jupyter-widgets/base",
          "model_module_version": "1.2.0",
          "model_name": "LayoutModel",
          "state": {
            "_model_module": "@jupyter-widgets/base",
            "_model_module_version": "1.2.0",
            "_model_name": "LayoutModel",
            "_view_count": null,
            "_view_module": "@jupyter-widgets/base",
            "_view_module_version": "1.2.0",
            "_view_name": "LayoutView",
            "align_content": null,
            "align_items": null,
            "align_self": null,
            "border": null,
            "bottom": null,
            "display": null,
            "flex": null,
            "flex_flow": null,
            "grid_area": null,
            "grid_auto_columns": null,
            "grid_auto_flow": null,
            "grid_auto_rows": null,
            "grid_column": null,
            "grid_gap": null,
            "grid_row": null,
            "grid_template_areas": null,
            "grid_template_columns": null,
            "grid_template_rows": null,
            "height": null,
            "justify_content": null,
            "justify_items": null,
            "left": null,
            "margin": null,
            "max_height": null,
            "max_width": null,
            "min_height": null,
            "min_width": null,
            "object_fit": null,
            "object_position": null,
            "order": null,
            "overflow": null,
            "overflow_x": null,
            "overflow_y": null,
            "padding": null,
            "right": null,
            "top": null,
            "visibility": null,
            "width": null
          }
        },
        "970d2481981940c18ff98b5c62526042": {
          "model_module": "@jupyter-widgets/controls",
          "model_module_version": "1.5.0",
          "model_name": "HTMLModel",
          "state": {
            "_dom_classes": [],
            "_model_module": "@jupyter-widgets/controls",
            "_model_module_version": "1.5.0",
            "_model_name": "HTMLModel",
            "_view_count": null,
            "_view_module": "@jupyter-widgets/controls",
            "_view_module_version": "1.5.0",
            "_view_name": "HTMLView",
            "description": "",
            "description_tooltip": null,
            "layout": "IPY_MODEL_016ed9509c8a4f7285bb0f095592a0f2",
            "placeholder": "​",
            "style": "IPY_MODEL_3c5e570c6d4e4e46bee489d753e89ede",
            "value": " 446k/446k [00:00&lt;00:00, 1.20MB/s]"
          }
        },
        "97e87eac85db4bc1b38ffb4c5cb8c710": {
          "model_module": "@jupyter-widgets/controls",
          "model_module_version": "1.5.0",
          "model_name": "HBoxModel",
          "state": {
            "_dom_classes": [],
            "_model_module": "@jupyter-widgets/controls",
            "_model_module_version": "1.5.0",
            "_model_name": "HBoxModel",
            "_view_count": null,
            "_view_module": "@jupyter-widgets/controls",
            "_view_module_version": "1.5.0",
            "_view_name": "HBoxView",
            "box_style": "",
            "children": [
              "IPY_MODEL_39813ec2c3934fe883bdb94f17755522",
              "IPY_MODEL_aaf0ff58c84b4c3087fa1944b158aaa9",
              "IPY_MODEL_cdda96665916475899ed3fdf194c008f"
            ],
            "layout": "IPY_MODEL_5c92c3fa2e5145a799d46d86d273aeb8"
          }
        },
        "9ad41227996e4373aa58fbbe8b53ff2b": {
          "model_module": "@jupyter-widgets/controls",
          "model_module_version": "1.5.0",
          "model_name": "FloatProgressModel",
          "state": {
            "_dom_classes": [],
            "_model_module": "@jupyter-widgets/controls",
            "_model_module_version": "1.5.0",
            "_model_name": "FloatProgressModel",
            "_view_count": null,
            "_view_module": "@jupyter-widgets/controls",
            "_view_module_version": "1.5.0",
            "_view_name": "ProgressView",
            "bar_style": "success",
            "description": "",
            "description_tooltip": null,
            "layout": "IPY_MODEL_1a4fcc714f7a48c8bd99276c60f4873e",
            "max": 898822,
            "min": 0,
            "orientation": "horizontal",
            "style": "IPY_MODEL_e8166b71a355427ca71cbe1313d1a969",
            "value": 898822
          }
        },
        "9d03577bc15c48df89187c2c02c02b58": {
          "model_module": "@jupyter-widgets/base",
          "model_module_version": "1.2.0",
          "model_name": "LayoutModel",
          "state": {
            "_model_module": "@jupyter-widgets/base",
            "_model_module_version": "1.2.0",
            "_model_name": "LayoutModel",
            "_view_count": null,
            "_view_module": "@jupyter-widgets/base",
            "_view_module_version": "1.2.0",
            "_view_name": "LayoutView",
            "align_content": null,
            "align_items": null,
            "align_self": null,
            "border": null,
            "bottom": null,
            "display": null,
            "flex": null,
            "flex_flow": null,
            "grid_area": null,
            "grid_auto_columns": null,
            "grid_auto_flow": null,
            "grid_auto_rows": null,
            "grid_column": null,
            "grid_gap": null,
            "grid_row": null,
            "grid_template_areas": null,
            "grid_template_columns": null,
            "grid_template_rows": null,
            "height": null,
            "justify_content": null,
            "justify_items": null,
            "left": null,
            "margin": null,
            "max_height": null,
            "max_width": null,
            "min_height": null,
            "min_width": null,
            "object_fit": null,
            "object_position": null,
            "order": null,
            "overflow": null,
            "overflow_x": null,
            "overflow_y": null,
            "padding": null,
            "right": null,
            "top": null,
            "visibility": null,
            "width": null
          }
        },
        "9d2c71f89f3543d7aed3c0d303d61527": {
          "model_module": "@jupyter-widgets/controls",
          "model_module_version": "1.5.0",
          "model_name": "HTMLModel",
          "state": {
            "_dom_classes": [],
            "_model_module": "@jupyter-widgets/controls",
            "_model_module_version": "1.5.0",
            "_model_name": "HTMLModel",
            "_view_count": null,
            "_view_module": "@jupyter-widgets/controls",
            "_view_module_version": "1.5.0",
            "_view_name": "HTMLView",
            "description": "",
            "description_tooltip": null,
            "layout": "IPY_MODEL_407af009277e4900ab2714693c7048c3",
            "placeholder": "​",
            "style": "IPY_MODEL_cd26c7c6e1cd4c11b210d1a00745cc51",
            "value": "Downloading: 100%"
          }
        },
        "9d35ed2e3a0a4c7bb07e1db106246c58": {
          "model_module": "@jupyter-widgets/controls",
          "model_module_version": "1.5.0",
          "model_name": "ProgressStyleModel",
          "state": {
            "_model_module": "@jupyter-widgets/controls",
            "_model_module_version": "1.5.0",
            "_model_name": "ProgressStyleModel",
            "_view_count": null,
            "_view_module": "@jupyter-widgets/base",
            "_view_module_version": "1.2.0",
            "_view_name": "StyleView",
            "bar_color": null,
            "description_width": ""
          }
        },
        "a22b96aa836143f0aa1ffeae12f8bea6": {
          "model_module": "@jupyter-widgets/controls",
          "model_module_version": "1.5.0",
          "model_name": "DescriptionStyleModel",
          "state": {
            "_model_module": "@jupyter-widgets/controls",
            "_model_module_version": "1.5.0",
            "_model_name": "DescriptionStyleModel",
            "_view_count": null,
            "_view_module": "@jupyter-widgets/base",
            "_view_module_version": "1.2.0",
            "_view_name": "StyleView",
            "description_width": ""
          }
        },
        "a31d8e27c4f7494cafdc0af6197c213f": {
          "model_module": "@jupyter-widgets/controls",
          "model_module_version": "1.5.0",
          "model_name": "FloatProgressModel",
          "state": {
            "_dom_classes": [],
            "_model_module": "@jupyter-widgets/controls",
            "_model_module_version": "1.5.0",
            "_model_name": "FloatProgressModel",
            "_view_count": null,
            "_view_module": "@jupyter-widgets/controls",
            "_view_module_version": "1.5.0",
            "_view_name": "ProgressView",
            "bar_style": "success",
            "description": "",
            "description_tooltip": null,
            "layout": "IPY_MODEL_ce0993dafeb4483a9546996dc106f8ce",
            "max": 898822,
            "min": 0,
            "orientation": "horizontal",
            "style": "IPY_MODEL_f1922ba63afb40b9a84d4ff77ff9e1f1",
            "value": 898822
          }
        },
        "a4af42a2065c4e8c8faba4eced9257e8": {
          "model_module": "@jupyter-widgets/base",
          "model_module_version": "1.2.0",
          "model_name": "LayoutModel",
          "state": {
            "_model_module": "@jupyter-widgets/base",
            "_model_module_version": "1.2.0",
            "_model_name": "LayoutModel",
            "_view_count": null,
            "_view_module": "@jupyter-widgets/base",
            "_view_module_version": "1.2.0",
            "_view_name": "LayoutView",
            "align_content": null,
            "align_items": null,
            "align_self": null,
            "border": null,
            "bottom": null,
            "display": null,
            "flex": null,
            "flex_flow": null,
            "grid_area": null,
            "grid_auto_columns": null,
            "grid_auto_flow": null,
            "grid_auto_rows": null,
            "grid_column": null,
            "grid_gap": null,
            "grid_row": null,
            "grid_template_areas": null,
            "grid_template_columns": null,
            "grid_template_rows": null,
            "height": null,
            "justify_content": null,
            "justify_items": null,
            "left": null,
            "margin": null,
            "max_height": null,
            "max_width": null,
            "min_height": null,
            "min_width": null,
            "object_fit": null,
            "object_position": null,
            "order": null,
            "overflow": null,
            "overflow_x": null,
            "overflow_y": null,
            "padding": null,
            "right": null,
            "top": null,
            "visibility": null,
            "width": null
          }
        },
        "a6c38e872b7949e9869522a52f8639fe": {
          "model_module": "@jupyter-widgets/base",
          "model_module_version": "1.2.0",
          "model_name": "LayoutModel",
          "state": {
            "_model_module": "@jupyter-widgets/base",
            "_model_module_version": "1.2.0",
            "_model_name": "LayoutModel",
            "_view_count": null,
            "_view_module": "@jupyter-widgets/base",
            "_view_module_version": "1.2.0",
            "_view_name": "LayoutView",
            "align_content": null,
            "align_items": null,
            "align_self": null,
            "border": null,
            "bottom": null,
            "display": null,
            "flex": null,
            "flex_flow": null,
            "grid_area": null,
            "grid_auto_columns": null,
            "grid_auto_flow": null,
            "grid_auto_rows": null,
            "grid_column": null,
            "grid_gap": null,
            "grid_row": null,
            "grid_template_areas": null,
            "grid_template_columns": null,
            "grid_template_rows": null,
            "height": null,
            "justify_content": null,
            "justify_items": null,
            "left": null,
            "margin": null,
            "max_height": null,
            "max_width": null,
            "min_height": null,
            "min_width": null,
            "object_fit": null,
            "object_position": null,
            "order": null,
            "overflow": null,
            "overflow_x": null,
            "overflow_y": null,
            "padding": null,
            "right": null,
            "top": null,
            "visibility": null,
            "width": null
          }
        },
        "a8090c4b535745c79a870eb307521171": {
          "model_module": "@jupyter-widgets/base",
          "model_module_version": "1.2.0",
          "model_name": "LayoutModel",
          "state": {
            "_model_module": "@jupyter-widgets/base",
            "_model_module_version": "1.2.0",
            "_model_name": "LayoutModel",
            "_view_count": null,
            "_view_module": "@jupyter-widgets/base",
            "_view_module_version": "1.2.0",
            "_view_name": "LayoutView",
            "align_content": null,
            "align_items": null,
            "align_self": null,
            "border": null,
            "bottom": null,
            "display": null,
            "flex": null,
            "flex_flow": null,
            "grid_area": null,
            "grid_auto_columns": null,
            "grid_auto_flow": null,
            "grid_auto_rows": null,
            "grid_column": null,
            "grid_gap": null,
            "grid_row": null,
            "grid_template_areas": null,
            "grid_template_columns": null,
            "grid_template_rows": null,
            "height": null,
            "justify_content": null,
            "justify_items": null,
            "left": null,
            "margin": null,
            "max_height": null,
            "max_width": null,
            "min_height": null,
            "min_width": null,
            "object_fit": null,
            "object_position": null,
            "order": null,
            "overflow": null,
            "overflow_x": null,
            "overflow_y": null,
            "padding": null,
            "right": null,
            "top": null,
            "visibility": null,
            "width": null
          }
        },
        "a91b9adb3eff4a7c91f59f87f0800a7d": {
          "model_module": "@jupyter-widgets/controls",
          "model_module_version": "1.5.0",
          "model_name": "ProgressStyleModel",
          "state": {
            "_model_module": "@jupyter-widgets/controls",
            "_model_module_version": "1.5.0",
            "_model_name": "ProgressStyleModel",
            "_view_count": null,
            "_view_module": "@jupyter-widgets/base",
            "_view_module_version": "1.2.0",
            "_view_name": "StyleView",
            "bar_color": null,
            "description_width": ""
          }
        },
        "a989d90d64cd442ea833e64e97f16b71": {
          "model_module": "@jupyter-widgets/controls",
          "model_module_version": "1.5.0",
          "model_name": "HTMLModel",
          "state": {
            "_dom_classes": [],
            "_model_module": "@jupyter-widgets/controls",
            "_model_module_version": "1.5.0",
            "_model_name": "HTMLModel",
            "_view_count": null,
            "_view_module": "@jupyter-widgets/controls",
            "_view_module_version": "1.5.0",
            "_view_name": "HTMLView",
            "description": "",
            "description_tooltip": null,
            "layout": "IPY_MODEL_4649da52127e48e68bada308cbfa4474",
            "placeholder": "​",
            "style": "IPY_MODEL_23d8be0183a8407d911b8971ed13d72d",
            "value": "Downloading: 100%"
          }
        },
        "a9d8bfd7b7954235920c76125dc0b779": {
          "model_module": "@jupyter-widgets/controls",
          "model_module_version": "1.5.0",
          "model_name": "HTMLModel",
          "state": {
            "_dom_classes": [],
            "_model_module": "@jupyter-widgets/controls",
            "_model_module_version": "1.5.0",
            "_model_name": "HTMLModel",
            "_view_count": null,
            "_view_module": "@jupyter-widgets/controls",
            "_view_module_version": "1.5.0",
            "_view_name": "HTMLView",
            "description": "",
            "description_tooltip": null,
            "layout": "IPY_MODEL_6d15200e0468455fa54e483d3c8241ce",
            "placeholder": "​",
            "style": "IPY_MODEL_48d9ff6943404469bc3031f4cfdb9054",
            "value": " 1.14G/1.14G [01:16&lt;00:00, 25.0MB/s]"
          }
        },
        "aaf0ff58c84b4c3087fa1944b158aaa9": {
          "model_module": "@jupyter-widgets/controls",
          "model_module_version": "1.5.0",
          "model_name": "FloatProgressModel",
          "state": {
            "_dom_classes": [],
            "_model_module": "@jupyter-widgets/controls",
            "_model_module_version": "1.5.0",
            "_model_name": "FloatProgressModel",
            "_view_count": null,
            "_view_module": "@jupyter-widgets/controls",
            "_view_module_version": "1.5.0",
            "_view_name": "ProgressView",
            "bar_style": "success",
            "description": "",
            "description_tooltip": null,
            "layout": "IPY_MODEL_d18da63e026e4aae83656bb864d5a737",
            "max": 3520083,
            "min": 0,
            "orientation": "horizontal",
            "style": "IPY_MODEL_35c161fbe1d64239b7fbd46bfebbf965",
            "value": 3520083
          }
        },
        "accd87c6baa642e1b52175785561d2df": {
          "model_module": "@jupyter-widgets/controls",
          "model_module_version": "1.5.0",
          "model_name": "DescriptionStyleModel",
          "state": {
            "_model_module": "@jupyter-widgets/controls",
            "_model_module_version": "1.5.0",
            "_model_name": "DescriptionStyleModel",
            "_view_count": null,
            "_view_module": "@jupyter-widgets/base",
            "_view_module_version": "1.2.0",
            "_view_name": "StyleView",
            "description_width": ""
          }
        },
        "afc5eefaa74e4a7fb5b1a9c1d4a4543d": {
          "model_module": "@jupyter-widgets/controls",
          "model_module_version": "1.5.0",
          "model_name": "ProgressStyleModel",
          "state": {
            "_model_module": "@jupyter-widgets/controls",
            "_model_module_version": "1.5.0",
            "_model_name": "ProgressStyleModel",
            "_view_count": null,
            "_view_module": "@jupyter-widgets/base",
            "_view_module_version": "1.2.0",
            "_view_name": "StyleView",
            "bar_color": null,
            "description_width": ""
          }
        },
        "b17b19e7de564c33b7cb7e6b978c4f9b": {
          "model_module": "@jupyter-widgets/controls",
          "model_module_version": "1.5.0",
          "model_name": "HBoxModel",
          "state": {
            "_dom_classes": [],
            "_model_module": "@jupyter-widgets/controls",
            "_model_module_version": "1.5.0",
            "_model_name": "HBoxModel",
            "_view_count": null,
            "_view_module": "@jupyter-widgets/controls",
            "_view_module_version": "1.5.0",
            "_view_name": "HBoxView",
            "box_style": "",
            "children": [
              "IPY_MODEL_ee6be4a65f3f439ea97761db47f84193",
              "IPY_MODEL_0b358b9f02c6411195e9c0c5c21a012a",
              "IPY_MODEL_352d28ae80084e3fac5846bb86a692ec"
            ],
            "layout": "IPY_MODEL_a4af42a2065c4e8c8faba4eced9257e8"
          }
        },
        "b1a73a411bcf4afb91cd2c7eda9df251": {
          "model_module": "@jupyter-widgets/base",
          "model_module_version": "1.2.0",
          "model_name": "LayoutModel",
          "state": {
            "_model_module": "@jupyter-widgets/base",
            "_model_module_version": "1.2.0",
            "_model_name": "LayoutModel",
            "_view_count": null,
            "_view_module": "@jupyter-widgets/base",
            "_view_module_version": "1.2.0",
            "_view_name": "LayoutView",
            "align_content": null,
            "align_items": null,
            "align_self": null,
            "border": null,
            "bottom": null,
            "display": null,
            "flex": null,
            "flex_flow": null,
            "grid_area": null,
            "grid_auto_columns": null,
            "grid_auto_flow": null,
            "grid_auto_rows": null,
            "grid_column": null,
            "grid_gap": null,
            "grid_row": null,
            "grid_template_areas": null,
            "grid_template_columns": null,
            "grid_template_rows": null,
            "height": null,
            "justify_content": null,
            "justify_items": null,
            "left": null,
            "margin": null,
            "max_height": null,
            "max_width": null,
            "min_height": null,
            "min_width": null,
            "object_fit": null,
            "object_position": null,
            "order": null,
            "overflow": null,
            "overflow_x": null,
            "overflow_y": null,
            "padding": null,
            "right": null,
            "top": null,
            "visibility": null,
            "width": null
          }
        },
        "b4f53cd84d924d11a91f4f37a5135751": {
          "model_module": "@jupyter-widgets/controls",
          "model_module_version": "1.5.0",
          "model_name": "DescriptionStyleModel",
          "state": {
            "_model_module": "@jupyter-widgets/controls",
            "_model_module_version": "1.5.0",
            "_model_name": "DescriptionStyleModel",
            "_view_count": null,
            "_view_module": "@jupyter-widgets/base",
            "_view_module_version": "1.2.0",
            "_view_name": "StyleView",
            "description_width": ""
          }
        },
        "b5290b861ab84d9093315f715f9f8072": {
          "model_module": "@jupyter-widgets/base",
          "model_module_version": "1.2.0",
          "model_name": "LayoutModel",
          "state": {
            "_model_module": "@jupyter-widgets/base",
            "_model_module_version": "1.2.0",
            "_model_name": "LayoutModel",
            "_view_count": null,
            "_view_module": "@jupyter-widgets/base",
            "_view_module_version": "1.2.0",
            "_view_name": "LayoutView",
            "align_content": null,
            "align_items": null,
            "align_self": null,
            "border": null,
            "bottom": null,
            "display": null,
            "flex": null,
            "flex_flow": null,
            "grid_area": null,
            "grid_auto_columns": null,
            "grid_auto_flow": null,
            "grid_auto_rows": null,
            "grid_column": null,
            "grid_gap": null,
            "grid_row": null,
            "grid_template_areas": null,
            "grid_template_columns": null,
            "grid_template_rows": null,
            "height": null,
            "justify_content": null,
            "justify_items": null,
            "left": null,
            "margin": null,
            "max_height": null,
            "max_width": null,
            "min_height": null,
            "min_width": null,
            "object_fit": null,
            "object_position": null,
            "order": null,
            "overflow": null,
            "overflow_x": null,
            "overflow_y": null,
            "padding": null,
            "right": null,
            "top": null,
            "visibility": null,
            "width": null
          }
        },
        "b5c899abd3104e3cb25f87d339c0c7ad": {
          "model_module": "@jupyter-widgets/base",
          "model_module_version": "1.2.0",
          "model_name": "LayoutModel",
          "state": {
            "_model_module": "@jupyter-widgets/base",
            "_model_module_version": "1.2.0",
            "_model_name": "LayoutModel",
            "_view_count": null,
            "_view_module": "@jupyter-widgets/base",
            "_view_module_version": "1.2.0",
            "_view_name": "LayoutView",
            "align_content": null,
            "align_items": null,
            "align_self": null,
            "border": null,
            "bottom": null,
            "display": null,
            "flex": null,
            "flex_flow": null,
            "grid_area": null,
            "grid_auto_columns": null,
            "grid_auto_flow": null,
            "grid_auto_rows": null,
            "grid_column": null,
            "grid_gap": null,
            "grid_row": null,
            "grid_template_areas": null,
            "grid_template_columns": null,
            "grid_template_rows": null,
            "height": null,
            "justify_content": null,
            "justify_items": null,
            "left": null,
            "margin": null,
            "max_height": null,
            "max_width": null,
            "min_height": null,
            "min_width": null,
            "object_fit": null,
            "object_position": null,
            "order": null,
            "overflow": null,
            "overflow_x": null,
            "overflow_y": null,
            "padding": null,
            "right": null,
            "top": null,
            "visibility": null,
            "width": null
          }
        },
        "b6d015eabaf34bf392dda544d552cf51": {
          "model_module": "@jupyter-widgets/base",
          "model_module_version": "1.2.0",
          "model_name": "LayoutModel",
          "state": {
            "_model_module": "@jupyter-widgets/base",
            "_model_module_version": "1.2.0",
            "_model_name": "LayoutModel",
            "_view_count": null,
            "_view_module": "@jupyter-widgets/base",
            "_view_module_version": "1.2.0",
            "_view_name": "LayoutView",
            "align_content": null,
            "align_items": null,
            "align_self": null,
            "border": null,
            "bottom": null,
            "display": null,
            "flex": null,
            "flex_flow": null,
            "grid_area": null,
            "grid_auto_columns": null,
            "grid_auto_flow": null,
            "grid_auto_rows": null,
            "grid_column": null,
            "grid_gap": null,
            "grid_row": null,
            "grid_template_areas": null,
            "grid_template_columns": null,
            "grid_template_rows": null,
            "height": null,
            "justify_content": null,
            "justify_items": null,
            "left": null,
            "margin": null,
            "max_height": null,
            "max_width": null,
            "min_height": null,
            "min_width": null,
            "object_fit": null,
            "object_position": null,
            "order": null,
            "overflow": null,
            "overflow_x": null,
            "overflow_y": null,
            "padding": null,
            "right": null,
            "top": null,
            "visibility": null,
            "width": null
          }
        },
        "b927d33f499046b391125c80e563b0fb": {
          "model_module": "@jupyter-widgets/controls",
          "model_module_version": "1.5.0",
          "model_name": "FloatProgressModel",
          "state": {
            "_dom_classes": [],
            "_model_module": "@jupyter-widgets/controls",
            "_model_module_version": "1.5.0",
            "_model_name": "FloatProgressModel",
            "_view_count": null,
            "_view_module": "@jupyter-widgets/controls",
            "_view_module_version": "1.5.0",
            "_view_name": "ProgressView",
            "bar_style": "success",
            "description": "",
            "description_tooltip": null,
            "layout": "IPY_MODEL_32dc138f98e14d99b023f5f5fbec1443",
            "max": 1222317369,
            "min": 0,
            "orientation": "horizontal",
            "style": "IPY_MODEL_a91b9adb3eff4a7c91f59f87f0800a7d",
            "value": 1222317369
          }
        },
        "b950e058bc1c4fe58cb069f5c839a931": {
          "model_module": "@jupyter-widgets/controls",
          "model_module_version": "1.5.0",
          "model_name": "DescriptionStyleModel",
          "state": {
            "_model_module": "@jupyter-widgets/controls",
            "_model_module_version": "1.5.0",
            "_model_name": "DescriptionStyleModel",
            "_view_count": null,
            "_view_module": "@jupyter-widgets/base",
            "_view_module_version": "1.2.0",
            "_view_name": "StyleView",
            "description_width": ""
          }
        },
        "ba9110abf4274eb29d7d7a84be5707a3": {
          "model_module": "@jupyter-widgets/base",
          "model_module_version": "1.2.0",
          "model_name": "LayoutModel",
          "state": {
            "_model_module": "@jupyter-widgets/base",
            "_model_module_version": "1.2.0",
            "_model_name": "LayoutModel",
            "_view_count": null,
            "_view_module": "@jupyter-widgets/base",
            "_view_module_version": "1.2.0",
            "_view_name": "LayoutView",
            "align_content": null,
            "align_items": null,
            "align_self": null,
            "border": null,
            "bottom": null,
            "display": null,
            "flex": null,
            "flex_flow": null,
            "grid_area": null,
            "grid_auto_columns": null,
            "grid_auto_flow": null,
            "grid_auto_rows": null,
            "grid_column": null,
            "grid_gap": null,
            "grid_row": null,
            "grid_template_areas": null,
            "grid_template_columns": null,
            "grid_template_rows": null,
            "height": null,
            "justify_content": null,
            "justify_items": null,
            "left": null,
            "margin": null,
            "max_height": null,
            "max_width": null,
            "min_height": null,
            "min_width": null,
            "object_fit": null,
            "object_position": null,
            "order": null,
            "overflow": null,
            "overflow_x": null,
            "overflow_y": null,
            "padding": null,
            "right": null,
            "top": null,
            "visibility": null,
            "width": null
          }
        },
        "ba9b57f9f80545e4bfdd1f3772e9dbed": {
          "model_module": "@jupyter-widgets/controls",
          "model_module_version": "1.5.0",
          "model_name": "DescriptionStyleModel",
          "state": {
            "_model_module": "@jupyter-widgets/controls",
            "_model_module_version": "1.5.0",
            "_model_name": "DescriptionStyleModel",
            "_view_count": null,
            "_view_module": "@jupyter-widgets/base",
            "_view_module_version": "1.2.0",
            "_view_name": "StyleView",
            "description_width": ""
          }
        },
        "c007585862954cc5898f535c1d8fa6a4": {
          "model_module": "@jupyter-widgets/controls",
          "model_module_version": "1.5.0",
          "model_name": "DescriptionStyleModel",
          "state": {
            "_model_module": "@jupyter-widgets/controls",
            "_model_module_version": "1.5.0",
            "_model_name": "DescriptionStyleModel",
            "_view_count": null,
            "_view_module": "@jupyter-widgets/base",
            "_view_module_version": "1.2.0",
            "_view_name": "StyleView",
            "description_width": ""
          }
        },
        "c065abe2f5084a978508bdf1c653576a": {
          "model_module": "@jupyter-widgets/base",
          "model_module_version": "1.2.0",
          "model_name": "LayoutModel",
          "state": {
            "_model_module": "@jupyter-widgets/base",
            "_model_module_version": "1.2.0",
            "_model_name": "LayoutModel",
            "_view_count": null,
            "_view_module": "@jupyter-widgets/base",
            "_view_module_version": "1.2.0",
            "_view_name": "LayoutView",
            "align_content": null,
            "align_items": null,
            "align_self": null,
            "border": null,
            "bottom": null,
            "display": null,
            "flex": null,
            "flex_flow": null,
            "grid_area": null,
            "grid_auto_columns": null,
            "grid_auto_flow": null,
            "grid_auto_rows": null,
            "grid_column": null,
            "grid_gap": null,
            "grid_row": null,
            "grid_template_areas": null,
            "grid_template_columns": null,
            "grid_template_rows": null,
            "height": null,
            "justify_content": null,
            "justify_items": null,
            "left": null,
            "margin": null,
            "max_height": null,
            "max_width": null,
            "min_height": null,
            "min_width": null,
            "object_fit": null,
            "object_position": null,
            "order": null,
            "overflow": null,
            "overflow_x": null,
            "overflow_y": null,
            "padding": null,
            "right": null,
            "top": null,
            "visibility": null,
            "width": null
          }
        },
        "c556cb72fd68475fac7ec225df6f135d": {
          "model_module": "@jupyter-widgets/controls",
          "model_module_version": "1.5.0",
          "model_name": "ProgressStyleModel",
          "state": {
            "_model_module": "@jupyter-widgets/controls",
            "_model_module_version": "1.5.0",
            "_model_name": "ProgressStyleModel",
            "_view_count": null,
            "_view_module": "@jupyter-widgets/base",
            "_view_module_version": "1.2.0",
            "_view_name": "StyleView",
            "bar_color": null,
            "description_width": ""
          }
        },
        "c55cb66788784b7293750ba549c9690a": {
          "model_module": "@jupyter-widgets/controls",
          "model_module_version": "1.5.0",
          "model_name": "HTMLModel",
          "state": {
            "_dom_classes": [],
            "_model_module": "@jupyter-widgets/controls",
            "_model_module_version": "1.5.0",
            "_model_name": "HTMLModel",
            "_view_count": null,
            "_view_module": "@jupyter-widgets/controls",
            "_view_module_version": "1.5.0",
            "_view_name": "HTMLView",
            "description": "",
            "description_tooltip": null,
            "layout": "IPY_MODEL_76406f5f1ad940d68af9706e0db27489",
            "placeholder": "​",
            "style": "IPY_MODEL_6efdeded557b44a692c3fed297a6eb9e",
            "value": " 87.0/87.0 [00:00&lt;00:00, 2.10kB/s]"
          }
        },
        "caa9b5b7026f4ea38c6117812aa7b48f": {
          "model_module": "@jupyter-widgets/controls",
          "model_module_version": "1.5.0",
          "model_name": "FloatProgressModel",
          "state": {
            "_dom_classes": [],
            "_model_module": "@jupyter-widgets/controls",
            "_model_module_version": "1.5.0",
            "_model_name": "FloatProgressModel",
            "_view_count": null,
            "_view_module": "@jupyter-widgets/controls",
            "_view_module_version": "1.5.0",
            "_view_name": "ProgressView",
            "bar_style": "success",
            "description": "",
            "description_tooltip": null,
            "layout": "IPY_MODEL_db3460a6eba843a6be257e6a533c8c15",
            "max": 26,
            "min": 0,
            "orientation": "horizontal",
            "style": "IPY_MODEL_56685409c9f44018ab84796d786419a6",
            "value": 26
          }
        },
        "cb03b6fba80c48fbae6aeb3170b892b2": {
          "model_module": "@jupyter-widgets/controls",
          "model_module_version": "1.5.0",
          "model_name": "HBoxModel",
          "state": {
            "_dom_classes": [],
            "_model_module": "@jupyter-widgets/controls",
            "_model_module_version": "1.5.0",
            "_model_name": "HBoxModel",
            "_view_count": null,
            "_view_module": "@jupyter-widgets/controls",
            "_view_module_version": "1.5.0",
            "_view_name": "HBoxView",
            "box_style": "",
            "children": [
              "IPY_MODEL_4fdf0e934e09499eb62ea43ad1e1d358",
              "IPY_MODEL_7508853792f84b3b8607ebe8a1c6852f",
              "IPY_MODEL_970d2481981940c18ff98b5c62526042"
            ],
            "layout": "IPY_MODEL_4dd63786bdf4436d9ba4b0761f9ca4f8"
          }
        },
        "cd26c7c6e1cd4c11b210d1a00745cc51": {
          "model_module": "@jupyter-widgets/controls",
          "model_module_version": "1.5.0",
          "model_name": "DescriptionStyleModel",
          "state": {
            "_model_module": "@jupyter-widgets/controls",
            "_model_module_version": "1.5.0",
            "_model_name": "DescriptionStyleModel",
            "_view_count": null,
            "_view_module": "@jupyter-widgets/base",
            "_view_module_version": "1.2.0",
            "_view_name": "StyleView",
            "description_width": ""
          }
        },
        "cdda96665916475899ed3fdf194c008f": {
          "model_module": "@jupyter-widgets/controls",
          "model_module_version": "1.5.0",
          "model_name": "HTMLModel",
          "state": {
            "_dom_classes": [],
            "_model_module": "@jupyter-widgets/controls",
            "_model_module_version": "1.5.0",
            "_model_name": "HTMLModel",
            "_view_count": null,
            "_view_module": "@jupyter-widgets/controls",
            "_view_module_version": "1.5.0",
            "_view_name": "HTMLView",
            "description": "",
            "description_tooltip": null,
            "layout": "IPY_MODEL_e7199afc1bca4e8fa301513bf7d296f2",
            "placeholder": "​",
            "style": "IPY_MODEL_f7cd154ddaaa48778198fd68a11ce40a",
            "value": " 3.36M/3.36M [00:00&lt;00:00, 3.88MB/s]"
          }
        },
        "cdf86989ef7a456ca0e1c4cbf60e369b": {
          "model_module": "@jupyter-widgets/base",
          "model_module_version": "1.2.0",
          "model_name": "LayoutModel",
          "state": {
            "_model_module": "@jupyter-widgets/base",
            "_model_module_version": "1.2.0",
            "_model_name": "LayoutModel",
            "_view_count": null,
            "_view_module": "@jupyter-widgets/base",
            "_view_module_version": "1.2.0",
            "_view_name": "LayoutView",
            "align_content": null,
            "align_items": null,
            "align_self": null,
            "border": null,
            "bottom": null,
            "display": null,
            "flex": null,
            "flex_flow": null,
            "grid_area": null,
            "grid_auto_columns": null,
            "grid_auto_flow": null,
            "grid_auto_rows": null,
            "grid_column": null,
            "grid_gap": null,
            "grid_row": null,
            "grid_template_areas": null,
            "grid_template_columns": null,
            "grid_template_rows": null,
            "height": null,
            "justify_content": null,
            "justify_items": null,
            "left": null,
            "margin": null,
            "max_height": null,
            "max_width": null,
            "min_height": null,
            "min_width": null,
            "object_fit": null,
            "object_position": null,
            "order": null,
            "overflow": null,
            "overflow_x": null,
            "overflow_y": null,
            "padding": null,
            "right": null,
            "top": null,
            "visibility": null,
            "width": null
          }
        },
        "ce0993dafeb4483a9546996dc106f8ce": {
          "model_module": "@jupyter-widgets/base",
          "model_module_version": "1.2.0",
          "model_name": "LayoutModel",
          "state": {
            "_model_module": "@jupyter-widgets/base",
            "_model_module_version": "1.2.0",
            "_model_name": "LayoutModel",
            "_view_count": null,
            "_view_module": "@jupyter-widgets/base",
            "_view_module_version": "1.2.0",
            "_view_name": "LayoutView",
            "align_content": null,
            "align_items": null,
            "align_self": null,
            "border": null,
            "bottom": null,
            "display": null,
            "flex": null,
            "flex_flow": null,
            "grid_area": null,
            "grid_auto_columns": null,
            "grid_auto_flow": null,
            "grid_auto_rows": null,
            "grid_column": null,
            "grid_gap": null,
            "grid_row": null,
            "grid_template_areas": null,
            "grid_template_columns": null,
            "grid_template_rows": null,
            "height": null,
            "justify_content": null,
            "justify_items": null,
            "left": null,
            "margin": null,
            "max_height": null,
            "max_width": null,
            "min_height": null,
            "min_width": null,
            "object_fit": null,
            "object_position": null,
            "order": null,
            "overflow": null,
            "overflow_x": null,
            "overflow_y": null,
            "padding": null,
            "right": null,
            "top": null,
            "visibility": null,
            "width": null
          }
        },
        "cea9193d86814278b8e5e0059b2f360a": {
          "model_module": "@jupyter-widgets/controls",
          "model_module_version": "1.5.0",
          "model_name": "ProgressStyleModel",
          "state": {
            "_model_module": "@jupyter-widgets/controls",
            "_model_module_version": "1.5.0",
            "_model_name": "ProgressStyleModel",
            "_view_count": null,
            "_view_module": "@jupyter-widgets/base",
            "_view_module_version": "1.2.0",
            "_view_name": "StyleView",
            "bar_color": null,
            "description_width": ""
          }
        },
        "d0696205199546959aceb6a5daa484c8": {
          "model_module": "@jupyter-widgets/controls",
          "model_module_version": "1.5.0",
          "model_name": "HTMLModel",
          "state": {
            "_dom_classes": [],
            "_model_module": "@jupyter-widgets/controls",
            "_model_module_version": "1.5.0",
            "_model_name": "HTMLModel",
            "_view_count": null,
            "_view_module": "@jupyter-widgets/controls",
            "_view_module_version": "1.5.0",
            "_view_name": "HTMLView",
            "description": "",
            "description_tooltip": null,
            "layout": "IPY_MODEL_5984382d33a14ca280ae8c980e6f3070",
            "placeholder": "​",
            "style": "IPY_MODEL_597744c8bc194cdfadb1597b7597e7c8",
            "value": " 26.0/26.0 [00:00&lt;00:00, 688B/s]"
          }
        },
        "d18da63e026e4aae83656bb864d5a737": {
          "model_module": "@jupyter-widgets/base",
          "model_module_version": "1.2.0",
          "model_name": "LayoutModel",
          "state": {
            "_model_module": "@jupyter-widgets/base",
            "_model_module_version": "1.2.0",
            "_model_name": "LayoutModel",
            "_view_count": null,
            "_view_module": "@jupyter-widgets/base",
            "_view_module_version": "1.2.0",
            "_view_name": "LayoutView",
            "align_content": null,
            "align_items": null,
            "align_self": null,
            "border": null,
            "bottom": null,
            "display": null,
            "flex": null,
            "flex_flow": null,
            "grid_area": null,
            "grid_auto_columns": null,
            "grid_auto_flow": null,
            "grid_auto_rows": null,
            "grid_column": null,
            "grid_gap": null,
            "grid_row": null,
            "grid_template_areas": null,
            "grid_template_columns": null,
            "grid_template_rows": null,
            "height": null,
            "justify_content": null,
            "justify_items": null,
            "left": null,
            "margin": null,
            "max_height": null,
            "max_width": null,
            "min_height": null,
            "min_width": null,
            "object_fit": null,
            "object_position": null,
            "order": null,
            "overflow": null,
            "overflow_x": null,
            "overflow_y": null,
            "padding": null,
            "right": null,
            "top": null,
            "visibility": null,
            "width": null
          }
        },
        "d2222bf4743d46e0b4574c7ede218563": {
          "model_module": "@jupyter-widgets/controls",
          "model_module_version": "1.5.0",
          "model_name": "HBoxModel",
          "state": {
            "_dom_classes": [],
            "_model_module": "@jupyter-widgets/controls",
            "_model_module_version": "1.5.0",
            "_model_name": "HBoxModel",
            "_view_count": null,
            "_view_module": "@jupyter-widgets/controls",
            "_view_module_version": "1.5.0",
            "_view_name": "HBoxView",
            "box_style": "",
            "children": [
              "IPY_MODEL_48dcead57e944168853f7c5962365043",
              "IPY_MODEL_56f7a2b6f940438baf627be99f37a13f",
              "IPY_MODEL_0630255eaf4149788d1c223163c5be22"
            ],
            "layout": "IPY_MODEL_f86f18245863498daaa0470cd41141e1"
          }
        },
        "d345f719371149aa85e73384b4203611": {
          "model_module": "@jupyter-widgets/controls",
          "model_module_version": "1.5.0",
          "model_name": "HBoxModel",
          "state": {
            "_dom_classes": [],
            "_model_module": "@jupyter-widgets/controls",
            "_model_module_version": "1.5.0",
            "_model_name": "HBoxModel",
            "_view_count": null,
            "_view_module": "@jupyter-widgets/controls",
            "_view_module_version": "1.5.0",
            "_view_name": "HBoxView",
            "box_style": "",
            "children": [
              "IPY_MODEL_2d34a6cb2e9c42faaea30fcbef17a4fe",
              "IPY_MODEL_7779d84503754519b885d2f21b20a0b5",
              "IPY_MODEL_36b8d463be834ac485c26746bad6b111"
            ],
            "layout": "IPY_MODEL_db4e619a1288483189c8b8cc5b8a5a21"
          }
        },
        "d4dd41da51e747dd96804415a7cb3adc": {
          "model_module": "@jupyter-widgets/base",
          "model_module_version": "1.2.0",
          "model_name": "LayoutModel",
          "state": {
            "_model_module": "@jupyter-widgets/base",
            "_model_module_version": "1.2.0",
            "_model_name": "LayoutModel",
            "_view_count": null,
            "_view_module": "@jupyter-widgets/base",
            "_view_module_version": "1.2.0",
            "_view_name": "LayoutView",
            "align_content": null,
            "align_items": null,
            "align_self": null,
            "border": null,
            "bottom": null,
            "display": null,
            "flex": null,
            "flex_flow": null,
            "grid_area": null,
            "grid_auto_columns": null,
            "grid_auto_flow": null,
            "grid_auto_rows": null,
            "grid_column": null,
            "grid_gap": null,
            "grid_row": null,
            "grid_template_areas": null,
            "grid_template_columns": null,
            "grid_template_rows": null,
            "height": null,
            "justify_content": null,
            "justify_items": null,
            "left": null,
            "margin": null,
            "max_height": null,
            "max_width": null,
            "min_height": null,
            "min_width": null,
            "object_fit": null,
            "object_position": null,
            "order": null,
            "overflow": null,
            "overflow_x": null,
            "overflow_y": null,
            "padding": null,
            "right": null,
            "top": null,
            "visibility": null,
            "width": null
          }
        },
        "d5fbf55d3e23479d927128f42fca0e6a": {
          "model_module": "@jupyter-widgets/base",
          "model_module_version": "1.2.0",
          "model_name": "LayoutModel",
          "state": {
            "_model_module": "@jupyter-widgets/base",
            "_model_module_version": "1.2.0",
            "_model_name": "LayoutModel",
            "_view_count": null,
            "_view_module": "@jupyter-widgets/base",
            "_view_module_version": "1.2.0",
            "_view_name": "LayoutView",
            "align_content": null,
            "align_items": null,
            "align_self": null,
            "border": null,
            "bottom": null,
            "display": null,
            "flex": null,
            "flex_flow": null,
            "grid_area": null,
            "grid_auto_columns": null,
            "grid_auto_flow": null,
            "grid_auto_rows": null,
            "grid_column": null,
            "grid_gap": null,
            "grid_row": null,
            "grid_template_areas": null,
            "grid_template_columns": null,
            "grid_template_rows": null,
            "height": null,
            "justify_content": null,
            "justify_items": null,
            "left": null,
            "margin": null,
            "max_height": null,
            "max_width": null,
            "min_height": null,
            "min_width": null,
            "object_fit": null,
            "object_position": null,
            "order": null,
            "overflow": null,
            "overflow_x": null,
            "overflow_y": null,
            "padding": null,
            "right": null,
            "top": null,
            "visibility": null,
            "width": null
          }
        },
        "d6ca31bb2b7641fba88cef04bcfb25e6": {
          "model_module": "@jupyter-widgets/base",
          "model_module_version": "1.2.0",
          "model_name": "LayoutModel",
          "state": {
            "_model_module": "@jupyter-widgets/base",
            "_model_module_version": "1.2.0",
            "_model_name": "LayoutModel",
            "_view_count": null,
            "_view_module": "@jupyter-widgets/base",
            "_view_module_version": "1.2.0",
            "_view_name": "LayoutView",
            "align_content": null,
            "align_items": null,
            "align_self": null,
            "border": null,
            "bottom": null,
            "display": null,
            "flex": null,
            "flex_flow": null,
            "grid_area": null,
            "grid_auto_columns": null,
            "grid_auto_flow": null,
            "grid_auto_rows": null,
            "grid_column": null,
            "grid_gap": null,
            "grid_row": null,
            "grid_template_areas": null,
            "grid_template_columns": null,
            "grid_template_rows": null,
            "height": null,
            "justify_content": null,
            "justify_items": null,
            "left": null,
            "margin": null,
            "max_height": null,
            "max_width": null,
            "min_height": null,
            "min_width": null,
            "object_fit": null,
            "object_position": null,
            "order": null,
            "overflow": null,
            "overflow_x": null,
            "overflow_y": null,
            "padding": null,
            "right": null,
            "top": null,
            "visibility": null,
            "width": null
          }
        },
        "db3460a6eba843a6be257e6a533c8c15": {
          "model_module": "@jupyter-widgets/base",
          "model_module_version": "1.2.0",
          "model_name": "LayoutModel",
          "state": {
            "_model_module": "@jupyter-widgets/base",
            "_model_module_version": "1.2.0",
            "_model_name": "LayoutModel",
            "_view_count": null,
            "_view_module": "@jupyter-widgets/base",
            "_view_module_version": "1.2.0",
            "_view_name": "LayoutView",
            "align_content": null,
            "align_items": null,
            "align_self": null,
            "border": null,
            "bottom": null,
            "display": null,
            "flex": null,
            "flex_flow": null,
            "grid_area": null,
            "grid_auto_columns": null,
            "grid_auto_flow": null,
            "grid_auto_rows": null,
            "grid_column": null,
            "grid_gap": null,
            "grid_row": null,
            "grid_template_areas": null,
            "grid_template_columns": null,
            "grid_template_rows": null,
            "height": null,
            "justify_content": null,
            "justify_items": null,
            "left": null,
            "margin": null,
            "max_height": null,
            "max_width": null,
            "min_height": null,
            "min_width": null,
            "object_fit": null,
            "object_position": null,
            "order": null,
            "overflow": null,
            "overflow_x": null,
            "overflow_y": null,
            "padding": null,
            "right": null,
            "top": null,
            "visibility": null,
            "width": null
          }
        },
        "db4e619a1288483189c8b8cc5b8a5a21": {
          "model_module": "@jupyter-widgets/base",
          "model_module_version": "1.2.0",
          "model_name": "LayoutModel",
          "state": {
            "_model_module": "@jupyter-widgets/base",
            "_model_module_version": "1.2.0",
            "_model_name": "LayoutModel",
            "_view_count": null,
            "_view_module": "@jupyter-widgets/base",
            "_view_module_version": "1.2.0",
            "_view_name": "LayoutView",
            "align_content": null,
            "align_items": null,
            "align_self": null,
            "border": null,
            "bottom": null,
            "display": null,
            "flex": null,
            "flex_flow": null,
            "grid_area": null,
            "grid_auto_columns": null,
            "grid_auto_flow": null,
            "grid_auto_rows": null,
            "grid_column": null,
            "grid_gap": null,
            "grid_row": null,
            "grid_template_areas": null,
            "grid_template_columns": null,
            "grid_template_rows": null,
            "height": null,
            "justify_content": null,
            "justify_items": null,
            "left": null,
            "margin": null,
            "max_height": null,
            "max_width": null,
            "min_height": null,
            "min_width": null,
            "object_fit": null,
            "object_position": null,
            "order": null,
            "overflow": null,
            "overflow_x": null,
            "overflow_y": null,
            "padding": null,
            "right": null,
            "top": null,
            "visibility": null,
            "width": null
          }
        },
        "dd66bbe6804f4442a3b5447afec69111": {
          "model_module": "@jupyter-widgets/base",
          "model_module_version": "1.2.0",
          "model_name": "LayoutModel",
          "state": {
            "_model_module": "@jupyter-widgets/base",
            "_model_module_version": "1.2.0",
            "_model_name": "LayoutModel",
            "_view_count": null,
            "_view_module": "@jupyter-widgets/base",
            "_view_module_version": "1.2.0",
            "_view_name": "LayoutView",
            "align_content": null,
            "align_items": null,
            "align_self": null,
            "border": null,
            "bottom": null,
            "display": null,
            "flex": null,
            "flex_flow": null,
            "grid_area": null,
            "grid_auto_columns": null,
            "grid_auto_flow": null,
            "grid_auto_rows": null,
            "grid_column": null,
            "grid_gap": null,
            "grid_row": null,
            "grid_template_areas": null,
            "grid_template_columns": null,
            "grid_template_rows": null,
            "height": null,
            "justify_content": null,
            "justify_items": null,
            "left": null,
            "margin": null,
            "max_height": null,
            "max_width": null,
            "min_height": null,
            "min_width": null,
            "object_fit": null,
            "object_position": null,
            "order": null,
            "overflow": null,
            "overflow_x": null,
            "overflow_y": null,
            "padding": null,
            "right": null,
            "top": null,
            "visibility": null,
            "width": null
          }
        },
        "df826bf703fb42da9bf5e759b9f83319": {
          "model_module": "@jupyter-widgets/base",
          "model_module_version": "1.2.0",
          "model_name": "LayoutModel",
          "state": {
            "_model_module": "@jupyter-widgets/base",
            "_model_module_version": "1.2.0",
            "_model_name": "LayoutModel",
            "_view_count": null,
            "_view_module": "@jupyter-widgets/base",
            "_view_module_version": "1.2.0",
            "_view_name": "LayoutView",
            "align_content": null,
            "align_items": null,
            "align_self": null,
            "border": null,
            "bottom": null,
            "display": null,
            "flex": null,
            "flex_flow": null,
            "grid_area": null,
            "grid_auto_columns": null,
            "grid_auto_flow": null,
            "grid_auto_rows": null,
            "grid_column": null,
            "grid_gap": null,
            "grid_row": null,
            "grid_template_areas": null,
            "grid_template_columns": null,
            "grid_template_rows": null,
            "height": null,
            "justify_content": null,
            "justify_items": null,
            "left": null,
            "margin": null,
            "max_height": null,
            "max_width": null,
            "min_height": null,
            "min_width": null,
            "object_fit": null,
            "object_position": null,
            "order": null,
            "overflow": null,
            "overflow_x": null,
            "overflow_y": null,
            "padding": null,
            "right": null,
            "top": null,
            "visibility": null,
            "width": null
          }
        },
        "e1b0f96f4e6f4d0fb06c0480129c677d": {
          "model_module": "@jupyter-widgets/controls",
          "model_module_version": "1.5.0",
          "model_name": "DescriptionStyleModel",
          "state": {
            "_model_module": "@jupyter-widgets/controls",
            "_model_module_version": "1.5.0",
            "_model_name": "DescriptionStyleModel",
            "_view_count": null,
            "_view_module": "@jupyter-widgets/base",
            "_view_module_version": "1.2.0",
            "_view_name": "StyleView",
            "description_width": ""
          }
        },
        "e1ddc5e88d6b4c4ba6db85e4d0b3fba1": {
          "model_module": "@jupyter-widgets/controls",
          "model_module_version": "1.5.0",
          "model_name": "DescriptionStyleModel",
          "state": {
            "_model_module": "@jupyter-widgets/controls",
            "_model_module_version": "1.5.0",
            "_model_name": "DescriptionStyleModel",
            "_view_count": null,
            "_view_module": "@jupyter-widgets/base",
            "_view_module_version": "1.2.0",
            "_view_name": "StyleView",
            "description_width": ""
          }
        },
        "e3f4b1de358c452785d3be715b697a61": {
          "model_module": "@jupyter-widgets/controls",
          "model_module_version": "1.5.0",
          "model_name": "HTMLModel",
          "state": {
            "_dom_classes": [],
            "_model_module": "@jupyter-widgets/controls",
            "_model_module_version": "1.5.0",
            "_model_name": "HTMLModel",
            "_view_count": null,
            "_view_module": "@jupyter-widgets/controls",
            "_view_module_version": "1.5.0",
            "_view_name": "HTMLView",
            "description": "",
            "description_tooltip": null,
            "layout": "IPY_MODEL_28299a5d65d64d7abf7dfa94a1b6b3bb",
            "placeholder": "​",
            "style": "IPY_MODEL_5012a899f8de4f0694be51d23e545038",
            "value": "Downloading: 100%"
          }
        },
        "e409a946ac1a42e19d64cffec3bb1ec4": {
          "model_module": "@jupyter-widgets/base",
          "model_module_version": "1.2.0",
          "model_name": "LayoutModel",
          "state": {
            "_model_module": "@jupyter-widgets/base",
            "_model_module_version": "1.2.0",
            "_model_name": "LayoutModel",
            "_view_count": null,
            "_view_module": "@jupyter-widgets/base",
            "_view_module_version": "1.2.0",
            "_view_name": "LayoutView",
            "align_content": null,
            "align_items": null,
            "align_self": null,
            "border": null,
            "bottom": null,
            "display": null,
            "flex": null,
            "flex_flow": null,
            "grid_area": null,
            "grid_auto_columns": null,
            "grid_auto_flow": null,
            "grid_auto_rows": null,
            "grid_column": null,
            "grid_gap": null,
            "grid_row": null,
            "grid_template_areas": null,
            "grid_template_columns": null,
            "grid_template_rows": null,
            "height": null,
            "justify_content": null,
            "justify_items": null,
            "left": null,
            "margin": null,
            "max_height": null,
            "max_width": null,
            "min_height": null,
            "min_width": null,
            "object_fit": null,
            "object_position": null,
            "order": null,
            "overflow": null,
            "overflow_x": null,
            "overflow_y": null,
            "padding": null,
            "right": null,
            "top": null,
            "visibility": null,
            "width": null
          }
        },
        "e7199afc1bca4e8fa301513bf7d296f2": {
          "model_module": "@jupyter-widgets/base",
          "model_module_version": "1.2.0",
          "model_name": "LayoutModel",
          "state": {
            "_model_module": "@jupyter-widgets/base",
            "_model_module_version": "1.2.0",
            "_model_name": "LayoutModel",
            "_view_count": null,
            "_view_module": "@jupyter-widgets/base",
            "_view_module_version": "1.2.0",
            "_view_name": "LayoutView",
            "align_content": null,
            "align_items": null,
            "align_self": null,
            "border": null,
            "bottom": null,
            "display": null,
            "flex": null,
            "flex_flow": null,
            "grid_area": null,
            "grid_auto_columns": null,
            "grid_auto_flow": null,
            "grid_auto_rows": null,
            "grid_column": null,
            "grid_gap": null,
            "grid_row": null,
            "grid_template_areas": null,
            "grid_template_columns": null,
            "grid_template_rows": null,
            "height": null,
            "justify_content": null,
            "justify_items": null,
            "left": null,
            "margin": null,
            "max_height": null,
            "max_width": null,
            "min_height": null,
            "min_width": null,
            "object_fit": null,
            "object_position": null,
            "order": null,
            "overflow": null,
            "overflow_x": null,
            "overflow_y": null,
            "padding": null,
            "right": null,
            "top": null,
            "visibility": null,
            "width": null
          }
        },
        "e8166b71a355427ca71cbe1313d1a969": {
          "model_module": "@jupyter-widgets/controls",
          "model_module_version": "1.5.0",
          "model_name": "ProgressStyleModel",
          "state": {
            "_model_module": "@jupyter-widgets/controls",
            "_model_module_version": "1.5.0",
            "_model_name": "ProgressStyleModel",
            "_view_count": null,
            "_view_module": "@jupyter-widgets/base",
            "_view_module_version": "1.2.0",
            "_view_name": "StyleView",
            "bar_color": null,
            "description_width": ""
          }
        },
        "ec600e544839484a894ec3eaab7529c1": {
          "model_module": "@jupyter-widgets/controls",
          "model_module_version": "1.5.0",
          "model_name": "HBoxModel",
          "state": {
            "_dom_classes": [],
            "_model_module": "@jupyter-widgets/controls",
            "_model_module_version": "1.5.0",
            "_model_name": "HBoxModel",
            "_view_count": null,
            "_view_module": "@jupyter-widgets/controls",
            "_view_module_version": "1.5.0",
            "_view_name": "HBoxView",
            "box_style": "",
            "children": [
              "IPY_MODEL_e3f4b1de358c452785d3be715b697a61",
              "IPY_MODEL_0d30467e39f04929923314dc768ac5fd",
              "IPY_MODEL_1ec1c0c56c4e44a79bce5b0834f7b9da"
            ],
            "layout": "IPY_MODEL_2554d765e4fc4ad19491d6a63e74d2df"
          }
        },
        "ee6be4a65f3f439ea97761db47f84193": {
          "model_module": "@jupyter-widgets/controls",
          "model_module_version": "1.5.0",
          "model_name": "HTMLModel",
          "state": {
            "_dom_classes": [],
            "_model_module": "@jupyter-widgets/controls",
            "_model_module_version": "1.5.0",
            "_model_name": "HTMLModel",
            "_view_count": null,
            "_view_module": "@jupyter-widgets/controls",
            "_view_module_version": "1.5.0",
            "_view_name": "HTMLView",
            "description": "",
            "description_tooltip": null,
            "layout": "IPY_MODEL_324b9fcd701d468cbb49ab99e722d837",
            "placeholder": "​",
            "style": "IPY_MODEL_c007585862954cc5898f535c1d8fa6a4",
            "value": "Downloading: 100%"
          }
        },
        "ee720550a1e241c0b95b82a1c594aa8b": {
          "model_module": "@jupyter-widgets/controls",
          "model_module_version": "1.5.0",
          "model_name": "HTMLModel",
          "state": {
            "_dom_classes": [],
            "_model_module": "@jupyter-widgets/controls",
            "_model_module_version": "1.5.0",
            "_model_name": "HTMLModel",
            "_view_count": null,
            "_view_module": "@jupyter-widgets/controls",
            "_view_module_version": "1.5.0",
            "_view_name": "HTMLView",
            "description": "",
            "description_tooltip": null,
            "layout": "IPY_MODEL_5b73ce1df0ad491a8645b5e93bd9a241",
            "placeholder": "​",
            "style": "IPY_MODEL_48c17b132ce04bceb707cd632867ed03",
            "value": "Downloading: 100%"
          }
        },
        "f0503b666e9e478c9e5598e2338c7d26": {
          "model_module": "@jupyter-widgets/controls",
          "model_module_version": "1.5.0",
          "model_name": "DescriptionStyleModel",
          "state": {
            "_model_module": "@jupyter-widgets/controls",
            "_model_module_version": "1.5.0",
            "_model_name": "DescriptionStyleModel",
            "_view_count": null,
            "_view_module": "@jupyter-widgets/base",
            "_view_module_version": "1.2.0",
            "_view_name": "StyleView",
            "description_width": ""
          }
        },
        "f1922ba63afb40b9a84d4ff77ff9e1f1": {
          "model_module": "@jupyter-widgets/controls",
          "model_module_version": "1.5.0",
          "model_name": "ProgressStyleModel",
          "state": {
            "_model_module": "@jupyter-widgets/controls",
            "_model_module_version": "1.5.0",
            "_model_name": "ProgressStyleModel",
            "_view_count": null,
            "_view_module": "@jupyter-widgets/base",
            "_view_module_version": "1.2.0",
            "_view_name": "StyleView",
            "bar_color": null,
            "description_width": ""
          }
        },
        "f26f0d6a5ae34b1381efd5073450e8ff": {
          "model_module": "@jupyter-widgets/controls",
          "model_module_version": "1.5.0",
          "model_name": "HTMLModel",
          "state": {
            "_dom_classes": [],
            "_model_module": "@jupyter-widgets/controls",
            "_model_module_version": "1.5.0",
            "_model_name": "HTMLModel",
            "_view_count": null,
            "_view_module": "@jupyter-widgets/controls",
            "_view_module_version": "1.5.0",
            "_view_name": "HTMLView",
            "description": "",
            "description_tooltip": null,
            "layout": "IPY_MODEL_35e774cc17ee4682829989cd03e47291",
            "placeholder": "​",
            "style": "IPY_MODEL_e1b0f96f4e6f4d0fb06c0480129c677d",
            "value": " 1.82M/1.82M [00:00&lt;00:00, 4.01MB/s]"
          }
        },
        "f75ab9a6abc745c4b0d73d017710b20a": {
          "model_module": "@jupyter-widgets/controls",
          "model_module_version": "1.5.0",
          "model_name": "HBoxModel",
          "state": {
            "_dom_classes": [],
            "_model_module": "@jupyter-widgets/controls",
            "_model_module_version": "1.5.0",
            "_model_name": "HBoxModel",
            "_view_count": null,
            "_view_module": "@jupyter-widgets/controls",
            "_view_module_version": "1.5.0",
            "_view_name": "HBoxView",
            "box_style": "",
            "children": [
              "IPY_MODEL_1f4154505a8a43b788cbd7858f7101a7",
              "IPY_MODEL_9ad41227996e4373aa58fbbe8b53ff2b",
              "IPY_MODEL_281fda0f70e24c1ebcaad27bb31db398"
            ],
            "layout": "IPY_MODEL_b5290b861ab84d9093315f715f9f8072"
          }
        },
        "f7cd154ddaaa48778198fd68a11ce40a": {
          "model_module": "@jupyter-widgets/controls",
          "model_module_version": "1.5.0",
          "model_name": "DescriptionStyleModel",
          "state": {
            "_model_module": "@jupyter-widgets/controls",
            "_model_module_version": "1.5.0",
            "_model_name": "DescriptionStyleModel",
            "_view_count": null,
            "_view_module": "@jupyter-widgets/base",
            "_view_module_version": "1.2.0",
            "_view_name": "StyleView",
            "description_width": ""
          }
        },
        "f86f18245863498daaa0470cd41141e1": {
          "model_module": "@jupyter-widgets/base",
          "model_module_version": "1.2.0",
          "model_name": "LayoutModel",
          "state": {
            "_model_module": "@jupyter-widgets/base",
            "_model_module_version": "1.2.0",
            "_model_name": "LayoutModel",
            "_view_count": null,
            "_view_module": "@jupyter-widgets/base",
            "_view_module_version": "1.2.0",
            "_view_name": "LayoutView",
            "align_content": null,
            "align_items": null,
            "align_self": null,
            "border": null,
            "bottom": null,
            "display": null,
            "flex": null,
            "flex_flow": null,
            "grid_area": null,
            "grid_auto_columns": null,
            "grid_auto_flow": null,
            "grid_auto_rows": null,
            "grid_column": null,
            "grid_gap": null,
            "grid_row": null,
            "grid_template_areas": null,
            "grid_template_columns": null,
            "grid_template_rows": null,
            "height": null,
            "justify_content": null,
            "justify_items": null,
            "left": null,
            "margin": null,
            "max_height": null,
            "max_width": null,
            "min_height": null,
            "min_width": null,
            "object_fit": null,
            "object_position": null,
            "order": null,
            "overflow": null,
            "overflow_x": null,
            "overflow_y": null,
            "padding": null,
            "right": null,
            "top": null,
            "visibility": null,
            "width": null
          }
        },
        "fa53bb425b9d4dae92c58be3b8c04893": {
          "model_module": "@jupyter-widgets/controls",
          "model_module_version": "1.5.0",
          "model_name": "HTMLModel",
          "state": {
            "_dom_classes": [],
            "_model_module": "@jupyter-widgets/controls",
            "_model_module_version": "1.5.0",
            "_model_name": "HTMLModel",
            "_view_count": null,
            "_view_module": "@jupyter-widgets/controls",
            "_view_module_version": "1.5.0",
            "_view_name": "HTMLView",
            "description": "",
            "description_tooltip": null,
            "layout": "IPY_MODEL_63f1a1abbc0040b08642972c8c94c2ad",
            "placeholder": "​",
            "style": "IPY_MODEL_43475ddff02840278f0d4237105ad590",
            "value": "Downloading: 100%"
          }
        }
      }
    }
  },
  "nbformat": 4,
  "nbformat_minor": 0
}
